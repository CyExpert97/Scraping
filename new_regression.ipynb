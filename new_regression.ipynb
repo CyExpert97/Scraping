{
 "metadata": {
  "language_info": {
   "codemirror_mode": {
    "name": "ipython",
    "version": 3
   },
   "file_extension": ".py",
   "mimetype": "text/x-python",
   "name": "python",
   "nbconvert_exporter": "python",
   "pygments_lexer": "ipython3",
   "version": "3.7.9"
  },
  "orig_nbformat": 2,
  "kernelspec": {
   "name": "python3",
   "display_name": "Python 3.7.9 64-bit",
   "metadata": {
    "interpreter": {
     "hash": "b32c4faaeb5a9bd4c491c5073a3310d097b0b38aee165e88dd3bbbd207efc140"
    }
   }
  }
 },
 "nbformat": 4,
 "nbformat_minor": 2,
 "cells": [
  {
   "cell_type": "code",
   "execution_count": 1,
   "metadata": {},
   "outputs": [
    {
     "output_type": "execute_result",
     "data": {
      "text/plain": [
       "     Role of champion_role-jungle  Role of champion_role-mid  \\\n",
       "0                               0                          0   \n",
       "1                               0                          0   \n",
       "2                               0                          0   \n",
       "3                               1                          0   \n",
       "4                               0                          1   \n",
       "..                            ...                        ...   \n",
       "198                             0                          1   \n",
       "199                             0                          0   \n",
       "200                             1                          0   \n",
       "201                             0                          0   \n",
       "202                             1                          0   \n",
       "\n",
       "     Role of champion_role-support  Role of champion_role-top  \\\n",
       "0                                1                          0   \n",
       "1                                1                          0   \n",
       "2                                0                          1   \n",
       "3                                0                          0   \n",
       "4                                0                          0   \n",
       "..                             ...                        ...   \n",
       "198                              0                          0   \n",
       "199                              1                          0   \n",
       "200                              0                          0   \n",
       "201                              0                          1   \n",
       "202                              0                          0   \n",
       "\n",
       "     Win rate of champion  Pick rate of champion  Move. speed  Attack range  \\\n",
       "0                   0.534                  0.153          330           550   \n",
       "1                   0.523                  0.198          335           450   \n",
       "2                   0.543                  0.078          340           175   \n",
       "3                   0.511                  0.156          345           175   \n",
       "4                   0.489                  0.111          345           175   \n",
       "..                    ...                    ...          ...           ...   \n",
       "198                 0.519                  0.007          335           550   \n",
       "199                 0.597                  0.006          325           600   \n",
       "200                 0.484                  0.008          345           175   \n",
       "201                 0.421                  0.005          350           175   \n",
       "202                 0.573                  0.008          350           175   \n",
       "\n",
       "     Base AS  AS ratio  Min_Health  Max_Health  Min_Health_regen  \\\n",
       "0      0.625     1.000       525.0      1783.0               6.0   \n",
       "1      0.625     1.000       561.0      2142.0               7.0   \n",
       "2      0.625     1.000       620.0      2048.0               8.0   \n",
       "3      0.670     1.000       580.0      2110.0               7.0   \n",
       "4      0.625     1.000       550.0      1995.0               7.5   \n",
       "..       ...       ...         ...         ...               ...   \n",
       "198    0.625     1.000       504.0      1898.0               5.5   \n",
       "199    0.625     1.000       480.0      1874.0               5.5   \n",
       "200    0.711     0.658       540.0      1985.0               4.0   \n",
       "201    0.670     1.000       616.0      2248.0               6.0   \n",
       "202    0.670     1.000       616.0      2248.0               6.0   \n",
       "\n",
       "     Max_Health_regen  Min_Armor  Max_Armor  Min_Magic_resist  \\\n",
       "0               16.20       29.0       91.9              30.0   \n",
       "1               16.35       28.0       28.0              30.0   \n",
       "2               16.50       36.0       87.0              32.0   \n",
       "3               19.75       36.0      104.0              32.0   \n",
       "4               20.25       28.0       85.8              32.0   \n",
       "..                ...        ...        ...               ...   \n",
       "198             14.00       24.0       88.6              30.0   \n",
       "199             14.85       21.0       89.0              30.0   \n",
       "200             15.05       31.0       90.5              28.0   \n",
       "201             18.75       37.0       82.9              32.0   \n",
       "202             18.75       37.0       82.9              32.0   \n",
       "\n",
       "     Max_Magic_resist  Min_Attack_damage  Max_Attack_damage  \n",
       "0               38.50               47.0               91.2  \n",
       "1               38.50               56.0               93.4  \n",
       "2               44.75               66.0              142.5  \n",
       "3               53.25               66.0              120.4  \n",
       "4               53.25               60.0               94.0  \n",
       "..                ...                ...                ...  \n",
       "198             38.50               52.0              103.0  \n",
       "199             38.50               51.0              105.4  \n",
       "200             49.25               68.0              136.0  \n",
       "201             53.25               68.0              119.0  \n",
       "202             53.25               68.0              119.0  \n",
       "\n",
       "[202 rows x 20 columns]"
      ],
      "text/html": "<div>\n<style scoped>\n    .dataframe tbody tr th:only-of-type {\n        vertical-align: middle;\n    }\n\n    .dataframe tbody tr th {\n        vertical-align: top;\n    }\n\n    .dataframe thead th {\n        text-align: right;\n    }\n</style>\n<table border=\"1\" class=\"dataframe\">\n  <thead>\n    <tr style=\"text-align: right;\">\n      <th></th>\n      <th>Role of champion_role-jungle</th>\n      <th>Role of champion_role-mid</th>\n      <th>Role of champion_role-support</th>\n      <th>Role of champion_role-top</th>\n      <th>Win rate of champion</th>\n      <th>Pick rate of champion</th>\n      <th>Move. speed</th>\n      <th>Attack range</th>\n      <th>Base AS</th>\n      <th>AS ratio</th>\n      <th>Min_Health</th>\n      <th>Max_Health</th>\n      <th>Min_Health_regen</th>\n      <th>Max_Health_regen</th>\n      <th>Min_Armor</th>\n      <th>Max_Armor</th>\n      <th>Min_Magic_resist</th>\n      <th>Max_Magic_resist</th>\n      <th>Min_Attack_damage</th>\n      <th>Max_Attack_damage</th>\n    </tr>\n  </thead>\n  <tbody>\n    <tr>\n      <th>0</th>\n      <td>0</td>\n      <td>0</td>\n      <td>1</td>\n      <td>0</td>\n      <td>0.534</td>\n      <td>0.153</td>\n      <td>330</td>\n      <td>550</td>\n      <td>0.625</td>\n      <td>1.000</td>\n      <td>525.0</td>\n      <td>1783.0</td>\n      <td>6.0</td>\n      <td>16.20</td>\n      <td>29.0</td>\n      <td>91.9</td>\n      <td>30.0</td>\n      <td>38.50</td>\n      <td>47.0</td>\n      <td>91.2</td>\n    </tr>\n    <tr>\n      <th>1</th>\n      <td>0</td>\n      <td>0</td>\n      <td>1</td>\n      <td>0</td>\n      <td>0.523</td>\n      <td>0.198</td>\n      <td>335</td>\n      <td>450</td>\n      <td>0.625</td>\n      <td>1.000</td>\n      <td>561.0</td>\n      <td>2142.0</td>\n      <td>7.0</td>\n      <td>16.35</td>\n      <td>28.0</td>\n      <td>28.0</td>\n      <td>30.0</td>\n      <td>38.50</td>\n      <td>56.0</td>\n      <td>93.4</td>\n    </tr>\n    <tr>\n      <th>2</th>\n      <td>0</td>\n      <td>0</td>\n      <td>0</td>\n      <td>1</td>\n      <td>0.543</td>\n      <td>0.078</td>\n      <td>340</td>\n      <td>175</td>\n      <td>0.625</td>\n      <td>1.000</td>\n      <td>620.0</td>\n      <td>2048.0</td>\n      <td>8.0</td>\n      <td>16.50</td>\n      <td>36.0</td>\n      <td>87.0</td>\n      <td>32.0</td>\n      <td>44.75</td>\n      <td>66.0</td>\n      <td>142.5</td>\n    </tr>\n    <tr>\n      <th>3</th>\n      <td>1</td>\n      <td>0</td>\n      <td>0</td>\n      <td>0</td>\n      <td>0.511</td>\n      <td>0.156</td>\n      <td>345</td>\n      <td>175</td>\n      <td>0.670</td>\n      <td>1.000</td>\n      <td>580.0</td>\n      <td>2110.0</td>\n      <td>7.0</td>\n      <td>19.75</td>\n      <td>36.0</td>\n      <td>104.0</td>\n      <td>32.0</td>\n      <td>53.25</td>\n      <td>66.0</td>\n      <td>120.4</td>\n    </tr>\n    <tr>\n      <th>4</th>\n      <td>0</td>\n      <td>1</td>\n      <td>0</td>\n      <td>0</td>\n      <td>0.489</td>\n      <td>0.111</td>\n      <td>345</td>\n      <td>175</td>\n      <td>0.625</td>\n      <td>1.000</td>\n      <td>550.0</td>\n      <td>1995.0</td>\n      <td>7.5</td>\n      <td>20.25</td>\n      <td>28.0</td>\n      <td>85.8</td>\n      <td>32.0</td>\n      <td>53.25</td>\n      <td>60.0</td>\n      <td>94.0</td>\n    </tr>\n    <tr>\n      <th>...</th>\n      <td>...</td>\n      <td>...</td>\n      <td>...</td>\n      <td>...</td>\n      <td>...</td>\n      <td>...</td>\n      <td>...</td>\n      <td>...</td>\n      <td>...</td>\n      <td>...</td>\n      <td>...</td>\n      <td>...</td>\n      <td>...</td>\n      <td>...</td>\n      <td>...</td>\n      <td>...</td>\n      <td>...</td>\n      <td>...</td>\n      <td>...</td>\n      <td>...</td>\n    </tr>\n    <tr>\n      <th>198</th>\n      <td>0</td>\n      <td>1</td>\n      <td>0</td>\n      <td>0</td>\n      <td>0.519</td>\n      <td>0.007</td>\n      <td>335</td>\n      <td>550</td>\n      <td>0.625</td>\n      <td>1.000</td>\n      <td>504.0</td>\n      <td>1898.0</td>\n      <td>5.5</td>\n      <td>14.00</td>\n      <td>24.0</td>\n      <td>88.6</td>\n      <td>30.0</td>\n      <td>38.50</td>\n      <td>52.0</td>\n      <td>103.0</td>\n    </tr>\n    <tr>\n      <th>199</th>\n      <td>0</td>\n      <td>0</td>\n      <td>1</td>\n      <td>0</td>\n      <td>0.597</td>\n      <td>0.006</td>\n      <td>325</td>\n      <td>600</td>\n      <td>0.625</td>\n      <td>1.000</td>\n      <td>480.0</td>\n      <td>1874.0</td>\n      <td>5.5</td>\n      <td>14.85</td>\n      <td>21.0</td>\n      <td>89.0</td>\n      <td>30.0</td>\n      <td>38.50</td>\n      <td>51.0</td>\n      <td>105.4</td>\n    </tr>\n    <tr>\n      <th>200</th>\n      <td>1</td>\n      <td>0</td>\n      <td>0</td>\n      <td>0</td>\n      <td>0.484</td>\n      <td>0.008</td>\n      <td>345</td>\n      <td>175</td>\n      <td>0.711</td>\n      <td>0.658</td>\n      <td>540.0</td>\n      <td>1985.0</td>\n      <td>4.0</td>\n      <td>15.05</td>\n      <td>31.0</td>\n      <td>90.5</td>\n      <td>28.0</td>\n      <td>49.25</td>\n      <td>68.0</td>\n      <td>136.0</td>\n    </tr>\n    <tr>\n      <th>201</th>\n      <td>0</td>\n      <td>0</td>\n      <td>0</td>\n      <td>1</td>\n      <td>0.421</td>\n      <td>0.005</td>\n      <td>350</td>\n      <td>175</td>\n      <td>0.670</td>\n      <td>1.000</td>\n      <td>616.0</td>\n      <td>2248.0</td>\n      <td>6.0</td>\n      <td>18.75</td>\n      <td>37.0</td>\n      <td>82.9</td>\n      <td>32.0</td>\n      <td>53.25</td>\n      <td>68.0</td>\n      <td>119.0</td>\n    </tr>\n    <tr>\n      <th>202</th>\n      <td>1</td>\n      <td>0</td>\n      <td>0</td>\n      <td>0</td>\n      <td>0.573</td>\n      <td>0.008</td>\n      <td>350</td>\n      <td>175</td>\n      <td>0.670</td>\n      <td>1.000</td>\n      <td>616.0</td>\n      <td>2248.0</td>\n      <td>6.0</td>\n      <td>18.75</td>\n      <td>37.0</td>\n      <td>82.9</td>\n      <td>32.0</td>\n      <td>53.25</td>\n      <td>68.0</td>\n      <td>119.0</td>\n    </tr>\n  </tbody>\n</table>\n<p>202 rows × 20 columns</p>\n</div>"
     },
     "metadata": {},
     "execution_count": 1
    }
   ],
   "source": [
    "import pandas as pd\n",
    "champ_data_df = pd.read_csv(\"new_regression_data.csv\",index_col=0)\n",
    "champ_data_df"
   ]
  },
  {
   "cell_type": "code",
   "execution_count": 2,
   "metadata": {},
   "outputs": [],
   "source": [
    "champ_data_df.columns = champ_data_df.columns.str.replace(\" |-\" , \"_\", regex=True)\n",
    "champ_data_df.rename(columns={\"Move._speed\" : \"Move_speed\"}, inplace=True)"
   ]
  },
  {
   "cell_type": "code",
   "execution_count": 3,
   "metadata": {},
   "outputs": [
    {
     "output_type": "stream",
     "name": "stdout",
     "text": [
      "Role_of_champion_role_jungle     100.0\nRole_of_champion_role_mid        100.0\nRole_of_champion_role_support    100.0\nRole_of_champion_role_top        100.0\nWin_rate_of_champion             100.0\nPick_rate_of_champion            100.0\nMove_speed                       100.0\nAttack_range                     100.0\nBase_AS                          100.0\nAS_ratio                         100.0\nMin_Health                       100.0\nMax_Health                       100.0\nMin_Health_regen                 100.0\nMax_Health_regen                 100.0\nMin_Armor                        100.0\nMax_Armor                        100.0\nMin_Magic_resist                 100.0\nMax_Magic_resist                 100.0\nMin_Attack_damage                100.0\nMax_Attack_damage                100.0\ndtype: float64\n"
     ]
    }
   ],
   "source": [
    "def percent_complete(df):\n",
    "    print(df.notnull().mean()*100)\n",
    "\n",
    "percent_complete(champ_data_df)"
   ]
  },
  {
   "cell_type": "code",
   "execution_count": 5,
   "metadata": {},
   "outputs": [
    {
     "output_type": "display_data",
     "data": {
      "application/vnd.plotly.v1+json": {
       "config": {
        "plotlyServerURL": "https://plot.ly"
       },
       "data": [
        {
         "alignmentgroup": "True",
         "bingroup": "x",
         "hovertemplate": "Win_rate_of_champion=%{x}<br>count=%{y}<extra></extra>",
         "legendgroup": "",
         "marker": {
          "color": "#636efa"
         },
         "name": "",
         "offsetgroup": "",
         "orientation": "v",
         "showlegend": false,
         "type": "histogram",
         "x": [
          0.534,
          0.523,
          0.5429999999999999,
          0.511,
          0.489,
          0.509,
          0.527,
          0.53,
          0.5,
          0.526,
          0.492,
          0.478,
          0.508,
          0.5,
          0.55,
          0.511,
          0.486,
          0.516,
          0.536,
          0.499,
          0.5539999999999999,
          0.474,
          0.49,
          0.507,
          0.492,
          0.513,
          0.55,
          0.578,
          0.517,
          0.539,
          0.504,
          0.525,
          0.563,
          0.547,
          0.536,
          0.518,
          0.568,
          0.506,
          0.5479999999999999,
          0.488,
          0.475,
          0.532,
          0.564,
          0.53,
          0.55,
          0.501,
          0.497,
          0.542,
          0.486,
          0.532,
          0.542,
          0.48,
          0.557,
          0.625,
          0.483,
          0.495,
          0.519,
          0.49,
          0.485,
          0.502,
          0.465,
          0.539,
          0.465,
          0.515,
          0.506,
          0.508,
          0.5,
          0.5329999999999999,
          0.511,
          0.497,
          0.484,
          0.53,
          0.487,
          0.513,
          0.56,
          0.542,
          0.5329999999999999,
          0.527,
          0.526,
          0.482,
          0.525,
          0.486,
          0.519,
          0.449,
          0.516,
          0.513,
          0.513,
          0.475,
          0.49,
          0.517,
          0.471,
          0.52,
          0.581,
          0.5,
          0.55,
          0.47,
          0.498,
          0.491,
          0.546,
          0.5579999999999999,
          0.5379999999999999,
          0.49,
          0.505,
          0.511,
          0.474,
          0.505,
          0.516,
          0.495,
          0.474,
          0.532,
          0.484,
          0.498,
          0.504,
          0.449,
          0.482,
          0.507,
          0.475,
          0.488,
          0.516,
          0.518,
          0.476,
          0.48,
          0.506,
          0.523,
          0.462,
          0.485,
          0.482,
          0.529,
          0.513,
          0.487,
          0.515,
          0.524,
          0.51,
          0.476,
          0.5,
          0.427,
          0.48,
          0.482,
          0.421,
          0.4539999999999999,
          0.465,
          0.447,
          0.518,
          0.51,
          0.48,
          0.5,
          0.446,
          0.422,
          0.446,
          0.413,
          0.457,
          0.439,
          0.407,
          0.486,
          0.4429999999999999,
          0.479,
          0.462,
          0.5,
          0.478,
          0.475,
          0.491,
          0.452,
          0.4629999999999999,
          0.497,
          0.429,
          0.43,
          0.412,
          0.465,
          0.432,
          0.41,
          0.4639999999999999,
          0.481,
          0.452,
          0.4529999999999999,
          0.4629999999999999,
          0.5,
          0.47,
          0.629,
          0.685,
          0.467,
          0.529,
          0.365,
          0.519,
          0.475,
          0.455,
          0.486,
          0.512,
          0.55,
          0.5,
          0.477,
          0.5329999999999999,
          0.384,
          0.418,
          0.422,
          0.5429999999999999,
          0.675,
          0.507,
          0.519,
          0.597,
          0.484,
          0.421,
          0.573
         ],
         "xaxis": "x",
         "yaxis": "y"
        },
        {
         "alignmentgroup": "True",
         "hovertemplate": "Win_rate_of_champion=%{x}<extra></extra>",
         "legendgroup": "",
         "marker": {
          "color": "#636efa"
         },
         "name": "",
         "offsetgroup": "",
         "scalegroup": "x",
         "showlegend": false,
         "type": "violin",
         "x": [
          0.534,
          0.523,
          0.5429999999999999,
          0.511,
          0.489,
          0.509,
          0.527,
          0.53,
          0.5,
          0.526,
          0.492,
          0.478,
          0.508,
          0.5,
          0.55,
          0.511,
          0.486,
          0.516,
          0.536,
          0.499,
          0.5539999999999999,
          0.474,
          0.49,
          0.507,
          0.492,
          0.513,
          0.55,
          0.578,
          0.517,
          0.539,
          0.504,
          0.525,
          0.563,
          0.547,
          0.536,
          0.518,
          0.568,
          0.506,
          0.5479999999999999,
          0.488,
          0.475,
          0.532,
          0.564,
          0.53,
          0.55,
          0.501,
          0.497,
          0.542,
          0.486,
          0.532,
          0.542,
          0.48,
          0.557,
          0.625,
          0.483,
          0.495,
          0.519,
          0.49,
          0.485,
          0.502,
          0.465,
          0.539,
          0.465,
          0.515,
          0.506,
          0.508,
          0.5,
          0.5329999999999999,
          0.511,
          0.497,
          0.484,
          0.53,
          0.487,
          0.513,
          0.56,
          0.542,
          0.5329999999999999,
          0.527,
          0.526,
          0.482,
          0.525,
          0.486,
          0.519,
          0.449,
          0.516,
          0.513,
          0.513,
          0.475,
          0.49,
          0.517,
          0.471,
          0.52,
          0.581,
          0.5,
          0.55,
          0.47,
          0.498,
          0.491,
          0.546,
          0.5579999999999999,
          0.5379999999999999,
          0.49,
          0.505,
          0.511,
          0.474,
          0.505,
          0.516,
          0.495,
          0.474,
          0.532,
          0.484,
          0.498,
          0.504,
          0.449,
          0.482,
          0.507,
          0.475,
          0.488,
          0.516,
          0.518,
          0.476,
          0.48,
          0.506,
          0.523,
          0.462,
          0.485,
          0.482,
          0.529,
          0.513,
          0.487,
          0.515,
          0.524,
          0.51,
          0.476,
          0.5,
          0.427,
          0.48,
          0.482,
          0.421,
          0.4539999999999999,
          0.465,
          0.447,
          0.518,
          0.51,
          0.48,
          0.5,
          0.446,
          0.422,
          0.446,
          0.413,
          0.457,
          0.439,
          0.407,
          0.486,
          0.4429999999999999,
          0.479,
          0.462,
          0.5,
          0.478,
          0.475,
          0.491,
          0.452,
          0.4629999999999999,
          0.497,
          0.429,
          0.43,
          0.412,
          0.465,
          0.432,
          0.41,
          0.4639999999999999,
          0.481,
          0.452,
          0.4529999999999999,
          0.4629999999999999,
          0.5,
          0.47,
          0.629,
          0.685,
          0.467,
          0.529,
          0.365,
          0.519,
          0.475,
          0.455,
          0.486,
          0.512,
          0.55,
          0.5,
          0.477,
          0.5329999999999999,
          0.384,
          0.418,
          0.422,
          0.5429999999999999,
          0.675,
          0.507,
          0.519,
          0.597,
          0.484,
          0.421,
          0.573
         ],
         "xaxis": "x2",
         "yaxis": "y2"
        }
       ],
       "layout": {
        "barmode": "relative",
        "legend": {
         "tracegroupgap": 0
        },
        "template": {
         "data": {
          "bar": [
           {
            "error_x": {
             "color": "#2a3f5f"
            },
            "error_y": {
             "color": "#2a3f5f"
            },
            "marker": {
             "line": {
              "color": "#E5ECF6",
              "width": 0.5
             }
            },
            "type": "bar"
           }
          ],
          "barpolar": [
           {
            "marker": {
             "line": {
              "color": "#E5ECF6",
              "width": 0.5
             }
            },
            "type": "barpolar"
           }
          ],
          "carpet": [
           {
            "aaxis": {
             "endlinecolor": "#2a3f5f",
             "gridcolor": "white",
             "linecolor": "white",
             "minorgridcolor": "white",
             "startlinecolor": "#2a3f5f"
            },
            "baxis": {
             "endlinecolor": "#2a3f5f",
             "gridcolor": "white",
             "linecolor": "white",
             "minorgridcolor": "white",
             "startlinecolor": "#2a3f5f"
            },
            "type": "carpet"
           }
          ],
          "choropleth": [
           {
            "colorbar": {
             "outlinewidth": 0,
             "ticks": ""
            },
            "type": "choropleth"
           }
          ],
          "contour": [
           {
            "colorbar": {
             "outlinewidth": 0,
             "ticks": ""
            },
            "colorscale": [
             [
              0,
              "#0d0887"
             ],
             [
              0.1111111111111111,
              "#46039f"
             ],
             [
              0.2222222222222222,
              "#7201a8"
             ],
             [
              0.3333333333333333,
              "#9c179e"
             ],
             [
              0.4444444444444444,
              "#bd3786"
             ],
             [
              0.5555555555555556,
              "#d8576b"
             ],
             [
              0.6666666666666666,
              "#ed7953"
             ],
             [
              0.7777777777777778,
              "#fb9f3a"
             ],
             [
              0.8888888888888888,
              "#fdca26"
             ],
             [
              1,
              "#f0f921"
             ]
            ],
            "type": "contour"
           }
          ],
          "contourcarpet": [
           {
            "colorbar": {
             "outlinewidth": 0,
             "ticks": ""
            },
            "type": "contourcarpet"
           }
          ],
          "heatmap": [
           {
            "colorbar": {
             "outlinewidth": 0,
             "ticks": ""
            },
            "colorscale": [
             [
              0,
              "#0d0887"
             ],
             [
              0.1111111111111111,
              "#46039f"
             ],
             [
              0.2222222222222222,
              "#7201a8"
             ],
             [
              0.3333333333333333,
              "#9c179e"
             ],
             [
              0.4444444444444444,
              "#bd3786"
             ],
             [
              0.5555555555555556,
              "#d8576b"
             ],
             [
              0.6666666666666666,
              "#ed7953"
             ],
             [
              0.7777777777777778,
              "#fb9f3a"
             ],
             [
              0.8888888888888888,
              "#fdca26"
             ],
             [
              1,
              "#f0f921"
             ]
            ],
            "type": "heatmap"
           }
          ],
          "heatmapgl": [
           {
            "colorbar": {
             "outlinewidth": 0,
             "ticks": ""
            },
            "colorscale": [
             [
              0,
              "#0d0887"
             ],
             [
              0.1111111111111111,
              "#46039f"
             ],
             [
              0.2222222222222222,
              "#7201a8"
             ],
             [
              0.3333333333333333,
              "#9c179e"
             ],
             [
              0.4444444444444444,
              "#bd3786"
             ],
             [
              0.5555555555555556,
              "#d8576b"
             ],
             [
              0.6666666666666666,
              "#ed7953"
             ],
             [
              0.7777777777777778,
              "#fb9f3a"
             ],
             [
              0.8888888888888888,
              "#fdca26"
             ],
             [
              1,
              "#f0f921"
             ]
            ],
            "type": "heatmapgl"
           }
          ],
          "histogram": [
           {
            "marker": {
             "colorbar": {
              "outlinewidth": 0,
              "ticks": ""
             }
            },
            "type": "histogram"
           }
          ],
          "histogram2d": [
           {
            "colorbar": {
             "outlinewidth": 0,
             "ticks": ""
            },
            "colorscale": [
             [
              0,
              "#0d0887"
             ],
             [
              0.1111111111111111,
              "#46039f"
             ],
             [
              0.2222222222222222,
              "#7201a8"
             ],
             [
              0.3333333333333333,
              "#9c179e"
             ],
             [
              0.4444444444444444,
              "#bd3786"
             ],
             [
              0.5555555555555556,
              "#d8576b"
             ],
             [
              0.6666666666666666,
              "#ed7953"
             ],
             [
              0.7777777777777778,
              "#fb9f3a"
             ],
             [
              0.8888888888888888,
              "#fdca26"
             ],
             [
              1,
              "#f0f921"
             ]
            ],
            "type": "histogram2d"
           }
          ],
          "histogram2dcontour": [
           {
            "colorbar": {
             "outlinewidth": 0,
             "ticks": ""
            },
            "colorscale": [
             [
              0,
              "#0d0887"
             ],
             [
              0.1111111111111111,
              "#46039f"
             ],
             [
              0.2222222222222222,
              "#7201a8"
             ],
             [
              0.3333333333333333,
              "#9c179e"
             ],
             [
              0.4444444444444444,
              "#bd3786"
             ],
             [
              0.5555555555555556,
              "#d8576b"
             ],
             [
              0.6666666666666666,
              "#ed7953"
             ],
             [
              0.7777777777777778,
              "#fb9f3a"
             ],
             [
              0.8888888888888888,
              "#fdca26"
             ],
             [
              1,
              "#f0f921"
             ]
            ],
            "type": "histogram2dcontour"
           }
          ],
          "mesh3d": [
           {
            "colorbar": {
             "outlinewidth": 0,
             "ticks": ""
            },
            "type": "mesh3d"
           }
          ],
          "parcoords": [
           {
            "line": {
             "colorbar": {
              "outlinewidth": 0,
              "ticks": ""
             }
            },
            "type": "parcoords"
           }
          ],
          "pie": [
           {
            "automargin": true,
            "type": "pie"
           }
          ],
          "scatter": [
           {
            "marker": {
             "colorbar": {
              "outlinewidth": 0,
              "ticks": ""
             }
            },
            "type": "scatter"
           }
          ],
          "scatter3d": [
           {
            "line": {
             "colorbar": {
              "outlinewidth": 0,
              "ticks": ""
             }
            },
            "marker": {
             "colorbar": {
              "outlinewidth": 0,
              "ticks": ""
             }
            },
            "type": "scatter3d"
           }
          ],
          "scattercarpet": [
           {
            "marker": {
             "colorbar": {
              "outlinewidth": 0,
              "ticks": ""
             }
            },
            "type": "scattercarpet"
           }
          ],
          "scattergeo": [
           {
            "marker": {
             "colorbar": {
              "outlinewidth": 0,
              "ticks": ""
             }
            },
            "type": "scattergeo"
           }
          ],
          "scattergl": [
           {
            "marker": {
             "colorbar": {
              "outlinewidth": 0,
              "ticks": ""
             }
            },
            "type": "scattergl"
           }
          ],
          "scattermapbox": [
           {
            "marker": {
             "colorbar": {
              "outlinewidth": 0,
              "ticks": ""
             }
            },
            "type": "scattermapbox"
           }
          ],
          "scatterpolar": [
           {
            "marker": {
             "colorbar": {
              "outlinewidth": 0,
              "ticks": ""
             }
            },
            "type": "scatterpolar"
           }
          ],
          "scatterpolargl": [
           {
            "marker": {
             "colorbar": {
              "outlinewidth": 0,
              "ticks": ""
             }
            },
            "type": "scatterpolargl"
           }
          ],
          "scatterternary": [
           {
            "marker": {
             "colorbar": {
              "outlinewidth": 0,
              "ticks": ""
             }
            },
            "type": "scatterternary"
           }
          ],
          "surface": [
           {
            "colorbar": {
             "outlinewidth": 0,
             "ticks": ""
            },
            "colorscale": [
             [
              0,
              "#0d0887"
             ],
             [
              0.1111111111111111,
              "#46039f"
             ],
             [
              0.2222222222222222,
              "#7201a8"
             ],
             [
              0.3333333333333333,
              "#9c179e"
             ],
             [
              0.4444444444444444,
              "#bd3786"
             ],
             [
              0.5555555555555556,
              "#d8576b"
             ],
             [
              0.6666666666666666,
              "#ed7953"
             ],
             [
              0.7777777777777778,
              "#fb9f3a"
             ],
             [
              0.8888888888888888,
              "#fdca26"
             ],
             [
              1,
              "#f0f921"
             ]
            ],
            "type": "surface"
           }
          ],
          "table": [
           {
            "cells": {
             "fill": {
              "color": "#EBF0F8"
             },
             "line": {
              "color": "white"
             }
            },
            "header": {
             "fill": {
              "color": "#C8D4E3"
             },
             "line": {
              "color": "white"
             }
            },
            "type": "table"
           }
          ]
         },
         "layout": {
          "annotationdefaults": {
           "arrowcolor": "#2a3f5f",
           "arrowhead": 0,
           "arrowwidth": 1
          },
          "autotypenumbers": "strict",
          "coloraxis": {
           "colorbar": {
            "outlinewidth": 0,
            "ticks": ""
           }
          },
          "colorscale": {
           "diverging": [
            [
             0,
             "#8e0152"
            ],
            [
             0.1,
             "#c51b7d"
            ],
            [
             0.2,
             "#de77ae"
            ],
            [
             0.3,
             "#f1b6da"
            ],
            [
             0.4,
             "#fde0ef"
            ],
            [
             0.5,
             "#f7f7f7"
            ],
            [
             0.6,
             "#e6f5d0"
            ],
            [
             0.7,
             "#b8e186"
            ],
            [
             0.8,
             "#7fbc41"
            ],
            [
             0.9,
             "#4d9221"
            ],
            [
             1,
             "#276419"
            ]
           ],
           "sequential": [
            [
             0,
             "#0d0887"
            ],
            [
             0.1111111111111111,
             "#46039f"
            ],
            [
             0.2222222222222222,
             "#7201a8"
            ],
            [
             0.3333333333333333,
             "#9c179e"
            ],
            [
             0.4444444444444444,
             "#bd3786"
            ],
            [
             0.5555555555555556,
             "#d8576b"
            ],
            [
             0.6666666666666666,
             "#ed7953"
            ],
            [
             0.7777777777777778,
             "#fb9f3a"
            ],
            [
             0.8888888888888888,
             "#fdca26"
            ],
            [
             1,
             "#f0f921"
            ]
           ],
           "sequentialminus": [
            [
             0,
             "#0d0887"
            ],
            [
             0.1111111111111111,
             "#46039f"
            ],
            [
             0.2222222222222222,
             "#7201a8"
            ],
            [
             0.3333333333333333,
             "#9c179e"
            ],
            [
             0.4444444444444444,
             "#bd3786"
            ],
            [
             0.5555555555555556,
             "#d8576b"
            ],
            [
             0.6666666666666666,
             "#ed7953"
            ],
            [
             0.7777777777777778,
             "#fb9f3a"
            ],
            [
             0.8888888888888888,
             "#fdca26"
            ],
            [
             1,
             "#f0f921"
            ]
           ]
          },
          "colorway": [
           "#636efa",
           "#EF553B",
           "#00cc96",
           "#ab63fa",
           "#FFA15A",
           "#19d3f3",
           "#FF6692",
           "#B6E880",
           "#FF97FF",
           "#FECB52"
          ],
          "font": {
           "color": "#2a3f5f"
          },
          "geo": {
           "bgcolor": "white",
           "lakecolor": "white",
           "landcolor": "#E5ECF6",
           "showlakes": true,
           "showland": true,
           "subunitcolor": "white"
          },
          "hoverlabel": {
           "align": "left"
          },
          "hovermode": "closest",
          "mapbox": {
           "style": "light"
          },
          "paper_bgcolor": "white",
          "plot_bgcolor": "#E5ECF6",
          "polar": {
           "angularaxis": {
            "gridcolor": "white",
            "linecolor": "white",
            "ticks": ""
           },
           "bgcolor": "#E5ECF6",
           "radialaxis": {
            "gridcolor": "white",
            "linecolor": "white",
            "ticks": ""
           }
          },
          "scene": {
           "xaxis": {
            "backgroundcolor": "#E5ECF6",
            "gridcolor": "white",
            "gridwidth": 2,
            "linecolor": "white",
            "showbackground": true,
            "ticks": "",
            "zerolinecolor": "white"
           },
           "yaxis": {
            "backgroundcolor": "#E5ECF6",
            "gridcolor": "white",
            "gridwidth": 2,
            "linecolor": "white",
            "showbackground": true,
            "ticks": "",
            "zerolinecolor": "white"
           },
           "zaxis": {
            "backgroundcolor": "#E5ECF6",
            "gridcolor": "white",
            "gridwidth": 2,
            "linecolor": "white",
            "showbackground": true,
            "ticks": "",
            "zerolinecolor": "white"
           }
          },
          "shapedefaults": {
           "line": {
            "color": "#2a3f5f"
           }
          },
          "ternary": {
           "aaxis": {
            "gridcolor": "white",
            "linecolor": "white",
            "ticks": ""
           },
           "baxis": {
            "gridcolor": "white",
            "linecolor": "white",
            "ticks": ""
           },
           "bgcolor": "#E5ECF6",
           "caxis": {
            "gridcolor": "white",
            "linecolor": "white",
            "ticks": ""
           }
          },
          "title": {
           "x": 0.05
          },
          "xaxis": {
           "automargin": true,
           "gridcolor": "white",
           "linecolor": "white",
           "ticks": "",
           "title": {
            "standoff": 15
           },
           "zerolinecolor": "white",
           "zerolinewidth": 2
          },
          "yaxis": {
           "automargin": true,
           "gridcolor": "white",
           "linecolor": "white",
           "ticks": "",
           "title": {
            "standoff": 15
           },
           "zerolinecolor": "white",
           "zerolinewidth": 2
          }
         }
        },
        "title": {
         "text": "Win_rate_of_champion histogram"
        },
        "xaxis": {
         "anchor": "y",
         "domain": [
          0,
          1
         ],
         "title": {
          "text": "Win_rate_of_champion"
         }
        },
        "xaxis2": {
         "anchor": "y2",
         "domain": [
          0,
          1
         ],
         "matches": "x",
         "showgrid": true,
         "showticklabels": false
        },
        "yaxis": {
         "anchor": "x",
         "domain": [
          0,
          0.8316
         ],
         "title": {
          "text": "count"
         }
        },
        "yaxis2": {
         "anchor": "x2",
         "domain": [
          0.8416,
          1
         ],
         "matches": "y2",
         "showgrid": false,
         "showline": false,
         "showticklabels": false,
         "ticks": ""
        }
       }
      }
     },
     "metadata": {}
    },
    {
     "output_type": "display_data",
     "data": {
      "application/vnd.plotly.v1+json": {
       "config": {
        "plotlyServerURL": "https://plot.ly"
       },
       "data": [
        {
         "alignmentgroup": "True",
         "bingroup": "x",
         "hovertemplate": "Pick_rate_of_champion=%{x}<br>count=%{y}<extra></extra>",
         "legendgroup": "",
         "marker": {
          "color": "#636efa"
         },
         "name": "",
         "offsetgroup": "",
         "orientation": "v",
         "showlegend": false,
         "type": "histogram",
         "x": [
          0.153,
          0.198,
          0.078,
          0.156,
          0.111,
          0.0819999999999999,
          0.223,
          0.1009999999999999,
          0.066,
          0.127,
          0.286,
          0.127,
          0.105,
          0.086,
          0.066,
          0.061,
          0.1,
          0.067,
          0.0579999999999999,
          0.0819999999999999,
          0.0409999999999999,
          0.121,
          0.072,
          0.149,
          0.142,
          0.07,
          0.0139999999999999,
          0.018,
          0.084,
          0.086,
          0.1009999999999999,
          0.025,
          0.069,
          0.059,
          0.043,
          0.063,
          0.021,
          0.062,
          0.043,
          0.091,
          0.083,
          0.03,
          0.033,
          0.03,
          0.138,
          0.061,
          0.081,
          0.046,
          0.2339999999999999,
          0.051,
          0.061,
          0.084,
          0.034,
          0.023,
          0.105,
          0.076,
          0.035,
          0.077,
          0.083,
          0.052,
          0.065,
          0.015,
          0.066,
          0.048,
          0.087,
          0.061,
          0.071,
          0.027,
          0.072,
          0.043,
          0.149,
          0.03,
          0.068,
          0.011,
          0.0289999999999999,
          0.022,
          0.042,
          0.049,
          0.02,
          0.059,
          0.068,
          0.062,
          0.023,
          0.074,
          0.042,
          0.051,
          0.04,
          0.085,
          0.057,
          0.05,
          0.1119999999999999,
          0.022,
          0.015,
          0.053,
          0.015,
          0.081,
          0.037,
          0.0559999999999999,
          0.026,
          0.027,
          0.0289999999999999,
          0.046,
          0.0579999999999999,
          0.045,
          0.042,
          0.0279999999999999,
          0.016,
          0.027,
          0.022,
          0.025,
          0.054,
          0.053,
          0.037,
          0.06,
          0.053,
          0.019,
          0.059,
          0.065,
          0.011,
          0.019,
          0.033,
          0.04,
          0.039,
          0.023,
          0.062,
          0.02,
          0.039,
          0.018,
          0.032,
          0.038,
          0.027,
          0.026,
          0.017,
          0.0279999999999999,
          0.03,
          0.065,
          0.048,
          0.0409999999999999,
          0.031,
          0.035,
          0.015,
          0.0279999999999999,
          0.024,
          0.031,
          0.016,
          0.015,
          0.037,
          0.05,
          0.031,
          0.016,
          0.027,
          0.022,
          0.017,
          0.023,
          0.038,
          0.0409999999999999,
          0.027,
          0.02,
          0.012,
          0.038,
          0.015,
          0.016,
          0.025,
          0.016,
          0.0279999999999999,
          0.027,
          0.023,
          0.03,
          0.027,
          0.01,
          0.01,
          0.031,
          0.033,
          0.012,
          0.024,
          0.031,
          0.079,
          0.005,
          0.008,
          0.008,
          0.009,
          0.009,
          0.009,
          0.009,
          0.011,
          0.009,
          0.008,
          0.005,
          0.009,
          0.008,
          0.005,
          0.01,
          0.011,
          0.0069999999999999,
          0.008,
          0.0069999999999999,
          0.006,
          0.0069999999999999,
          0.006,
          0.008,
          0.005,
          0.008
         ],
         "xaxis": "x",
         "yaxis": "y"
        },
        {
         "alignmentgroup": "True",
         "hovertemplate": "Pick_rate_of_champion=%{x}<extra></extra>",
         "legendgroup": "",
         "marker": {
          "color": "#636efa"
         },
         "name": "",
         "offsetgroup": "",
         "scalegroup": "x",
         "showlegend": false,
         "type": "violin",
         "x": [
          0.153,
          0.198,
          0.078,
          0.156,
          0.111,
          0.0819999999999999,
          0.223,
          0.1009999999999999,
          0.066,
          0.127,
          0.286,
          0.127,
          0.105,
          0.086,
          0.066,
          0.061,
          0.1,
          0.067,
          0.0579999999999999,
          0.0819999999999999,
          0.0409999999999999,
          0.121,
          0.072,
          0.149,
          0.142,
          0.07,
          0.0139999999999999,
          0.018,
          0.084,
          0.086,
          0.1009999999999999,
          0.025,
          0.069,
          0.059,
          0.043,
          0.063,
          0.021,
          0.062,
          0.043,
          0.091,
          0.083,
          0.03,
          0.033,
          0.03,
          0.138,
          0.061,
          0.081,
          0.046,
          0.2339999999999999,
          0.051,
          0.061,
          0.084,
          0.034,
          0.023,
          0.105,
          0.076,
          0.035,
          0.077,
          0.083,
          0.052,
          0.065,
          0.015,
          0.066,
          0.048,
          0.087,
          0.061,
          0.071,
          0.027,
          0.072,
          0.043,
          0.149,
          0.03,
          0.068,
          0.011,
          0.0289999999999999,
          0.022,
          0.042,
          0.049,
          0.02,
          0.059,
          0.068,
          0.062,
          0.023,
          0.074,
          0.042,
          0.051,
          0.04,
          0.085,
          0.057,
          0.05,
          0.1119999999999999,
          0.022,
          0.015,
          0.053,
          0.015,
          0.081,
          0.037,
          0.0559999999999999,
          0.026,
          0.027,
          0.0289999999999999,
          0.046,
          0.0579999999999999,
          0.045,
          0.042,
          0.0279999999999999,
          0.016,
          0.027,
          0.022,
          0.025,
          0.054,
          0.053,
          0.037,
          0.06,
          0.053,
          0.019,
          0.059,
          0.065,
          0.011,
          0.019,
          0.033,
          0.04,
          0.039,
          0.023,
          0.062,
          0.02,
          0.039,
          0.018,
          0.032,
          0.038,
          0.027,
          0.026,
          0.017,
          0.0279999999999999,
          0.03,
          0.065,
          0.048,
          0.0409999999999999,
          0.031,
          0.035,
          0.015,
          0.0279999999999999,
          0.024,
          0.031,
          0.016,
          0.015,
          0.037,
          0.05,
          0.031,
          0.016,
          0.027,
          0.022,
          0.017,
          0.023,
          0.038,
          0.0409999999999999,
          0.027,
          0.02,
          0.012,
          0.038,
          0.015,
          0.016,
          0.025,
          0.016,
          0.0279999999999999,
          0.027,
          0.023,
          0.03,
          0.027,
          0.01,
          0.01,
          0.031,
          0.033,
          0.012,
          0.024,
          0.031,
          0.079,
          0.005,
          0.008,
          0.008,
          0.009,
          0.009,
          0.009,
          0.009,
          0.011,
          0.009,
          0.008,
          0.005,
          0.009,
          0.008,
          0.005,
          0.01,
          0.011,
          0.0069999999999999,
          0.008,
          0.0069999999999999,
          0.006,
          0.0069999999999999,
          0.006,
          0.008,
          0.005,
          0.008
         ],
         "xaxis": "x2",
         "yaxis": "y2"
        }
       ],
       "layout": {
        "barmode": "relative",
        "legend": {
         "tracegroupgap": 0
        },
        "template": {
         "data": {
          "bar": [
           {
            "error_x": {
             "color": "#2a3f5f"
            },
            "error_y": {
             "color": "#2a3f5f"
            },
            "marker": {
             "line": {
              "color": "#E5ECF6",
              "width": 0.5
             }
            },
            "type": "bar"
           }
          ],
          "barpolar": [
           {
            "marker": {
             "line": {
              "color": "#E5ECF6",
              "width": 0.5
             }
            },
            "type": "barpolar"
           }
          ],
          "carpet": [
           {
            "aaxis": {
             "endlinecolor": "#2a3f5f",
             "gridcolor": "white",
             "linecolor": "white",
             "minorgridcolor": "white",
             "startlinecolor": "#2a3f5f"
            },
            "baxis": {
             "endlinecolor": "#2a3f5f",
             "gridcolor": "white",
             "linecolor": "white",
             "minorgridcolor": "white",
             "startlinecolor": "#2a3f5f"
            },
            "type": "carpet"
           }
          ],
          "choropleth": [
           {
            "colorbar": {
             "outlinewidth": 0,
             "ticks": ""
            },
            "type": "choropleth"
           }
          ],
          "contour": [
           {
            "colorbar": {
             "outlinewidth": 0,
             "ticks": ""
            },
            "colorscale": [
             [
              0,
              "#0d0887"
             ],
             [
              0.1111111111111111,
              "#46039f"
             ],
             [
              0.2222222222222222,
              "#7201a8"
             ],
             [
              0.3333333333333333,
              "#9c179e"
             ],
             [
              0.4444444444444444,
              "#bd3786"
             ],
             [
              0.5555555555555556,
              "#d8576b"
             ],
             [
              0.6666666666666666,
              "#ed7953"
             ],
             [
              0.7777777777777778,
              "#fb9f3a"
             ],
             [
              0.8888888888888888,
              "#fdca26"
             ],
             [
              1,
              "#f0f921"
             ]
            ],
            "type": "contour"
           }
          ],
          "contourcarpet": [
           {
            "colorbar": {
             "outlinewidth": 0,
             "ticks": ""
            },
            "type": "contourcarpet"
           }
          ],
          "heatmap": [
           {
            "colorbar": {
             "outlinewidth": 0,
             "ticks": ""
            },
            "colorscale": [
             [
              0,
              "#0d0887"
             ],
             [
              0.1111111111111111,
              "#46039f"
             ],
             [
              0.2222222222222222,
              "#7201a8"
             ],
             [
              0.3333333333333333,
              "#9c179e"
             ],
             [
              0.4444444444444444,
              "#bd3786"
             ],
             [
              0.5555555555555556,
              "#d8576b"
             ],
             [
              0.6666666666666666,
              "#ed7953"
             ],
             [
              0.7777777777777778,
              "#fb9f3a"
             ],
             [
              0.8888888888888888,
              "#fdca26"
             ],
             [
              1,
              "#f0f921"
             ]
            ],
            "type": "heatmap"
           }
          ],
          "heatmapgl": [
           {
            "colorbar": {
             "outlinewidth": 0,
             "ticks": ""
            },
            "colorscale": [
             [
              0,
              "#0d0887"
             ],
             [
              0.1111111111111111,
              "#46039f"
             ],
             [
              0.2222222222222222,
              "#7201a8"
             ],
             [
              0.3333333333333333,
              "#9c179e"
             ],
             [
              0.4444444444444444,
              "#bd3786"
             ],
             [
              0.5555555555555556,
              "#d8576b"
             ],
             [
              0.6666666666666666,
              "#ed7953"
             ],
             [
              0.7777777777777778,
              "#fb9f3a"
             ],
             [
              0.8888888888888888,
              "#fdca26"
             ],
             [
              1,
              "#f0f921"
             ]
            ],
            "type": "heatmapgl"
           }
          ],
          "histogram": [
           {
            "marker": {
             "colorbar": {
              "outlinewidth": 0,
              "ticks": ""
             }
            },
            "type": "histogram"
           }
          ],
          "histogram2d": [
           {
            "colorbar": {
             "outlinewidth": 0,
             "ticks": ""
            },
            "colorscale": [
             [
              0,
              "#0d0887"
             ],
             [
              0.1111111111111111,
              "#46039f"
             ],
             [
              0.2222222222222222,
              "#7201a8"
             ],
             [
              0.3333333333333333,
              "#9c179e"
             ],
             [
              0.4444444444444444,
              "#bd3786"
             ],
             [
              0.5555555555555556,
              "#d8576b"
             ],
             [
              0.6666666666666666,
              "#ed7953"
             ],
             [
              0.7777777777777778,
              "#fb9f3a"
             ],
             [
              0.8888888888888888,
              "#fdca26"
             ],
             [
              1,
              "#f0f921"
             ]
            ],
            "type": "histogram2d"
           }
          ],
          "histogram2dcontour": [
           {
            "colorbar": {
             "outlinewidth": 0,
             "ticks": ""
            },
            "colorscale": [
             [
              0,
              "#0d0887"
             ],
             [
              0.1111111111111111,
              "#46039f"
             ],
             [
              0.2222222222222222,
              "#7201a8"
             ],
             [
              0.3333333333333333,
              "#9c179e"
             ],
             [
              0.4444444444444444,
              "#bd3786"
             ],
             [
              0.5555555555555556,
              "#d8576b"
             ],
             [
              0.6666666666666666,
              "#ed7953"
             ],
             [
              0.7777777777777778,
              "#fb9f3a"
             ],
             [
              0.8888888888888888,
              "#fdca26"
             ],
             [
              1,
              "#f0f921"
             ]
            ],
            "type": "histogram2dcontour"
           }
          ],
          "mesh3d": [
           {
            "colorbar": {
             "outlinewidth": 0,
             "ticks": ""
            },
            "type": "mesh3d"
           }
          ],
          "parcoords": [
           {
            "line": {
             "colorbar": {
              "outlinewidth": 0,
              "ticks": ""
             }
            },
            "type": "parcoords"
           }
          ],
          "pie": [
           {
            "automargin": true,
            "type": "pie"
           }
          ],
          "scatter": [
           {
            "marker": {
             "colorbar": {
              "outlinewidth": 0,
              "ticks": ""
             }
            },
            "type": "scatter"
           }
          ],
          "scatter3d": [
           {
            "line": {
             "colorbar": {
              "outlinewidth": 0,
              "ticks": ""
             }
            },
            "marker": {
             "colorbar": {
              "outlinewidth": 0,
              "ticks": ""
             }
            },
            "type": "scatter3d"
           }
          ],
          "scattercarpet": [
           {
            "marker": {
             "colorbar": {
              "outlinewidth": 0,
              "ticks": ""
             }
            },
            "type": "scattercarpet"
           }
          ],
          "scattergeo": [
           {
            "marker": {
             "colorbar": {
              "outlinewidth": 0,
              "ticks": ""
             }
            },
            "type": "scattergeo"
           }
          ],
          "scattergl": [
           {
            "marker": {
             "colorbar": {
              "outlinewidth": 0,
              "ticks": ""
             }
            },
            "type": "scattergl"
           }
          ],
          "scattermapbox": [
           {
            "marker": {
             "colorbar": {
              "outlinewidth": 0,
              "ticks": ""
             }
            },
            "type": "scattermapbox"
           }
          ],
          "scatterpolar": [
           {
            "marker": {
             "colorbar": {
              "outlinewidth": 0,
              "ticks": ""
             }
            },
            "type": "scatterpolar"
           }
          ],
          "scatterpolargl": [
           {
            "marker": {
             "colorbar": {
              "outlinewidth": 0,
              "ticks": ""
             }
            },
            "type": "scatterpolargl"
           }
          ],
          "scatterternary": [
           {
            "marker": {
             "colorbar": {
              "outlinewidth": 0,
              "ticks": ""
             }
            },
            "type": "scatterternary"
           }
          ],
          "surface": [
           {
            "colorbar": {
             "outlinewidth": 0,
             "ticks": ""
            },
            "colorscale": [
             [
              0,
              "#0d0887"
             ],
             [
              0.1111111111111111,
              "#46039f"
             ],
             [
              0.2222222222222222,
              "#7201a8"
             ],
             [
              0.3333333333333333,
              "#9c179e"
             ],
             [
              0.4444444444444444,
              "#bd3786"
             ],
             [
              0.5555555555555556,
              "#d8576b"
             ],
             [
              0.6666666666666666,
              "#ed7953"
             ],
             [
              0.7777777777777778,
              "#fb9f3a"
             ],
             [
              0.8888888888888888,
              "#fdca26"
             ],
             [
              1,
              "#f0f921"
             ]
            ],
            "type": "surface"
           }
          ],
          "table": [
           {
            "cells": {
             "fill": {
              "color": "#EBF0F8"
             },
             "line": {
              "color": "white"
             }
            },
            "header": {
             "fill": {
              "color": "#C8D4E3"
             },
             "line": {
              "color": "white"
             }
            },
            "type": "table"
           }
          ]
         },
         "layout": {
          "annotationdefaults": {
           "arrowcolor": "#2a3f5f",
           "arrowhead": 0,
           "arrowwidth": 1
          },
          "autotypenumbers": "strict",
          "coloraxis": {
           "colorbar": {
            "outlinewidth": 0,
            "ticks": ""
           }
          },
          "colorscale": {
           "diverging": [
            [
             0,
             "#8e0152"
            ],
            [
             0.1,
             "#c51b7d"
            ],
            [
             0.2,
             "#de77ae"
            ],
            [
             0.3,
             "#f1b6da"
            ],
            [
             0.4,
             "#fde0ef"
            ],
            [
             0.5,
             "#f7f7f7"
            ],
            [
             0.6,
             "#e6f5d0"
            ],
            [
             0.7,
             "#b8e186"
            ],
            [
             0.8,
             "#7fbc41"
            ],
            [
             0.9,
             "#4d9221"
            ],
            [
             1,
             "#276419"
            ]
           ],
           "sequential": [
            [
             0,
             "#0d0887"
            ],
            [
             0.1111111111111111,
             "#46039f"
            ],
            [
             0.2222222222222222,
             "#7201a8"
            ],
            [
             0.3333333333333333,
             "#9c179e"
            ],
            [
             0.4444444444444444,
             "#bd3786"
            ],
            [
             0.5555555555555556,
             "#d8576b"
            ],
            [
             0.6666666666666666,
             "#ed7953"
            ],
            [
             0.7777777777777778,
             "#fb9f3a"
            ],
            [
             0.8888888888888888,
             "#fdca26"
            ],
            [
             1,
             "#f0f921"
            ]
           ],
           "sequentialminus": [
            [
             0,
             "#0d0887"
            ],
            [
             0.1111111111111111,
             "#46039f"
            ],
            [
             0.2222222222222222,
             "#7201a8"
            ],
            [
             0.3333333333333333,
             "#9c179e"
            ],
            [
             0.4444444444444444,
             "#bd3786"
            ],
            [
             0.5555555555555556,
             "#d8576b"
            ],
            [
             0.6666666666666666,
             "#ed7953"
            ],
            [
             0.7777777777777778,
             "#fb9f3a"
            ],
            [
             0.8888888888888888,
             "#fdca26"
            ],
            [
             1,
             "#f0f921"
            ]
           ]
          },
          "colorway": [
           "#636efa",
           "#EF553B",
           "#00cc96",
           "#ab63fa",
           "#FFA15A",
           "#19d3f3",
           "#FF6692",
           "#B6E880",
           "#FF97FF",
           "#FECB52"
          ],
          "font": {
           "color": "#2a3f5f"
          },
          "geo": {
           "bgcolor": "white",
           "lakecolor": "white",
           "landcolor": "#E5ECF6",
           "showlakes": true,
           "showland": true,
           "subunitcolor": "white"
          },
          "hoverlabel": {
           "align": "left"
          },
          "hovermode": "closest",
          "mapbox": {
           "style": "light"
          },
          "paper_bgcolor": "white",
          "plot_bgcolor": "#E5ECF6",
          "polar": {
           "angularaxis": {
            "gridcolor": "white",
            "linecolor": "white",
            "ticks": ""
           },
           "bgcolor": "#E5ECF6",
           "radialaxis": {
            "gridcolor": "white",
            "linecolor": "white",
            "ticks": ""
           }
          },
          "scene": {
           "xaxis": {
            "backgroundcolor": "#E5ECF6",
            "gridcolor": "white",
            "gridwidth": 2,
            "linecolor": "white",
            "showbackground": true,
            "ticks": "",
            "zerolinecolor": "white"
           },
           "yaxis": {
            "backgroundcolor": "#E5ECF6",
            "gridcolor": "white",
            "gridwidth": 2,
            "linecolor": "white",
            "showbackground": true,
            "ticks": "",
            "zerolinecolor": "white"
           },
           "zaxis": {
            "backgroundcolor": "#E5ECF6",
            "gridcolor": "white",
            "gridwidth": 2,
            "linecolor": "white",
            "showbackground": true,
            "ticks": "",
            "zerolinecolor": "white"
           }
          },
          "shapedefaults": {
           "line": {
            "color": "#2a3f5f"
           }
          },
          "ternary": {
           "aaxis": {
            "gridcolor": "white",
            "linecolor": "white",
            "ticks": ""
           },
           "baxis": {
            "gridcolor": "white",
            "linecolor": "white",
            "ticks": ""
           },
           "bgcolor": "#E5ECF6",
           "caxis": {
            "gridcolor": "white",
            "linecolor": "white",
            "ticks": ""
           }
          },
          "title": {
           "x": 0.05
          },
          "xaxis": {
           "automargin": true,
           "gridcolor": "white",
           "linecolor": "white",
           "ticks": "",
           "title": {
            "standoff": 15
           },
           "zerolinecolor": "white",
           "zerolinewidth": 2
          },
          "yaxis": {
           "automargin": true,
           "gridcolor": "white",
           "linecolor": "white",
           "ticks": "",
           "title": {
            "standoff": 15
           },
           "zerolinecolor": "white",
           "zerolinewidth": 2
          }
         }
        },
        "title": {
         "text": "Pick_rate_of_champion histogram"
        },
        "xaxis": {
         "anchor": "y",
         "domain": [
          0,
          1
         ],
         "title": {
          "text": "Pick_rate_of_champion"
         }
        },
        "xaxis2": {
         "anchor": "y2",
         "domain": [
          0,
          1
         ],
         "matches": "x",
         "showgrid": true,
         "showticklabels": false
        },
        "yaxis": {
         "anchor": "x",
         "domain": [
          0,
          0.8316
         ],
         "title": {
          "text": "count"
         }
        },
        "yaxis2": {
         "anchor": "x2",
         "domain": [
          0.8416,
          1
         ],
         "matches": "y2",
         "showgrid": false,
         "showline": false,
         "showticklabels": false,
         "ticks": ""
        }
       }
      }
     },
     "metadata": {}
    },
    {
     "output_type": "display_data",
     "data": {
      "application/vnd.plotly.v1+json": {
       "config": {
        "plotlyServerURL": "https://plot.ly"
       },
       "data": [
        {
         "alignmentgroup": "True",
         "bingroup": "x",
         "hovertemplate": "Move_speed=%{x}<br>count=%{y}<extra></extra>",
         "legendgroup": "",
         "marker": {
          "color": "#636efa"
         },
         "name": "",
         "offsetgroup": "",
         "orientation": "v",
         "showlegend": false,
         "type": "histogram",
         "x": [
          330,
          335,
          340,
          345,
          345,
          340,
          325,
          350,
          340,
          345,
          335,
          345,
          340,
          340,
          340,
          335,
          345,
          340,
          335,
          350,
          335,
          335,
          345,
          335,
          325,
          335,
          335,
          335,
          350,
          330,
          330,
          345,
          330,
          340,
          335,
          330,
          340,
          335,
          335,
          340,
          345,
          350,
          335,
          335,
          330,
          340,
          335,
          340,
          325,
          350,
          335,
          340,
          335,
          340,
          330,
          330,
          325,
          325,
          335,
          335,
          345,
          330,
          350,
          330,
          325,
          345,
          330,
          345,
          345,
          345,
          325,
          335,
          325,
          325,
          335,
          335,
          335,
          335,
          325,
          335,
          340,
          340,
          335,
          345,
          345,
          335,
          335,
          335,
          345,
          330,
          330,
          330,
          330,
          340,
          340,
          325,
          330,
          330,
          340,
          345,
          345,
          325,
          335,
          335,
          335,
          325,
          350,
          340,
          345,
          345,
          345,
          315,
          345,
          325,
          330,
          340,
          325,
          345,
          335,
          335,
          330,
          335,
          335,
          328,
          335,
          340,
          340,
          330,
          330,
          330,
          330,
          340,
          330,
          340,
          335,
          335,
          355,
          345,
          340,
          330,
          345,
          330,
          345,
          335,
          345,
          345,
          325,
          325,
          325,
          335,
          340,
          340,
          335,
          335,
          345,
          340,
          350,
          335,
          325,
          335,
          335,
          330,
          340,
          340,
          340,
          330,
          340,
          325,
          340,
          345,
          345,
          340,
          335,
          325,
          345,
          345,
          345,
          335,
          340,
          345,
          345,
          350,
          345,
          325,
          345,
          340,
          340,
          340,
          340,
          335,
          328,
          340,
          340,
          325,
          325,
          325,
          345,
          335,
          325,
          345,
          350,
          350
         ],
         "xaxis": "x",
         "yaxis": "y"
        },
        {
         "alignmentgroup": "True",
         "hovertemplate": "Move_speed=%{x}<extra></extra>",
         "legendgroup": "",
         "marker": {
          "color": "#636efa"
         },
         "name": "",
         "offsetgroup": "",
         "scalegroup": "x",
         "showlegend": false,
         "type": "violin",
         "x": [
          330,
          335,
          340,
          345,
          345,
          340,
          325,
          350,
          340,
          345,
          335,
          345,
          340,
          340,
          340,
          335,
          345,
          340,
          335,
          350,
          335,
          335,
          345,
          335,
          325,
          335,
          335,
          335,
          350,
          330,
          330,
          345,
          330,
          340,
          335,
          330,
          340,
          335,
          335,
          340,
          345,
          350,
          335,
          335,
          330,
          340,
          335,
          340,
          325,
          350,
          335,
          340,
          335,
          340,
          330,
          330,
          325,
          325,
          335,
          335,
          345,
          330,
          350,
          330,
          325,
          345,
          330,
          345,
          345,
          345,
          325,
          335,
          325,
          325,
          335,
          335,
          335,
          335,
          325,
          335,
          340,
          340,
          335,
          345,
          345,
          335,
          335,
          335,
          345,
          330,
          330,
          330,
          330,
          340,
          340,
          325,
          330,
          330,
          340,
          345,
          345,
          325,
          335,
          335,
          335,
          325,
          350,
          340,
          345,
          345,
          345,
          315,
          345,
          325,
          330,
          340,
          325,
          345,
          335,
          335,
          330,
          335,
          335,
          328,
          335,
          340,
          340,
          330,
          330,
          330,
          330,
          340,
          330,
          340,
          335,
          335,
          355,
          345,
          340,
          330,
          345,
          330,
          345,
          335,
          345,
          345,
          325,
          325,
          325,
          335,
          340,
          340,
          335,
          335,
          345,
          340,
          350,
          335,
          325,
          335,
          335,
          330,
          340,
          340,
          340,
          330,
          340,
          325,
          340,
          345,
          345,
          340,
          335,
          325,
          345,
          345,
          345,
          335,
          340,
          345,
          345,
          350,
          345,
          325,
          345,
          340,
          340,
          340,
          340,
          335,
          328,
          340,
          340,
          325,
          325,
          325,
          345,
          335,
          325,
          345,
          350,
          350
         ],
         "xaxis": "x2",
         "yaxis": "y2"
        }
       ],
       "layout": {
        "barmode": "relative",
        "legend": {
         "tracegroupgap": 0
        },
        "template": {
         "data": {
          "bar": [
           {
            "error_x": {
             "color": "#2a3f5f"
            },
            "error_y": {
             "color": "#2a3f5f"
            },
            "marker": {
             "line": {
              "color": "#E5ECF6",
              "width": 0.5
             }
            },
            "type": "bar"
           }
          ],
          "barpolar": [
           {
            "marker": {
             "line": {
              "color": "#E5ECF6",
              "width": 0.5
             }
            },
            "type": "barpolar"
           }
          ],
          "carpet": [
           {
            "aaxis": {
             "endlinecolor": "#2a3f5f",
             "gridcolor": "white",
             "linecolor": "white",
             "minorgridcolor": "white",
             "startlinecolor": "#2a3f5f"
            },
            "baxis": {
             "endlinecolor": "#2a3f5f",
             "gridcolor": "white",
             "linecolor": "white",
             "minorgridcolor": "white",
             "startlinecolor": "#2a3f5f"
            },
            "type": "carpet"
           }
          ],
          "choropleth": [
           {
            "colorbar": {
             "outlinewidth": 0,
             "ticks": ""
            },
            "type": "choropleth"
           }
          ],
          "contour": [
           {
            "colorbar": {
             "outlinewidth": 0,
             "ticks": ""
            },
            "colorscale": [
             [
              0,
              "#0d0887"
             ],
             [
              0.1111111111111111,
              "#46039f"
             ],
             [
              0.2222222222222222,
              "#7201a8"
             ],
             [
              0.3333333333333333,
              "#9c179e"
             ],
             [
              0.4444444444444444,
              "#bd3786"
             ],
             [
              0.5555555555555556,
              "#d8576b"
             ],
             [
              0.6666666666666666,
              "#ed7953"
             ],
             [
              0.7777777777777778,
              "#fb9f3a"
             ],
             [
              0.8888888888888888,
              "#fdca26"
             ],
             [
              1,
              "#f0f921"
             ]
            ],
            "type": "contour"
           }
          ],
          "contourcarpet": [
           {
            "colorbar": {
             "outlinewidth": 0,
             "ticks": ""
            },
            "type": "contourcarpet"
           }
          ],
          "heatmap": [
           {
            "colorbar": {
             "outlinewidth": 0,
             "ticks": ""
            },
            "colorscale": [
             [
              0,
              "#0d0887"
             ],
             [
              0.1111111111111111,
              "#46039f"
             ],
             [
              0.2222222222222222,
              "#7201a8"
             ],
             [
              0.3333333333333333,
              "#9c179e"
             ],
             [
              0.4444444444444444,
              "#bd3786"
             ],
             [
              0.5555555555555556,
              "#d8576b"
             ],
             [
              0.6666666666666666,
              "#ed7953"
             ],
             [
              0.7777777777777778,
              "#fb9f3a"
             ],
             [
              0.8888888888888888,
              "#fdca26"
             ],
             [
              1,
              "#f0f921"
             ]
            ],
            "type": "heatmap"
           }
          ],
          "heatmapgl": [
           {
            "colorbar": {
             "outlinewidth": 0,
             "ticks": ""
            },
            "colorscale": [
             [
              0,
              "#0d0887"
             ],
             [
              0.1111111111111111,
              "#46039f"
             ],
             [
              0.2222222222222222,
              "#7201a8"
             ],
             [
              0.3333333333333333,
              "#9c179e"
             ],
             [
              0.4444444444444444,
              "#bd3786"
             ],
             [
              0.5555555555555556,
              "#d8576b"
             ],
             [
              0.6666666666666666,
              "#ed7953"
             ],
             [
              0.7777777777777778,
              "#fb9f3a"
             ],
             [
              0.8888888888888888,
              "#fdca26"
             ],
             [
              1,
              "#f0f921"
             ]
            ],
            "type": "heatmapgl"
           }
          ],
          "histogram": [
           {
            "marker": {
             "colorbar": {
              "outlinewidth": 0,
              "ticks": ""
             }
            },
            "type": "histogram"
           }
          ],
          "histogram2d": [
           {
            "colorbar": {
             "outlinewidth": 0,
             "ticks": ""
            },
            "colorscale": [
             [
              0,
              "#0d0887"
             ],
             [
              0.1111111111111111,
              "#46039f"
             ],
             [
              0.2222222222222222,
              "#7201a8"
             ],
             [
              0.3333333333333333,
              "#9c179e"
             ],
             [
              0.4444444444444444,
              "#bd3786"
             ],
             [
              0.5555555555555556,
              "#d8576b"
             ],
             [
              0.6666666666666666,
              "#ed7953"
             ],
             [
              0.7777777777777778,
              "#fb9f3a"
             ],
             [
              0.8888888888888888,
              "#fdca26"
             ],
             [
              1,
              "#f0f921"
             ]
            ],
            "type": "histogram2d"
           }
          ],
          "histogram2dcontour": [
           {
            "colorbar": {
             "outlinewidth": 0,
             "ticks": ""
            },
            "colorscale": [
             [
              0,
              "#0d0887"
             ],
             [
              0.1111111111111111,
              "#46039f"
             ],
             [
              0.2222222222222222,
              "#7201a8"
             ],
             [
              0.3333333333333333,
              "#9c179e"
             ],
             [
              0.4444444444444444,
              "#bd3786"
             ],
             [
              0.5555555555555556,
              "#d8576b"
             ],
             [
              0.6666666666666666,
              "#ed7953"
             ],
             [
              0.7777777777777778,
              "#fb9f3a"
             ],
             [
              0.8888888888888888,
              "#fdca26"
             ],
             [
              1,
              "#f0f921"
             ]
            ],
            "type": "histogram2dcontour"
           }
          ],
          "mesh3d": [
           {
            "colorbar": {
             "outlinewidth": 0,
             "ticks": ""
            },
            "type": "mesh3d"
           }
          ],
          "parcoords": [
           {
            "line": {
             "colorbar": {
              "outlinewidth": 0,
              "ticks": ""
             }
            },
            "type": "parcoords"
           }
          ],
          "pie": [
           {
            "automargin": true,
            "type": "pie"
           }
          ],
          "scatter": [
           {
            "marker": {
             "colorbar": {
              "outlinewidth": 0,
              "ticks": ""
             }
            },
            "type": "scatter"
           }
          ],
          "scatter3d": [
           {
            "line": {
             "colorbar": {
              "outlinewidth": 0,
              "ticks": ""
             }
            },
            "marker": {
             "colorbar": {
              "outlinewidth": 0,
              "ticks": ""
             }
            },
            "type": "scatter3d"
           }
          ],
          "scattercarpet": [
           {
            "marker": {
             "colorbar": {
              "outlinewidth": 0,
              "ticks": ""
             }
            },
            "type": "scattercarpet"
           }
          ],
          "scattergeo": [
           {
            "marker": {
             "colorbar": {
              "outlinewidth": 0,
              "ticks": ""
             }
            },
            "type": "scattergeo"
           }
          ],
          "scattergl": [
           {
            "marker": {
             "colorbar": {
              "outlinewidth": 0,
              "ticks": ""
             }
            },
            "type": "scattergl"
           }
          ],
          "scattermapbox": [
           {
            "marker": {
             "colorbar": {
              "outlinewidth": 0,
              "ticks": ""
             }
            },
            "type": "scattermapbox"
           }
          ],
          "scatterpolar": [
           {
            "marker": {
             "colorbar": {
              "outlinewidth": 0,
              "ticks": ""
             }
            },
            "type": "scatterpolar"
           }
          ],
          "scatterpolargl": [
           {
            "marker": {
             "colorbar": {
              "outlinewidth": 0,
              "ticks": ""
             }
            },
            "type": "scatterpolargl"
           }
          ],
          "scatterternary": [
           {
            "marker": {
             "colorbar": {
              "outlinewidth": 0,
              "ticks": ""
             }
            },
            "type": "scatterternary"
           }
          ],
          "surface": [
           {
            "colorbar": {
             "outlinewidth": 0,
             "ticks": ""
            },
            "colorscale": [
             [
              0,
              "#0d0887"
             ],
             [
              0.1111111111111111,
              "#46039f"
             ],
             [
              0.2222222222222222,
              "#7201a8"
             ],
             [
              0.3333333333333333,
              "#9c179e"
             ],
             [
              0.4444444444444444,
              "#bd3786"
             ],
             [
              0.5555555555555556,
              "#d8576b"
             ],
             [
              0.6666666666666666,
              "#ed7953"
             ],
             [
              0.7777777777777778,
              "#fb9f3a"
             ],
             [
              0.8888888888888888,
              "#fdca26"
             ],
             [
              1,
              "#f0f921"
             ]
            ],
            "type": "surface"
           }
          ],
          "table": [
           {
            "cells": {
             "fill": {
              "color": "#EBF0F8"
             },
             "line": {
              "color": "white"
             }
            },
            "header": {
             "fill": {
              "color": "#C8D4E3"
             },
             "line": {
              "color": "white"
             }
            },
            "type": "table"
           }
          ]
         },
         "layout": {
          "annotationdefaults": {
           "arrowcolor": "#2a3f5f",
           "arrowhead": 0,
           "arrowwidth": 1
          },
          "autotypenumbers": "strict",
          "coloraxis": {
           "colorbar": {
            "outlinewidth": 0,
            "ticks": ""
           }
          },
          "colorscale": {
           "diverging": [
            [
             0,
             "#8e0152"
            ],
            [
             0.1,
             "#c51b7d"
            ],
            [
             0.2,
             "#de77ae"
            ],
            [
             0.3,
             "#f1b6da"
            ],
            [
             0.4,
             "#fde0ef"
            ],
            [
             0.5,
             "#f7f7f7"
            ],
            [
             0.6,
             "#e6f5d0"
            ],
            [
             0.7,
             "#b8e186"
            ],
            [
             0.8,
             "#7fbc41"
            ],
            [
             0.9,
             "#4d9221"
            ],
            [
             1,
             "#276419"
            ]
           ],
           "sequential": [
            [
             0,
             "#0d0887"
            ],
            [
             0.1111111111111111,
             "#46039f"
            ],
            [
             0.2222222222222222,
             "#7201a8"
            ],
            [
             0.3333333333333333,
             "#9c179e"
            ],
            [
             0.4444444444444444,
             "#bd3786"
            ],
            [
             0.5555555555555556,
             "#d8576b"
            ],
            [
             0.6666666666666666,
             "#ed7953"
            ],
            [
             0.7777777777777778,
             "#fb9f3a"
            ],
            [
             0.8888888888888888,
             "#fdca26"
            ],
            [
             1,
             "#f0f921"
            ]
           ],
           "sequentialminus": [
            [
             0,
             "#0d0887"
            ],
            [
             0.1111111111111111,
             "#46039f"
            ],
            [
             0.2222222222222222,
             "#7201a8"
            ],
            [
             0.3333333333333333,
             "#9c179e"
            ],
            [
             0.4444444444444444,
             "#bd3786"
            ],
            [
             0.5555555555555556,
             "#d8576b"
            ],
            [
             0.6666666666666666,
             "#ed7953"
            ],
            [
             0.7777777777777778,
             "#fb9f3a"
            ],
            [
             0.8888888888888888,
             "#fdca26"
            ],
            [
             1,
             "#f0f921"
            ]
           ]
          },
          "colorway": [
           "#636efa",
           "#EF553B",
           "#00cc96",
           "#ab63fa",
           "#FFA15A",
           "#19d3f3",
           "#FF6692",
           "#B6E880",
           "#FF97FF",
           "#FECB52"
          ],
          "font": {
           "color": "#2a3f5f"
          },
          "geo": {
           "bgcolor": "white",
           "lakecolor": "white",
           "landcolor": "#E5ECF6",
           "showlakes": true,
           "showland": true,
           "subunitcolor": "white"
          },
          "hoverlabel": {
           "align": "left"
          },
          "hovermode": "closest",
          "mapbox": {
           "style": "light"
          },
          "paper_bgcolor": "white",
          "plot_bgcolor": "#E5ECF6",
          "polar": {
           "angularaxis": {
            "gridcolor": "white",
            "linecolor": "white",
            "ticks": ""
           },
           "bgcolor": "#E5ECF6",
           "radialaxis": {
            "gridcolor": "white",
            "linecolor": "white",
            "ticks": ""
           }
          },
          "scene": {
           "xaxis": {
            "backgroundcolor": "#E5ECF6",
            "gridcolor": "white",
            "gridwidth": 2,
            "linecolor": "white",
            "showbackground": true,
            "ticks": "",
            "zerolinecolor": "white"
           },
           "yaxis": {
            "backgroundcolor": "#E5ECF6",
            "gridcolor": "white",
            "gridwidth": 2,
            "linecolor": "white",
            "showbackground": true,
            "ticks": "",
            "zerolinecolor": "white"
           },
           "zaxis": {
            "backgroundcolor": "#E5ECF6",
            "gridcolor": "white",
            "gridwidth": 2,
            "linecolor": "white",
            "showbackground": true,
            "ticks": "",
            "zerolinecolor": "white"
           }
          },
          "shapedefaults": {
           "line": {
            "color": "#2a3f5f"
           }
          },
          "ternary": {
           "aaxis": {
            "gridcolor": "white",
            "linecolor": "white",
            "ticks": ""
           },
           "baxis": {
            "gridcolor": "white",
            "linecolor": "white",
            "ticks": ""
           },
           "bgcolor": "#E5ECF6",
           "caxis": {
            "gridcolor": "white",
            "linecolor": "white",
            "ticks": ""
           }
          },
          "title": {
           "x": 0.05
          },
          "xaxis": {
           "automargin": true,
           "gridcolor": "white",
           "linecolor": "white",
           "ticks": "",
           "title": {
            "standoff": 15
           },
           "zerolinecolor": "white",
           "zerolinewidth": 2
          },
          "yaxis": {
           "automargin": true,
           "gridcolor": "white",
           "linecolor": "white",
           "ticks": "",
           "title": {
            "standoff": 15
           },
           "zerolinecolor": "white",
           "zerolinewidth": 2
          }
         }
        },
        "title": {
         "text": "Move_speed histogram"
        },
        "xaxis": {
         "anchor": "y",
         "domain": [
          0,
          1
         ],
         "title": {
          "text": "Move_speed"
         }
        },
        "xaxis2": {
         "anchor": "y2",
         "domain": [
          0,
          1
         ],
         "matches": "x",
         "showgrid": true,
         "showticklabels": false
        },
        "yaxis": {
         "anchor": "x",
         "domain": [
          0,
          0.8316
         ],
         "title": {
          "text": "count"
         }
        },
        "yaxis2": {
         "anchor": "x2",
         "domain": [
          0.8416,
          1
         ],
         "matches": "y2",
         "showgrid": false,
         "showline": false,
         "showticklabels": false,
         "ticks": ""
        }
       }
      }
     },
     "metadata": {}
    },
    {
     "output_type": "display_data",
     "data": {
      "application/vnd.plotly.v1+json": {
       "config": {
        "plotlyServerURL": "https://plot.ly"
       },
       "data": [
        {
         "alignmentgroup": "True",
         "bingroup": "x",
         "hovertemplate": "Attack_range=%{x}<br>count=%{y}<extra></extra>",
         "legendgroup": "",
         "marker": {
          "color": "#636efa"
         },
         "name": "",
         "offsetgroup": "",
         "orientation": "v",
         "showlegend": false,
         "type": "histogram",
         "x": [
          550,
          450,
          175,
          175,
          175,
          125,
          525,
          125,
          175,
          125,
          525,
          125,
          175,
          175,
          125,
          150,
          175,
          125,
          525,
          125,
          500,
          125,
          150,
          500,
          525,
          125,
          125,
          125,
          125,
          550,
          500,
          175,
          500,
          150,
          125,
          350,
          550,
          175,
          150,
          425,
          125,
          125,
          125,
          625,
          550,
          125,
          450,
          125,
          550,
          125,
          500,
          175,
          550,
          125,
          125,
          525,
          550,
          125,
          150,
          125,
          125,
          500,
          125,
          550,
          600,
          125,
          550,
          125,
          175,
          175,
          650,
          125,
          525,
          525,
          125,
          125,
          480,
          525,
          550,
          125,
          150,
          125,
          150,
          175,
          125,
          550,
          175,
          400,
          125,
          550,
          600,
          600,
          125,
          125,
          125,
          175,
          500,
          325,
          525,
          125,
          125,
          600,
          500,
          175,
          175,
          550,
          125,
          175,
          175,
          175,
          150,
          550,
          125,
          500,
          150,
          525,
          525,
          125,
          125,
          175,
          550,
          125,
          175,
          550,
          525,
          550,
          525,
          550,
          550,
          450,
          125,
          525,
          475,
          175,
          500,
          200,
          125,
          175,
          550,
          575,
          175,
          550,
          125,
          450,
          125,
          125,
          550,
          525,
          550,
          525,
          525,
          150,
          525,
          125,
          125,
          125,
          125,
          525,
          550,
          300,
          550,
          450,
          575,
          550,
          550,
          125,
          125,
          525,
          175,
          125,
          125,
          550,
          200,
          525,
          225,
          225,
          225,
          175,
          125,
          175,
          125,
          125,
          125,
          550,
          125,
          175,
          550,
          550,
          550,
          125,
          550,
          550,
          150,
          525,
          525,
          550,
          125,
          550,
          600,
          175,
          175,
          175
         ],
         "xaxis": "x",
         "yaxis": "y"
        },
        {
         "alignmentgroup": "True",
         "hovertemplate": "Attack_range=%{x}<extra></extra>",
         "legendgroup": "",
         "marker": {
          "color": "#636efa"
         },
         "name": "",
         "offsetgroup": "",
         "scalegroup": "x",
         "showlegend": false,
         "type": "violin",
         "x": [
          550,
          450,
          175,
          175,
          175,
          125,
          525,
          125,
          175,
          125,
          525,
          125,
          175,
          175,
          125,
          150,
          175,
          125,
          525,
          125,
          500,
          125,
          150,
          500,
          525,
          125,
          125,
          125,
          125,
          550,
          500,
          175,
          500,
          150,
          125,
          350,
          550,
          175,
          150,
          425,
          125,
          125,
          125,
          625,
          550,
          125,
          450,
          125,
          550,
          125,
          500,
          175,
          550,
          125,
          125,
          525,
          550,
          125,
          150,
          125,
          125,
          500,
          125,
          550,
          600,
          125,
          550,
          125,
          175,
          175,
          650,
          125,
          525,
          525,
          125,
          125,
          480,
          525,
          550,
          125,
          150,
          125,
          150,
          175,
          125,
          550,
          175,
          400,
          125,
          550,
          600,
          600,
          125,
          125,
          125,
          175,
          500,
          325,
          525,
          125,
          125,
          600,
          500,
          175,
          175,
          550,
          125,
          175,
          175,
          175,
          150,
          550,
          125,
          500,
          150,
          525,
          525,
          125,
          125,
          175,
          550,
          125,
          175,
          550,
          525,
          550,
          525,
          550,
          550,
          450,
          125,
          525,
          475,
          175,
          500,
          200,
          125,
          175,
          550,
          575,
          175,
          550,
          125,
          450,
          125,
          125,
          550,
          525,
          550,
          525,
          525,
          150,
          525,
          125,
          125,
          125,
          125,
          525,
          550,
          300,
          550,
          450,
          575,
          550,
          550,
          125,
          125,
          525,
          175,
          125,
          125,
          550,
          200,
          525,
          225,
          225,
          225,
          175,
          125,
          175,
          125,
          125,
          125,
          550,
          125,
          175,
          550,
          550,
          550,
          125,
          550,
          550,
          150,
          525,
          525,
          550,
          125,
          550,
          600,
          175,
          175,
          175
         ],
         "xaxis": "x2",
         "yaxis": "y2"
        }
       ],
       "layout": {
        "barmode": "relative",
        "legend": {
         "tracegroupgap": 0
        },
        "template": {
         "data": {
          "bar": [
           {
            "error_x": {
             "color": "#2a3f5f"
            },
            "error_y": {
             "color": "#2a3f5f"
            },
            "marker": {
             "line": {
              "color": "#E5ECF6",
              "width": 0.5
             }
            },
            "type": "bar"
           }
          ],
          "barpolar": [
           {
            "marker": {
             "line": {
              "color": "#E5ECF6",
              "width": 0.5
             }
            },
            "type": "barpolar"
           }
          ],
          "carpet": [
           {
            "aaxis": {
             "endlinecolor": "#2a3f5f",
             "gridcolor": "white",
             "linecolor": "white",
             "minorgridcolor": "white",
             "startlinecolor": "#2a3f5f"
            },
            "baxis": {
             "endlinecolor": "#2a3f5f",
             "gridcolor": "white",
             "linecolor": "white",
             "minorgridcolor": "white",
             "startlinecolor": "#2a3f5f"
            },
            "type": "carpet"
           }
          ],
          "choropleth": [
           {
            "colorbar": {
             "outlinewidth": 0,
             "ticks": ""
            },
            "type": "choropleth"
           }
          ],
          "contour": [
           {
            "colorbar": {
             "outlinewidth": 0,
             "ticks": ""
            },
            "colorscale": [
             [
              0,
              "#0d0887"
             ],
             [
              0.1111111111111111,
              "#46039f"
             ],
             [
              0.2222222222222222,
              "#7201a8"
             ],
             [
              0.3333333333333333,
              "#9c179e"
             ],
             [
              0.4444444444444444,
              "#bd3786"
             ],
             [
              0.5555555555555556,
              "#d8576b"
             ],
             [
              0.6666666666666666,
              "#ed7953"
             ],
             [
              0.7777777777777778,
              "#fb9f3a"
             ],
             [
              0.8888888888888888,
              "#fdca26"
             ],
             [
              1,
              "#f0f921"
             ]
            ],
            "type": "contour"
           }
          ],
          "contourcarpet": [
           {
            "colorbar": {
             "outlinewidth": 0,
             "ticks": ""
            },
            "type": "contourcarpet"
           }
          ],
          "heatmap": [
           {
            "colorbar": {
             "outlinewidth": 0,
             "ticks": ""
            },
            "colorscale": [
             [
              0,
              "#0d0887"
             ],
             [
              0.1111111111111111,
              "#46039f"
             ],
             [
              0.2222222222222222,
              "#7201a8"
             ],
             [
              0.3333333333333333,
              "#9c179e"
             ],
             [
              0.4444444444444444,
              "#bd3786"
             ],
             [
              0.5555555555555556,
              "#d8576b"
             ],
             [
              0.6666666666666666,
              "#ed7953"
             ],
             [
              0.7777777777777778,
              "#fb9f3a"
             ],
             [
              0.8888888888888888,
              "#fdca26"
             ],
             [
              1,
              "#f0f921"
             ]
            ],
            "type": "heatmap"
           }
          ],
          "heatmapgl": [
           {
            "colorbar": {
             "outlinewidth": 0,
             "ticks": ""
            },
            "colorscale": [
             [
              0,
              "#0d0887"
             ],
             [
              0.1111111111111111,
              "#46039f"
             ],
             [
              0.2222222222222222,
              "#7201a8"
             ],
             [
              0.3333333333333333,
              "#9c179e"
             ],
             [
              0.4444444444444444,
              "#bd3786"
             ],
             [
              0.5555555555555556,
              "#d8576b"
             ],
             [
              0.6666666666666666,
              "#ed7953"
             ],
             [
              0.7777777777777778,
              "#fb9f3a"
             ],
             [
              0.8888888888888888,
              "#fdca26"
             ],
             [
              1,
              "#f0f921"
             ]
            ],
            "type": "heatmapgl"
           }
          ],
          "histogram": [
           {
            "marker": {
             "colorbar": {
              "outlinewidth": 0,
              "ticks": ""
             }
            },
            "type": "histogram"
           }
          ],
          "histogram2d": [
           {
            "colorbar": {
             "outlinewidth": 0,
             "ticks": ""
            },
            "colorscale": [
             [
              0,
              "#0d0887"
             ],
             [
              0.1111111111111111,
              "#46039f"
             ],
             [
              0.2222222222222222,
              "#7201a8"
             ],
             [
              0.3333333333333333,
              "#9c179e"
             ],
             [
              0.4444444444444444,
              "#bd3786"
             ],
             [
              0.5555555555555556,
              "#d8576b"
             ],
             [
              0.6666666666666666,
              "#ed7953"
             ],
             [
              0.7777777777777778,
              "#fb9f3a"
             ],
             [
              0.8888888888888888,
              "#fdca26"
             ],
             [
              1,
              "#f0f921"
             ]
            ],
            "type": "histogram2d"
           }
          ],
          "histogram2dcontour": [
           {
            "colorbar": {
             "outlinewidth": 0,
             "ticks": ""
            },
            "colorscale": [
             [
              0,
              "#0d0887"
             ],
             [
              0.1111111111111111,
              "#46039f"
             ],
             [
              0.2222222222222222,
              "#7201a8"
             ],
             [
              0.3333333333333333,
              "#9c179e"
             ],
             [
              0.4444444444444444,
              "#bd3786"
             ],
             [
              0.5555555555555556,
              "#d8576b"
             ],
             [
              0.6666666666666666,
              "#ed7953"
             ],
             [
              0.7777777777777778,
              "#fb9f3a"
             ],
             [
              0.8888888888888888,
              "#fdca26"
             ],
             [
              1,
              "#f0f921"
             ]
            ],
            "type": "histogram2dcontour"
           }
          ],
          "mesh3d": [
           {
            "colorbar": {
             "outlinewidth": 0,
             "ticks": ""
            },
            "type": "mesh3d"
           }
          ],
          "parcoords": [
           {
            "line": {
             "colorbar": {
              "outlinewidth": 0,
              "ticks": ""
             }
            },
            "type": "parcoords"
           }
          ],
          "pie": [
           {
            "automargin": true,
            "type": "pie"
           }
          ],
          "scatter": [
           {
            "marker": {
             "colorbar": {
              "outlinewidth": 0,
              "ticks": ""
             }
            },
            "type": "scatter"
           }
          ],
          "scatter3d": [
           {
            "line": {
             "colorbar": {
              "outlinewidth": 0,
              "ticks": ""
             }
            },
            "marker": {
             "colorbar": {
              "outlinewidth": 0,
              "ticks": ""
             }
            },
            "type": "scatter3d"
           }
          ],
          "scattercarpet": [
           {
            "marker": {
             "colorbar": {
              "outlinewidth": 0,
              "ticks": ""
             }
            },
            "type": "scattercarpet"
           }
          ],
          "scattergeo": [
           {
            "marker": {
             "colorbar": {
              "outlinewidth": 0,
              "ticks": ""
             }
            },
            "type": "scattergeo"
           }
          ],
          "scattergl": [
           {
            "marker": {
             "colorbar": {
              "outlinewidth": 0,
              "ticks": ""
             }
            },
            "type": "scattergl"
           }
          ],
          "scattermapbox": [
           {
            "marker": {
             "colorbar": {
              "outlinewidth": 0,
              "ticks": ""
             }
            },
            "type": "scattermapbox"
           }
          ],
          "scatterpolar": [
           {
            "marker": {
             "colorbar": {
              "outlinewidth": 0,
              "ticks": ""
             }
            },
            "type": "scatterpolar"
           }
          ],
          "scatterpolargl": [
           {
            "marker": {
             "colorbar": {
              "outlinewidth": 0,
              "ticks": ""
             }
            },
            "type": "scatterpolargl"
           }
          ],
          "scatterternary": [
           {
            "marker": {
             "colorbar": {
              "outlinewidth": 0,
              "ticks": ""
             }
            },
            "type": "scatterternary"
           }
          ],
          "surface": [
           {
            "colorbar": {
             "outlinewidth": 0,
             "ticks": ""
            },
            "colorscale": [
             [
              0,
              "#0d0887"
             ],
             [
              0.1111111111111111,
              "#46039f"
             ],
             [
              0.2222222222222222,
              "#7201a8"
             ],
             [
              0.3333333333333333,
              "#9c179e"
             ],
             [
              0.4444444444444444,
              "#bd3786"
             ],
             [
              0.5555555555555556,
              "#d8576b"
             ],
             [
              0.6666666666666666,
              "#ed7953"
             ],
             [
              0.7777777777777778,
              "#fb9f3a"
             ],
             [
              0.8888888888888888,
              "#fdca26"
             ],
             [
              1,
              "#f0f921"
             ]
            ],
            "type": "surface"
           }
          ],
          "table": [
           {
            "cells": {
             "fill": {
              "color": "#EBF0F8"
             },
             "line": {
              "color": "white"
             }
            },
            "header": {
             "fill": {
              "color": "#C8D4E3"
             },
             "line": {
              "color": "white"
             }
            },
            "type": "table"
           }
          ]
         },
         "layout": {
          "annotationdefaults": {
           "arrowcolor": "#2a3f5f",
           "arrowhead": 0,
           "arrowwidth": 1
          },
          "autotypenumbers": "strict",
          "coloraxis": {
           "colorbar": {
            "outlinewidth": 0,
            "ticks": ""
           }
          },
          "colorscale": {
           "diverging": [
            [
             0,
             "#8e0152"
            ],
            [
             0.1,
             "#c51b7d"
            ],
            [
             0.2,
             "#de77ae"
            ],
            [
             0.3,
             "#f1b6da"
            ],
            [
             0.4,
             "#fde0ef"
            ],
            [
             0.5,
             "#f7f7f7"
            ],
            [
             0.6,
             "#e6f5d0"
            ],
            [
             0.7,
             "#b8e186"
            ],
            [
             0.8,
             "#7fbc41"
            ],
            [
             0.9,
             "#4d9221"
            ],
            [
             1,
             "#276419"
            ]
           ],
           "sequential": [
            [
             0,
             "#0d0887"
            ],
            [
             0.1111111111111111,
             "#46039f"
            ],
            [
             0.2222222222222222,
             "#7201a8"
            ],
            [
             0.3333333333333333,
             "#9c179e"
            ],
            [
             0.4444444444444444,
             "#bd3786"
            ],
            [
             0.5555555555555556,
             "#d8576b"
            ],
            [
             0.6666666666666666,
             "#ed7953"
            ],
            [
             0.7777777777777778,
             "#fb9f3a"
            ],
            [
             0.8888888888888888,
             "#fdca26"
            ],
            [
             1,
             "#f0f921"
            ]
           ],
           "sequentialminus": [
            [
             0,
             "#0d0887"
            ],
            [
             0.1111111111111111,
             "#46039f"
            ],
            [
             0.2222222222222222,
             "#7201a8"
            ],
            [
             0.3333333333333333,
             "#9c179e"
            ],
            [
             0.4444444444444444,
             "#bd3786"
            ],
            [
             0.5555555555555556,
             "#d8576b"
            ],
            [
             0.6666666666666666,
             "#ed7953"
            ],
            [
             0.7777777777777778,
             "#fb9f3a"
            ],
            [
             0.8888888888888888,
             "#fdca26"
            ],
            [
             1,
             "#f0f921"
            ]
           ]
          },
          "colorway": [
           "#636efa",
           "#EF553B",
           "#00cc96",
           "#ab63fa",
           "#FFA15A",
           "#19d3f3",
           "#FF6692",
           "#B6E880",
           "#FF97FF",
           "#FECB52"
          ],
          "font": {
           "color": "#2a3f5f"
          },
          "geo": {
           "bgcolor": "white",
           "lakecolor": "white",
           "landcolor": "#E5ECF6",
           "showlakes": true,
           "showland": true,
           "subunitcolor": "white"
          },
          "hoverlabel": {
           "align": "left"
          },
          "hovermode": "closest",
          "mapbox": {
           "style": "light"
          },
          "paper_bgcolor": "white",
          "plot_bgcolor": "#E5ECF6",
          "polar": {
           "angularaxis": {
            "gridcolor": "white",
            "linecolor": "white",
            "ticks": ""
           },
           "bgcolor": "#E5ECF6",
           "radialaxis": {
            "gridcolor": "white",
            "linecolor": "white",
            "ticks": ""
           }
          },
          "scene": {
           "xaxis": {
            "backgroundcolor": "#E5ECF6",
            "gridcolor": "white",
            "gridwidth": 2,
            "linecolor": "white",
            "showbackground": true,
            "ticks": "",
            "zerolinecolor": "white"
           },
           "yaxis": {
            "backgroundcolor": "#E5ECF6",
            "gridcolor": "white",
            "gridwidth": 2,
            "linecolor": "white",
            "showbackground": true,
            "ticks": "",
            "zerolinecolor": "white"
           },
           "zaxis": {
            "backgroundcolor": "#E5ECF6",
            "gridcolor": "white",
            "gridwidth": 2,
            "linecolor": "white",
            "showbackground": true,
            "ticks": "",
            "zerolinecolor": "white"
           }
          },
          "shapedefaults": {
           "line": {
            "color": "#2a3f5f"
           }
          },
          "ternary": {
           "aaxis": {
            "gridcolor": "white",
            "linecolor": "white",
            "ticks": ""
           },
           "baxis": {
            "gridcolor": "white",
            "linecolor": "white",
            "ticks": ""
           },
           "bgcolor": "#E5ECF6",
           "caxis": {
            "gridcolor": "white",
            "linecolor": "white",
            "ticks": ""
           }
          },
          "title": {
           "x": 0.05
          },
          "xaxis": {
           "automargin": true,
           "gridcolor": "white",
           "linecolor": "white",
           "ticks": "",
           "title": {
            "standoff": 15
           },
           "zerolinecolor": "white",
           "zerolinewidth": 2
          },
          "yaxis": {
           "automargin": true,
           "gridcolor": "white",
           "linecolor": "white",
           "ticks": "",
           "title": {
            "standoff": 15
           },
           "zerolinecolor": "white",
           "zerolinewidth": 2
          }
         }
        },
        "title": {
         "text": "Attack_range histogram"
        },
        "xaxis": {
         "anchor": "y",
         "domain": [
          0,
          1
         ],
         "title": {
          "text": "Attack_range"
         }
        },
        "xaxis2": {
         "anchor": "y2",
         "domain": [
          0,
          1
         ],
         "matches": "x",
         "showgrid": true,
         "showticklabels": false
        },
        "yaxis": {
         "anchor": "x",
         "domain": [
          0,
          0.8316
         ],
         "title": {
          "text": "count"
         }
        },
        "yaxis2": {
         "anchor": "x2",
         "domain": [
          0.8416,
          1
         ],
         "matches": "y2",
         "showgrid": false,
         "showline": false,
         "showticklabels": false,
         "ticks": ""
        }
       }
      }
     },
     "metadata": {}
    },
    {
     "output_type": "display_data",
     "data": {
      "application/vnd.plotly.v1+json": {
       "config": {
        "plotlyServerURL": "https://plot.ly"
       },
       "data": [
        {
         "alignmentgroup": "True",
         "bingroup": "x",
         "hovertemplate": "Base_AS=%{x}<br>count=%{y}<extra></extra>",
         "legendgroup": "",
         "marker": {
          "color": "#636efa"
         },
         "name": "",
         "offsetgroup": "",
         "orientation": "v",
         "showlegend": false,
         "type": "histogram",
         "x": [
          0.625,
          0.625,
          0.625,
          0.67,
          0.625,
          0.658,
          0.625,
          0.694,
          0.625,
          0.651,
          0.644,
          0.651,
          0.645,
          0.625,
          0.644,
          0.64,
          0.697,
          0.625,
          0.658,
          0.658,
          0.625,
          0.625,
          0.69,
          0.658,
          0.656,
          0.736,
          0.736,
          0.8,
          0.668,
          0.625,
          0.625,
          0.625,
          0.625,
          0.625,
          0.644,
          0.625,
          0.625,
          0.625,
          0.625,
          0.475,
          0.625,
          0.694,
          0.736,
          0.579,
          0.658,
          0.751,
          0.625,
          0.625,
          0.625,
          0.638,
          0.625,
          0.669,
          0.625,
          0.644,
          0.625,
          0.651,
          0.656,
          0.625,
          0.625,
          0.667,
          0.665,
          0.665,
          0.638,
          0.679,
          0.658,
          0.625,
          0.668,
          0.625,
          0.645,
          0.679,
          0.681,
          0.8,
          0.669,
          0.669,
          0.638,
          0.625,
          0.625,
          0.625,
          0.638,
          0.625,
          0.625,
          0.688,
          0.625,
          0.651,
          0.625,
          0.644,
          0.55,
          0.625,
          0.721,
          0.669,
          0.625,
          0.625,
          0.675,
          0.625,
          0.571,
          0.706,
          0.69,
          0.625,
          0.625,
          0.625,
          0.625,
          0.625,
          0.638,
          0.658,
          0.625,
          0.625,
          0.658,
          0.658,
          0.644,
          0.644,
          0.625,
          0.625,
          0.667,
          0.625,
          0.667,
          0.625,
          0.625,
          0.721,
          0.638,
          0.625,
          0.679,
          0.658,
          0.667,
          0.647,
          0.638,
          0.625,
          0.625,
          0.658,
          0.669,
          0.658,
          0.675,
          0.625,
          0.644,
          0.645,
          0.638,
          0.656,
          0.679,
          0.711,
          0.625,
          0.658,
          0.697,
          0.625,
          0.67,
          0.625,
          0.667,
          0.613,
          0.656,
          0.658,
          0.64,
          0.625,
          0.625,
          0.688,
          0.668,
          0.656,
          0.658,
          0.688,
          0.694,
          0.625,
          0.644,
          0.635,
          0.625,
          0.658,
          0.625,
          0.625,
          0.625,
          0.675,
          0.625,
          0.625,
          0.736,
          0.644,
          0.644,
          0.625,
          0.656,
          0.694,
          0.658,
          0.658,
          0.658,
          0.658,
          0.625,
          0.644,
          0.665,
          0.638,
          0.625,
          0.656,
          0.721,
          0.625,
          0.625,
          0.625,
          0.625,
          0.658,
          0.647,
          0.625,
          0.625,
          0.625,
          0.625,
          0.625,
          0.625,
          0.625,
          0.625,
          0.711,
          0.67,
          0.67
         ],
         "xaxis": "x",
         "yaxis": "y"
        },
        {
         "alignmentgroup": "True",
         "hovertemplate": "Base_AS=%{x}<extra></extra>",
         "legendgroup": "",
         "marker": {
          "color": "#636efa"
         },
         "name": "",
         "offsetgroup": "",
         "scalegroup": "x",
         "showlegend": false,
         "type": "violin",
         "x": [
          0.625,
          0.625,
          0.625,
          0.67,
          0.625,
          0.658,
          0.625,
          0.694,
          0.625,
          0.651,
          0.644,
          0.651,
          0.645,
          0.625,
          0.644,
          0.64,
          0.697,
          0.625,
          0.658,
          0.658,
          0.625,
          0.625,
          0.69,
          0.658,
          0.656,
          0.736,
          0.736,
          0.8,
          0.668,
          0.625,
          0.625,
          0.625,
          0.625,
          0.625,
          0.644,
          0.625,
          0.625,
          0.625,
          0.625,
          0.475,
          0.625,
          0.694,
          0.736,
          0.579,
          0.658,
          0.751,
          0.625,
          0.625,
          0.625,
          0.638,
          0.625,
          0.669,
          0.625,
          0.644,
          0.625,
          0.651,
          0.656,
          0.625,
          0.625,
          0.667,
          0.665,
          0.665,
          0.638,
          0.679,
          0.658,
          0.625,
          0.668,
          0.625,
          0.645,
          0.679,
          0.681,
          0.8,
          0.669,
          0.669,
          0.638,
          0.625,
          0.625,
          0.625,
          0.638,
          0.625,
          0.625,
          0.688,
          0.625,
          0.651,
          0.625,
          0.644,
          0.55,
          0.625,
          0.721,
          0.669,
          0.625,
          0.625,
          0.675,
          0.625,
          0.571,
          0.706,
          0.69,
          0.625,
          0.625,
          0.625,
          0.625,
          0.625,
          0.638,
          0.658,
          0.625,
          0.625,
          0.658,
          0.658,
          0.644,
          0.644,
          0.625,
          0.625,
          0.667,
          0.625,
          0.667,
          0.625,
          0.625,
          0.721,
          0.638,
          0.625,
          0.679,
          0.658,
          0.667,
          0.647,
          0.638,
          0.625,
          0.625,
          0.658,
          0.669,
          0.658,
          0.675,
          0.625,
          0.644,
          0.645,
          0.638,
          0.656,
          0.679,
          0.711,
          0.625,
          0.658,
          0.697,
          0.625,
          0.67,
          0.625,
          0.667,
          0.613,
          0.656,
          0.658,
          0.64,
          0.625,
          0.625,
          0.688,
          0.668,
          0.656,
          0.658,
          0.688,
          0.694,
          0.625,
          0.644,
          0.635,
          0.625,
          0.658,
          0.625,
          0.625,
          0.625,
          0.675,
          0.625,
          0.625,
          0.736,
          0.644,
          0.644,
          0.625,
          0.656,
          0.694,
          0.658,
          0.658,
          0.658,
          0.658,
          0.625,
          0.644,
          0.665,
          0.638,
          0.625,
          0.656,
          0.721,
          0.625,
          0.625,
          0.625,
          0.625,
          0.658,
          0.647,
          0.625,
          0.625,
          0.625,
          0.625,
          0.625,
          0.625,
          0.625,
          0.625,
          0.711,
          0.67,
          0.67
         ],
         "xaxis": "x2",
         "yaxis": "y2"
        }
       ],
       "layout": {
        "barmode": "relative",
        "legend": {
         "tracegroupgap": 0
        },
        "template": {
         "data": {
          "bar": [
           {
            "error_x": {
             "color": "#2a3f5f"
            },
            "error_y": {
             "color": "#2a3f5f"
            },
            "marker": {
             "line": {
              "color": "#E5ECF6",
              "width": 0.5
             }
            },
            "type": "bar"
           }
          ],
          "barpolar": [
           {
            "marker": {
             "line": {
              "color": "#E5ECF6",
              "width": 0.5
             }
            },
            "type": "barpolar"
           }
          ],
          "carpet": [
           {
            "aaxis": {
             "endlinecolor": "#2a3f5f",
             "gridcolor": "white",
             "linecolor": "white",
             "minorgridcolor": "white",
             "startlinecolor": "#2a3f5f"
            },
            "baxis": {
             "endlinecolor": "#2a3f5f",
             "gridcolor": "white",
             "linecolor": "white",
             "minorgridcolor": "white",
             "startlinecolor": "#2a3f5f"
            },
            "type": "carpet"
           }
          ],
          "choropleth": [
           {
            "colorbar": {
             "outlinewidth": 0,
             "ticks": ""
            },
            "type": "choropleth"
           }
          ],
          "contour": [
           {
            "colorbar": {
             "outlinewidth": 0,
             "ticks": ""
            },
            "colorscale": [
             [
              0,
              "#0d0887"
             ],
             [
              0.1111111111111111,
              "#46039f"
             ],
             [
              0.2222222222222222,
              "#7201a8"
             ],
             [
              0.3333333333333333,
              "#9c179e"
             ],
             [
              0.4444444444444444,
              "#bd3786"
             ],
             [
              0.5555555555555556,
              "#d8576b"
             ],
             [
              0.6666666666666666,
              "#ed7953"
             ],
             [
              0.7777777777777778,
              "#fb9f3a"
             ],
             [
              0.8888888888888888,
              "#fdca26"
             ],
             [
              1,
              "#f0f921"
             ]
            ],
            "type": "contour"
           }
          ],
          "contourcarpet": [
           {
            "colorbar": {
             "outlinewidth": 0,
             "ticks": ""
            },
            "type": "contourcarpet"
           }
          ],
          "heatmap": [
           {
            "colorbar": {
             "outlinewidth": 0,
             "ticks": ""
            },
            "colorscale": [
             [
              0,
              "#0d0887"
             ],
             [
              0.1111111111111111,
              "#46039f"
             ],
             [
              0.2222222222222222,
              "#7201a8"
             ],
             [
              0.3333333333333333,
              "#9c179e"
             ],
             [
              0.4444444444444444,
              "#bd3786"
             ],
             [
              0.5555555555555556,
              "#d8576b"
             ],
             [
              0.6666666666666666,
              "#ed7953"
             ],
             [
              0.7777777777777778,
              "#fb9f3a"
             ],
             [
              0.8888888888888888,
              "#fdca26"
             ],
             [
              1,
              "#f0f921"
             ]
            ],
            "type": "heatmap"
           }
          ],
          "heatmapgl": [
           {
            "colorbar": {
             "outlinewidth": 0,
             "ticks": ""
            },
            "colorscale": [
             [
              0,
              "#0d0887"
             ],
             [
              0.1111111111111111,
              "#46039f"
             ],
             [
              0.2222222222222222,
              "#7201a8"
             ],
             [
              0.3333333333333333,
              "#9c179e"
             ],
             [
              0.4444444444444444,
              "#bd3786"
             ],
             [
              0.5555555555555556,
              "#d8576b"
             ],
             [
              0.6666666666666666,
              "#ed7953"
             ],
             [
              0.7777777777777778,
              "#fb9f3a"
             ],
             [
              0.8888888888888888,
              "#fdca26"
             ],
             [
              1,
              "#f0f921"
             ]
            ],
            "type": "heatmapgl"
           }
          ],
          "histogram": [
           {
            "marker": {
             "colorbar": {
              "outlinewidth": 0,
              "ticks": ""
             }
            },
            "type": "histogram"
           }
          ],
          "histogram2d": [
           {
            "colorbar": {
             "outlinewidth": 0,
             "ticks": ""
            },
            "colorscale": [
             [
              0,
              "#0d0887"
             ],
             [
              0.1111111111111111,
              "#46039f"
             ],
             [
              0.2222222222222222,
              "#7201a8"
             ],
             [
              0.3333333333333333,
              "#9c179e"
             ],
             [
              0.4444444444444444,
              "#bd3786"
             ],
             [
              0.5555555555555556,
              "#d8576b"
             ],
             [
              0.6666666666666666,
              "#ed7953"
             ],
             [
              0.7777777777777778,
              "#fb9f3a"
             ],
             [
              0.8888888888888888,
              "#fdca26"
             ],
             [
              1,
              "#f0f921"
             ]
            ],
            "type": "histogram2d"
           }
          ],
          "histogram2dcontour": [
           {
            "colorbar": {
             "outlinewidth": 0,
             "ticks": ""
            },
            "colorscale": [
             [
              0,
              "#0d0887"
             ],
             [
              0.1111111111111111,
              "#46039f"
             ],
             [
              0.2222222222222222,
              "#7201a8"
             ],
             [
              0.3333333333333333,
              "#9c179e"
             ],
             [
              0.4444444444444444,
              "#bd3786"
             ],
             [
              0.5555555555555556,
              "#d8576b"
             ],
             [
              0.6666666666666666,
              "#ed7953"
             ],
             [
              0.7777777777777778,
              "#fb9f3a"
             ],
             [
              0.8888888888888888,
              "#fdca26"
             ],
             [
              1,
              "#f0f921"
             ]
            ],
            "type": "histogram2dcontour"
           }
          ],
          "mesh3d": [
           {
            "colorbar": {
             "outlinewidth": 0,
             "ticks": ""
            },
            "type": "mesh3d"
           }
          ],
          "parcoords": [
           {
            "line": {
             "colorbar": {
              "outlinewidth": 0,
              "ticks": ""
             }
            },
            "type": "parcoords"
           }
          ],
          "pie": [
           {
            "automargin": true,
            "type": "pie"
           }
          ],
          "scatter": [
           {
            "marker": {
             "colorbar": {
              "outlinewidth": 0,
              "ticks": ""
             }
            },
            "type": "scatter"
           }
          ],
          "scatter3d": [
           {
            "line": {
             "colorbar": {
              "outlinewidth": 0,
              "ticks": ""
             }
            },
            "marker": {
             "colorbar": {
              "outlinewidth": 0,
              "ticks": ""
             }
            },
            "type": "scatter3d"
           }
          ],
          "scattercarpet": [
           {
            "marker": {
             "colorbar": {
              "outlinewidth": 0,
              "ticks": ""
             }
            },
            "type": "scattercarpet"
           }
          ],
          "scattergeo": [
           {
            "marker": {
             "colorbar": {
              "outlinewidth": 0,
              "ticks": ""
             }
            },
            "type": "scattergeo"
           }
          ],
          "scattergl": [
           {
            "marker": {
             "colorbar": {
              "outlinewidth": 0,
              "ticks": ""
             }
            },
            "type": "scattergl"
           }
          ],
          "scattermapbox": [
           {
            "marker": {
             "colorbar": {
              "outlinewidth": 0,
              "ticks": ""
             }
            },
            "type": "scattermapbox"
           }
          ],
          "scatterpolar": [
           {
            "marker": {
             "colorbar": {
              "outlinewidth": 0,
              "ticks": ""
             }
            },
            "type": "scatterpolar"
           }
          ],
          "scatterpolargl": [
           {
            "marker": {
             "colorbar": {
              "outlinewidth": 0,
              "ticks": ""
             }
            },
            "type": "scatterpolargl"
           }
          ],
          "scatterternary": [
           {
            "marker": {
             "colorbar": {
              "outlinewidth": 0,
              "ticks": ""
             }
            },
            "type": "scatterternary"
           }
          ],
          "surface": [
           {
            "colorbar": {
             "outlinewidth": 0,
             "ticks": ""
            },
            "colorscale": [
             [
              0,
              "#0d0887"
             ],
             [
              0.1111111111111111,
              "#46039f"
             ],
             [
              0.2222222222222222,
              "#7201a8"
             ],
             [
              0.3333333333333333,
              "#9c179e"
             ],
             [
              0.4444444444444444,
              "#bd3786"
             ],
             [
              0.5555555555555556,
              "#d8576b"
             ],
             [
              0.6666666666666666,
              "#ed7953"
             ],
             [
              0.7777777777777778,
              "#fb9f3a"
             ],
             [
              0.8888888888888888,
              "#fdca26"
             ],
             [
              1,
              "#f0f921"
             ]
            ],
            "type": "surface"
           }
          ],
          "table": [
           {
            "cells": {
             "fill": {
              "color": "#EBF0F8"
             },
             "line": {
              "color": "white"
             }
            },
            "header": {
             "fill": {
              "color": "#C8D4E3"
             },
             "line": {
              "color": "white"
             }
            },
            "type": "table"
           }
          ]
         },
         "layout": {
          "annotationdefaults": {
           "arrowcolor": "#2a3f5f",
           "arrowhead": 0,
           "arrowwidth": 1
          },
          "autotypenumbers": "strict",
          "coloraxis": {
           "colorbar": {
            "outlinewidth": 0,
            "ticks": ""
           }
          },
          "colorscale": {
           "diverging": [
            [
             0,
             "#8e0152"
            ],
            [
             0.1,
             "#c51b7d"
            ],
            [
             0.2,
             "#de77ae"
            ],
            [
             0.3,
             "#f1b6da"
            ],
            [
             0.4,
             "#fde0ef"
            ],
            [
             0.5,
             "#f7f7f7"
            ],
            [
             0.6,
             "#e6f5d0"
            ],
            [
             0.7,
             "#b8e186"
            ],
            [
             0.8,
             "#7fbc41"
            ],
            [
             0.9,
             "#4d9221"
            ],
            [
             1,
             "#276419"
            ]
           ],
           "sequential": [
            [
             0,
             "#0d0887"
            ],
            [
             0.1111111111111111,
             "#46039f"
            ],
            [
             0.2222222222222222,
             "#7201a8"
            ],
            [
             0.3333333333333333,
             "#9c179e"
            ],
            [
             0.4444444444444444,
             "#bd3786"
            ],
            [
             0.5555555555555556,
             "#d8576b"
            ],
            [
             0.6666666666666666,
             "#ed7953"
            ],
            [
             0.7777777777777778,
             "#fb9f3a"
            ],
            [
             0.8888888888888888,
             "#fdca26"
            ],
            [
             1,
             "#f0f921"
            ]
           ],
           "sequentialminus": [
            [
             0,
             "#0d0887"
            ],
            [
             0.1111111111111111,
             "#46039f"
            ],
            [
             0.2222222222222222,
             "#7201a8"
            ],
            [
             0.3333333333333333,
             "#9c179e"
            ],
            [
             0.4444444444444444,
             "#bd3786"
            ],
            [
             0.5555555555555556,
             "#d8576b"
            ],
            [
             0.6666666666666666,
             "#ed7953"
            ],
            [
             0.7777777777777778,
             "#fb9f3a"
            ],
            [
             0.8888888888888888,
             "#fdca26"
            ],
            [
             1,
             "#f0f921"
            ]
           ]
          },
          "colorway": [
           "#636efa",
           "#EF553B",
           "#00cc96",
           "#ab63fa",
           "#FFA15A",
           "#19d3f3",
           "#FF6692",
           "#B6E880",
           "#FF97FF",
           "#FECB52"
          ],
          "font": {
           "color": "#2a3f5f"
          },
          "geo": {
           "bgcolor": "white",
           "lakecolor": "white",
           "landcolor": "#E5ECF6",
           "showlakes": true,
           "showland": true,
           "subunitcolor": "white"
          },
          "hoverlabel": {
           "align": "left"
          },
          "hovermode": "closest",
          "mapbox": {
           "style": "light"
          },
          "paper_bgcolor": "white",
          "plot_bgcolor": "#E5ECF6",
          "polar": {
           "angularaxis": {
            "gridcolor": "white",
            "linecolor": "white",
            "ticks": ""
           },
           "bgcolor": "#E5ECF6",
           "radialaxis": {
            "gridcolor": "white",
            "linecolor": "white",
            "ticks": ""
           }
          },
          "scene": {
           "xaxis": {
            "backgroundcolor": "#E5ECF6",
            "gridcolor": "white",
            "gridwidth": 2,
            "linecolor": "white",
            "showbackground": true,
            "ticks": "",
            "zerolinecolor": "white"
           },
           "yaxis": {
            "backgroundcolor": "#E5ECF6",
            "gridcolor": "white",
            "gridwidth": 2,
            "linecolor": "white",
            "showbackground": true,
            "ticks": "",
            "zerolinecolor": "white"
           },
           "zaxis": {
            "backgroundcolor": "#E5ECF6",
            "gridcolor": "white",
            "gridwidth": 2,
            "linecolor": "white",
            "showbackground": true,
            "ticks": "",
            "zerolinecolor": "white"
           }
          },
          "shapedefaults": {
           "line": {
            "color": "#2a3f5f"
           }
          },
          "ternary": {
           "aaxis": {
            "gridcolor": "white",
            "linecolor": "white",
            "ticks": ""
           },
           "baxis": {
            "gridcolor": "white",
            "linecolor": "white",
            "ticks": ""
           },
           "bgcolor": "#E5ECF6",
           "caxis": {
            "gridcolor": "white",
            "linecolor": "white",
            "ticks": ""
           }
          },
          "title": {
           "x": 0.05
          },
          "xaxis": {
           "automargin": true,
           "gridcolor": "white",
           "linecolor": "white",
           "ticks": "",
           "title": {
            "standoff": 15
           },
           "zerolinecolor": "white",
           "zerolinewidth": 2
          },
          "yaxis": {
           "automargin": true,
           "gridcolor": "white",
           "linecolor": "white",
           "ticks": "",
           "title": {
            "standoff": 15
           },
           "zerolinecolor": "white",
           "zerolinewidth": 2
          }
         }
        },
        "title": {
         "text": "Base_AS histogram"
        },
        "xaxis": {
         "anchor": "y",
         "domain": [
          0,
          1
         ],
         "title": {
          "text": "Base_AS"
         }
        },
        "xaxis2": {
         "anchor": "y2",
         "domain": [
          0,
          1
         ],
         "matches": "x",
         "showgrid": true,
         "showticklabels": false
        },
        "yaxis": {
         "anchor": "x",
         "domain": [
          0,
          0.8316
         ],
         "title": {
          "text": "count"
         }
        },
        "yaxis2": {
         "anchor": "x2",
         "domain": [
          0.8416,
          1
         ],
         "matches": "y2",
         "showgrid": false,
         "showline": false,
         "showticklabels": false,
         "ticks": ""
        }
       }
      }
     },
     "metadata": {}
    },
    {
     "output_type": "display_data",
     "data": {
      "application/vnd.plotly.v1+json": {
       "config": {
        "plotlyServerURL": "https://plot.ly"
       },
       "data": [
        {
         "alignmentgroup": "True",
         "bingroup": "x",
         "hovertemplate": "AS_ratio=%{x}<br>count=%{y}<extra></extra>",
         "legendgroup": "",
         "marker": {
          "color": "#636efa"
         },
         "name": "",
         "offsetgroup": "",
         "orientation": "v",
         "showlegend": false,
         "type": "histogram",
         "x": [
          1,
          1,
          1,
          1,
          1,
          1,
          1,
          1,
          1,
          1,
          1,
          1,
          1,
          1,
          1,
          1,
          0.67,
          1,
          1,
          1,
          1,
          1,
          1,
          1,
          0.679,
          0.638,
          0.638,
          0.695,
          1,
          1,
          1,
          1,
          1,
          0.7,
          1,
          1,
          1,
          1,
          1,
          0.49,
          1,
          1,
          0.638,
          1,
          1,
          0.651,
          1,
          1,
          1,
          1,
          1,
          1,
          1,
          1,
          1,
          1,
          0.625,
          1,
          1,
          1,
          1,
          1,
          1,
          1,
          1,
          1,
          1,
          1,
          1,
          1,
          0.568,
          0.695,
          0.625,
          0.625,
          1,
          1,
          1,
          1,
          1,
          1,
          0.7,
          0.625,
          1,
          1,
          1,
          1,
          1,
          1,
          0.625,
          0.625,
          0.3,
          0.3,
          0.625,
          1,
          1,
          0.612,
          1,
          1,
          1,
          1,
          1,
          1,
          1,
          1,
          1,
          1,
          1,
          1,
          1,
          1,
          1,
          1,
          1,
          1,
          1,
          1,
          1,
          0.668,
          1,
          0.667,
          1,
          1,
          1,
          1,
          1,
          0.67,
          1,
          1,
          0.625,
          1,
          0.625,
          1,
          1,
          1,
          1,
          1,
          1,
          0.658,
          1,
          1,
          0.67,
          1,
          1,
          1,
          1,
          1,
          1,
          1,
          1,
          1,
          1,
          0.625,
          1,
          0.625,
          0.69,
          0.625,
          1,
          1,
          1,
          1,
          0.69,
          1,
          1,
          1,
          1,
          0.625,
          1,
          1,
          0.638,
          1,
          1,
          1,
          1,
          1,
          1,
          1,
          1,
          1,
          1,
          1,
          1,
          1,
          1,
          1,
          0.668,
          1,
          1,
          1,
          1,
          1,
          1,
          0.67,
          1,
          1,
          1,
          1,
          1,
          1,
          1,
          0.658,
          1,
          1
         ],
         "xaxis": "x",
         "yaxis": "y"
        },
        {
         "alignmentgroup": "True",
         "hovertemplate": "AS_ratio=%{x}<extra></extra>",
         "legendgroup": "",
         "marker": {
          "color": "#636efa"
         },
         "name": "",
         "offsetgroup": "",
         "scalegroup": "x",
         "showlegend": false,
         "type": "violin",
         "x": [
          1,
          1,
          1,
          1,
          1,
          1,
          1,
          1,
          1,
          1,
          1,
          1,
          1,
          1,
          1,
          1,
          0.67,
          1,
          1,
          1,
          1,
          1,
          1,
          1,
          0.679,
          0.638,
          0.638,
          0.695,
          1,
          1,
          1,
          1,
          1,
          0.7,
          1,
          1,
          1,
          1,
          1,
          0.49,
          1,
          1,
          0.638,
          1,
          1,
          0.651,
          1,
          1,
          1,
          1,
          1,
          1,
          1,
          1,
          1,
          1,
          0.625,
          1,
          1,
          1,
          1,
          1,
          1,
          1,
          1,
          1,
          1,
          1,
          1,
          1,
          0.568,
          0.695,
          0.625,
          0.625,
          1,
          1,
          1,
          1,
          1,
          1,
          0.7,
          0.625,
          1,
          1,
          1,
          1,
          1,
          1,
          0.625,
          0.625,
          0.3,
          0.3,
          0.625,
          1,
          1,
          0.612,
          1,
          1,
          1,
          1,
          1,
          1,
          1,
          1,
          1,
          1,
          1,
          1,
          1,
          1,
          1,
          1,
          1,
          1,
          1,
          1,
          1,
          0.668,
          1,
          0.667,
          1,
          1,
          1,
          1,
          1,
          0.67,
          1,
          1,
          0.625,
          1,
          0.625,
          1,
          1,
          1,
          1,
          1,
          1,
          0.658,
          1,
          1,
          0.67,
          1,
          1,
          1,
          1,
          1,
          1,
          1,
          1,
          1,
          1,
          0.625,
          1,
          0.625,
          0.69,
          0.625,
          1,
          1,
          1,
          1,
          0.69,
          1,
          1,
          1,
          1,
          0.625,
          1,
          1,
          0.638,
          1,
          1,
          1,
          1,
          1,
          1,
          1,
          1,
          1,
          1,
          1,
          1,
          1,
          1,
          1,
          0.668,
          1,
          1,
          1,
          1,
          1,
          1,
          0.67,
          1,
          1,
          1,
          1,
          1,
          1,
          1,
          0.658,
          1,
          1
         ],
         "xaxis": "x2",
         "yaxis": "y2"
        }
       ],
       "layout": {
        "barmode": "relative",
        "legend": {
         "tracegroupgap": 0
        },
        "template": {
         "data": {
          "bar": [
           {
            "error_x": {
             "color": "#2a3f5f"
            },
            "error_y": {
             "color": "#2a3f5f"
            },
            "marker": {
             "line": {
              "color": "#E5ECF6",
              "width": 0.5
             }
            },
            "type": "bar"
           }
          ],
          "barpolar": [
           {
            "marker": {
             "line": {
              "color": "#E5ECF6",
              "width": 0.5
             }
            },
            "type": "barpolar"
           }
          ],
          "carpet": [
           {
            "aaxis": {
             "endlinecolor": "#2a3f5f",
             "gridcolor": "white",
             "linecolor": "white",
             "minorgridcolor": "white",
             "startlinecolor": "#2a3f5f"
            },
            "baxis": {
             "endlinecolor": "#2a3f5f",
             "gridcolor": "white",
             "linecolor": "white",
             "minorgridcolor": "white",
             "startlinecolor": "#2a3f5f"
            },
            "type": "carpet"
           }
          ],
          "choropleth": [
           {
            "colorbar": {
             "outlinewidth": 0,
             "ticks": ""
            },
            "type": "choropleth"
           }
          ],
          "contour": [
           {
            "colorbar": {
             "outlinewidth": 0,
             "ticks": ""
            },
            "colorscale": [
             [
              0,
              "#0d0887"
             ],
             [
              0.1111111111111111,
              "#46039f"
             ],
             [
              0.2222222222222222,
              "#7201a8"
             ],
             [
              0.3333333333333333,
              "#9c179e"
             ],
             [
              0.4444444444444444,
              "#bd3786"
             ],
             [
              0.5555555555555556,
              "#d8576b"
             ],
             [
              0.6666666666666666,
              "#ed7953"
             ],
             [
              0.7777777777777778,
              "#fb9f3a"
             ],
             [
              0.8888888888888888,
              "#fdca26"
             ],
             [
              1,
              "#f0f921"
             ]
            ],
            "type": "contour"
           }
          ],
          "contourcarpet": [
           {
            "colorbar": {
             "outlinewidth": 0,
             "ticks": ""
            },
            "type": "contourcarpet"
           }
          ],
          "heatmap": [
           {
            "colorbar": {
             "outlinewidth": 0,
             "ticks": ""
            },
            "colorscale": [
             [
              0,
              "#0d0887"
             ],
             [
              0.1111111111111111,
              "#46039f"
             ],
             [
              0.2222222222222222,
              "#7201a8"
             ],
             [
              0.3333333333333333,
              "#9c179e"
             ],
             [
              0.4444444444444444,
              "#bd3786"
             ],
             [
              0.5555555555555556,
              "#d8576b"
             ],
             [
              0.6666666666666666,
              "#ed7953"
             ],
             [
              0.7777777777777778,
              "#fb9f3a"
             ],
             [
              0.8888888888888888,
              "#fdca26"
             ],
             [
              1,
              "#f0f921"
             ]
            ],
            "type": "heatmap"
           }
          ],
          "heatmapgl": [
           {
            "colorbar": {
             "outlinewidth": 0,
             "ticks": ""
            },
            "colorscale": [
             [
              0,
              "#0d0887"
             ],
             [
              0.1111111111111111,
              "#46039f"
             ],
             [
              0.2222222222222222,
              "#7201a8"
             ],
             [
              0.3333333333333333,
              "#9c179e"
             ],
             [
              0.4444444444444444,
              "#bd3786"
             ],
             [
              0.5555555555555556,
              "#d8576b"
             ],
             [
              0.6666666666666666,
              "#ed7953"
             ],
             [
              0.7777777777777778,
              "#fb9f3a"
             ],
             [
              0.8888888888888888,
              "#fdca26"
             ],
             [
              1,
              "#f0f921"
             ]
            ],
            "type": "heatmapgl"
           }
          ],
          "histogram": [
           {
            "marker": {
             "colorbar": {
              "outlinewidth": 0,
              "ticks": ""
             }
            },
            "type": "histogram"
           }
          ],
          "histogram2d": [
           {
            "colorbar": {
             "outlinewidth": 0,
             "ticks": ""
            },
            "colorscale": [
             [
              0,
              "#0d0887"
             ],
             [
              0.1111111111111111,
              "#46039f"
             ],
             [
              0.2222222222222222,
              "#7201a8"
             ],
             [
              0.3333333333333333,
              "#9c179e"
             ],
             [
              0.4444444444444444,
              "#bd3786"
             ],
             [
              0.5555555555555556,
              "#d8576b"
             ],
             [
              0.6666666666666666,
              "#ed7953"
             ],
             [
              0.7777777777777778,
              "#fb9f3a"
             ],
             [
              0.8888888888888888,
              "#fdca26"
             ],
             [
              1,
              "#f0f921"
             ]
            ],
            "type": "histogram2d"
           }
          ],
          "histogram2dcontour": [
           {
            "colorbar": {
             "outlinewidth": 0,
             "ticks": ""
            },
            "colorscale": [
             [
              0,
              "#0d0887"
             ],
             [
              0.1111111111111111,
              "#46039f"
             ],
             [
              0.2222222222222222,
              "#7201a8"
             ],
             [
              0.3333333333333333,
              "#9c179e"
             ],
             [
              0.4444444444444444,
              "#bd3786"
             ],
             [
              0.5555555555555556,
              "#d8576b"
             ],
             [
              0.6666666666666666,
              "#ed7953"
             ],
             [
              0.7777777777777778,
              "#fb9f3a"
             ],
             [
              0.8888888888888888,
              "#fdca26"
             ],
             [
              1,
              "#f0f921"
             ]
            ],
            "type": "histogram2dcontour"
           }
          ],
          "mesh3d": [
           {
            "colorbar": {
             "outlinewidth": 0,
             "ticks": ""
            },
            "type": "mesh3d"
           }
          ],
          "parcoords": [
           {
            "line": {
             "colorbar": {
              "outlinewidth": 0,
              "ticks": ""
             }
            },
            "type": "parcoords"
           }
          ],
          "pie": [
           {
            "automargin": true,
            "type": "pie"
           }
          ],
          "scatter": [
           {
            "marker": {
             "colorbar": {
              "outlinewidth": 0,
              "ticks": ""
             }
            },
            "type": "scatter"
           }
          ],
          "scatter3d": [
           {
            "line": {
             "colorbar": {
              "outlinewidth": 0,
              "ticks": ""
             }
            },
            "marker": {
             "colorbar": {
              "outlinewidth": 0,
              "ticks": ""
             }
            },
            "type": "scatter3d"
           }
          ],
          "scattercarpet": [
           {
            "marker": {
             "colorbar": {
              "outlinewidth": 0,
              "ticks": ""
             }
            },
            "type": "scattercarpet"
           }
          ],
          "scattergeo": [
           {
            "marker": {
             "colorbar": {
              "outlinewidth": 0,
              "ticks": ""
             }
            },
            "type": "scattergeo"
           }
          ],
          "scattergl": [
           {
            "marker": {
             "colorbar": {
              "outlinewidth": 0,
              "ticks": ""
             }
            },
            "type": "scattergl"
           }
          ],
          "scattermapbox": [
           {
            "marker": {
             "colorbar": {
              "outlinewidth": 0,
              "ticks": ""
             }
            },
            "type": "scattermapbox"
           }
          ],
          "scatterpolar": [
           {
            "marker": {
             "colorbar": {
              "outlinewidth": 0,
              "ticks": ""
             }
            },
            "type": "scatterpolar"
           }
          ],
          "scatterpolargl": [
           {
            "marker": {
             "colorbar": {
              "outlinewidth": 0,
              "ticks": ""
             }
            },
            "type": "scatterpolargl"
           }
          ],
          "scatterternary": [
           {
            "marker": {
             "colorbar": {
              "outlinewidth": 0,
              "ticks": ""
             }
            },
            "type": "scatterternary"
           }
          ],
          "surface": [
           {
            "colorbar": {
             "outlinewidth": 0,
             "ticks": ""
            },
            "colorscale": [
             [
              0,
              "#0d0887"
             ],
             [
              0.1111111111111111,
              "#46039f"
             ],
             [
              0.2222222222222222,
              "#7201a8"
             ],
             [
              0.3333333333333333,
              "#9c179e"
             ],
             [
              0.4444444444444444,
              "#bd3786"
             ],
             [
              0.5555555555555556,
              "#d8576b"
             ],
             [
              0.6666666666666666,
              "#ed7953"
             ],
             [
              0.7777777777777778,
              "#fb9f3a"
             ],
             [
              0.8888888888888888,
              "#fdca26"
             ],
             [
              1,
              "#f0f921"
             ]
            ],
            "type": "surface"
           }
          ],
          "table": [
           {
            "cells": {
             "fill": {
              "color": "#EBF0F8"
             },
             "line": {
              "color": "white"
             }
            },
            "header": {
             "fill": {
              "color": "#C8D4E3"
             },
             "line": {
              "color": "white"
             }
            },
            "type": "table"
           }
          ]
         },
         "layout": {
          "annotationdefaults": {
           "arrowcolor": "#2a3f5f",
           "arrowhead": 0,
           "arrowwidth": 1
          },
          "autotypenumbers": "strict",
          "coloraxis": {
           "colorbar": {
            "outlinewidth": 0,
            "ticks": ""
           }
          },
          "colorscale": {
           "diverging": [
            [
             0,
             "#8e0152"
            ],
            [
             0.1,
             "#c51b7d"
            ],
            [
             0.2,
             "#de77ae"
            ],
            [
             0.3,
             "#f1b6da"
            ],
            [
             0.4,
             "#fde0ef"
            ],
            [
             0.5,
             "#f7f7f7"
            ],
            [
             0.6,
             "#e6f5d0"
            ],
            [
             0.7,
             "#b8e186"
            ],
            [
             0.8,
             "#7fbc41"
            ],
            [
             0.9,
             "#4d9221"
            ],
            [
             1,
             "#276419"
            ]
           ],
           "sequential": [
            [
             0,
             "#0d0887"
            ],
            [
             0.1111111111111111,
             "#46039f"
            ],
            [
             0.2222222222222222,
             "#7201a8"
            ],
            [
             0.3333333333333333,
             "#9c179e"
            ],
            [
             0.4444444444444444,
             "#bd3786"
            ],
            [
             0.5555555555555556,
             "#d8576b"
            ],
            [
             0.6666666666666666,
             "#ed7953"
            ],
            [
             0.7777777777777778,
             "#fb9f3a"
            ],
            [
             0.8888888888888888,
             "#fdca26"
            ],
            [
             1,
             "#f0f921"
            ]
           ],
           "sequentialminus": [
            [
             0,
             "#0d0887"
            ],
            [
             0.1111111111111111,
             "#46039f"
            ],
            [
             0.2222222222222222,
             "#7201a8"
            ],
            [
             0.3333333333333333,
             "#9c179e"
            ],
            [
             0.4444444444444444,
             "#bd3786"
            ],
            [
             0.5555555555555556,
             "#d8576b"
            ],
            [
             0.6666666666666666,
             "#ed7953"
            ],
            [
             0.7777777777777778,
             "#fb9f3a"
            ],
            [
             0.8888888888888888,
             "#fdca26"
            ],
            [
             1,
             "#f0f921"
            ]
           ]
          },
          "colorway": [
           "#636efa",
           "#EF553B",
           "#00cc96",
           "#ab63fa",
           "#FFA15A",
           "#19d3f3",
           "#FF6692",
           "#B6E880",
           "#FF97FF",
           "#FECB52"
          ],
          "font": {
           "color": "#2a3f5f"
          },
          "geo": {
           "bgcolor": "white",
           "lakecolor": "white",
           "landcolor": "#E5ECF6",
           "showlakes": true,
           "showland": true,
           "subunitcolor": "white"
          },
          "hoverlabel": {
           "align": "left"
          },
          "hovermode": "closest",
          "mapbox": {
           "style": "light"
          },
          "paper_bgcolor": "white",
          "plot_bgcolor": "#E5ECF6",
          "polar": {
           "angularaxis": {
            "gridcolor": "white",
            "linecolor": "white",
            "ticks": ""
           },
           "bgcolor": "#E5ECF6",
           "radialaxis": {
            "gridcolor": "white",
            "linecolor": "white",
            "ticks": ""
           }
          },
          "scene": {
           "xaxis": {
            "backgroundcolor": "#E5ECF6",
            "gridcolor": "white",
            "gridwidth": 2,
            "linecolor": "white",
            "showbackground": true,
            "ticks": "",
            "zerolinecolor": "white"
           },
           "yaxis": {
            "backgroundcolor": "#E5ECF6",
            "gridcolor": "white",
            "gridwidth": 2,
            "linecolor": "white",
            "showbackground": true,
            "ticks": "",
            "zerolinecolor": "white"
           },
           "zaxis": {
            "backgroundcolor": "#E5ECF6",
            "gridcolor": "white",
            "gridwidth": 2,
            "linecolor": "white",
            "showbackground": true,
            "ticks": "",
            "zerolinecolor": "white"
           }
          },
          "shapedefaults": {
           "line": {
            "color": "#2a3f5f"
           }
          },
          "ternary": {
           "aaxis": {
            "gridcolor": "white",
            "linecolor": "white",
            "ticks": ""
           },
           "baxis": {
            "gridcolor": "white",
            "linecolor": "white",
            "ticks": ""
           },
           "bgcolor": "#E5ECF6",
           "caxis": {
            "gridcolor": "white",
            "linecolor": "white",
            "ticks": ""
           }
          },
          "title": {
           "x": 0.05
          },
          "xaxis": {
           "automargin": true,
           "gridcolor": "white",
           "linecolor": "white",
           "ticks": "",
           "title": {
            "standoff": 15
           },
           "zerolinecolor": "white",
           "zerolinewidth": 2
          },
          "yaxis": {
           "automargin": true,
           "gridcolor": "white",
           "linecolor": "white",
           "ticks": "",
           "title": {
            "standoff": 15
           },
           "zerolinecolor": "white",
           "zerolinewidth": 2
          }
         }
        },
        "title": {
         "text": "AS_ratio histogram"
        },
        "xaxis": {
         "anchor": "y",
         "domain": [
          0,
          1
         ],
         "title": {
          "text": "AS_ratio"
         }
        },
        "xaxis2": {
         "anchor": "y2",
         "domain": [
          0,
          1
         ],
         "matches": "x",
         "showgrid": true,
         "showticklabels": false
        },
        "yaxis": {
         "anchor": "x",
         "domain": [
          0,
          0.8316
         ],
         "title": {
          "text": "count"
         }
        },
        "yaxis2": {
         "anchor": "x2",
         "domain": [
          0.8416,
          1
         ],
         "matches": "y2",
         "showgrid": false,
         "showline": false,
         "showticklabels": false,
         "ticks": ""
        }
       }
      }
     },
     "metadata": {}
    },
    {
     "output_type": "display_data",
     "data": {
      "application/vnd.plotly.v1+json": {
       "config": {
        "plotlyServerURL": "https://plot.ly"
       },
       "data": [
        {
         "alignmentgroup": "True",
         "bingroup": "x",
         "hovertemplate": "Min_Health=%{x}<br>count=%{y}<extra></extra>",
         "legendgroup": "",
         "marker": {
          "color": "#636efa"
         },
         "name": "",
         "offsetgroup": "",
         "orientation": "v",
         "showlegend": false,
         "type": "histogram",
         "x": [
          525,
          561,
          620,
          580,
          550,
          602,
          610,
          587,
          582,
          584,
          600,
          575,
          525,
          580,
          576,
          576,
          490,
          560,
          530,
          594,
          537,
          576,
          550,
          530,
          559,
          574,
          574,
          565,
          573,
          534,
          480,
          550,
          560,
          580,
          540,
          585,
          505,
          575,
          562,
          555,
          500,
          587,
          615,
          524,
          515,
          540,
          560,
          540,
          530,
          561,
          562,
          585,
          504,
          585,
          600,
          534,
          550,
          583,
          590,
          572,
          575,
          565,
          593,
          612,
          570,
          574,
          526,
          740,
          570,
          545,
          510,
          565,
          500,
          500,
          550,
          580,
          580.4,
          534,
          518,
          588,
          580,
          585,
          562,
          580,
          500,
          475,
          540,
          510,
          583,
          490,
          520,
          520,
          600,
          600,
          586,
          576,
          528,
          580,
          520,
          540,
          540,
          480,
          571,
          570,
          590,
          535,
          595,
          570,
          580,
          580,
          570,
          500,
          585,
          540,
          600,
          526,
          590,
          585,
          550,
          600,
          605,
          560,
          570,
          560,
          545,
          540,
          528,
          515,
          490,
          537,
          600,
          520,
          585,
          525,
          571,
          580,
          599,
          540,
          560,
          530,
          490,
          523,
          626,
          550,
          585,
          580,
          570,
          530,
          530,
          552,
          526,
          560,
          533,
          564,
          540,
          585,
          575,
          532,
          480,
          540,
          541,
          537,
          504,
          575,
          575,
          600,
          600,
          525,
          615,
          589,
          589,
          520,
          580,
          534,
          560,
          560,
          560,
          600,
          560,
          580,
          575,
          593,
          574,
          536,
          585,
          620,
          488,
          488,
          505,
          560,
          560,
          540,
          575,
          525,
          525,
          575,
          540,
          504,
          480,
          540,
          616,
          616
         ],
         "xaxis": "x",
         "yaxis": "y"
        },
        {
         "alignmentgroup": "True",
         "hovertemplate": "Min_Health=%{x}<extra></extra>",
         "legendgroup": "",
         "marker": {
          "color": "#636efa"
         },
         "name": "",
         "offsetgroup": "",
         "scalegroup": "x",
         "showlegend": false,
         "type": "violin",
         "x": [
          525,
          561,
          620,
          580,
          550,
          602,
          610,
          587,
          582,
          584,
          600,
          575,
          525,
          580,
          576,
          576,
          490,
          560,
          530,
          594,
          537,
          576,
          550,
          530,
          559,
          574,
          574,
          565,
          573,
          534,
          480,
          550,
          560,
          580,
          540,
          585,
          505,
          575,
          562,
          555,
          500,
          587,
          615,
          524,
          515,
          540,
          560,
          540,
          530,
          561,
          562,
          585,
          504,
          585,
          600,
          534,
          550,
          583,
          590,
          572,
          575,
          565,
          593,
          612,
          570,
          574,
          526,
          740,
          570,
          545,
          510,
          565,
          500,
          500,
          550,
          580,
          580.4,
          534,
          518,
          588,
          580,
          585,
          562,
          580,
          500,
          475,
          540,
          510,
          583,
          490,
          520,
          520,
          600,
          600,
          586,
          576,
          528,
          580,
          520,
          540,
          540,
          480,
          571,
          570,
          590,
          535,
          595,
          570,
          580,
          580,
          570,
          500,
          585,
          540,
          600,
          526,
          590,
          585,
          550,
          600,
          605,
          560,
          570,
          560,
          545,
          540,
          528,
          515,
          490,
          537,
          600,
          520,
          585,
          525,
          571,
          580,
          599,
          540,
          560,
          530,
          490,
          523,
          626,
          550,
          585,
          580,
          570,
          530,
          530,
          552,
          526,
          560,
          533,
          564,
          540,
          585,
          575,
          532,
          480,
          540,
          541,
          537,
          504,
          575,
          575,
          600,
          600,
          525,
          615,
          589,
          589,
          520,
          580,
          534,
          560,
          560,
          560,
          600,
          560,
          580,
          575,
          593,
          574,
          536,
          585,
          620,
          488,
          488,
          505,
          560,
          560,
          540,
          575,
          525,
          525,
          575,
          540,
          504,
          480,
          540,
          616,
          616
         ],
         "xaxis": "x2",
         "yaxis": "y2"
        }
       ],
       "layout": {
        "barmode": "relative",
        "legend": {
         "tracegroupgap": 0
        },
        "template": {
         "data": {
          "bar": [
           {
            "error_x": {
             "color": "#2a3f5f"
            },
            "error_y": {
             "color": "#2a3f5f"
            },
            "marker": {
             "line": {
              "color": "#E5ECF6",
              "width": 0.5
             }
            },
            "type": "bar"
           }
          ],
          "barpolar": [
           {
            "marker": {
             "line": {
              "color": "#E5ECF6",
              "width": 0.5
             }
            },
            "type": "barpolar"
           }
          ],
          "carpet": [
           {
            "aaxis": {
             "endlinecolor": "#2a3f5f",
             "gridcolor": "white",
             "linecolor": "white",
             "minorgridcolor": "white",
             "startlinecolor": "#2a3f5f"
            },
            "baxis": {
             "endlinecolor": "#2a3f5f",
             "gridcolor": "white",
             "linecolor": "white",
             "minorgridcolor": "white",
             "startlinecolor": "#2a3f5f"
            },
            "type": "carpet"
           }
          ],
          "choropleth": [
           {
            "colorbar": {
             "outlinewidth": 0,
             "ticks": ""
            },
            "type": "choropleth"
           }
          ],
          "contour": [
           {
            "colorbar": {
             "outlinewidth": 0,
             "ticks": ""
            },
            "colorscale": [
             [
              0,
              "#0d0887"
             ],
             [
              0.1111111111111111,
              "#46039f"
             ],
             [
              0.2222222222222222,
              "#7201a8"
             ],
             [
              0.3333333333333333,
              "#9c179e"
             ],
             [
              0.4444444444444444,
              "#bd3786"
             ],
             [
              0.5555555555555556,
              "#d8576b"
             ],
             [
              0.6666666666666666,
              "#ed7953"
             ],
             [
              0.7777777777777778,
              "#fb9f3a"
             ],
             [
              0.8888888888888888,
              "#fdca26"
             ],
             [
              1,
              "#f0f921"
             ]
            ],
            "type": "contour"
           }
          ],
          "contourcarpet": [
           {
            "colorbar": {
             "outlinewidth": 0,
             "ticks": ""
            },
            "type": "contourcarpet"
           }
          ],
          "heatmap": [
           {
            "colorbar": {
             "outlinewidth": 0,
             "ticks": ""
            },
            "colorscale": [
             [
              0,
              "#0d0887"
             ],
             [
              0.1111111111111111,
              "#46039f"
             ],
             [
              0.2222222222222222,
              "#7201a8"
             ],
             [
              0.3333333333333333,
              "#9c179e"
             ],
             [
              0.4444444444444444,
              "#bd3786"
             ],
             [
              0.5555555555555556,
              "#d8576b"
             ],
             [
              0.6666666666666666,
              "#ed7953"
             ],
             [
              0.7777777777777778,
              "#fb9f3a"
             ],
             [
              0.8888888888888888,
              "#fdca26"
             ],
             [
              1,
              "#f0f921"
             ]
            ],
            "type": "heatmap"
           }
          ],
          "heatmapgl": [
           {
            "colorbar": {
             "outlinewidth": 0,
             "ticks": ""
            },
            "colorscale": [
             [
              0,
              "#0d0887"
             ],
             [
              0.1111111111111111,
              "#46039f"
             ],
             [
              0.2222222222222222,
              "#7201a8"
             ],
             [
              0.3333333333333333,
              "#9c179e"
             ],
             [
              0.4444444444444444,
              "#bd3786"
             ],
             [
              0.5555555555555556,
              "#d8576b"
             ],
             [
              0.6666666666666666,
              "#ed7953"
             ],
             [
              0.7777777777777778,
              "#fb9f3a"
             ],
             [
              0.8888888888888888,
              "#fdca26"
             ],
             [
              1,
              "#f0f921"
             ]
            ],
            "type": "heatmapgl"
           }
          ],
          "histogram": [
           {
            "marker": {
             "colorbar": {
              "outlinewidth": 0,
              "ticks": ""
             }
            },
            "type": "histogram"
           }
          ],
          "histogram2d": [
           {
            "colorbar": {
             "outlinewidth": 0,
             "ticks": ""
            },
            "colorscale": [
             [
              0,
              "#0d0887"
             ],
             [
              0.1111111111111111,
              "#46039f"
             ],
             [
              0.2222222222222222,
              "#7201a8"
             ],
             [
              0.3333333333333333,
              "#9c179e"
             ],
             [
              0.4444444444444444,
              "#bd3786"
             ],
             [
              0.5555555555555556,
              "#d8576b"
             ],
             [
              0.6666666666666666,
              "#ed7953"
             ],
             [
              0.7777777777777778,
              "#fb9f3a"
             ],
             [
              0.8888888888888888,
              "#fdca26"
             ],
             [
              1,
              "#f0f921"
             ]
            ],
            "type": "histogram2d"
           }
          ],
          "histogram2dcontour": [
           {
            "colorbar": {
             "outlinewidth": 0,
             "ticks": ""
            },
            "colorscale": [
             [
              0,
              "#0d0887"
             ],
             [
              0.1111111111111111,
              "#46039f"
             ],
             [
              0.2222222222222222,
              "#7201a8"
             ],
             [
              0.3333333333333333,
              "#9c179e"
             ],
             [
              0.4444444444444444,
              "#bd3786"
             ],
             [
              0.5555555555555556,
              "#d8576b"
             ],
             [
              0.6666666666666666,
              "#ed7953"
             ],
             [
              0.7777777777777778,
              "#fb9f3a"
             ],
             [
              0.8888888888888888,
              "#fdca26"
             ],
             [
              1,
              "#f0f921"
             ]
            ],
            "type": "histogram2dcontour"
           }
          ],
          "mesh3d": [
           {
            "colorbar": {
             "outlinewidth": 0,
             "ticks": ""
            },
            "type": "mesh3d"
           }
          ],
          "parcoords": [
           {
            "line": {
             "colorbar": {
              "outlinewidth": 0,
              "ticks": ""
             }
            },
            "type": "parcoords"
           }
          ],
          "pie": [
           {
            "automargin": true,
            "type": "pie"
           }
          ],
          "scatter": [
           {
            "marker": {
             "colorbar": {
              "outlinewidth": 0,
              "ticks": ""
             }
            },
            "type": "scatter"
           }
          ],
          "scatter3d": [
           {
            "line": {
             "colorbar": {
              "outlinewidth": 0,
              "ticks": ""
             }
            },
            "marker": {
             "colorbar": {
              "outlinewidth": 0,
              "ticks": ""
             }
            },
            "type": "scatter3d"
           }
          ],
          "scattercarpet": [
           {
            "marker": {
             "colorbar": {
              "outlinewidth": 0,
              "ticks": ""
             }
            },
            "type": "scattercarpet"
           }
          ],
          "scattergeo": [
           {
            "marker": {
             "colorbar": {
              "outlinewidth": 0,
              "ticks": ""
             }
            },
            "type": "scattergeo"
           }
          ],
          "scattergl": [
           {
            "marker": {
             "colorbar": {
              "outlinewidth": 0,
              "ticks": ""
             }
            },
            "type": "scattergl"
           }
          ],
          "scattermapbox": [
           {
            "marker": {
             "colorbar": {
              "outlinewidth": 0,
              "ticks": ""
             }
            },
            "type": "scattermapbox"
           }
          ],
          "scatterpolar": [
           {
            "marker": {
             "colorbar": {
              "outlinewidth": 0,
              "ticks": ""
             }
            },
            "type": "scatterpolar"
           }
          ],
          "scatterpolargl": [
           {
            "marker": {
             "colorbar": {
              "outlinewidth": 0,
              "ticks": ""
             }
            },
            "type": "scatterpolargl"
           }
          ],
          "scatterternary": [
           {
            "marker": {
             "colorbar": {
              "outlinewidth": 0,
              "ticks": ""
             }
            },
            "type": "scatterternary"
           }
          ],
          "surface": [
           {
            "colorbar": {
             "outlinewidth": 0,
             "ticks": ""
            },
            "colorscale": [
             [
              0,
              "#0d0887"
             ],
             [
              0.1111111111111111,
              "#46039f"
             ],
             [
              0.2222222222222222,
              "#7201a8"
             ],
             [
              0.3333333333333333,
              "#9c179e"
             ],
             [
              0.4444444444444444,
              "#bd3786"
             ],
             [
              0.5555555555555556,
              "#d8576b"
             ],
             [
              0.6666666666666666,
              "#ed7953"
             ],
             [
              0.7777777777777778,
              "#fb9f3a"
             ],
             [
              0.8888888888888888,
              "#fdca26"
             ],
             [
              1,
              "#f0f921"
             ]
            ],
            "type": "surface"
           }
          ],
          "table": [
           {
            "cells": {
             "fill": {
              "color": "#EBF0F8"
             },
             "line": {
              "color": "white"
             }
            },
            "header": {
             "fill": {
              "color": "#C8D4E3"
             },
             "line": {
              "color": "white"
             }
            },
            "type": "table"
           }
          ]
         },
         "layout": {
          "annotationdefaults": {
           "arrowcolor": "#2a3f5f",
           "arrowhead": 0,
           "arrowwidth": 1
          },
          "autotypenumbers": "strict",
          "coloraxis": {
           "colorbar": {
            "outlinewidth": 0,
            "ticks": ""
           }
          },
          "colorscale": {
           "diverging": [
            [
             0,
             "#8e0152"
            ],
            [
             0.1,
             "#c51b7d"
            ],
            [
             0.2,
             "#de77ae"
            ],
            [
             0.3,
             "#f1b6da"
            ],
            [
             0.4,
             "#fde0ef"
            ],
            [
             0.5,
             "#f7f7f7"
            ],
            [
             0.6,
             "#e6f5d0"
            ],
            [
             0.7,
             "#b8e186"
            ],
            [
             0.8,
             "#7fbc41"
            ],
            [
             0.9,
             "#4d9221"
            ],
            [
             1,
             "#276419"
            ]
           ],
           "sequential": [
            [
             0,
             "#0d0887"
            ],
            [
             0.1111111111111111,
             "#46039f"
            ],
            [
             0.2222222222222222,
             "#7201a8"
            ],
            [
             0.3333333333333333,
             "#9c179e"
            ],
            [
             0.4444444444444444,
             "#bd3786"
            ],
            [
             0.5555555555555556,
             "#d8576b"
            ],
            [
             0.6666666666666666,
             "#ed7953"
            ],
            [
             0.7777777777777778,
             "#fb9f3a"
            ],
            [
             0.8888888888888888,
             "#fdca26"
            ],
            [
             1,
             "#f0f921"
            ]
           ],
           "sequentialminus": [
            [
             0,
             "#0d0887"
            ],
            [
             0.1111111111111111,
             "#46039f"
            ],
            [
             0.2222222222222222,
             "#7201a8"
            ],
            [
             0.3333333333333333,
             "#9c179e"
            ],
            [
             0.4444444444444444,
             "#bd3786"
            ],
            [
             0.5555555555555556,
             "#d8576b"
            ],
            [
             0.6666666666666666,
             "#ed7953"
            ],
            [
             0.7777777777777778,
             "#fb9f3a"
            ],
            [
             0.8888888888888888,
             "#fdca26"
            ],
            [
             1,
             "#f0f921"
            ]
           ]
          },
          "colorway": [
           "#636efa",
           "#EF553B",
           "#00cc96",
           "#ab63fa",
           "#FFA15A",
           "#19d3f3",
           "#FF6692",
           "#B6E880",
           "#FF97FF",
           "#FECB52"
          ],
          "font": {
           "color": "#2a3f5f"
          },
          "geo": {
           "bgcolor": "white",
           "lakecolor": "white",
           "landcolor": "#E5ECF6",
           "showlakes": true,
           "showland": true,
           "subunitcolor": "white"
          },
          "hoverlabel": {
           "align": "left"
          },
          "hovermode": "closest",
          "mapbox": {
           "style": "light"
          },
          "paper_bgcolor": "white",
          "plot_bgcolor": "#E5ECF6",
          "polar": {
           "angularaxis": {
            "gridcolor": "white",
            "linecolor": "white",
            "ticks": ""
           },
           "bgcolor": "#E5ECF6",
           "radialaxis": {
            "gridcolor": "white",
            "linecolor": "white",
            "ticks": ""
           }
          },
          "scene": {
           "xaxis": {
            "backgroundcolor": "#E5ECF6",
            "gridcolor": "white",
            "gridwidth": 2,
            "linecolor": "white",
            "showbackground": true,
            "ticks": "",
            "zerolinecolor": "white"
           },
           "yaxis": {
            "backgroundcolor": "#E5ECF6",
            "gridcolor": "white",
            "gridwidth": 2,
            "linecolor": "white",
            "showbackground": true,
            "ticks": "",
            "zerolinecolor": "white"
           },
           "zaxis": {
            "backgroundcolor": "#E5ECF6",
            "gridcolor": "white",
            "gridwidth": 2,
            "linecolor": "white",
            "showbackground": true,
            "ticks": "",
            "zerolinecolor": "white"
           }
          },
          "shapedefaults": {
           "line": {
            "color": "#2a3f5f"
           }
          },
          "ternary": {
           "aaxis": {
            "gridcolor": "white",
            "linecolor": "white",
            "ticks": ""
           },
           "baxis": {
            "gridcolor": "white",
            "linecolor": "white",
            "ticks": ""
           },
           "bgcolor": "#E5ECF6",
           "caxis": {
            "gridcolor": "white",
            "linecolor": "white",
            "ticks": ""
           }
          },
          "title": {
           "x": 0.05
          },
          "xaxis": {
           "automargin": true,
           "gridcolor": "white",
           "linecolor": "white",
           "ticks": "",
           "title": {
            "standoff": 15
           },
           "zerolinecolor": "white",
           "zerolinewidth": 2
          },
          "yaxis": {
           "automargin": true,
           "gridcolor": "white",
           "linecolor": "white",
           "ticks": "",
           "title": {
            "standoff": 15
           },
           "zerolinecolor": "white",
           "zerolinewidth": 2
          }
         }
        },
        "title": {
         "text": "Min_Health histogram"
        },
        "xaxis": {
         "anchor": "y",
         "domain": [
          0,
          1
         ],
         "title": {
          "text": "Min_Health"
         }
        },
        "xaxis2": {
         "anchor": "y2",
         "domain": [
          0,
          1
         ],
         "matches": "x",
         "showgrid": true,
         "showticklabels": false
        },
        "yaxis": {
         "anchor": "x",
         "domain": [
          0,
          0.8316
         ],
         "title": {
          "text": "count"
         }
        },
        "yaxis2": {
         "anchor": "x2",
         "domain": [
          0.8416,
          1
         ],
         "matches": "y2",
         "showgrid": false,
         "showline": false,
         "showticklabels": false,
         "ticks": ""
        }
       }
      }
     },
     "metadata": {}
    },
    {
     "output_type": "display_data",
     "data": {
      "application/vnd.plotly.v1+json": {
       "config": {
        "plotlyServerURL": "https://plot.ly"
       },
       "data": [
        {
         "alignmentgroup": "True",
         "bingroup": "x",
         "hovertemplate": "Max_Health=%{x}<br>count=%{y}<extra></extra>",
         "legendgroup": "",
         "marker": {
          "color": "#636efa"
         },
         "name": "",
         "offsetgroup": "",
         "orientation": "v",
         "showlegend": false,
         "type": "histogram",
         "x": [
          1783,
          2142,
          2048,
          2110,
          1995,
          2200,
          2072,
          2100,
          2282,
          2029,
          2096,
          2020,
          2480,
          2280,
          2021,
          2361,
          1969,
          2022,
          2060,
          2158,
          2016,
          2055,
          1995,
          2026,
          2055,
          2104,
          2104,
          2180,
          2018,
          2115,
          1670,
          1995,
          2073,
          2110,
          2206,
          2081,
          2103,
          2105,
          2466,
          2119,
          2285,
          2100,
          1975,
          2020,
          2028,
          1985,
          2090,
          1934,
          2026,
          2091,
          2092,
          2030,
          1898,
          2030,
          2402,
          2132,
          2080,
          2198,
          2120,
          2000,
          2054,
          2010,
          2038,
          2074,
          2049,
          1934,
          2090,
          2950,
          2134,
          1786,
          2091,
          2180,
          2030,
          2030,
          1995,
          2025,
          2144.4,
          2149,
          1997,
          2203,
          2110,
          2030,
          2466,
          2110,
          2285,
          1733,
          2070,
          1615,
          2096,
          1935,
          1795,
          1795,
          2215,
          2181,
          2201,
          2038,
          2058,
          2110,
          2016,
          2070,
          2070,
          1874,
          2033,
          2236,
          2205,
          1793,
          2210,
          2100,
          2195,
          2195,
          2185,
          1690,
          2115,
          1985,
          2130,
          2090,
          2086,
          2030,
          1995,
          2045,
          2135,
          2090,
          2015,
          2090,
          1990,
          2070,
          2177,
          2028,
          1935,
          2169,
          2215,
          2016,
          2030,
          2480,
          2033,
          2195,
          2163,
          1985,
          2124,
          2077,
          1969,
          2053,
          2292,
          2029,
          2115,
          2025,
          2151,
          2077,
          2026,
          2116,
          2090,
          2260,
          1978,
          1924,
          1934,
          2030,
          2156,
          2062,
          1789,
          1985,
          1969,
          2169,
          1847,
          2241,
          2241,
          2215,
          2181,
          1970,
          2230,
          2034,
          2034,
          2016,
          2195,
          2234,
          2175,
          2175,
          2175,
          2300,
          2022,
          2195,
          2054,
          2038,
          1934,
          2100,
          2030,
          2048,
          1967,
          1967,
          2103,
          2090,
          2090,
          2070,
          2020,
          1970,
          1970,
          2139,
          2070,
          1898,
          1874,
          1985,
          2248,
          2248
         ],
         "xaxis": "x",
         "yaxis": "y"
        },
        {
         "alignmentgroup": "True",
         "hovertemplate": "Max_Health=%{x}<extra></extra>",
         "legendgroup": "",
         "marker": {
          "color": "#636efa"
         },
         "name": "",
         "offsetgroup": "",
         "scalegroup": "x",
         "showlegend": false,
         "type": "violin",
         "x": [
          1783,
          2142,
          2048,
          2110,
          1995,
          2200,
          2072,
          2100,
          2282,
          2029,
          2096,
          2020,
          2480,
          2280,
          2021,
          2361,
          1969,
          2022,
          2060,
          2158,
          2016,
          2055,
          1995,
          2026,
          2055,
          2104,
          2104,
          2180,
          2018,
          2115,
          1670,
          1995,
          2073,
          2110,
          2206,
          2081,
          2103,
          2105,
          2466,
          2119,
          2285,
          2100,
          1975,
          2020,
          2028,
          1985,
          2090,
          1934,
          2026,
          2091,
          2092,
          2030,
          1898,
          2030,
          2402,
          2132,
          2080,
          2198,
          2120,
          2000,
          2054,
          2010,
          2038,
          2074,
          2049,
          1934,
          2090,
          2950,
          2134,
          1786,
          2091,
          2180,
          2030,
          2030,
          1995,
          2025,
          2144.4,
          2149,
          1997,
          2203,
          2110,
          2030,
          2466,
          2110,
          2285,
          1733,
          2070,
          1615,
          2096,
          1935,
          1795,
          1795,
          2215,
          2181,
          2201,
          2038,
          2058,
          2110,
          2016,
          2070,
          2070,
          1874,
          2033,
          2236,
          2205,
          1793,
          2210,
          2100,
          2195,
          2195,
          2185,
          1690,
          2115,
          1985,
          2130,
          2090,
          2086,
          2030,
          1995,
          2045,
          2135,
          2090,
          2015,
          2090,
          1990,
          2070,
          2177,
          2028,
          1935,
          2169,
          2215,
          2016,
          2030,
          2480,
          2033,
          2195,
          2163,
          1985,
          2124,
          2077,
          1969,
          2053,
          2292,
          2029,
          2115,
          2025,
          2151,
          2077,
          2026,
          2116,
          2090,
          2260,
          1978,
          1924,
          1934,
          2030,
          2156,
          2062,
          1789,
          1985,
          1969,
          2169,
          1847,
          2241,
          2241,
          2215,
          2181,
          1970,
          2230,
          2034,
          2034,
          2016,
          2195,
          2234,
          2175,
          2175,
          2175,
          2300,
          2022,
          2195,
          2054,
          2038,
          1934,
          2100,
          2030,
          2048,
          1967,
          1967,
          2103,
          2090,
          2090,
          2070,
          2020,
          1970,
          1970,
          2139,
          2070,
          1898,
          1874,
          1985,
          2248,
          2248
         ],
         "xaxis": "x2",
         "yaxis": "y2"
        }
       ],
       "layout": {
        "barmode": "relative",
        "legend": {
         "tracegroupgap": 0
        },
        "template": {
         "data": {
          "bar": [
           {
            "error_x": {
             "color": "#2a3f5f"
            },
            "error_y": {
             "color": "#2a3f5f"
            },
            "marker": {
             "line": {
              "color": "#E5ECF6",
              "width": 0.5
             }
            },
            "type": "bar"
           }
          ],
          "barpolar": [
           {
            "marker": {
             "line": {
              "color": "#E5ECF6",
              "width": 0.5
             }
            },
            "type": "barpolar"
           }
          ],
          "carpet": [
           {
            "aaxis": {
             "endlinecolor": "#2a3f5f",
             "gridcolor": "white",
             "linecolor": "white",
             "minorgridcolor": "white",
             "startlinecolor": "#2a3f5f"
            },
            "baxis": {
             "endlinecolor": "#2a3f5f",
             "gridcolor": "white",
             "linecolor": "white",
             "minorgridcolor": "white",
             "startlinecolor": "#2a3f5f"
            },
            "type": "carpet"
           }
          ],
          "choropleth": [
           {
            "colorbar": {
             "outlinewidth": 0,
             "ticks": ""
            },
            "type": "choropleth"
           }
          ],
          "contour": [
           {
            "colorbar": {
             "outlinewidth": 0,
             "ticks": ""
            },
            "colorscale": [
             [
              0,
              "#0d0887"
             ],
             [
              0.1111111111111111,
              "#46039f"
             ],
             [
              0.2222222222222222,
              "#7201a8"
             ],
             [
              0.3333333333333333,
              "#9c179e"
             ],
             [
              0.4444444444444444,
              "#bd3786"
             ],
             [
              0.5555555555555556,
              "#d8576b"
             ],
             [
              0.6666666666666666,
              "#ed7953"
             ],
             [
              0.7777777777777778,
              "#fb9f3a"
             ],
             [
              0.8888888888888888,
              "#fdca26"
             ],
             [
              1,
              "#f0f921"
             ]
            ],
            "type": "contour"
           }
          ],
          "contourcarpet": [
           {
            "colorbar": {
             "outlinewidth": 0,
             "ticks": ""
            },
            "type": "contourcarpet"
           }
          ],
          "heatmap": [
           {
            "colorbar": {
             "outlinewidth": 0,
             "ticks": ""
            },
            "colorscale": [
             [
              0,
              "#0d0887"
             ],
             [
              0.1111111111111111,
              "#46039f"
             ],
             [
              0.2222222222222222,
              "#7201a8"
             ],
             [
              0.3333333333333333,
              "#9c179e"
             ],
             [
              0.4444444444444444,
              "#bd3786"
             ],
             [
              0.5555555555555556,
              "#d8576b"
             ],
             [
              0.6666666666666666,
              "#ed7953"
             ],
             [
              0.7777777777777778,
              "#fb9f3a"
             ],
             [
              0.8888888888888888,
              "#fdca26"
             ],
             [
              1,
              "#f0f921"
             ]
            ],
            "type": "heatmap"
           }
          ],
          "heatmapgl": [
           {
            "colorbar": {
             "outlinewidth": 0,
             "ticks": ""
            },
            "colorscale": [
             [
              0,
              "#0d0887"
             ],
             [
              0.1111111111111111,
              "#46039f"
             ],
             [
              0.2222222222222222,
              "#7201a8"
             ],
             [
              0.3333333333333333,
              "#9c179e"
             ],
             [
              0.4444444444444444,
              "#bd3786"
             ],
             [
              0.5555555555555556,
              "#d8576b"
             ],
             [
              0.6666666666666666,
              "#ed7953"
             ],
             [
              0.7777777777777778,
              "#fb9f3a"
             ],
             [
              0.8888888888888888,
              "#fdca26"
             ],
             [
              1,
              "#f0f921"
             ]
            ],
            "type": "heatmapgl"
           }
          ],
          "histogram": [
           {
            "marker": {
             "colorbar": {
              "outlinewidth": 0,
              "ticks": ""
             }
            },
            "type": "histogram"
           }
          ],
          "histogram2d": [
           {
            "colorbar": {
             "outlinewidth": 0,
             "ticks": ""
            },
            "colorscale": [
             [
              0,
              "#0d0887"
             ],
             [
              0.1111111111111111,
              "#46039f"
             ],
             [
              0.2222222222222222,
              "#7201a8"
             ],
             [
              0.3333333333333333,
              "#9c179e"
             ],
             [
              0.4444444444444444,
              "#bd3786"
             ],
             [
              0.5555555555555556,
              "#d8576b"
             ],
             [
              0.6666666666666666,
              "#ed7953"
             ],
             [
              0.7777777777777778,
              "#fb9f3a"
             ],
             [
              0.8888888888888888,
              "#fdca26"
             ],
             [
              1,
              "#f0f921"
             ]
            ],
            "type": "histogram2d"
           }
          ],
          "histogram2dcontour": [
           {
            "colorbar": {
             "outlinewidth": 0,
             "ticks": ""
            },
            "colorscale": [
             [
              0,
              "#0d0887"
             ],
             [
              0.1111111111111111,
              "#46039f"
             ],
             [
              0.2222222222222222,
              "#7201a8"
             ],
             [
              0.3333333333333333,
              "#9c179e"
             ],
             [
              0.4444444444444444,
              "#bd3786"
             ],
             [
              0.5555555555555556,
              "#d8576b"
             ],
             [
              0.6666666666666666,
              "#ed7953"
             ],
             [
              0.7777777777777778,
              "#fb9f3a"
             ],
             [
              0.8888888888888888,
              "#fdca26"
             ],
             [
              1,
              "#f0f921"
             ]
            ],
            "type": "histogram2dcontour"
           }
          ],
          "mesh3d": [
           {
            "colorbar": {
             "outlinewidth": 0,
             "ticks": ""
            },
            "type": "mesh3d"
           }
          ],
          "parcoords": [
           {
            "line": {
             "colorbar": {
              "outlinewidth": 0,
              "ticks": ""
             }
            },
            "type": "parcoords"
           }
          ],
          "pie": [
           {
            "automargin": true,
            "type": "pie"
           }
          ],
          "scatter": [
           {
            "marker": {
             "colorbar": {
              "outlinewidth": 0,
              "ticks": ""
             }
            },
            "type": "scatter"
           }
          ],
          "scatter3d": [
           {
            "line": {
             "colorbar": {
              "outlinewidth": 0,
              "ticks": ""
             }
            },
            "marker": {
             "colorbar": {
              "outlinewidth": 0,
              "ticks": ""
             }
            },
            "type": "scatter3d"
           }
          ],
          "scattercarpet": [
           {
            "marker": {
             "colorbar": {
              "outlinewidth": 0,
              "ticks": ""
             }
            },
            "type": "scattercarpet"
           }
          ],
          "scattergeo": [
           {
            "marker": {
             "colorbar": {
              "outlinewidth": 0,
              "ticks": ""
             }
            },
            "type": "scattergeo"
           }
          ],
          "scattergl": [
           {
            "marker": {
             "colorbar": {
              "outlinewidth": 0,
              "ticks": ""
             }
            },
            "type": "scattergl"
           }
          ],
          "scattermapbox": [
           {
            "marker": {
             "colorbar": {
              "outlinewidth": 0,
              "ticks": ""
             }
            },
            "type": "scattermapbox"
           }
          ],
          "scatterpolar": [
           {
            "marker": {
             "colorbar": {
              "outlinewidth": 0,
              "ticks": ""
             }
            },
            "type": "scatterpolar"
           }
          ],
          "scatterpolargl": [
           {
            "marker": {
             "colorbar": {
              "outlinewidth": 0,
              "ticks": ""
             }
            },
            "type": "scatterpolargl"
           }
          ],
          "scatterternary": [
           {
            "marker": {
             "colorbar": {
              "outlinewidth": 0,
              "ticks": ""
             }
            },
            "type": "scatterternary"
           }
          ],
          "surface": [
           {
            "colorbar": {
             "outlinewidth": 0,
             "ticks": ""
            },
            "colorscale": [
             [
              0,
              "#0d0887"
             ],
             [
              0.1111111111111111,
              "#46039f"
             ],
             [
              0.2222222222222222,
              "#7201a8"
             ],
             [
              0.3333333333333333,
              "#9c179e"
             ],
             [
              0.4444444444444444,
              "#bd3786"
             ],
             [
              0.5555555555555556,
              "#d8576b"
             ],
             [
              0.6666666666666666,
              "#ed7953"
             ],
             [
              0.7777777777777778,
              "#fb9f3a"
             ],
             [
              0.8888888888888888,
              "#fdca26"
             ],
             [
              1,
              "#f0f921"
             ]
            ],
            "type": "surface"
           }
          ],
          "table": [
           {
            "cells": {
             "fill": {
              "color": "#EBF0F8"
             },
             "line": {
              "color": "white"
             }
            },
            "header": {
             "fill": {
              "color": "#C8D4E3"
             },
             "line": {
              "color": "white"
             }
            },
            "type": "table"
           }
          ]
         },
         "layout": {
          "annotationdefaults": {
           "arrowcolor": "#2a3f5f",
           "arrowhead": 0,
           "arrowwidth": 1
          },
          "autotypenumbers": "strict",
          "coloraxis": {
           "colorbar": {
            "outlinewidth": 0,
            "ticks": ""
           }
          },
          "colorscale": {
           "diverging": [
            [
             0,
             "#8e0152"
            ],
            [
             0.1,
             "#c51b7d"
            ],
            [
             0.2,
             "#de77ae"
            ],
            [
             0.3,
             "#f1b6da"
            ],
            [
             0.4,
             "#fde0ef"
            ],
            [
             0.5,
             "#f7f7f7"
            ],
            [
             0.6,
             "#e6f5d0"
            ],
            [
             0.7,
             "#b8e186"
            ],
            [
             0.8,
             "#7fbc41"
            ],
            [
             0.9,
             "#4d9221"
            ],
            [
             1,
             "#276419"
            ]
           ],
           "sequential": [
            [
             0,
             "#0d0887"
            ],
            [
             0.1111111111111111,
             "#46039f"
            ],
            [
             0.2222222222222222,
             "#7201a8"
            ],
            [
             0.3333333333333333,
             "#9c179e"
            ],
            [
             0.4444444444444444,
             "#bd3786"
            ],
            [
             0.5555555555555556,
             "#d8576b"
            ],
            [
             0.6666666666666666,
             "#ed7953"
            ],
            [
             0.7777777777777778,
             "#fb9f3a"
            ],
            [
             0.8888888888888888,
             "#fdca26"
            ],
            [
             1,
             "#f0f921"
            ]
           ],
           "sequentialminus": [
            [
             0,
             "#0d0887"
            ],
            [
             0.1111111111111111,
             "#46039f"
            ],
            [
             0.2222222222222222,
             "#7201a8"
            ],
            [
             0.3333333333333333,
             "#9c179e"
            ],
            [
             0.4444444444444444,
             "#bd3786"
            ],
            [
             0.5555555555555556,
             "#d8576b"
            ],
            [
             0.6666666666666666,
             "#ed7953"
            ],
            [
             0.7777777777777778,
             "#fb9f3a"
            ],
            [
             0.8888888888888888,
             "#fdca26"
            ],
            [
             1,
             "#f0f921"
            ]
           ]
          },
          "colorway": [
           "#636efa",
           "#EF553B",
           "#00cc96",
           "#ab63fa",
           "#FFA15A",
           "#19d3f3",
           "#FF6692",
           "#B6E880",
           "#FF97FF",
           "#FECB52"
          ],
          "font": {
           "color": "#2a3f5f"
          },
          "geo": {
           "bgcolor": "white",
           "lakecolor": "white",
           "landcolor": "#E5ECF6",
           "showlakes": true,
           "showland": true,
           "subunitcolor": "white"
          },
          "hoverlabel": {
           "align": "left"
          },
          "hovermode": "closest",
          "mapbox": {
           "style": "light"
          },
          "paper_bgcolor": "white",
          "plot_bgcolor": "#E5ECF6",
          "polar": {
           "angularaxis": {
            "gridcolor": "white",
            "linecolor": "white",
            "ticks": ""
           },
           "bgcolor": "#E5ECF6",
           "radialaxis": {
            "gridcolor": "white",
            "linecolor": "white",
            "ticks": ""
           }
          },
          "scene": {
           "xaxis": {
            "backgroundcolor": "#E5ECF6",
            "gridcolor": "white",
            "gridwidth": 2,
            "linecolor": "white",
            "showbackground": true,
            "ticks": "",
            "zerolinecolor": "white"
           },
           "yaxis": {
            "backgroundcolor": "#E5ECF6",
            "gridcolor": "white",
            "gridwidth": 2,
            "linecolor": "white",
            "showbackground": true,
            "ticks": "",
            "zerolinecolor": "white"
           },
           "zaxis": {
            "backgroundcolor": "#E5ECF6",
            "gridcolor": "white",
            "gridwidth": 2,
            "linecolor": "white",
            "showbackground": true,
            "ticks": "",
            "zerolinecolor": "white"
           }
          },
          "shapedefaults": {
           "line": {
            "color": "#2a3f5f"
           }
          },
          "ternary": {
           "aaxis": {
            "gridcolor": "white",
            "linecolor": "white",
            "ticks": ""
           },
           "baxis": {
            "gridcolor": "white",
            "linecolor": "white",
            "ticks": ""
           },
           "bgcolor": "#E5ECF6",
           "caxis": {
            "gridcolor": "white",
            "linecolor": "white",
            "ticks": ""
           }
          },
          "title": {
           "x": 0.05
          },
          "xaxis": {
           "automargin": true,
           "gridcolor": "white",
           "linecolor": "white",
           "ticks": "",
           "title": {
            "standoff": 15
           },
           "zerolinecolor": "white",
           "zerolinewidth": 2
          },
          "yaxis": {
           "automargin": true,
           "gridcolor": "white",
           "linecolor": "white",
           "ticks": "",
           "title": {
            "standoff": 15
           },
           "zerolinecolor": "white",
           "zerolinewidth": 2
          }
         }
        },
        "title": {
         "text": "Max_Health histogram"
        },
        "xaxis": {
         "anchor": "y",
         "domain": [
          0,
          1
         ],
         "title": {
          "text": "Max_Health"
         }
        },
        "xaxis2": {
         "anchor": "y2",
         "domain": [
          0,
          1
         ],
         "matches": "x",
         "showgrid": true,
         "showticklabels": false
        },
        "yaxis": {
         "anchor": "x",
         "domain": [
          0,
          0.8316
         ],
         "title": {
          "text": "count"
         }
        },
        "yaxis2": {
         "anchor": "x2",
         "domain": [
          0.8416,
          1
         ],
         "matches": "y2",
         "showgrid": false,
         "showline": false,
         "showticklabels": false,
         "ticks": ""
        }
       }
      }
     },
     "metadata": {}
    },
    {
     "output_type": "display_data",
     "data": {
      "application/vnd.plotly.v1+json": {
       "config": {
        "plotlyServerURL": "https://plot.ly"
       },
       "data": [
        {
         "alignmentgroup": "True",
         "bingroup": "x",
         "hovertemplate": "Min_Health_regen=%{x}<br>count=%{y}<extra></extra>",
         "legendgroup": "",
         "marker": {
          "color": "#636efa"
         },
         "name": "",
         "offsetgroup": "",
         "orientation": "v",
         "showlegend": false,
         "type": "histogram",
         "x": [
          6,
          7,
          8,
          7,
          7.5,
          7.5,
          3.75,
          8.5,
          10,
          7,
          3.5,
          7.5,
          9,
          8,
          8.5,
          6,
          6.5,
          8.5,
          8,
          6,
          6,
          8.5,
          8.5,
          3.25,
          3.75,
          7,
          7,
          5,
          7.5,
          5.5,
          7,
          7.5,
          5.5,
          9,
          8.5,
          7.5,
          6.5,
          5,
          8,
          8,
          8,
          8.5,
          9,
          5.5,
          3.5,
          8.5,
          5.5,
          5,
          4,
          9,
          3.25,
          8,
          5.5,
          10,
          8.5,
          5.5,
          7,
          8.5,
          9,
          8.5,
          8,
          3.75,
          8.5,
          3.75,
          3.5,
          9,
          5.5,
          6,
          8,
          7.5,
          3.5,
          5,
          6.5,
          6.5,
          4,
          9,
          5.5,
          5.5,
          5.5,
          8.5,
          9,
          9,
          8,
          3,
          8,
          5.5,
          7,
          4.5,
          8,
          5.5,
          3.5,
          3.5,
          5.5,
          7,
          9.5,
          8.5,
          5.5,
          9,
          5.5,
          8,
          8,
          5.5,
          3.75,
          8,
          9,
          2.5,
          8.5,
          8,
          9,
          9,
          7.5,
          5.5,
          7,
          7,
          7,
          5.5,
          3.25,
          7,
          4,
          5,
          3.75,
          6,
          7.5,
          5.5,
          6,
          7.5,
          7.5,
          3.5,
          5.5,
          7,
          5.5,
          5.5,
          7,
          9,
          3.75,
          8.5,
          7.5,
          4,
          6.5,
          3.5,
          6.5,
          6.5,
          8.5,
          6.5,
          7,
          9.5,
          3.75,
          7,
          3.25,
          7,
          5.5,
          8.5,
          5.5,
          8,
          6,
          9,
          8.5,
          7,
          5.5,
          5,
          5.5,
          7,
          5.5,
          8,
          8,
          5.5,
          7,
          7,
          8,
          8,
          8,
          5.5,
          8.5,
          3.75,
          7,
          7,
          7,
          6.5,
          8.5,
          9,
          8,
          8.5,
          9,
          6.5,
          7,
          8,
          7,
          7,
          6.5,
          6,
          5.5,
          7.5,
          6,
          7,
          7,
          7,
          8,
          5.5,
          5.5,
          4,
          6,
          6
         ],
         "xaxis": "x",
         "yaxis": "y"
        },
        {
         "alignmentgroup": "True",
         "hovertemplate": "Min_Health_regen=%{x}<extra></extra>",
         "legendgroup": "",
         "marker": {
          "color": "#636efa"
         },
         "name": "",
         "offsetgroup": "",
         "scalegroup": "x",
         "showlegend": false,
         "type": "violin",
         "x": [
          6,
          7,
          8,
          7,
          7.5,
          7.5,
          3.75,
          8.5,
          10,
          7,
          3.5,
          7.5,
          9,
          8,
          8.5,
          6,
          6.5,
          8.5,
          8,
          6,
          6,
          8.5,
          8.5,
          3.25,
          3.75,
          7,
          7,
          5,
          7.5,
          5.5,
          7,
          7.5,
          5.5,
          9,
          8.5,
          7.5,
          6.5,
          5,
          8,
          8,
          8,
          8.5,
          9,
          5.5,
          3.5,
          8.5,
          5.5,
          5,
          4,
          9,
          3.25,
          8,
          5.5,
          10,
          8.5,
          5.5,
          7,
          8.5,
          9,
          8.5,
          8,
          3.75,
          8.5,
          3.75,
          3.5,
          9,
          5.5,
          6,
          8,
          7.5,
          3.5,
          5,
          6.5,
          6.5,
          4,
          9,
          5.5,
          5.5,
          5.5,
          8.5,
          9,
          9,
          8,
          3,
          8,
          5.5,
          7,
          4.5,
          8,
          5.5,
          3.5,
          3.5,
          5.5,
          7,
          9.5,
          8.5,
          5.5,
          9,
          5.5,
          8,
          8,
          5.5,
          3.75,
          8,
          9,
          2.5,
          8.5,
          8,
          9,
          9,
          7.5,
          5.5,
          7,
          7,
          7,
          5.5,
          3.25,
          7,
          4,
          5,
          3.75,
          6,
          7.5,
          5.5,
          6,
          7.5,
          7.5,
          3.5,
          5.5,
          7,
          5.5,
          5.5,
          7,
          9,
          3.75,
          8.5,
          7.5,
          4,
          6.5,
          3.5,
          6.5,
          6.5,
          8.5,
          6.5,
          7,
          9.5,
          3.75,
          7,
          3.25,
          7,
          5.5,
          8.5,
          5.5,
          8,
          6,
          9,
          8.5,
          7,
          5.5,
          5,
          5.5,
          7,
          5.5,
          8,
          8,
          5.5,
          7,
          7,
          8,
          8,
          8,
          5.5,
          8.5,
          3.75,
          7,
          7,
          7,
          6.5,
          8.5,
          9,
          8,
          8.5,
          9,
          6.5,
          7,
          8,
          7,
          7,
          6.5,
          6,
          5.5,
          7.5,
          6,
          7,
          7,
          7,
          8,
          5.5,
          5.5,
          4,
          6,
          6
         ],
         "xaxis": "x2",
         "yaxis": "y2"
        }
       ],
       "layout": {
        "barmode": "relative",
        "legend": {
         "tracegroupgap": 0
        },
        "template": {
         "data": {
          "bar": [
           {
            "error_x": {
             "color": "#2a3f5f"
            },
            "error_y": {
             "color": "#2a3f5f"
            },
            "marker": {
             "line": {
              "color": "#E5ECF6",
              "width": 0.5
             }
            },
            "type": "bar"
           }
          ],
          "barpolar": [
           {
            "marker": {
             "line": {
              "color": "#E5ECF6",
              "width": 0.5
             }
            },
            "type": "barpolar"
           }
          ],
          "carpet": [
           {
            "aaxis": {
             "endlinecolor": "#2a3f5f",
             "gridcolor": "white",
             "linecolor": "white",
             "minorgridcolor": "white",
             "startlinecolor": "#2a3f5f"
            },
            "baxis": {
             "endlinecolor": "#2a3f5f",
             "gridcolor": "white",
             "linecolor": "white",
             "minorgridcolor": "white",
             "startlinecolor": "#2a3f5f"
            },
            "type": "carpet"
           }
          ],
          "choropleth": [
           {
            "colorbar": {
             "outlinewidth": 0,
             "ticks": ""
            },
            "type": "choropleth"
           }
          ],
          "contour": [
           {
            "colorbar": {
             "outlinewidth": 0,
             "ticks": ""
            },
            "colorscale": [
             [
              0,
              "#0d0887"
             ],
             [
              0.1111111111111111,
              "#46039f"
             ],
             [
              0.2222222222222222,
              "#7201a8"
             ],
             [
              0.3333333333333333,
              "#9c179e"
             ],
             [
              0.4444444444444444,
              "#bd3786"
             ],
             [
              0.5555555555555556,
              "#d8576b"
             ],
             [
              0.6666666666666666,
              "#ed7953"
             ],
             [
              0.7777777777777778,
              "#fb9f3a"
             ],
             [
              0.8888888888888888,
              "#fdca26"
             ],
             [
              1,
              "#f0f921"
             ]
            ],
            "type": "contour"
           }
          ],
          "contourcarpet": [
           {
            "colorbar": {
             "outlinewidth": 0,
             "ticks": ""
            },
            "type": "contourcarpet"
           }
          ],
          "heatmap": [
           {
            "colorbar": {
             "outlinewidth": 0,
             "ticks": ""
            },
            "colorscale": [
             [
              0,
              "#0d0887"
             ],
             [
              0.1111111111111111,
              "#46039f"
             ],
             [
              0.2222222222222222,
              "#7201a8"
             ],
             [
              0.3333333333333333,
              "#9c179e"
             ],
             [
              0.4444444444444444,
              "#bd3786"
             ],
             [
              0.5555555555555556,
              "#d8576b"
             ],
             [
              0.6666666666666666,
              "#ed7953"
             ],
             [
              0.7777777777777778,
              "#fb9f3a"
             ],
             [
              0.8888888888888888,
              "#fdca26"
             ],
             [
              1,
              "#f0f921"
             ]
            ],
            "type": "heatmap"
           }
          ],
          "heatmapgl": [
           {
            "colorbar": {
             "outlinewidth": 0,
             "ticks": ""
            },
            "colorscale": [
             [
              0,
              "#0d0887"
             ],
             [
              0.1111111111111111,
              "#46039f"
             ],
             [
              0.2222222222222222,
              "#7201a8"
             ],
             [
              0.3333333333333333,
              "#9c179e"
             ],
             [
              0.4444444444444444,
              "#bd3786"
             ],
             [
              0.5555555555555556,
              "#d8576b"
             ],
             [
              0.6666666666666666,
              "#ed7953"
             ],
             [
              0.7777777777777778,
              "#fb9f3a"
             ],
             [
              0.8888888888888888,
              "#fdca26"
             ],
             [
              1,
              "#f0f921"
             ]
            ],
            "type": "heatmapgl"
           }
          ],
          "histogram": [
           {
            "marker": {
             "colorbar": {
              "outlinewidth": 0,
              "ticks": ""
             }
            },
            "type": "histogram"
           }
          ],
          "histogram2d": [
           {
            "colorbar": {
             "outlinewidth": 0,
             "ticks": ""
            },
            "colorscale": [
             [
              0,
              "#0d0887"
             ],
             [
              0.1111111111111111,
              "#46039f"
             ],
             [
              0.2222222222222222,
              "#7201a8"
             ],
             [
              0.3333333333333333,
              "#9c179e"
             ],
             [
              0.4444444444444444,
              "#bd3786"
             ],
             [
              0.5555555555555556,
              "#d8576b"
             ],
             [
              0.6666666666666666,
              "#ed7953"
             ],
             [
              0.7777777777777778,
              "#fb9f3a"
             ],
             [
              0.8888888888888888,
              "#fdca26"
             ],
             [
              1,
              "#f0f921"
             ]
            ],
            "type": "histogram2d"
           }
          ],
          "histogram2dcontour": [
           {
            "colorbar": {
             "outlinewidth": 0,
             "ticks": ""
            },
            "colorscale": [
             [
              0,
              "#0d0887"
             ],
             [
              0.1111111111111111,
              "#46039f"
             ],
             [
              0.2222222222222222,
              "#7201a8"
             ],
             [
              0.3333333333333333,
              "#9c179e"
             ],
             [
              0.4444444444444444,
              "#bd3786"
             ],
             [
              0.5555555555555556,
              "#d8576b"
             ],
             [
              0.6666666666666666,
              "#ed7953"
             ],
             [
              0.7777777777777778,
              "#fb9f3a"
             ],
             [
              0.8888888888888888,
              "#fdca26"
             ],
             [
              1,
              "#f0f921"
             ]
            ],
            "type": "histogram2dcontour"
           }
          ],
          "mesh3d": [
           {
            "colorbar": {
             "outlinewidth": 0,
             "ticks": ""
            },
            "type": "mesh3d"
           }
          ],
          "parcoords": [
           {
            "line": {
             "colorbar": {
              "outlinewidth": 0,
              "ticks": ""
             }
            },
            "type": "parcoords"
           }
          ],
          "pie": [
           {
            "automargin": true,
            "type": "pie"
           }
          ],
          "scatter": [
           {
            "marker": {
             "colorbar": {
              "outlinewidth": 0,
              "ticks": ""
             }
            },
            "type": "scatter"
           }
          ],
          "scatter3d": [
           {
            "line": {
             "colorbar": {
              "outlinewidth": 0,
              "ticks": ""
             }
            },
            "marker": {
             "colorbar": {
              "outlinewidth": 0,
              "ticks": ""
             }
            },
            "type": "scatter3d"
           }
          ],
          "scattercarpet": [
           {
            "marker": {
             "colorbar": {
              "outlinewidth": 0,
              "ticks": ""
             }
            },
            "type": "scattercarpet"
           }
          ],
          "scattergeo": [
           {
            "marker": {
             "colorbar": {
              "outlinewidth": 0,
              "ticks": ""
             }
            },
            "type": "scattergeo"
           }
          ],
          "scattergl": [
           {
            "marker": {
             "colorbar": {
              "outlinewidth": 0,
              "ticks": ""
             }
            },
            "type": "scattergl"
           }
          ],
          "scattermapbox": [
           {
            "marker": {
             "colorbar": {
              "outlinewidth": 0,
              "ticks": ""
             }
            },
            "type": "scattermapbox"
           }
          ],
          "scatterpolar": [
           {
            "marker": {
             "colorbar": {
              "outlinewidth": 0,
              "ticks": ""
             }
            },
            "type": "scatterpolar"
           }
          ],
          "scatterpolargl": [
           {
            "marker": {
             "colorbar": {
              "outlinewidth": 0,
              "ticks": ""
             }
            },
            "type": "scatterpolargl"
           }
          ],
          "scatterternary": [
           {
            "marker": {
             "colorbar": {
              "outlinewidth": 0,
              "ticks": ""
             }
            },
            "type": "scatterternary"
           }
          ],
          "surface": [
           {
            "colorbar": {
             "outlinewidth": 0,
             "ticks": ""
            },
            "colorscale": [
             [
              0,
              "#0d0887"
             ],
             [
              0.1111111111111111,
              "#46039f"
             ],
             [
              0.2222222222222222,
              "#7201a8"
             ],
             [
              0.3333333333333333,
              "#9c179e"
             ],
             [
              0.4444444444444444,
              "#bd3786"
             ],
             [
              0.5555555555555556,
              "#d8576b"
             ],
             [
              0.6666666666666666,
              "#ed7953"
             ],
             [
              0.7777777777777778,
              "#fb9f3a"
             ],
             [
              0.8888888888888888,
              "#fdca26"
             ],
             [
              1,
              "#f0f921"
             ]
            ],
            "type": "surface"
           }
          ],
          "table": [
           {
            "cells": {
             "fill": {
              "color": "#EBF0F8"
             },
             "line": {
              "color": "white"
             }
            },
            "header": {
             "fill": {
              "color": "#C8D4E3"
             },
             "line": {
              "color": "white"
             }
            },
            "type": "table"
           }
          ]
         },
         "layout": {
          "annotationdefaults": {
           "arrowcolor": "#2a3f5f",
           "arrowhead": 0,
           "arrowwidth": 1
          },
          "autotypenumbers": "strict",
          "coloraxis": {
           "colorbar": {
            "outlinewidth": 0,
            "ticks": ""
           }
          },
          "colorscale": {
           "diverging": [
            [
             0,
             "#8e0152"
            ],
            [
             0.1,
             "#c51b7d"
            ],
            [
             0.2,
             "#de77ae"
            ],
            [
             0.3,
             "#f1b6da"
            ],
            [
             0.4,
             "#fde0ef"
            ],
            [
             0.5,
             "#f7f7f7"
            ],
            [
             0.6,
             "#e6f5d0"
            ],
            [
             0.7,
             "#b8e186"
            ],
            [
             0.8,
             "#7fbc41"
            ],
            [
             0.9,
             "#4d9221"
            ],
            [
             1,
             "#276419"
            ]
           ],
           "sequential": [
            [
             0,
             "#0d0887"
            ],
            [
             0.1111111111111111,
             "#46039f"
            ],
            [
             0.2222222222222222,
             "#7201a8"
            ],
            [
             0.3333333333333333,
             "#9c179e"
            ],
            [
             0.4444444444444444,
             "#bd3786"
            ],
            [
             0.5555555555555556,
             "#d8576b"
            ],
            [
             0.6666666666666666,
             "#ed7953"
            ],
            [
             0.7777777777777778,
             "#fb9f3a"
            ],
            [
             0.8888888888888888,
             "#fdca26"
            ],
            [
             1,
             "#f0f921"
            ]
           ],
           "sequentialminus": [
            [
             0,
             "#0d0887"
            ],
            [
             0.1111111111111111,
             "#46039f"
            ],
            [
             0.2222222222222222,
             "#7201a8"
            ],
            [
             0.3333333333333333,
             "#9c179e"
            ],
            [
             0.4444444444444444,
             "#bd3786"
            ],
            [
             0.5555555555555556,
             "#d8576b"
            ],
            [
             0.6666666666666666,
             "#ed7953"
            ],
            [
             0.7777777777777778,
             "#fb9f3a"
            ],
            [
             0.8888888888888888,
             "#fdca26"
            ],
            [
             1,
             "#f0f921"
            ]
           ]
          },
          "colorway": [
           "#636efa",
           "#EF553B",
           "#00cc96",
           "#ab63fa",
           "#FFA15A",
           "#19d3f3",
           "#FF6692",
           "#B6E880",
           "#FF97FF",
           "#FECB52"
          ],
          "font": {
           "color": "#2a3f5f"
          },
          "geo": {
           "bgcolor": "white",
           "lakecolor": "white",
           "landcolor": "#E5ECF6",
           "showlakes": true,
           "showland": true,
           "subunitcolor": "white"
          },
          "hoverlabel": {
           "align": "left"
          },
          "hovermode": "closest",
          "mapbox": {
           "style": "light"
          },
          "paper_bgcolor": "white",
          "plot_bgcolor": "#E5ECF6",
          "polar": {
           "angularaxis": {
            "gridcolor": "white",
            "linecolor": "white",
            "ticks": ""
           },
           "bgcolor": "#E5ECF6",
           "radialaxis": {
            "gridcolor": "white",
            "linecolor": "white",
            "ticks": ""
           }
          },
          "scene": {
           "xaxis": {
            "backgroundcolor": "#E5ECF6",
            "gridcolor": "white",
            "gridwidth": 2,
            "linecolor": "white",
            "showbackground": true,
            "ticks": "",
            "zerolinecolor": "white"
           },
           "yaxis": {
            "backgroundcolor": "#E5ECF6",
            "gridcolor": "white",
            "gridwidth": 2,
            "linecolor": "white",
            "showbackground": true,
            "ticks": "",
            "zerolinecolor": "white"
           },
           "zaxis": {
            "backgroundcolor": "#E5ECF6",
            "gridcolor": "white",
            "gridwidth": 2,
            "linecolor": "white",
            "showbackground": true,
            "ticks": "",
            "zerolinecolor": "white"
           }
          },
          "shapedefaults": {
           "line": {
            "color": "#2a3f5f"
           }
          },
          "ternary": {
           "aaxis": {
            "gridcolor": "white",
            "linecolor": "white",
            "ticks": ""
           },
           "baxis": {
            "gridcolor": "white",
            "linecolor": "white",
            "ticks": ""
           },
           "bgcolor": "#E5ECF6",
           "caxis": {
            "gridcolor": "white",
            "linecolor": "white",
            "ticks": ""
           }
          },
          "title": {
           "x": 0.05
          },
          "xaxis": {
           "automargin": true,
           "gridcolor": "white",
           "linecolor": "white",
           "ticks": "",
           "title": {
            "standoff": 15
           },
           "zerolinecolor": "white",
           "zerolinewidth": 2
          },
          "yaxis": {
           "automargin": true,
           "gridcolor": "white",
           "linecolor": "white",
           "ticks": "",
           "title": {
            "standoff": 15
           },
           "zerolinecolor": "white",
           "zerolinewidth": 2
          }
         }
        },
        "title": {
         "text": "Min_Health_regen histogram"
        },
        "xaxis": {
         "anchor": "y",
         "domain": [
          0,
          1
         ],
         "title": {
          "text": "Min_Health_regen"
         }
        },
        "xaxis2": {
         "anchor": "y2",
         "domain": [
          0,
          1
         ],
         "matches": "x",
         "showgrid": true,
         "showticklabels": false
        },
        "yaxis": {
         "anchor": "x",
         "domain": [
          0,
          0.8316
         ],
         "title": {
          "text": "count"
         }
        },
        "yaxis2": {
         "anchor": "x2",
         "domain": [
          0.8416,
          1
         ],
         "matches": "y2",
         "showgrid": false,
         "showline": false,
         "showticklabels": false,
         "ticks": ""
        }
       }
      }
     },
     "metadata": {}
    },
    {
     "output_type": "display_data",
     "data": {
      "application/vnd.plotly.v1+json": {
       "config": {
        "plotlyServerURL": "https://plot.ly"
       },
       "data": [
        {
         "alignmentgroup": "True",
         "bingroup": "x",
         "hovertemplate": "Max_Health_regen=%{x}<br>count=%{y}<extra></extra>",
         "legendgroup": "",
         "marker": {
          "color": "#636efa"
         },
         "name": "",
         "offsetgroup": "",
         "orientation": "v",
         "showlegend": false,
         "type": "histogram",
         "x": [
          16.2,
          16.35,
          16.5,
          19.75,
          20.25,
          19.4,
          12.25,
          17.85,
          26.15,
          18.05,
          12.85,
          19.4,
          24.3,
          21.6,
          22.1,
          14.5,
          21.8,
          17,
          19.05,
          18.75,
          16.2,
          22.95,
          17.85,
          12.6,
          14.8,
          16.35,
          16.35,
          17.75,
          20.25,
          15.7,
          16.35,
          20.25,
          14.85,
          21.75,
          25.5,
          19.4,
          16.7,
          17.75,
          21.6,
          19.9,
          16.5,
          17.85,
          23.45,
          14.85,
          12.85,
          21.25,
          12.3,
          18.6,
          13.35,
          24.3,
          12.6,
          20.75,
          14,
          27,
          22.95,
          15.7,
          16.35,
          21.25,
          24.3,
          21.25,
          20.75,
          13.1,
          17.85,
          13.95,
          12.85,
          23.45,
          15.7,
          18.75,
          19.9,
          21.1,
          12.85,
          17.75,
          16.7,
          16.7,
          16.75,
          23.45,
          15.7,
          14.85,
          14.85,
          21.25,
          21.75,
          24.3,
          21.6,
          20,
          16.5,
          14.85,
          16.35,
          34.25,
          20.75,
          14.85,
          12.85,
          12.85,
          14,
          15.5,
          23.1,
          17.85,
          16.55,
          21.75,
          14.85,
          21.6,
          21.6,
          14.85,
          14.8,
          19.9,
          24.3,
          11,
          22.1,
          19.9,
          20.05,
          20.05,
          21.95,
          14.85,
          15.5,
          16.35,
          15.5,
          14.85,
          16,
          19.75,
          16.75,
          13.5,
          15.65,
          16.2,
          18.55,
          14,
          16.2,
          20.25,
          16.85,
          12.85,
          14.85,
          17.2,
          14,
          14.85,
          21.45,
          24.3,
          14.8,
          22.95,
          18.55,
          15.05,
          16.7,
          12.85,
          21.8,
          16.7,
          23.8,
          15.85,
          15.5,
          18.85,
          14.8,
          16.35,
          12.6,
          19.75,
          14.85,
          25.5,
          14.85,
          17.35,
          16.2,
          24.3,
          23.8,
          18.9,
          14.85,
          13.5,
          16.55,
          17.2,
          14,
          21.6,
          21.6,
          14,
          15.5,
          18.05,
          16.5,
          18.2,
          18.2,
          14.85,
          22.95,
          13.1,
          18.9,
          18.9,
          18.9,
          15.85,
          17,
          20.05,
          20.75,
          17.85,
          23.45,
          16.7,
          19.75,
          16.5,
          16.35,
          16.35,
          16.7,
          16.2,
          14,
          20.25,
          14.5,
          18.05,
          18.05,
          17.2,
          21.6,
          14,
          14.85,
          15.05,
          18.75,
          18.75
         ],
         "xaxis": "x",
         "yaxis": "y"
        },
        {
         "alignmentgroup": "True",
         "hovertemplate": "Max_Health_regen=%{x}<extra></extra>",
         "legendgroup": "",
         "marker": {
          "color": "#636efa"
         },
         "name": "",
         "offsetgroup": "",
         "scalegroup": "x",
         "showlegend": false,
         "type": "violin",
         "x": [
          16.2,
          16.35,
          16.5,
          19.75,
          20.25,
          19.4,
          12.25,
          17.85,
          26.15,
          18.05,
          12.85,
          19.4,
          24.3,
          21.6,
          22.1,
          14.5,
          21.8,
          17,
          19.05,
          18.75,
          16.2,
          22.95,
          17.85,
          12.6,
          14.8,
          16.35,
          16.35,
          17.75,
          20.25,
          15.7,
          16.35,
          20.25,
          14.85,
          21.75,
          25.5,
          19.4,
          16.7,
          17.75,
          21.6,
          19.9,
          16.5,
          17.85,
          23.45,
          14.85,
          12.85,
          21.25,
          12.3,
          18.6,
          13.35,
          24.3,
          12.6,
          20.75,
          14,
          27,
          22.95,
          15.7,
          16.35,
          21.25,
          24.3,
          21.25,
          20.75,
          13.1,
          17.85,
          13.95,
          12.85,
          23.45,
          15.7,
          18.75,
          19.9,
          21.1,
          12.85,
          17.75,
          16.7,
          16.7,
          16.75,
          23.45,
          15.7,
          14.85,
          14.85,
          21.25,
          21.75,
          24.3,
          21.6,
          20,
          16.5,
          14.85,
          16.35,
          34.25,
          20.75,
          14.85,
          12.85,
          12.85,
          14,
          15.5,
          23.1,
          17.85,
          16.55,
          21.75,
          14.85,
          21.6,
          21.6,
          14.85,
          14.8,
          19.9,
          24.3,
          11,
          22.1,
          19.9,
          20.05,
          20.05,
          21.95,
          14.85,
          15.5,
          16.35,
          15.5,
          14.85,
          16,
          19.75,
          16.75,
          13.5,
          15.65,
          16.2,
          18.55,
          14,
          16.2,
          20.25,
          16.85,
          12.85,
          14.85,
          17.2,
          14,
          14.85,
          21.45,
          24.3,
          14.8,
          22.95,
          18.55,
          15.05,
          16.7,
          12.85,
          21.8,
          16.7,
          23.8,
          15.85,
          15.5,
          18.85,
          14.8,
          16.35,
          12.6,
          19.75,
          14.85,
          25.5,
          14.85,
          17.35,
          16.2,
          24.3,
          23.8,
          18.9,
          14.85,
          13.5,
          16.55,
          17.2,
          14,
          21.6,
          21.6,
          14,
          15.5,
          18.05,
          16.5,
          18.2,
          18.2,
          14.85,
          22.95,
          13.1,
          18.9,
          18.9,
          18.9,
          15.85,
          17,
          20.05,
          20.75,
          17.85,
          23.45,
          16.7,
          19.75,
          16.5,
          16.35,
          16.35,
          16.7,
          16.2,
          14,
          20.25,
          14.5,
          18.05,
          18.05,
          17.2,
          21.6,
          14,
          14.85,
          15.05,
          18.75,
          18.75
         ],
         "xaxis": "x2",
         "yaxis": "y2"
        }
       ],
       "layout": {
        "barmode": "relative",
        "legend": {
         "tracegroupgap": 0
        },
        "template": {
         "data": {
          "bar": [
           {
            "error_x": {
             "color": "#2a3f5f"
            },
            "error_y": {
             "color": "#2a3f5f"
            },
            "marker": {
             "line": {
              "color": "#E5ECF6",
              "width": 0.5
             }
            },
            "type": "bar"
           }
          ],
          "barpolar": [
           {
            "marker": {
             "line": {
              "color": "#E5ECF6",
              "width": 0.5
             }
            },
            "type": "barpolar"
           }
          ],
          "carpet": [
           {
            "aaxis": {
             "endlinecolor": "#2a3f5f",
             "gridcolor": "white",
             "linecolor": "white",
             "minorgridcolor": "white",
             "startlinecolor": "#2a3f5f"
            },
            "baxis": {
             "endlinecolor": "#2a3f5f",
             "gridcolor": "white",
             "linecolor": "white",
             "minorgridcolor": "white",
             "startlinecolor": "#2a3f5f"
            },
            "type": "carpet"
           }
          ],
          "choropleth": [
           {
            "colorbar": {
             "outlinewidth": 0,
             "ticks": ""
            },
            "type": "choropleth"
           }
          ],
          "contour": [
           {
            "colorbar": {
             "outlinewidth": 0,
             "ticks": ""
            },
            "colorscale": [
             [
              0,
              "#0d0887"
             ],
             [
              0.1111111111111111,
              "#46039f"
             ],
             [
              0.2222222222222222,
              "#7201a8"
             ],
             [
              0.3333333333333333,
              "#9c179e"
             ],
             [
              0.4444444444444444,
              "#bd3786"
             ],
             [
              0.5555555555555556,
              "#d8576b"
             ],
             [
              0.6666666666666666,
              "#ed7953"
             ],
             [
              0.7777777777777778,
              "#fb9f3a"
             ],
             [
              0.8888888888888888,
              "#fdca26"
             ],
             [
              1,
              "#f0f921"
             ]
            ],
            "type": "contour"
           }
          ],
          "contourcarpet": [
           {
            "colorbar": {
             "outlinewidth": 0,
             "ticks": ""
            },
            "type": "contourcarpet"
           }
          ],
          "heatmap": [
           {
            "colorbar": {
             "outlinewidth": 0,
             "ticks": ""
            },
            "colorscale": [
             [
              0,
              "#0d0887"
             ],
             [
              0.1111111111111111,
              "#46039f"
             ],
             [
              0.2222222222222222,
              "#7201a8"
             ],
             [
              0.3333333333333333,
              "#9c179e"
             ],
             [
              0.4444444444444444,
              "#bd3786"
             ],
             [
              0.5555555555555556,
              "#d8576b"
             ],
             [
              0.6666666666666666,
              "#ed7953"
             ],
             [
              0.7777777777777778,
              "#fb9f3a"
             ],
             [
              0.8888888888888888,
              "#fdca26"
             ],
             [
              1,
              "#f0f921"
             ]
            ],
            "type": "heatmap"
           }
          ],
          "heatmapgl": [
           {
            "colorbar": {
             "outlinewidth": 0,
             "ticks": ""
            },
            "colorscale": [
             [
              0,
              "#0d0887"
             ],
             [
              0.1111111111111111,
              "#46039f"
             ],
             [
              0.2222222222222222,
              "#7201a8"
             ],
             [
              0.3333333333333333,
              "#9c179e"
             ],
             [
              0.4444444444444444,
              "#bd3786"
             ],
             [
              0.5555555555555556,
              "#d8576b"
             ],
             [
              0.6666666666666666,
              "#ed7953"
             ],
             [
              0.7777777777777778,
              "#fb9f3a"
             ],
             [
              0.8888888888888888,
              "#fdca26"
             ],
             [
              1,
              "#f0f921"
             ]
            ],
            "type": "heatmapgl"
           }
          ],
          "histogram": [
           {
            "marker": {
             "colorbar": {
              "outlinewidth": 0,
              "ticks": ""
             }
            },
            "type": "histogram"
           }
          ],
          "histogram2d": [
           {
            "colorbar": {
             "outlinewidth": 0,
             "ticks": ""
            },
            "colorscale": [
             [
              0,
              "#0d0887"
             ],
             [
              0.1111111111111111,
              "#46039f"
             ],
             [
              0.2222222222222222,
              "#7201a8"
             ],
             [
              0.3333333333333333,
              "#9c179e"
             ],
             [
              0.4444444444444444,
              "#bd3786"
             ],
             [
              0.5555555555555556,
              "#d8576b"
             ],
             [
              0.6666666666666666,
              "#ed7953"
             ],
             [
              0.7777777777777778,
              "#fb9f3a"
             ],
             [
              0.8888888888888888,
              "#fdca26"
             ],
             [
              1,
              "#f0f921"
             ]
            ],
            "type": "histogram2d"
           }
          ],
          "histogram2dcontour": [
           {
            "colorbar": {
             "outlinewidth": 0,
             "ticks": ""
            },
            "colorscale": [
             [
              0,
              "#0d0887"
             ],
             [
              0.1111111111111111,
              "#46039f"
             ],
             [
              0.2222222222222222,
              "#7201a8"
             ],
             [
              0.3333333333333333,
              "#9c179e"
             ],
             [
              0.4444444444444444,
              "#bd3786"
             ],
             [
              0.5555555555555556,
              "#d8576b"
             ],
             [
              0.6666666666666666,
              "#ed7953"
             ],
             [
              0.7777777777777778,
              "#fb9f3a"
             ],
             [
              0.8888888888888888,
              "#fdca26"
             ],
             [
              1,
              "#f0f921"
             ]
            ],
            "type": "histogram2dcontour"
           }
          ],
          "mesh3d": [
           {
            "colorbar": {
             "outlinewidth": 0,
             "ticks": ""
            },
            "type": "mesh3d"
           }
          ],
          "parcoords": [
           {
            "line": {
             "colorbar": {
              "outlinewidth": 0,
              "ticks": ""
             }
            },
            "type": "parcoords"
           }
          ],
          "pie": [
           {
            "automargin": true,
            "type": "pie"
           }
          ],
          "scatter": [
           {
            "marker": {
             "colorbar": {
              "outlinewidth": 0,
              "ticks": ""
             }
            },
            "type": "scatter"
           }
          ],
          "scatter3d": [
           {
            "line": {
             "colorbar": {
              "outlinewidth": 0,
              "ticks": ""
             }
            },
            "marker": {
             "colorbar": {
              "outlinewidth": 0,
              "ticks": ""
             }
            },
            "type": "scatter3d"
           }
          ],
          "scattercarpet": [
           {
            "marker": {
             "colorbar": {
              "outlinewidth": 0,
              "ticks": ""
             }
            },
            "type": "scattercarpet"
           }
          ],
          "scattergeo": [
           {
            "marker": {
             "colorbar": {
              "outlinewidth": 0,
              "ticks": ""
             }
            },
            "type": "scattergeo"
           }
          ],
          "scattergl": [
           {
            "marker": {
             "colorbar": {
              "outlinewidth": 0,
              "ticks": ""
             }
            },
            "type": "scattergl"
           }
          ],
          "scattermapbox": [
           {
            "marker": {
             "colorbar": {
              "outlinewidth": 0,
              "ticks": ""
             }
            },
            "type": "scattermapbox"
           }
          ],
          "scatterpolar": [
           {
            "marker": {
             "colorbar": {
              "outlinewidth": 0,
              "ticks": ""
             }
            },
            "type": "scatterpolar"
           }
          ],
          "scatterpolargl": [
           {
            "marker": {
             "colorbar": {
              "outlinewidth": 0,
              "ticks": ""
             }
            },
            "type": "scatterpolargl"
           }
          ],
          "scatterternary": [
           {
            "marker": {
             "colorbar": {
              "outlinewidth": 0,
              "ticks": ""
             }
            },
            "type": "scatterternary"
           }
          ],
          "surface": [
           {
            "colorbar": {
             "outlinewidth": 0,
             "ticks": ""
            },
            "colorscale": [
             [
              0,
              "#0d0887"
             ],
             [
              0.1111111111111111,
              "#46039f"
             ],
             [
              0.2222222222222222,
              "#7201a8"
             ],
             [
              0.3333333333333333,
              "#9c179e"
             ],
             [
              0.4444444444444444,
              "#bd3786"
             ],
             [
              0.5555555555555556,
              "#d8576b"
             ],
             [
              0.6666666666666666,
              "#ed7953"
             ],
             [
              0.7777777777777778,
              "#fb9f3a"
             ],
             [
              0.8888888888888888,
              "#fdca26"
             ],
             [
              1,
              "#f0f921"
             ]
            ],
            "type": "surface"
           }
          ],
          "table": [
           {
            "cells": {
             "fill": {
              "color": "#EBF0F8"
             },
             "line": {
              "color": "white"
             }
            },
            "header": {
             "fill": {
              "color": "#C8D4E3"
             },
             "line": {
              "color": "white"
             }
            },
            "type": "table"
           }
          ]
         },
         "layout": {
          "annotationdefaults": {
           "arrowcolor": "#2a3f5f",
           "arrowhead": 0,
           "arrowwidth": 1
          },
          "autotypenumbers": "strict",
          "coloraxis": {
           "colorbar": {
            "outlinewidth": 0,
            "ticks": ""
           }
          },
          "colorscale": {
           "diverging": [
            [
             0,
             "#8e0152"
            ],
            [
             0.1,
             "#c51b7d"
            ],
            [
             0.2,
             "#de77ae"
            ],
            [
             0.3,
             "#f1b6da"
            ],
            [
             0.4,
             "#fde0ef"
            ],
            [
             0.5,
             "#f7f7f7"
            ],
            [
             0.6,
             "#e6f5d0"
            ],
            [
             0.7,
             "#b8e186"
            ],
            [
             0.8,
             "#7fbc41"
            ],
            [
             0.9,
             "#4d9221"
            ],
            [
             1,
             "#276419"
            ]
           ],
           "sequential": [
            [
             0,
             "#0d0887"
            ],
            [
             0.1111111111111111,
             "#46039f"
            ],
            [
             0.2222222222222222,
             "#7201a8"
            ],
            [
             0.3333333333333333,
             "#9c179e"
            ],
            [
             0.4444444444444444,
             "#bd3786"
            ],
            [
             0.5555555555555556,
             "#d8576b"
            ],
            [
             0.6666666666666666,
             "#ed7953"
            ],
            [
             0.7777777777777778,
             "#fb9f3a"
            ],
            [
             0.8888888888888888,
             "#fdca26"
            ],
            [
             1,
             "#f0f921"
            ]
           ],
           "sequentialminus": [
            [
             0,
             "#0d0887"
            ],
            [
             0.1111111111111111,
             "#46039f"
            ],
            [
             0.2222222222222222,
             "#7201a8"
            ],
            [
             0.3333333333333333,
             "#9c179e"
            ],
            [
             0.4444444444444444,
             "#bd3786"
            ],
            [
             0.5555555555555556,
             "#d8576b"
            ],
            [
             0.6666666666666666,
             "#ed7953"
            ],
            [
             0.7777777777777778,
             "#fb9f3a"
            ],
            [
             0.8888888888888888,
             "#fdca26"
            ],
            [
             1,
             "#f0f921"
            ]
           ]
          },
          "colorway": [
           "#636efa",
           "#EF553B",
           "#00cc96",
           "#ab63fa",
           "#FFA15A",
           "#19d3f3",
           "#FF6692",
           "#B6E880",
           "#FF97FF",
           "#FECB52"
          ],
          "font": {
           "color": "#2a3f5f"
          },
          "geo": {
           "bgcolor": "white",
           "lakecolor": "white",
           "landcolor": "#E5ECF6",
           "showlakes": true,
           "showland": true,
           "subunitcolor": "white"
          },
          "hoverlabel": {
           "align": "left"
          },
          "hovermode": "closest",
          "mapbox": {
           "style": "light"
          },
          "paper_bgcolor": "white",
          "plot_bgcolor": "#E5ECF6",
          "polar": {
           "angularaxis": {
            "gridcolor": "white",
            "linecolor": "white",
            "ticks": ""
           },
           "bgcolor": "#E5ECF6",
           "radialaxis": {
            "gridcolor": "white",
            "linecolor": "white",
            "ticks": ""
           }
          },
          "scene": {
           "xaxis": {
            "backgroundcolor": "#E5ECF6",
            "gridcolor": "white",
            "gridwidth": 2,
            "linecolor": "white",
            "showbackground": true,
            "ticks": "",
            "zerolinecolor": "white"
           },
           "yaxis": {
            "backgroundcolor": "#E5ECF6",
            "gridcolor": "white",
            "gridwidth": 2,
            "linecolor": "white",
            "showbackground": true,
            "ticks": "",
            "zerolinecolor": "white"
           },
           "zaxis": {
            "backgroundcolor": "#E5ECF6",
            "gridcolor": "white",
            "gridwidth": 2,
            "linecolor": "white",
            "showbackground": true,
            "ticks": "",
            "zerolinecolor": "white"
           }
          },
          "shapedefaults": {
           "line": {
            "color": "#2a3f5f"
           }
          },
          "ternary": {
           "aaxis": {
            "gridcolor": "white",
            "linecolor": "white",
            "ticks": ""
           },
           "baxis": {
            "gridcolor": "white",
            "linecolor": "white",
            "ticks": ""
           },
           "bgcolor": "#E5ECF6",
           "caxis": {
            "gridcolor": "white",
            "linecolor": "white",
            "ticks": ""
           }
          },
          "title": {
           "x": 0.05
          },
          "xaxis": {
           "automargin": true,
           "gridcolor": "white",
           "linecolor": "white",
           "ticks": "",
           "title": {
            "standoff": 15
           },
           "zerolinecolor": "white",
           "zerolinewidth": 2
          },
          "yaxis": {
           "automargin": true,
           "gridcolor": "white",
           "linecolor": "white",
           "ticks": "",
           "title": {
            "standoff": 15
           },
           "zerolinecolor": "white",
           "zerolinewidth": 2
          }
         }
        },
        "title": {
         "text": "Max_Health_regen histogram"
        },
        "xaxis": {
         "anchor": "y",
         "domain": [
          0,
          1
         ],
         "title": {
          "text": "Max_Health_regen"
         }
        },
        "xaxis2": {
         "anchor": "y2",
         "domain": [
          0,
          1
         ],
         "matches": "x",
         "showgrid": true,
         "showticklabels": false
        },
        "yaxis": {
         "anchor": "x",
         "domain": [
          0,
          0.8316
         ],
         "title": {
          "text": "count"
         }
        },
        "yaxis2": {
         "anchor": "x2",
         "domain": [
          0.8416,
          1
         ],
         "matches": "y2",
         "showgrid": false,
         "showline": false,
         "showticklabels": false,
         "ticks": ""
        }
       }
      }
     },
     "metadata": {}
    },
    {
     "output_type": "display_data",
     "data": {
      "application/vnd.plotly.v1+json": {
       "config": {
        "plotlyServerURL": "https://plot.ly"
       },
       "data": [
        {
         "alignmentgroup": "True",
         "bingroup": "x",
         "hovertemplate": "Min_Armor=%{x}<br>count=%{y}<extra></extra>",
         "legendgroup": "",
         "marker": {
          "color": "#636efa"
         },
         "name": "",
         "offsetgroup": "",
         "orientation": "v",
         "showlegend": false,
         "type": "histogram",
         "x": [
          29,
          28,
          36,
          36,
          28,
          28,
          28,
          30,
          39,
          32,
          28,
          36,
          27,
          39,
          35,
          19,
          30,
          33,
          23,
          34,
          18,
          47,
          33,
          26,
          26,
          37,
          37,
          39,
          36,
          27,
          25,
          28,
          34,
          31,
          47,
          36,
          23,
          37,
          24,
          33,
          23,
          30,
          30,
          19,
          23,
          34,
          25,
          29,
          22,
          34,
          26,
          38,
          24,
          30,
          44,
          21,
          22,
          37,
          28,
          37,
          35,
          24,
          36,
          27,
          26,
          38,
          21,
          35,
          35,
          32,
          28,
          39,
          19,
          19,
          33,
          38,
          34,
          26,
          28,
          30,
          31,
          32,
          24,
          38,
          23,
          29,
          32,
          32,
          36,
          19,
          28,
          28,
          38,
          33,
          35,
          39,
          24,
          20,
          22,
          38,
          38,
          21,
          28,
          22,
          33,
          32,
          38,
          34,
          40,
          40,
          31,
          28,
          34,
          29,
          45,
          22,
          25,
          38,
          33,
          26,
          29,
          27,
          36,
          18,
          28,
          21,
          22,
          23,
          19,
          23,
          38,
          22,
          27,
          27,
          28,
          36,
          33,
          31,
          21,
          27,
          30,
          25,
          33,
          18,
          34,
          34,
          28,
          17,
          28,
          19,
          22,
          34,
          28,
          36,
          35,
          32,
          35,
          20,
          28,
          32,
          29,
          23,
          29,
          22,
          22,
          38,
          33,
          23,
          33,
          31,
          31,
          22,
          36,
          21,
          34,
          34,
          34,
          47,
          33,
          40,
          35,
          36,
          38,
          22,
          38,
          36,
          19,
          19,
          23,
          27,
          18,
          21,
          40,
          23,
          23,
          19,
          38,
          24,
          21,
          31,
          37,
          37
         ],
         "xaxis": "x",
         "yaxis": "y"
        },
        {
         "alignmentgroup": "True",
         "hovertemplate": "Min_Armor=%{x}<extra></extra>",
         "legendgroup": "",
         "marker": {
          "color": "#636efa"
         },
         "name": "",
         "offsetgroup": "",
         "scalegroup": "x",
         "showlegend": false,
         "type": "violin",
         "x": [
          29,
          28,
          36,
          36,
          28,
          28,
          28,
          30,
          39,
          32,
          28,
          36,
          27,
          39,
          35,
          19,
          30,
          33,
          23,
          34,
          18,
          47,
          33,
          26,
          26,
          37,
          37,
          39,
          36,
          27,
          25,
          28,
          34,
          31,
          47,
          36,
          23,
          37,
          24,
          33,
          23,
          30,
          30,
          19,
          23,
          34,
          25,
          29,
          22,
          34,
          26,
          38,
          24,
          30,
          44,
          21,
          22,
          37,
          28,
          37,
          35,
          24,
          36,
          27,
          26,
          38,
          21,
          35,
          35,
          32,
          28,
          39,
          19,
          19,
          33,
          38,
          34,
          26,
          28,
          30,
          31,
          32,
          24,
          38,
          23,
          29,
          32,
          32,
          36,
          19,
          28,
          28,
          38,
          33,
          35,
          39,
          24,
          20,
          22,
          38,
          38,
          21,
          28,
          22,
          33,
          32,
          38,
          34,
          40,
          40,
          31,
          28,
          34,
          29,
          45,
          22,
          25,
          38,
          33,
          26,
          29,
          27,
          36,
          18,
          28,
          21,
          22,
          23,
          19,
          23,
          38,
          22,
          27,
          27,
          28,
          36,
          33,
          31,
          21,
          27,
          30,
          25,
          33,
          18,
          34,
          34,
          28,
          17,
          28,
          19,
          22,
          34,
          28,
          36,
          35,
          32,
          35,
          20,
          28,
          32,
          29,
          23,
          29,
          22,
          22,
          38,
          33,
          23,
          33,
          31,
          31,
          22,
          36,
          21,
          34,
          34,
          34,
          47,
          33,
          40,
          35,
          36,
          38,
          22,
          38,
          36,
          19,
          19,
          23,
          27,
          18,
          21,
          40,
          23,
          23,
          19,
          38,
          24,
          21,
          31,
          37,
          37
         ],
         "xaxis": "x2",
         "yaxis": "y2"
        }
       ],
       "layout": {
        "barmode": "relative",
        "legend": {
         "tracegroupgap": 0
        },
        "template": {
         "data": {
          "bar": [
           {
            "error_x": {
             "color": "#2a3f5f"
            },
            "error_y": {
             "color": "#2a3f5f"
            },
            "marker": {
             "line": {
              "color": "#E5ECF6",
              "width": 0.5
             }
            },
            "type": "bar"
           }
          ],
          "barpolar": [
           {
            "marker": {
             "line": {
              "color": "#E5ECF6",
              "width": 0.5
             }
            },
            "type": "barpolar"
           }
          ],
          "carpet": [
           {
            "aaxis": {
             "endlinecolor": "#2a3f5f",
             "gridcolor": "white",
             "linecolor": "white",
             "minorgridcolor": "white",
             "startlinecolor": "#2a3f5f"
            },
            "baxis": {
             "endlinecolor": "#2a3f5f",
             "gridcolor": "white",
             "linecolor": "white",
             "minorgridcolor": "white",
             "startlinecolor": "#2a3f5f"
            },
            "type": "carpet"
           }
          ],
          "choropleth": [
           {
            "colorbar": {
             "outlinewidth": 0,
             "ticks": ""
            },
            "type": "choropleth"
           }
          ],
          "contour": [
           {
            "colorbar": {
             "outlinewidth": 0,
             "ticks": ""
            },
            "colorscale": [
             [
              0,
              "#0d0887"
             ],
             [
              0.1111111111111111,
              "#46039f"
             ],
             [
              0.2222222222222222,
              "#7201a8"
             ],
             [
              0.3333333333333333,
              "#9c179e"
             ],
             [
              0.4444444444444444,
              "#bd3786"
             ],
             [
              0.5555555555555556,
              "#d8576b"
             ],
             [
              0.6666666666666666,
              "#ed7953"
             ],
             [
              0.7777777777777778,
              "#fb9f3a"
             ],
             [
              0.8888888888888888,
              "#fdca26"
             ],
             [
              1,
              "#f0f921"
             ]
            ],
            "type": "contour"
           }
          ],
          "contourcarpet": [
           {
            "colorbar": {
             "outlinewidth": 0,
             "ticks": ""
            },
            "type": "contourcarpet"
           }
          ],
          "heatmap": [
           {
            "colorbar": {
             "outlinewidth": 0,
             "ticks": ""
            },
            "colorscale": [
             [
              0,
              "#0d0887"
             ],
             [
              0.1111111111111111,
              "#46039f"
             ],
             [
              0.2222222222222222,
              "#7201a8"
             ],
             [
              0.3333333333333333,
              "#9c179e"
             ],
             [
              0.4444444444444444,
              "#bd3786"
             ],
             [
              0.5555555555555556,
              "#d8576b"
             ],
             [
              0.6666666666666666,
              "#ed7953"
             ],
             [
              0.7777777777777778,
              "#fb9f3a"
             ],
             [
              0.8888888888888888,
              "#fdca26"
             ],
             [
              1,
              "#f0f921"
             ]
            ],
            "type": "heatmap"
           }
          ],
          "heatmapgl": [
           {
            "colorbar": {
             "outlinewidth": 0,
             "ticks": ""
            },
            "colorscale": [
             [
              0,
              "#0d0887"
             ],
             [
              0.1111111111111111,
              "#46039f"
             ],
             [
              0.2222222222222222,
              "#7201a8"
             ],
             [
              0.3333333333333333,
              "#9c179e"
             ],
             [
              0.4444444444444444,
              "#bd3786"
             ],
             [
              0.5555555555555556,
              "#d8576b"
             ],
             [
              0.6666666666666666,
              "#ed7953"
             ],
             [
              0.7777777777777778,
              "#fb9f3a"
             ],
             [
              0.8888888888888888,
              "#fdca26"
             ],
             [
              1,
              "#f0f921"
             ]
            ],
            "type": "heatmapgl"
           }
          ],
          "histogram": [
           {
            "marker": {
             "colorbar": {
              "outlinewidth": 0,
              "ticks": ""
             }
            },
            "type": "histogram"
           }
          ],
          "histogram2d": [
           {
            "colorbar": {
             "outlinewidth": 0,
             "ticks": ""
            },
            "colorscale": [
             [
              0,
              "#0d0887"
             ],
             [
              0.1111111111111111,
              "#46039f"
             ],
             [
              0.2222222222222222,
              "#7201a8"
             ],
             [
              0.3333333333333333,
              "#9c179e"
             ],
             [
              0.4444444444444444,
              "#bd3786"
             ],
             [
              0.5555555555555556,
              "#d8576b"
             ],
             [
              0.6666666666666666,
              "#ed7953"
             ],
             [
              0.7777777777777778,
              "#fb9f3a"
             ],
             [
              0.8888888888888888,
              "#fdca26"
             ],
             [
              1,
              "#f0f921"
             ]
            ],
            "type": "histogram2d"
           }
          ],
          "histogram2dcontour": [
           {
            "colorbar": {
             "outlinewidth": 0,
             "ticks": ""
            },
            "colorscale": [
             [
              0,
              "#0d0887"
             ],
             [
              0.1111111111111111,
              "#46039f"
             ],
             [
              0.2222222222222222,
              "#7201a8"
             ],
             [
              0.3333333333333333,
              "#9c179e"
             ],
             [
              0.4444444444444444,
              "#bd3786"
             ],
             [
              0.5555555555555556,
              "#d8576b"
             ],
             [
              0.6666666666666666,
              "#ed7953"
             ],
             [
              0.7777777777777778,
              "#fb9f3a"
             ],
             [
              0.8888888888888888,
              "#fdca26"
             ],
             [
              1,
              "#f0f921"
             ]
            ],
            "type": "histogram2dcontour"
           }
          ],
          "mesh3d": [
           {
            "colorbar": {
             "outlinewidth": 0,
             "ticks": ""
            },
            "type": "mesh3d"
           }
          ],
          "parcoords": [
           {
            "line": {
             "colorbar": {
              "outlinewidth": 0,
              "ticks": ""
             }
            },
            "type": "parcoords"
           }
          ],
          "pie": [
           {
            "automargin": true,
            "type": "pie"
           }
          ],
          "scatter": [
           {
            "marker": {
             "colorbar": {
              "outlinewidth": 0,
              "ticks": ""
             }
            },
            "type": "scatter"
           }
          ],
          "scatter3d": [
           {
            "line": {
             "colorbar": {
              "outlinewidth": 0,
              "ticks": ""
             }
            },
            "marker": {
             "colorbar": {
              "outlinewidth": 0,
              "ticks": ""
             }
            },
            "type": "scatter3d"
           }
          ],
          "scattercarpet": [
           {
            "marker": {
             "colorbar": {
              "outlinewidth": 0,
              "ticks": ""
             }
            },
            "type": "scattercarpet"
           }
          ],
          "scattergeo": [
           {
            "marker": {
             "colorbar": {
              "outlinewidth": 0,
              "ticks": ""
             }
            },
            "type": "scattergeo"
           }
          ],
          "scattergl": [
           {
            "marker": {
             "colorbar": {
              "outlinewidth": 0,
              "ticks": ""
             }
            },
            "type": "scattergl"
           }
          ],
          "scattermapbox": [
           {
            "marker": {
             "colorbar": {
              "outlinewidth": 0,
              "ticks": ""
             }
            },
            "type": "scattermapbox"
           }
          ],
          "scatterpolar": [
           {
            "marker": {
             "colorbar": {
              "outlinewidth": 0,
              "ticks": ""
             }
            },
            "type": "scatterpolar"
           }
          ],
          "scatterpolargl": [
           {
            "marker": {
             "colorbar": {
              "outlinewidth": 0,
              "ticks": ""
             }
            },
            "type": "scatterpolargl"
           }
          ],
          "scatterternary": [
           {
            "marker": {
             "colorbar": {
              "outlinewidth": 0,
              "ticks": ""
             }
            },
            "type": "scatterternary"
           }
          ],
          "surface": [
           {
            "colorbar": {
             "outlinewidth": 0,
             "ticks": ""
            },
            "colorscale": [
             [
              0,
              "#0d0887"
             ],
             [
              0.1111111111111111,
              "#46039f"
             ],
             [
              0.2222222222222222,
              "#7201a8"
             ],
             [
              0.3333333333333333,
              "#9c179e"
             ],
             [
              0.4444444444444444,
              "#bd3786"
             ],
             [
              0.5555555555555556,
              "#d8576b"
             ],
             [
              0.6666666666666666,
              "#ed7953"
             ],
             [
              0.7777777777777778,
              "#fb9f3a"
             ],
             [
              0.8888888888888888,
              "#fdca26"
             ],
             [
              1,
              "#f0f921"
             ]
            ],
            "type": "surface"
           }
          ],
          "table": [
           {
            "cells": {
             "fill": {
              "color": "#EBF0F8"
             },
             "line": {
              "color": "white"
             }
            },
            "header": {
             "fill": {
              "color": "#C8D4E3"
             },
             "line": {
              "color": "white"
             }
            },
            "type": "table"
           }
          ]
         },
         "layout": {
          "annotationdefaults": {
           "arrowcolor": "#2a3f5f",
           "arrowhead": 0,
           "arrowwidth": 1
          },
          "autotypenumbers": "strict",
          "coloraxis": {
           "colorbar": {
            "outlinewidth": 0,
            "ticks": ""
           }
          },
          "colorscale": {
           "diverging": [
            [
             0,
             "#8e0152"
            ],
            [
             0.1,
             "#c51b7d"
            ],
            [
             0.2,
             "#de77ae"
            ],
            [
             0.3,
             "#f1b6da"
            ],
            [
             0.4,
             "#fde0ef"
            ],
            [
             0.5,
             "#f7f7f7"
            ],
            [
             0.6,
             "#e6f5d0"
            ],
            [
             0.7,
             "#b8e186"
            ],
            [
             0.8,
             "#7fbc41"
            ],
            [
             0.9,
             "#4d9221"
            ],
            [
             1,
             "#276419"
            ]
           ],
           "sequential": [
            [
             0,
             "#0d0887"
            ],
            [
             0.1111111111111111,
             "#46039f"
            ],
            [
             0.2222222222222222,
             "#7201a8"
            ],
            [
             0.3333333333333333,
             "#9c179e"
            ],
            [
             0.4444444444444444,
             "#bd3786"
            ],
            [
             0.5555555555555556,
             "#d8576b"
            ],
            [
             0.6666666666666666,
             "#ed7953"
            ],
            [
             0.7777777777777778,
             "#fb9f3a"
            ],
            [
             0.8888888888888888,
             "#fdca26"
            ],
            [
             1,
             "#f0f921"
            ]
           ],
           "sequentialminus": [
            [
             0,
             "#0d0887"
            ],
            [
             0.1111111111111111,
             "#46039f"
            ],
            [
             0.2222222222222222,
             "#7201a8"
            ],
            [
             0.3333333333333333,
             "#9c179e"
            ],
            [
             0.4444444444444444,
             "#bd3786"
            ],
            [
             0.5555555555555556,
             "#d8576b"
            ],
            [
             0.6666666666666666,
             "#ed7953"
            ],
            [
             0.7777777777777778,
             "#fb9f3a"
            ],
            [
             0.8888888888888888,
             "#fdca26"
            ],
            [
             1,
             "#f0f921"
            ]
           ]
          },
          "colorway": [
           "#636efa",
           "#EF553B",
           "#00cc96",
           "#ab63fa",
           "#FFA15A",
           "#19d3f3",
           "#FF6692",
           "#B6E880",
           "#FF97FF",
           "#FECB52"
          ],
          "font": {
           "color": "#2a3f5f"
          },
          "geo": {
           "bgcolor": "white",
           "lakecolor": "white",
           "landcolor": "#E5ECF6",
           "showlakes": true,
           "showland": true,
           "subunitcolor": "white"
          },
          "hoverlabel": {
           "align": "left"
          },
          "hovermode": "closest",
          "mapbox": {
           "style": "light"
          },
          "paper_bgcolor": "white",
          "plot_bgcolor": "#E5ECF6",
          "polar": {
           "angularaxis": {
            "gridcolor": "white",
            "linecolor": "white",
            "ticks": ""
           },
           "bgcolor": "#E5ECF6",
           "radialaxis": {
            "gridcolor": "white",
            "linecolor": "white",
            "ticks": ""
           }
          },
          "scene": {
           "xaxis": {
            "backgroundcolor": "#E5ECF6",
            "gridcolor": "white",
            "gridwidth": 2,
            "linecolor": "white",
            "showbackground": true,
            "ticks": "",
            "zerolinecolor": "white"
           },
           "yaxis": {
            "backgroundcolor": "#E5ECF6",
            "gridcolor": "white",
            "gridwidth": 2,
            "linecolor": "white",
            "showbackground": true,
            "ticks": "",
            "zerolinecolor": "white"
           },
           "zaxis": {
            "backgroundcolor": "#E5ECF6",
            "gridcolor": "white",
            "gridwidth": 2,
            "linecolor": "white",
            "showbackground": true,
            "ticks": "",
            "zerolinecolor": "white"
           }
          },
          "shapedefaults": {
           "line": {
            "color": "#2a3f5f"
           }
          },
          "ternary": {
           "aaxis": {
            "gridcolor": "white",
            "linecolor": "white",
            "ticks": ""
           },
           "baxis": {
            "gridcolor": "white",
            "linecolor": "white",
            "ticks": ""
           },
           "bgcolor": "#E5ECF6",
           "caxis": {
            "gridcolor": "white",
            "linecolor": "white",
            "ticks": ""
           }
          },
          "title": {
           "x": 0.05
          },
          "xaxis": {
           "automargin": true,
           "gridcolor": "white",
           "linecolor": "white",
           "ticks": "",
           "title": {
            "standoff": 15
           },
           "zerolinecolor": "white",
           "zerolinewidth": 2
          },
          "yaxis": {
           "automargin": true,
           "gridcolor": "white",
           "linecolor": "white",
           "ticks": "",
           "title": {
            "standoff": 15
           },
           "zerolinecolor": "white",
           "zerolinewidth": 2
          }
         }
        },
        "title": {
         "text": "Min_Armor histogram"
        },
        "xaxis": {
         "anchor": "y",
         "domain": [
          0,
          1
         ],
         "title": {
          "text": "Min_Armor"
         }
        },
        "xaxis2": {
         "anchor": "y2",
         "domain": [
          0,
          1
         ],
         "matches": "x",
         "showgrid": true,
         "showticklabels": false
        },
        "yaxis": {
         "anchor": "x",
         "domain": [
          0,
          0.8316
         ],
         "title": {
          "text": "count"
         }
        },
        "yaxis2": {
         "anchor": "x2",
         "domain": [
          0.8416,
          1
         ],
         "matches": "y2",
         "showgrid": false,
         "showline": false,
         "showticklabels": false,
         "ticks": ""
        }
       }
      }
     },
     "metadata": {}
    },
    {
     "output_type": "display_data",
     "data": {
      "application/vnd.plotly.v1+json": {
       "config": {
        "plotlyServerURL": "https://plot.ly"
       },
       "data": [
        {
         "alignmentgroup": "True",
         "bingroup": "x",
         "hovertemplate": "Max_Armor=%{x}<br>count=%{y}<extra></extra>",
         "legendgroup": "",
         "marker": {
          "color": "#636efa"
         },
         "name": "",
         "offsetgroup": "",
         "orientation": "v",
         "showlegend": false,
         "type": "histogram",
         "x": [
          91.9,
          28,
          87,
          104,
          85.8,
          87.5,
          87.5,
          89.5,
          107,
          91.5,
          79,
          98.9,
          95,
          107,
          99.6,
          66.6,
          87.8,
          87.4,
          91,
          102,
          77.5,
          108.2,
          92.5,
          77,
          77,
          100.75,
          100.75,
          107,
          87,
          83.95,
          76,
          85.8,
          102,
          99,
          115,
          108.25,
          86.75,
          88,
          83.5,
          90.8,
          82.5,
          89.5,
          94.6,
          87,
          80.8,
          85,
          89.6,
          80,
          81.5,
          93.5,
          81.25,
          94.1,
          88.6,
          98,
          103.5,
          74.55,
          84.9,
          96.5,
          87.5,
          96.5,
          103,
          79.25,
          87,
          78,
          83.8,
          97.5,
          80.5,
          103,
          94.5,
          83,
          87.5,
          107,
          70,
          70,
          87.4,
          102.6,
          93.5,
          90.6,
          87.5,
          89.5,
          99,
          83,
          83.5,
          93.25,
          82.5,
          97,
          83,
          74.5,
          95.5,
          87,
          87.5,
          87.5,
          99.2,
          101,
          99.6,
          102.75,
          87.75,
          88,
          81.5,
          97.5,
          97.5,
          89,
          79,
          79.8,
          101,
          96.6,
          94.95,
          95.2,
          103.75,
          103.75,
          92.2,
          92.6,
          85,
          88.5,
          104.5,
          81.5,
          76,
          97.5,
          87.4,
          77,
          85.1,
          86.5,
          99.75,
          77.5,
          87.5,
          89,
          81.5,
          80.8,
          87,
          79.1,
          99.2,
          81.5,
          86.5,
          95,
          79,
          87,
          84,
          90.5,
          80.5,
          84.8,
          87.8,
          82.8,
          85.7,
          77.5,
          85,
          93.5,
          79,
          68,
          79,
          70,
          81.5,
          106.25,
          87.5,
          109.1,
          86,
          83,
          86,
          79.5,
          84.1,
          98.3,
          92.75,
          79.1,
          80,
          73,
          73,
          99.2,
          101,
          91,
          92.5,
          90.5,
          90.5,
          81.5,
          87,
          89,
          102,
          102,
          102,
          106.5,
          87.4,
          103.75,
          103,
          87,
          97.5,
          78.1,
          97.5,
          87,
          70,
          70,
          86.75,
          86.5,
          77.5,
          89,
          97.8,
          91,
          91,
          80.2,
          97.5,
          88.6,
          89,
          90.5,
          82.9,
          82.9
         ],
         "xaxis": "x",
         "yaxis": "y"
        },
        {
         "alignmentgroup": "True",
         "hovertemplate": "Max_Armor=%{x}<extra></extra>",
         "legendgroup": "",
         "marker": {
          "color": "#636efa"
         },
         "name": "",
         "offsetgroup": "",
         "scalegroup": "x",
         "showlegend": false,
         "type": "violin",
         "x": [
          91.9,
          28,
          87,
          104,
          85.8,
          87.5,
          87.5,
          89.5,
          107,
          91.5,
          79,
          98.9,
          95,
          107,
          99.6,
          66.6,
          87.8,
          87.4,
          91,
          102,
          77.5,
          108.2,
          92.5,
          77,
          77,
          100.75,
          100.75,
          107,
          87,
          83.95,
          76,
          85.8,
          102,
          99,
          115,
          108.25,
          86.75,
          88,
          83.5,
          90.8,
          82.5,
          89.5,
          94.6,
          87,
          80.8,
          85,
          89.6,
          80,
          81.5,
          93.5,
          81.25,
          94.1,
          88.6,
          98,
          103.5,
          74.55,
          84.9,
          96.5,
          87.5,
          96.5,
          103,
          79.25,
          87,
          78,
          83.8,
          97.5,
          80.5,
          103,
          94.5,
          83,
          87.5,
          107,
          70,
          70,
          87.4,
          102.6,
          93.5,
          90.6,
          87.5,
          89.5,
          99,
          83,
          83.5,
          93.25,
          82.5,
          97,
          83,
          74.5,
          95.5,
          87,
          87.5,
          87.5,
          99.2,
          101,
          99.6,
          102.75,
          87.75,
          88,
          81.5,
          97.5,
          97.5,
          89,
          79,
          79.8,
          101,
          96.6,
          94.95,
          95.2,
          103.75,
          103.75,
          92.2,
          92.6,
          85,
          88.5,
          104.5,
          81.5,
          76,
          97.5,
          87.4,
          77,
          85.1,
          86.5,
          99.75,
          77.5,
          87.5,
          89,
          81.5,
          80.8,
          87,
          79.1,
          99.2,
          81.5,
          86.5,
          95,
          79,
          87,
          84,
          90.5,
          80.5,
          84.8,
          87.8,
          82.8,
          85.7,
          77.5,
          85,
          93.5,
          79,
          68,
          79,
          70,
          81.5,
          106.25,
          87.5,
          109.1,
          86,
          83,
          86,
          79.5,
          84.1,
          98.3,
          92.75,
          79.1,
          80,
          73,
          73,
          99.2,
          101,
          91,
          92.5,
          90.5,
          90.5,
          81.5,
          87,
          89,
          102,
          102,
          102,
          106.5,
          87.4,
          103.75,
          103,
          87,
          97.5,
          78.1,
          97.5,
          87,
          70,
          70,
          86.75,
          86.5,
          77.5,
          89,
          97.8,
          91,
          91,
          80.2,
          97.5,
          88.6,
          89,
          90.5,
          82.9,
          82.9
         ],
         "xaxis": "x2",
         "yaxis": "y2"
        }
       ],
       "layout": {
        "barmode": "relative",
        "legend": {
         "tracegroupgap": 0
        },
        "template": {
         "data": {
          "bar": [
           {
            "error_x": {
             "color": "#2a3f5f"
            },
            "error_y": {
             "color": "#2a3f5f"
            },
            "marker": {
             "line": {
              "color": "#E5ECF6",
              "width": 0.5
             }
            },
            "type": "bar"
           }
          ],
          "barpolar": [
           {
            "marker": {
             "line": {
              "color": "#E5ECF6",
              "width": 0.5
             }
            },
            "type": "barpolar"
           }
          ],
          "carpet": [
           {
            "aaxis": {
             "endlinecolor": "#2a3f5f",
             "gridcolor": "white",
             "linecolor": "white",
             "minorgridcolor": "white",
             "startlinecolor": "#2a3f5f"
            },
            "baxis": {
             "endlinecolor": "#2a3f5f",
             "gridcolor": "white",
             "linecolor": "white",
             "minorgridcolor": "white",
             "startlinecolor": "#2a3f5f"
            },
            "type": "carpet"
           }
          ],
          "choropleth": [
           {
            "colorbar": {
             "outlinewidth": 0,
             "ticks": ""
            },
            "type": "choropleth"
           }
          ],
          "contour": [
           {
            "colorbar": {
             "outlinewidth": 0,
             "ticks": ""
            },
            "colorscale": [
             [
              0,
              "#0d0887"
             ],
             [
              0.1111111111111111,
              "#46039f"
             ],
             [
              0.2222222222222222,
              "#7201a8"
             ],
             [
              0.3333333333333333,
              "#9c179e"
             ],
             [
              0.4444444444444444,
              "#bd3786"
             ],
             [
              0.5555555555555556,
              "#d8576b"
             ],
             [
              0.6666666666666666,
              "#ed7953"
             ],
             [
              0.7777777777777778,
              "#fb9f3a"
             ],
             [
              0.8888888888888888,
              "#fdca26"
             ],
             [
              1,
              "#f0f921"
             ]
            ],
            "type": "contour"
           }
          ],
          "contourcarpet": [
           {
            "colorbar": {
             "outlinewidth": 0,
             "ticks": ""
            },
            "type": "contourcarpet"
           }
          ],
          "heatmap": [
           {
            "colorbar": {
             "outlinewidth": 0,
             "ticks": ""
            },
            "colorscale": [
             [
              0,
              "#0d0887"
             ],
             [
              0.1111111111111111,
              "#46039f"
             ],
             [
              0.2222222222222222,
              "#7201a8"
             ],
             [
              0.3333333333333333,
              "#9c179e"
             ],
             [
              0.4444444444444444,
              "#bd3786"
             ],
             [
              0.5555555555555556,
              "#d8576b"
             ],
             [
              0.6666666666666666,
              "#ed7953"
             ],
             [
              0.7777777777777778,
              "#fb9f3a"
             ],
             [
              0.8888888888888888,
              "#fdca26"
             ],
             [
              1,
              "#f0f921"
             ]
            ],
            "type": "heatmap"
           }
          ],
          "heatmapgl": [
           {
            "colorbar": {
             "outlinewidth": 0,
             "ticks": ""
            },
            "colorscale": [
             [
              0,
              "#0d0887"
             ],
             [
              0.1111111111111111,
              "#46039f"
             ],
             [
              0.2222222222222222,
              "#7201a8"
             ],
             [
              0.3333333333333333,
              "#9c179e"
             ],
             [
              0.4444444444444444,
              "#bd3786"
             ],
             [
              0.5555555555555556,
              "#d8576b"
             ],
             [
              0.6666666666666666,
              "#ed7953"
             ],
             [
              0.7777777777777778,
              "#fb9f3a"
             ],
             [
              0.8888888888888888,
              "#fdca26"
             ],
             [
              1,
              "#f0f921"
             ]
            ],
            "type": "heatmapgl"
           }
          ],
          "histogram": [
           {
            "marker": {
             "colorbar": {
              "outlinewidth": 0,
              "ticks": ""
             }
            },
            "type": "histogram"
           }
          ],
          "histogram2d": [
           {
            "colorbar": {
             "outlinewidth": 0,
             "ticks": ""
            },
            "colorscale": [
             [
              0,
              "#0d0887"
             ],
             [
              0.1111111111111111,
              "#46039f"
             ],
             [
              0.2222222222222222,
              "#7201a8"
             ],
             [
              0.3333333333333333,
              "#9c179e"
             ],
             [
              0.4444444444444444,
              "#bd3786"
             ],
             [
              0.5555555555555556,
              "#d8576b"
             ],
             [
              0.6666666666666666,
              "#ed7953"
             ],
             [
              0.7777777777777778,
              "#fb9f3a"
             ],
             [
              0.8888888888888888,
              "#fdca26"
             ],
             [
              1,
              "#f0f921"
             ]
            ],
            "type": "histogram2d"
           }
          ],
          "histogram2dcontour": [
           {
            "colorbar": {
             "outlinewidth": 0,
             "ticks": ""
            },
            "colorscale": [
             [
              0,
              "#0d0887"
             ],
             [
              0.1111111111111111,
              "#46039f"
             ],
             [
              0.2222222222222222,
              "#7201a8"
             ],
             [
              0.3333333333333333,
              "#9c179e"
             ],
             [
              0.4444444444444444,
              "#bd3786"
             ],
             [
              0.5555555555555556,
              "#d8576b"
             ],
             [
              0.6666666666666666,
              "#ed7953"
             ],
             [
              0.7777777777777778,
              "#fb9f3a"
             ],
             [
              0.8888888888888888,
              "#fdca26"
             ],
             [
              1,
              "#f0f921"
             ]
            ],
            "type": "histogram2dcontour"
           }
          ],
          "mesh3d": [
           {
            "colorbar": {
             "outlinewidth": 0,
             "ticks": ""
            },
            "type": "mesh3d"
           }
          ],
          "parcoords": [
           {
            "line": {
             "colorbar": {
              "outlinewidth": 0,
              "ticks": ""
             }
            },
            "type": "parcoords"
           }
          ],
          "pie": [
           {
            "automargin": true,
            "type": "pie"
           }
          ],
          "scatter": [
           {
            "marker": {
             "colorbar": {
              "outlinewidth": 0,
              "ticks": ""
             }
            },
            "type": "scatter"
           }
          ],
          "scatter3d": [
           {
            "line": {
             "colorbar": {
              "outlinewidth": 0,
              "ticks": ""
             }
            },
            "marker": {
             "colorbar": {
              "outlinewidth": 0,
              "ticks": ""
             }
            },
            "type": "scatter3d"
           }
          ],
          "scattercarpet": [
           {
            "marker": {
             "colorbar": {
              "outlinewidth": 0,
              "ticks": ""
             }
            },
            "type": "scattercarpet"
           }
          ],
          "scattergeo": [
           {
            "marker": {
             "colorbar": {
              "outlinewidth": 0,
              "ticks": ""
             }
            },
            "type": "scattergeo"
           }
          ],
          "scattergl": [
           {
            "marker": {
             "colorbar": {
              "outlinewidth": 0,
              "ticks": ""
             }
            },
            "type": "scattergl"
           }
          ],
          "scattermapbox": [
           {
            "marker": {
             "colorbar": {
              "outlinewidth": 0,
              "ticks": ""
             }
            },
            "type": "scattermapbox"
           }
          ],
          "scatterpolar": [
           {
            "marker": {
             "colorbar": {
              "outlinewidth": 0,
              "ticks": ""
             }
            },
            "type": "scatterpolar"
           }
          ],
          "scatterpolargl": [
           {
            "marker": {
             "colorbar": {
              "outlinewidth": 0,
              "ticks": ""
             }
            },
            "type": "scatterpolargl"
           }
          ],
          "scatterternary": [
           {
            "marker": {
             "colorbar": {
              "outlinewidth": 0,
              "ticks": ""
             }
            },
            "type": "scatterternary"
           }
          ],
          "surface": [
           {
            "colorbar": {
             "outlinewidth": 0,
             "ticks": ""
            },
            "colorscale": [
             [
              0,
              "#0d0887"
             ],
             [
              0.1111111111111111,
              "#46039f"
             ],
             [
              0.2222222222222222,
              "#7201a8"
             ],
             [
              0.3333333333333333,
              "#9c179e"
             ],
             [
              0.4444444444444444,
              "#bd3786"
             ],
             [
              0.5555555555555556,
              "#d8576b"
             ],
             [
              0.6666666666666666,
              "#ed7953"
             ],
             [
              0.7777777777777778,
              "#fb9f3a"
             ],
             [
              0.8888888888888888,
              "#fdca26"
             ],
             [
              1,
              "#f0f921"
             ]
            ],
            "type": "surface"
           }
          ],
          "table": [
           {
            "cells": {
             "fill": {
              "color": "#EBF0F8"
             },
             "line": {
              "color": "white"
             }
            },
            "header": {
             "fill": {
              "color": "#C8D4E3"
             },
             "line": {
              "color": "white"
             }
            },
            "type": "table"
           }
          ]
         },
         "layout": {
          "annotationdefaults": {
           "arrowcolor": "#2a3f5f",
           "arrowhead": 0,
           "arrowwidth": 1
          },
          "autotypenumbers": "strict",
          "coloraxis": {
           "colorbar": {
            "outlinewidth": 0,
            "ticks": ""
           }
          },
          "colorscale": {
           "diverging": [
            [
             0,
             "#8e0152"
            ],
            [
             0.1,
             "#c51b7d"
            ],
            [
             0.2,
             "#de77ae"
            ],
            [
             0.3,
             "#f1b6da"
            ],
            [
             0.4,
             "#fde0ef"
            ],
            [
             0.5,
             "#f7f7f7"
            ],
            [
             0.6,
             "#e6f5d0"
            ],
            [
             0.7,
             "#b8e186"
            ],
            [
             0.8,
             "#7fbc41"
            ],
            [
             0.9,
             "#4d9221"
            ],
            [
             1,
             "#276419"
            ]
           ],
           "sequential": [
            [
             0,
             "#0d0887"
            ],
            [
             0.1111111111111111,
             "#46039f"
            ],
            [
             0.2222222222222222,
             "#7201a8"
            ],
            [
             0.3333333333333333,
             "#9c179e"
            ],
            [
             0.4444444444444444,
             "#bd3786"
            ],
            [
             0.5555555555555556,
             "#d8576b"
            ],
            [
             0.6666666666666666,
             "#ed7953"
            ],
            [
             0.7777777777777778,
             "#fb9f3a"
            ],
            [
             0.8888888888888888,
             "#fdca26"
            ],
            [
             1,
             "#f0f921"
            ]
           ],
           "sequentialminus": [
            [
             0,
             "#0d0887"
            ],
            [
             0.1111111111111111,
             "#46039f"
            ],
            [
             0.2222222222222222,
             "#7201a8"
            ],
            [
             0.3333333333333333,
             "#9c179e"
            ],
            [
             0.4444444444444444,
             "#bd3786"
            ],
            [
             0.5555555555555556,
             "#d8576b"
            ],
            [
             0.6666666666666666,
             "#ed7953"
            ],
            [
             0.7777777777777778,
             "#fb9f3a"
            ],
            [
             0.8888888888888888,
             "#fdca26"
            ],
            [
             1,
             "#f0f921"
            ]
           ]
          },
          "colorway": [
           "#636efa",
           "#EF553B",
           "#00cc96",
           "#ab63fa",
           "#FFA15A",
           "#19d3f3",
           "#FF6692",
           "#B6E880",
           "#FF97FF",
           "#FECB52"
          ],
          "font": {
           "color": "#2a3f5f"
          },
          "geo": {
           "bgcolor": "white",
           "lakecolor": "white",
           "landcolor": "#E5ECF6",
           "showlakes": true,
           "showland": true,
           "subunitcolor": "white"
          },
          "hoverlabel": {
           "align": "left"
          },
          "hovermode": "closest",
          "mapbox": {
           "style": "light"
          },
          "paper_bgcolor": "white",
          "plot_bgcolor": "#E5ECF6",
          "polar": {
           "angularaxis": {
            "gridcolor": "white",
            "linecolor": "white",
            "ticks": ""
           },
           "bgcolor": "#E5ECF6",
           "radialaxis": {
            "gridcolor": "white",
            "linecolor": "white",
            "ticks": ""
           }
          },
          "scene": {
           "xaxis": {
            "backgroundcolor": "#E5ECF6",
            "gridcolor": "white",
            "gridwidth": 2,
            "linecolor": "white",
            "showbackground": true,
            "ticks": "",
            "zerolinecolor": "white"
           },
           "yaxis": {
            "backgroundcolor": "#E5ECF6",
            "gridcolor": "white",
            "gridwidth": 2,
            "linecolor": "white",
            "showbackground": true,
            "ticks": "",
            "zerolinecolor": "white"
           },
           "zaxis": {
            "backgroundcolor": "#E5ECF6",
            "gridcolor": "white",
            "gridwidth": 2,
            "linecolor": "white",
            "showbackground": true,
            "ticks": "",
            "zerolinecolor": "white"
           }
          },
          "shapedefaults": {
           "line": {
            "color": "#2a3f5f"
           }
          },
          "ternary": {
           "aaxis": {
            "gridcolor": "white",
            "linecolor": "white",
            "ticks": ""
           },
           "baxis": {
            "gridcolor": "white",
            "linecolor": "white",
            "ticks": ""
           },
           "bgcolor": "#E5ECF6",
           "caxis": {
            "gridcolor": "white",
            "linecolor": "white",
            "ticks": ""
           }
          },
          "title": {
           "x": 0.05
          },
          "xaxis": {
           "automargin": true,
           "gridcolor": "white",
           "linecolor": "white",
           "ticks": "",
           "title": {
            "standoff": 15
           },
           "zerolinecolor": "white",
           "zerolinewidth": 2
          },
          "yaxis": {
           "automargin": true,
           "gridcolor": "white",
           "linecolor": "white",
           "ticks": "",
           "title": {
            "standoff": 15
           },
           "zerolinecolor": "white",
           "zerolinewidth": 2
          }
         }
        },
        "title": {
         "text": "Max_Armor histogram"
        },
        "xaxis": {
         "anchor": "y",
         "domain": [
          0,
          1
         ],
         "title": {
          "text": "Max_Armor"
         }
        },
        "xaxis2": {
         "anchor": "y2",
         "domain": [
          0,
          1
         ],
         "matches": "x",
         "showgrid": true,
         "showticklabels": false
        },
        "yaxis": {
         "anchor": "x",
         "domain": [
          0,
          0.8316
         ],
         "title": {
          "text": "count"
         }
        },
        "yaxis2": {
         "anchor": "x2",
         "domain": [
          0.8416,
          1
         ],
         "matches": "y2",
         "showgrid": false,
         "showline": false,
         "showticklabels": false,
         "ticks": ""
        }
       }
      }
     },
     "metadata": {}
    },
    {
     "output_type": "display_data",
     "data": {
      "application/vnd.plotly.v1+json": {
       "config": {
        "plotlyServerURL": "https://plot.ly"
       },
       "data": [
        {
         "alignmentgroup": "True",
         "bingroup": "x",
         "hovertemplate": "Min_Magic_resist=%{x}<br>count=%{y}<extra></extra>",
         "legendgroup": "",
         "marker": {
          "color": "#636efa"
         },
         "name": "",
         "offsetgroup": "",
         "orientation": "v",
         "showlegend": false,
         "type": "histogram",
         "x": [
          30,
          30,
          32,
          32,
          32,
          32,
          30,
          32,
          32,
          32,
          30,
          32,
          32,
          32,
          32.1,
          30,
          32,
          32,
          30,
          32,
          30,
          32,
          32,
          30,
          30,
          28,
          28,
          32,
          32,
          30,
          25,
          32,
          30,
          32,
          32,
          32,
          32,
          32,
          32,
          32,
          37,
          32,
          32,
          30,
          30,
          32,
          30,
          32,
          30,
          32,
          30,
          32,
          30,
          32,
          32,
          30,
          30,
          32,
          32,
          32.1,
          32,
          30,
          32,
          30,
          30,
          32,
          30,
          28,
          32,
          32,
          30,
          32,
          30,
          30,
          32,
          32,
          30,
          30,
          30,
          39,
          32,
          32,
          32,
          32,
          37,
          30,
          32.1,
          30,
          32,
          30,
          30,
          30,
          32,
          32,
          32,
          32,
          30,
          32,
          30,
          32,
          32,
          30,
          30,
          32,
          32,
          30,
          32,
          32,
          28,
          28,
          32,
          30,
          32,
          30,
          32,
          30,
          30,
          32,
          32,
          30,
          30,
          30,
          32,
          32,
          30,
          30,
          30,
          30,
          30,
          30,
          32,
          30,
          32,
          32,
          30,
          32,
          32,
          28,
          30,
          30,
          32,
          30,
          32,
          30,
          32,
          32,
          30,
          26,
          26,
          30,
          30,
          32,
          30,
          32,
          32,
          32,
          32,
          30,
          30,
          32,
          30,
          30,
          30,
          36,
          36,
          32,
          32,
          30,
          32,
          32,
          32,
          30,
          32,
          30,
          32,
          32,
          32,
          32,
          32,
          28,
          32,
          32,
          32,
          30,
          32,
          32,
          30,
          30,
          32,
          30,
          32,
          30,
          32,
          30,
          30,
          30,
          32,
          30,
          30,
          28,
          32,
          32
         ],
         "xaxis": "x",
         "yaxis": "y"
        },
        {
         "alignmentgroup": "True",
         "hovertemplate": "Min_Magic_resist=%{x}<extra></extra>",
         "legendgroup": "",
         "marker": {
          "color": "#636efa"
         },
         "name": "",
         "offsetgroup": "",
         "scalegroup": "x",
         "showlegend": false,
         "type": "violin",
         "x": [
          30,
          30,
          32,
          32,
          32,
          32,
          30,
          32,
          32,
          32,
          30,
          32,
          32,
          32,
          32.1,
          30,
          32,
          32,
          30,
          32,
          30,
          32,
          32,
          30,
          30,
          28,
          28,
          32,
          32,
          30,
          25,
          32,
          30,
          32,
          32,
          32,
          32,
          32,
          32,
          32,
          37,
          32,
          32,
          30,
          30,
          32,
          30,
          32,
          30,
          32,
          30,
          32,
          30,
          32,
          32,
          30,
          30,
          32,
          32,
          32.1,
          32,
          30,
          32,
          30,
          30,
          32,
          30,
          28,
          32,
          32,
          30,
          32,
          30,
          30,
          32,
          32,
          30,
          30,
          30,
          39,
          32,
          32,
          32,
          32,
          37,
          30,
          32.1,
          30,
          32,
          30,
          30,
          30,
          32,
          32,
          32,
          32,
          30,
          32,
          30,
          32,
          32,
          30,
          30,
          32,
          32,
          30,
          32,
          32,
          28,
          28,
          32,
          30,
          32,
          30,
          32,
          30,
          30,
          32,
          32,
          30,
          30,
          30,
          32,
          32,
          30,
          30,
          30,
          30,
          30,
          30,
          32,
          30,
          32,
          32,
          30,
          32,
          32,
          28,
          30,
          30,
          32,
          30,
          32,
          30,
          32,
          32,
          30,
          26,
          26,
          30,
          30,
          32,
          30,
          32,
          32,
          32,
          32,
          30,
          30,
          32,
          30,
          30,
          30,
          36,
          36,
          32,
          32,
          30,
          32,
          32,
          32,
          30,
          32,
          30,
          32,
          32,
          32,
          32,
          32,
          28,
          32,
          32,
          32,
          30,
          32,
          32,
          30,
          30,
          32,
          30,
          32,
          30,
          32,
          30,
          30,
          30,
          32,
          30,
          30,
          28,
          32,
          32
         ],
         "xaxis": "x2",
         "yaxis": "y2"
        }
       ],
       "layout": {
        "barmode": "relative",
        "legend": {
         "tracegroupgap": 0
        },
        "template": {
         "data": {
          "bar": [
           {
            "error_x": {
             "color": "#2a3f5f"
            },
            "error_y": {
             "color": "#2a3f5f"
            },
            "marker": {
             "line": {
              "color": "#E5ECF6",
              "width": 0.5
             }
            },
            "type": "bar"
           }
          ],
          "barpolar": [
           {
            "marker": {
             "line": {
              "color": "#E5ECF6",
              "width": 0.5
             }
            },
            "type": "barpolar"
           }
          ],
          "carpet": [
           {
            "aaxis": {
             "endlinecolor": "#2a3f5f",
             "gridcolor": "white",
             "linecolor": "white",
             "minorgridcolor": "white",
             "startlinecolor": "#2a3f5f"
            },
            "baxis": {
             "endlinecolor": "#2a3f5f",
             "gridcolor": "white",
             "linecolor": "white",
             "minorgridcolor": "white",
             "startlinecolor": "#2a3f5f"
            },
            "type": "carpet"
           }
          ],
          "choropleth": [
           {
            "colorbar": {
             "outlinewidth": 0,
             "ticks": ""
            },
            "type": "choropleth"
           }
          ],
          "contour": [
           {
            "colorbar": {
             "outlinewidth": 0,
             "ticks": ""
            },
            "colorscale": [
             [
              0,
              "#0d0887"
             ],
             [
              0.1111111111111111,
              "#46039f"
             ],
             [
              0.2222222222222222,
              "#7201a8"
             ],
             [
              0.3333333333333333,
              "#9c179e"
             ],
             [
              0.4444444444444444,
              "#bd3786"
             ],
             [
              0.5555555555555556,
              "#d8576b"
             ],
             [
              0.6666666666666666,
              "#ed7953"
             ],
             [
              0.7777777777777778,
              "#fb9f3a"
             ],
             [
              0.8888888888888888,
              "#fdca26"
             ],
             [
              1,
              "#f0f921"
             ]
            ],
            "type": "contour"
           }
          ],
          "contourcarpet": [
           {
            "colorbar": {
             "outlinewidth": 0,
             "ticks": ""
            },
            "type": "contourcarpet"
           }
          ],
          "heatmap": [
           {
            "colorbar": {
             "outlinewidth": 0,
             "ticks": ""
            },
            "colorscale": [
             [
              0,
              "#0d0887"
             ],
             [
              0.1111111111111111,
              "#46039f"
             ],
             [
              0.2222222222222222,
              "#7201a8"
             ],
             [
              0.3333333333333333,
              "#9c179e"
             ],
             [
              0.4444444444444444,
              "#bd3786"
             ],
             [
              0.5555555555555556,
              "#d8576b"
             ],
             [
              0.6666666666666666,
              "#ed7953"
             ],
             [
              0.7777777777777778,
              "#fb9f3a"
             ],
             [
              0.8888888888888888,
              "#fdca26"
             ],
             [
              1,
              "#f0f921"
             ]
            ],
            "type": "heatmap"
           }
          ],
          "heatmapgl": [
           {
            "colorbar": {
             "outlinewidth": 0,
             "ticks": ""
            },
            "colorscale": [
             [
              0,
              "#0d0887"
             ],
             [
              0.1111111111111111,
              "#46039f"
             ],
             [
              0.2222222222222222,
              "#7201a8"
             ],
             [
              0.3333333333333333,
              "#9c179e"
             ],
             [
              0.4444444444444444,
              "#bd3786"
             ],
             [
              0.5555555555555556,
              "#d8576b"
             ],
             [
              0.6666666666666666,
              "#ed7953"
             ],
             [
              0.7777777777777778,
              "#fb9f3a"
             ],
             [
              0.8888888888888888,
              "#fdca26"
             ],
             [
              1,
              "#f0f921"
             ]
            ],
            "type": "heatmapgl"
           }
          ],
          "histogram": [
           {
            "marker": {
             "colorbar": {
              "outlinewidth": 0,
              "ticks": ""
             }
            },
            "type": "histogram"
           }
          ],
          "histogram2d": [
           {
            "colorbar": {
             "outlinewidth": 0,
             "ticks": ""
            },
            "colorscale": [
             [
              0,
              "#0d0887"
             ],
             [
              0.1111111111111111,
              "#46039f"
             ],
             [
              0.2222222222222222,
              "#7201a8"
             ],
             [
              0.3333333333333333,
              "#9c179e"
             ],
             [
              0.4444444444444444,
              "#bd3786"
             ],
             [
              0.5555555555555556,
              "#d8576b"
             ],
             [
              0.6666666666666666,
              "#ed7953"
             ],
             [
              0.7777777777777778,
              "#fb9f3a"
             ],
             [
              0.8888888888888888,
              "#fdca26"
             ],
             [
              1,
              "#f0f921"
             ]
            ],
            "type": "histogram2d"
           }
          ],
          "histogram2dcontour": [
           {
            "colorbar": {
             "outlinewidth": 0,
             "ticks": ""
            },
            "colorscale": [
             [
              0,
              "#0d0887"
             ],
             [
              0.1111111111111111,
              "#46039f"
             ],
             [
              0.2222222222222222,
              "#7201a8"
             ],
             [
              0.3333333333333333,
              "#9c179e"
             ],
             [
              0.4444444444444444,
              "#bd3786"
             ],
             [
              0.5555555555555556,
              "#d8576b"
             ],
             [
              0.6666666666666666,
              "#ed7953"
             ],
             [
              0.7777777777777778,
              "#fb9f3a"
             ],
             [
              0.8888888888888888,
              "#fdca26"
             ],
             [
              1,
              "#f0f921"
             ]
            ],
            "type": "histogram2dcontour"
           }
          ],
          "mesh3d": [
           {
            "colorbar": {
             "outlinewidth": 0,
             "ticks": ""
            },
            "type": "mesh3d"
           }
          ],
          "parcoords": [
           {
            "line": {
             "colorbar": {
              "outlinewidth": 0,
              "ticks": ""
             }
            },
            "type": "parcoords"
           }
          ],
          "pie": [
           {
            "automargin": true,
            "type": "pie"
           }
          ],
          "scatter": [
           {
            "marker": {
             "colorbar": {
              "outlinewidth": 0,
              "ticks": ""
             }
            },
            "type": "scatter"
           }
          ],
          "scatter3d": [
           {
            "line": {
             "colorbar": {
              "outlinewidth": 0,
              "ticks": ""
             }
            },
            "marker": {
             "colorbar": {
              "outlinewidth": 0,
              "ticks": ""
             }
            },
            "type": "scatter3d"
           }
          ],
          "scattercarpet": [
           {
            "marker": {
             "colorbar": {
              "outlinewidth": 0,
              "ticks": ""
             }
            },
            "type": "scattercarpet"
           }
          ],
          "scattergeo": [
           {
            "marker": {
             "colorbar": {
              "outlinewidth": 0,
              "ticks": ""
             }
            },
            "type": "scattergeo"
           }
          ],
          "scattergl": [
           {
            "marker": {
             "colorbar": {
              "outlinewidth": 0,
              "ticks": ""
             }
            },
            "type": "scattergl"
           }
          ],
          "scattermapbox": [
           {
            "marker": {
             "colorbar": {
              "outlinewidth": 0,
              "ticks": ""
             }
            },
            "type": "scattermapbox"
           }
          ],
          "scatterpolar": [
           {
            "marker": {
             "colorbar": {
              "outlinewidth": 0,
              "ticks": ""
             }
            },
            "type": "scatterpolar"
           }
          ],
          "scatterpolargl": [
           {
            "marker": {
             "colorbar": {
              "outlinewidth": 0,
              "ticks": ""
             }
            },
            "type": "scatterpolargl"
           }
          ],
          "scatterternary": [
           {
            "marker": {
             "colorbar": {
              "outlinewidth": 0,
              "ticks": ""
             }
            },
            "type": "scatterternary"
           }
          ],
          "surface": [
           {
            "colorbar": {
             "outlinewidth": 0,
             "ticks": ""
            },
            "colorscale": [
             [
              0,
              "#0d0887"
             ],
             [
              0.1111111111111111,
              "#46039f"
             ],
             [
              0.2222222222222222,
              "#7201a8"
             ],
             [
              0.3333333333333333,
              "#9c179e"
             ],
             [
              0.4444444444444444,
              "#bd3786"
             ],
             [
              0.5555555555555556,
              "#d8576b"
             ],
             [
              0.6666666666666666,
              "#ed7953"
             ],
             [
              0.7777777777777778,
              "#fb9f3a"
             ],
             [
              0.8888888888888888,
              "#fdca26"
             ],
             [
              1,
              "#f0f921"
             ]
            ],
            "type": "surface"
           }
          ],
          "table": [
           {
            "cells": {
             "fill": {
              "color": "#EBF0F8"
             },
             "line": {
              "color": "white"
             }
            },
            "header": {
             "fill": {
              "color": "#C8D4E3"
             },
             "line": {
              "color": "white"
             }
            },
            "type": "table"
           }
          ]
         },
         "layout": {
          "annotationdefaults": {
           "arrowcolor": "#2a3f5f",
           "arrowhead": 0,
           "arrowwidth": 1
          },
          "autotypenumbers": "strict",
          "coloraxis": {
           "colorbar": {
            "outlinewidth": 0,
            "ticks": ""
           }
          },
          "colorscale": {
           "diverging": [
            [
             0,
             "#8e0152"
            ],
            [
             0.1,
             "#c51b7d"
            ],
            [
             0.2,
             "#de77ae"
            ],
            [
             0.3,
             "#f1b6da"
            ],
            [
             0.4,
             "#fde0ef"
            ],
            [
             0.5,
             "#f7f7f7"
            ],
            [
             0.6,
             "#e6f5d0"
            ],
            [
             0.7,
             "#b8e186"
            ],
            [
             0.8,
             "#7fbc41"
            ],
            [
             0.9,
             "#4d9221"
            ],
            [
             1,
             "#276419"
            ]
           ],
           "sequential": [
            [
             0,
             "#0d0887"
            ],
            [
             0.1111111111111111,
             "#46039f"
            ],
            [
             0.2222222222222222,
             "#7201a8"
            ],
            [
             0.3333333333333333,
             "#9c179e"
            ],
            [
             0.4444444444444444,
             "#bd3786"
            ],
            [
             0.5555555555555556,
             "#d8576b"
            ],
            [
             0.6666666666666666,
             "#ed7953"
            ],
            [
             0.7777777777777778,
             "#fb9f3a"
            ],
            [
             0.8888888888888888,
             "#fdca26"
            ],
            [
             1,
             "#f0f921"
            ]
           ],
           "sequentialminus": [
            [
             0,
             "#0d0887"
            ],
            [
             0.1111111111111111,
             "#46039f"
            ],
            [
             0.2222222222222222,
             "#7201a8"
            ],
            [
             0.3333333333333333,
             "#9c179e"
            ],
            [
             0.4444444444444444,
             "#bd3786"
            ],
            [
             0.5555555555555556,
             "#d8576b"
            ],
            [
             0.6666666666666666,
             "#ed7953"
            ],
            [
             0.7777777777777778,
             "#fb9f3a"
            ],
            [
             0.8888888888888888,
             "#fdca26"
            ],
            [
             1,
             "#f0f921"
            ]
           ]
          },
          "colorway": [
           "#636efa",
           "#EF553B",
           "#00cc96",
           "#ab63fa",
           "#FFA15A",
           "#19d3f3",
           "#FF6692",
           "#B6E880",
           "#FF97FF",
           "#FECB52"
          ],
          "font": {
           "color": "#2a3f5f"
          },
          "geo": {
           "bgcolor": "white",
           "lakecolor": "white",
           "landcolor": "#E5ECF6",
           "showlakes": true,
           "showland": true,
           "subunitcolor": "white"
          },
          "hoverlabel": {
           "align": "left"
          },
          "hovermode": "closest",
          "mapbox": {
           "style": "light"
          },
          "paper_bgcolor": "white",
          "plot_bgcolor": "#E5ECF6",
          "polar": {
           "angularaxis": {
            "gridcolor": "white",
            "linecolor": "white",
            "ticks": ""
           },
           "bgcolor": "#E5ECF6",
           "radialaxis": {
            "gridcolor": "white",
            "linecolor": "white",
            "ticks": ""
           }
          },
          "scene": {
           "xaxis": {
            "backgroundcolor": "#E5ECF6",
            "gridcolor": "white",
            "gridwidth": 2,
            "linecolor": "white",
            "showbackground": true,
            "ticks": "",
            "zerolinecolor": "white"
           },
           "yaxis": {
            "backgroundcolor": "#E5ECF6",
            "gridcolor": "white",
            "gridwidth": 2,
            "linecolor": "white",
            "showbackground": true,
            "ticks": "",
            "zerolinecolor": "white"
           },
           "zaxis": {
            "backgroundcolor": "#E5ECF6",
            "gridcolor": "white",
            "gridwidth": 2,
            "linecolor": "white",
            "showbackground": true,
            "ticks": "",
            "zerolinecolor": "white"
           }
          },
          "shapedefaults": {
           "line": {
            "color": "#2a3f5f"
           }
          },
          "ternary": {
           "aaxis": {
            "gridcolor": "white",
            "linecolor": "white",
            "ticks": ""
           },
           "baxis": {
            "gridcolor": "white",
            "linecolor": "white",
            "ticks": ""
           },
           "bgcolor": "#E5ECF6",
           "caxis": {
            "gridcolor": "white",
            "linecolor": "white",
            "ticks": ""
           }
          },
          "title": {
           "x": 0.05
          },
          "xaxis": {
           "automargin": true,
           "gridcolor": "white",
           "linecolor": "white",
           "ticks": "",
           "title": {
            "standoff": 15
           },
           "zerolinecolor": "white",
           "zerolinewidth": 2
          },
          "yaxis": {
           "automargin": true,
           "gridcolor": "white",
           "linecolor": "white",
           "ticks": "",
           "title": {
            "standoff": 15
           },
           "zerolinecolor": "white",
           "zerolinewidth": 2
          }
         }
        },
        "title": {
         "text": "Min_Magic_resist histogram"
        },
        "xaxis": {
         "anchor": "y",
         "domain": [
          0,
          1
         ],
         "title": {
          "text": "Min_Magic_resist"
         }
        },
        "xaxis2": {
         "anchor": "y2",
         "domain": [
          0,
          1
         ],
         "matches": "x",
         "showgrid": true,
         "showticklabels": false
        },
        "yaxis": {
         "anchor": "x",
         "domain": [
          0,
          0.8316
         ],
         "title": {
          "text": "count"
         }
        },
        "yaxis2": {
         "anchor": "x2",
         "domain": [
          0.8416,
          1
         ],
         "matches": "y2",
         "showgrid": false,
         "showline": false,
         "showticklabels": false,
         "ticks": ""
        }
       }
      }
     },
     "metadata": {}
    },
    {
     "output_type": "display_data",
     "data": {
      "application/vnd.plotly.v1+json": {
       "config": {
        "plotlyServerURL": "https://plot.ly"
       },
       "data": [
        {
         "alignmentgroup": "True",
         "bingroup": "x",
         "hovertemplate": "Max_Magic_resist=%{x}<br>count=%{y}<extra></extra>",
         "legendgroup": "",
         "marker": {
          "color": "#636efa"
         },
         "name": "",
         "offsetgroup": "",
         "orientation": "v",
         "showlegend": false,
         "type": "histogram",
         "x": [
          38.5,
          38.5,
          44.75,
          53.25,
          53.25,
          53.25,
          38.5,
          53.25,
          53.25,
          53.25,
          38.5,
          53.25,
          61.75,
          53.25,
          53.35,
          38.5,
          53.25,
          53.25,
          38.5,
          53.25,
          38.5,
          53.25,
          53.25,
          38.5,
          38.5,
          49.25,
          49.25,
          53.25,
          53.25,
          38.5,
          30.1,
          53.25,
          38.5,
          53.25,
          53.25,
          53.25,
          40.5,
          53.25,
          53.25,
          53.25,
          58.25,
          53.25,
          53.25,
          38.5,
          38.5,
          53.25,
          38.5,
          53.25,
          38.5,
          53.25,
          38.5,
          53.25,
          38.5,
          53.25,
          53.25,
          38.5,
          38.5,
          53.25,
          53.25,
          53.35,
          53.25,
          38.5,
          53.25,
          38.5,
          38.5,
          53.25,
          38.5,
          49.25,
          53.25,
          53.25,
          38.5,
          53.25,
          38.5,
          38.5,
          53.25,
          53.25,
          38.5,
          38.5,
          38.5,
          60.25,
          53.25,
          53.25,
          53.25,
          53.25,
          58.25,
          38.5,
          53.35,
          38.5,
          53.25,
          38.5,
          38.5,
          38.5,
          53.25,
          53.25,
          53.25,
          53.25,
          38.5,
          44.75,
          38.5,
          53.25,
          53.25,
          38.5,
          38.5,
          53.25,
          53.25,
          38.5,
          53.25,
          53.25,
          49.25,
          49.25,
          53.25,
          38.5,
          53.25,
          38.5,
          53.25,
          38.5,
          38.5,
          44.75,
          53.25,
          38.5,
          38.5,
          38.5,
          53.25,
          40.5,
          38.5,
          38.5,
          38.5,
          38.5,
          38.5,
          38.5,
          53.25,
          38.5,
          53.25,
          61.75,
          38.5,
          53.25,
          53.25,
          49.25,
          38.5,
          38.5,
          53.25,
          38.5,
          53.25,
          38.5,
          53.25,
          53.25,
          38.5,
          34.5,
          34.5,
          38.5,
          38.5,
          53.25,
          38.5,
          53.25,
          53.25,
          53.25,
          53.25,
          38.5,
          38.5,
          53.25,
          38.5,
          38.5,
          38.5,
          44.5,
          44.5,
          53.25,
          53.25,
          38.5,
          53.25,
          53.25,
          53.25,
          38.5,
          53.25,
          38.5,
          53.25,
          53.25,
          53.25,
          53.25,
          53.25,
          49.25,
          53.25,
          53.25,
          53.25,
          38.5,
          44.75,
          44.75,
          38.5,
          38.5,
          40.5,
          38.5,
          40.5,
          38.5,
          53.25,
          38.5,
          38.5,
          38.5,
          53.25,
          38.5,
          38.5,
          49.25,
          53.25,
          53.25
         ],
         "xaxis": "x",
         "yaxis": "y"
        },
        {
         "alignmentgroup": "True",
         "hovertemplate": "Max_Magic_resist=%{x}<extra></extra>",
         "legendgroup": "",
         "marker": {
          "color": "#636efa"
         },
         "name": "",
         "offsetgroup": "",
         "scalegroup": "x",
         "showlegend": false,
         "type": "violin",
         "x": [
          38.5,
          38.5,
          44.75,
          53.25,
          53.25,
          53.25,
          38.5,
          53.25,
          53.25,
          53.25,
          38.5,
          53.25,
          61.75,
          53.25,
          53.35,
          38.5,
          53.25,
          53.25,
          38.5,
          53.25,
          38.5,
          53.25,
          53.25,
          38.5,
          38.5,
          49.25,
          49.25,
          53.25,
          53.25,
          38.5,
          30.1,
          53.25,
          38.5,
          53.25,
          53.25,
          53.25,
          40.5,
          53.25,
          53.25,
          53.25,
          58.25,
          53.25,
          53.25,
          38.5,
          38.5,
          53.25,
          38.5,
          53.25,
          38.5,
          53.25,
          38.5,
          53.25,
          38.5,
          53.25,
          53.25,
          38.5,
          38.5,
          53.25,
          53.25,
          53.35,
          53.25,
          38.5,
          53.25,
          38.5,
          38.5,
          53.25,
          38.5,
          49.25,
          53.25,
          53.25,
          38.5,
          53.25,
          38.5,
          38.5,
          53.25,
          53.25,
          38.5,
          38.5,
          38.5,
          60.25,
          53.25,
          53.25,
          53.25,
          53.25,
          58.25,
          38.5,
          53.35,
          38.5,
          53.25,
          38.5,
          38.5,
          38.5,
          53.25,
          53.25,
          53.25,
          53.25,
          38.5,
          44.75,
          38.5,
          53.25,
          53.25,
          38.5,
          38.5,
          53.25,
          53.25,
          38.5,
          53.25,
          53.25,
          49.25,
          49.25,
          53.25,
          38.5,
          53.25,
          38.5,
          53.25,
          38.5,
          38.5,
          44.75,
          53.25,
          38.5,
          38.5,
          38.5,
          53.25,
          40.5,
          38.5,
          38.5,
          38.5,
          38.5,
          38.5,
          38.5,
          53.25,
          38.5,
          53.25,
          61.75,
          38.5,
          53.25,
          53.25,
          49.25,
          38.5,
          38.5,
          53.25,
          38.5,
          53.25,
          38.5,
          53.25,
          53.25,
          38.5,
          34.5,
          34.5,
          38.5,
          38.5,
          53.25,
          38.5,
          53.25,
          53.25,
          53.25,
          53.25,
          38.5,
          38.5,
          53.25,
          38.5,
          38.5,
          38.5,
          44.5,
          44.5,
          53.25,
          53.25,
          38.5,
          53.25,
          53.25,
          53.25,
          38.5,
          53.25,
          38.5,
          53.25,
          53.25,
          53.25,
          53.25,
          53.25,
          49.25,
          53.25,
          53.25,
          53.25,
          38.5,
          44.75,
          44.75,
          38.5,
          38.5,
          40.5,
          38.5,
          40.5,
          38.5,
          53.25,
          38.5,
          38.5,
          38.5,
          53.25,
          38.5,
          38.5,
          49.25,
          53.25,
          53.25
         ],
         "xaxis": "x2",
         "yaxis": "y2"
        }
       ],
       "layout": {
        "barmode": "relative",
        "legend": {
         "tracegroupgap": 0
        },
        "template": {
         "data": {
          "bar": [
           {
            "error_x": {
             "color": "#2a3f5f"
            },
            "error_y": {
             "color": "#2a3f5f"
            },
            "marker": {
             "line": {
              "color": "#E5ECF6",
              "width": 0.5
             }
            },
            "type": "bar"
           }
          ],
          "barpolar": [
           {
            "marker": {
             "line": {
              "color": "#E5ECF6",
              "width": 0.5
             }
            },
            "type": "barpolar"
           }
          ],
          "carpet": [
           {
            "aaxis": {
             "endlinecolor": "#2a3f5f",
             "gridcolor": "white",
             "linecolor": "white",
             "minorgridcolor": "white",
             "startlinecolor": "#2a3f5f"
            },
            "baxis": {
             "endlinecolor": "#2a3f5f",
             "gridcolor": "white",
             "linecolor": "white",
             "minorgridcolor": "white",
             "startlinecolor": "#2a3f5f"
            },
            "type": "carpet"
           }
          ],
          "choropleth": [
           {
            "colorbar": {
             "outlinewidth": 0,
             "ticks": ""
            },
            "type": "choropleth"
           }
          ],
          "contour": [
           {
            "colorbar": {
             "outlinewidth": 0,
             "ticks": ""
            },
            "colorscale": [
             [
              0,
              "#0d0887"
             ],
             [
              0.1111111111111111,
              "#46039f"
             ],
             [
              0.2222222222222222,
              "#7201a8"
             ],
             [
              0.3333333333333333,
              "#9c179e"
             ],
             [
              0.4444444444444444,
              "#bd3786"
             ],
             [
              0.5555555555555556,
              "#d8576b"
             ],
             [
              0.6666666666666666,
              "#ed7953"
             ],
             [
              0.7777777777777778,
              "#fb9f3a"
             ],
             [
              0.8888888888888888,
              "#fdca26"
             ],
             [
              1,
              "#f0f921"
             ]
            ],
            "type": "contour"
           }
          ],
          "contourcarpet": [
           {
            "colorbar": {
             "outlinewidth": 0,
             "ticks": ""
            },
            "type": "contourcarpet"
           }
          ],
          "heatmap": [
           {
            "colorbar": {
             "outlinewidth": 0,
             "ticks": ""
            },
            "colorscale": [
             [
              0,
              "#0d0887"
             ],
             [
              0.1111111111111111,
              "#46039f"
             ],
             [
              0.2222222222222222,
              "#7201a8"
             ],
             [
              0.3333333333333333,
              "#9c179e"
             ],
             [
              0.4444444444444444,
              "#bd3786"
             ],
             [
              0.5555555555555556,
              "#d8576b"
             ],
             [
              0.6666666666666666,
              "#ed7953"
             ],
             [
              0.7777777777777778,
              "#fb9f3a"
             ],
             [
              0.8888888888888888,
              "#fdca26"
             ],
             [
              1,
              "#f0f921"
             ]
            ],
            "type": "heatmap"
           }
          ],
          "heatmapgl": [
           {
            "colorbar": {
             "outlinewidth": 0,
             "ticks": ""
            },
            "colorscale": [
             [
              0,
              "#0d0887"
             ],
             [
              0.1111111111111111,
              "#46039f"
             ],
             [
              0.2222222222222222,
              "#7201a8"
             ],
             [
              0.3333333333333333,
              "#9c179e"
             ],
             [
              0.4444444444444444,
              "#bd3786"
             ],
             [
              0.5555555555555556,
              "#d8576b"
             ],
             [
              0.6666666666666666,
              "#ed7953"
             ],
             [
              0.7777777777777778,
              "#fb9f3a"
             ],
             [
              0.8888888888888888,
              "#fdca26"
             ],
             [
              1,
              "#f0f921"
             ]
            ],
            "type": "heatmapgl"
           }
          ],
          "histogram": [
           {
            "marker": {
             "colorbar": {
              "outlinewidth": 0,
              "ticks": ""
             }
            },
            "type": "histogram"
           }
          ],
          "histogram2d": [
           {
            "colorbar": {
             "outlinewidth": 0,
             "ticks": ""
            },
            "colorscale": [
             [
              0,
              "#0d0887"
             ],
             [
              0.1111111111111111,
              "#46039f"
             ],
             [
              0.2222222222222222,
              "#7201a8"
             ],
             [
              0.3333333333333333,
              "#9c179e"
             ],
             [
              0.4444444444444444,
              "#bd3786"
             ],
             [
              0.5555555555555556,
              "#d8576b"
             ],
             [
              0.6666666666666666,
              "#ed7953"
             ],
             [
              0.7777777777777778,
              "#fb9f3a"
             ],
             [
              0.8888888888888888,
              "#fdca26"
             ],
             [
              1,
              "#f0f921"
             ]
            ],
            "type": "histogram2d"
           }
          ],
          "histogram2dcontour": [
           {
            "colorbar": {
             "outlinewidth": 0,
             "ticks": ""
            },
            "colorscale": [
             [
              0,
              "#0d0887"
             ],
             [
              0.1111111111111111,
              "#46039f"
             ],
             [
              0.2222222222222222,
              "#7201a8"
             ],
             [
              0.3333333333333333,
              "#9c179e"
             ],
             [
              0.4444444444444444,
              "#bd3786"
             ],
             [
              0.5555555555555556,
              "#d8576b"
             ],
             [
              0.6666666666666666,
              "#ed7953"
             ],
             [
              0.7777777777777778,
              "#fb9f3a"
             ],
             [
              0.8888888888888888,
              "#fdca26"
             ],
             [
              1,
              "#f0f921"
             ]
            ],
            "type": "histogram2dcontour"
           }
          ],
          "mesh3d": [
           {
            "colorbar": {
             "outlinewidth": 0,
             "ticks": ""
            },
            "type": "mesh3d"
           }
          ],
          "parcoords": [
           {
            "line": {
             "colorbar": {
              "outlinewidth": 0,
              "ticks": ""
             }
            },
            "type": "parcoords"
           }
          ],
          "pie": [
           {
            "automargin": true,
            "type": "pie"
           }
          ],
          "scatter": [
           {
            "marker": {
             "colorbar": {
              "outlinewidth": 0,
              "ticks": ""
             }
            },
            "type": "scatter"
           }
          ],
          "scatter3d": [
           {
            "line": {
             "colorbar": {
              "outlinewidth": 0,
              "ticks": ""
             }
            },
            "marker": {
             "colorbar": {
              "outlinewidth": 0,
              "ticks": ""
             }
            },
            "type": "scatter3d"
           }
          ],
          "scattercarpet": [
           {
            "marker": {
             "colorbar": {
              "outlinewidth": 0,
              "ticks": ""
             }
            },
            "type": "scattercarpet"
           }
          ],
          "scattergeo": [
           {
            "marker": {
             "colorbar": {
              "outlinewidth": 0,
              "ticks": ""
             }
            },
            "type": "scattergeo"
           }
          ],
          "scattergl": [
           {
            "marker": {
             "colorbar": {
              "outlinewidth": 0,
              "ticks": ""
             }
            },
            "type": "scattergl"
           }
          ],
          "scattermapbox": [
           {
            "marker": {
             "colorbar": {
              "outlinewidth": 0,
              "ticks": ""
             }
            },
            "type": "scattermapbox"
           }
          ],
          "scatterpolar": [
           {
            "marker": {
             "colorbar": {
              "outlinewidth": 0,
              "ticks": ""
             }
            },
            "type": "scatterpolar"
           }
          ],
          "scatterpolargl": [
           {
            "marker": {
             "colorbar": {
              "outlinewidth": 0,
              "ticks": ""
             }
            },
            "type": "scatterpolargl"
           }
          ],
          "scatterternary": [
           {
            "marker": {
             "colorbar": {
              "outlinewidth": 0,
              "ticks": ""
             }
            },
            "type": "scatterternary"
           }
          ],
          "surface": [
           {
            "colorbar": {
             "outlinewidth": 0,
             "ticks": ""
            },
            "colorscale": [
             [
              0,
              "#0d0887"
             ],
             [
              0.1111111111111111,
              "#46039f"
             ],
             [
              0.2222222222222222,
              "#7201a8"
             ],
             [
              0.3333333333333333,
              "#9c179e"
             ],
             [
              0.4444444444444444,
              "#bd3786"
             ],
             [
              0.5555555555555556,
              "#d8576b"
             ],
             [
              0.6666666666666666,
              "#ed7953"
             ],
             [
              0.7777777777777778,
              "#fb9f3a"
             ],
             [
              0.8888888888888888,
              "#fdca26"
             ],
             [
              1,
              "#f0f921"
             ]
            ],
            "type": "surface"
           }
          ],
          "table": [
           {
            "cells": {
             "fill": {
              "color": "#EBF0F8"
             },
             "line": {
              "color": "white"
             }
            },
            "header": {
             "fill": {
              "color": "#C8D4E3"
             },
             "line": {
              "color": "white"
             }
            },
            "type": "table"
           }
          ]
         },
         "layout": {
          "annotationdefaults": {
           "arrowcolor": "#2a3f5f",
           "arrowhead": 0,
           "arrowwidth": 1
          },
          "autotypenumbers": "strict",
          "coloraxis": {
           "colorbar": {
            "outlinewidth": 0,
            "ticks": ""
           }
          },
          "colorscale": {
           "diverging": [
            [
             0,
             "#8e0152"
            ],
            [
             0.1,
             "#c51b7d"
            ],
            [
             0.2,
             "#de77ae"
            ],
            [
             0.3,
             "#f1b6da"
            ],
            [
             0.4,
             "#fde0ef"
            ],
            [
             0.5,
             "#f7f7f7"
            ],
            [
             0.6,
             "#e6f5d0"
            ],
            [
             0.7,
             "#b8e186"
            ],
            [
             0.8,
             "#7fbc41"
            ],
            [
             0.9,
             "#4d9221"
            ],
            [
             1,
             "#276419"
            ]
           ],
           "sequential": [
            [
             0,
             "#0d0887"
            ],
            [
             0.1111111111111111,
             "#46039f"
            ],
            [
             0.2222222222222222,
             "#7201a8"
            ],
            [
             0.3333333333333333,
             "#9c179e"
            ],
            [
             0.4444444444444444,
             "#bd3786"
            ],
            [
             0.5555555555555556,
             "#d8576b"
            ],
            [
             0.6666666666666666,
             "#ed7953"
            ],
            [
             0.7777777777777778,
             "#fb9f3a"
            ],
            [
             0.8888888888888888,
             "#fdca26"
            ],
            [
             1,
             "#f0f921"
            ]
           ],
           "sequentialminus": [
            [
             0,
             "#0d0887"
            ],
            [
             0.1111111111111111,
             "#46039f"
            ],
            [
             0.2222222222222222,
             "#7201a8"
            ],
            [
             0.3333333333333333,
             "#9c179e"
            ],
            [
             0.4444444444444444,
             "#bd3786"
            ],
            [
             0.5555555555555556,
             "#d8576b"
            ],
            [
             0.6666666666666666,
             "#ed7953"
            ],
            [
             0.7777777777777778,
             "#fb9f3a"
            ],
            [
             0.8888888888888888,
             "#fdca26"
            ],
            [
             1,
             "#f0f921"
            ]
           ]
          },
          "colorway": [
           "#636efa",
           "#EF553B",
           "#00cc96",
           "#ab63fa",
           "#FFA15A",
           "#19d3f3",
           "#FF6692",
           "#B6E880",
           "#FF97FF",
           "#FECB52"
          ],
          "font": {
           "color": "#2a3f5f"
          },
          "geo": {
           "bgcolor": "white",
           "lakecolor": "white",
           "landcolor": "#E5ECF6",
           "showlakes": true,
           "showland": true,
           "subunitcolor": "white"
          },
          "hoverlabel": {
           "align": "left"
          },
          "hovermode": "closest",
          "mapbox": {
           "style": "light"
          },
          "paper_bgcolor": "white",
          "plot_bgcolor": "#E5ECF6",
          "polar": {
           "angularaxis": {
            "gridcolor": "white",
            "linecolor": "white",
            "ticks": ""
           },
           "bgcolor": "#E5ECF6",
           "radialaxis": {
            "gridcolor": "white",
            "linecolor": "white",
            "ticks": ""
           }
          },
          "scene": {
           "xaxis": {
            "backgroundcolor": "#E5ECF6",
            "gridcolor": "white",
            "gridwidth": 2,
            "linecolor": "white",
            "showbackground": true,
            "ticks": "",
            "zerolinecolor": "white"
           },
           "yaxis": {
            "backgroundcolor": "#E5ECF6",
            "gridcolor": "white",
            "gridwidth": 2,
            "linecolor": "white",
            "showbackground": true,
            "ticks": "",
            "zerolinecolor": "white"
           },
           "zaxis": {
            "backgroundcolor": "#E5ECF6",
            "gridcolor": "white",
            "gridwidth": 2,
            "linecolor": "white",
            "showbackground": true,
            "ticks": "",
            "zerolinecolor": "white"
           }
          },
          "shapedefaults": {
           "line": {
            "color": "#2a3f5f"
           }
          },
          "ternary": {
           "aaxis": {
            "gridcolor": "white",
            "linecolor": "white",
            "ticks": ""
           },
           "baxis": {
            "gridcolor": "white",
            "linecolor": "white",
            "ticks": ""
           },
           "bgcolor": "#E5ECF6",
           "caxis": {
            "gridcolor": "white",
            "linecolor": "white",
            "ticks": ""
           }
          },
          "title": {
           "x": 0.05
          },
          "xaxis": {
           "automargin": true,
           "gridcolor": "white",
           "linecolor": "white",
           "ticks": "",
           "title": {
            "standoff": 15
           },
           "zerolinecolor": "white",
           "zerolinewidth": 2
          },
          "yaxis": {
           "automargin": true,
           "gridcolor": "white",
           "linecolor": "white",
           "ticks": "",
           "title": {
            "standoff": 15
           },
           "zerolinecolor": "white",
           "zerolinewidth": 2
          }
         }
        },
        "title": {
         "text": "Max_Magic_resist histogram"
        },
        "xaxis": {
         "anchor": "y",
         "domain": [
          0,
          1
         ],
         "title": {
          "text": "Max_Magic_resist"
         }
        },
        "xaxis2": {
         "anchor": "y2",
         "domain": [
          0,
          1
         ],
         "matches": "x",
         "showgrid": true,
         "showticklabels": false
        },
        "yaxis": {
         "anchor": "x",
         "domain": [
          0,
          0.8316
         ],
         "title": {
          "text": "count"
         }
        },
        "yaxis2": {
         "anchor": "x2",
         "domain": [
          0.8416,
          1
         ],
         "matches": "y2",
         "showgrid": false,
         "showline": false,
         "showticklabels": false,
         "ticks": ""
        }
       }
      }
     },
     "metadata": {}
    },
    {
     "output_type": "display_data",
     "data": {
      "application/vnd.plotly.v1+json": {
       "config": {
        "plotlyServerURL": "https://plot.ly"
       },
       "data": [
        {
         "alignmentgroup": "True",
         "bingroup": "x",
         "hovertemplate": "Min_Attack_damage=%{x}<br>count=%{y}<extra></extra>",
         "legendgroup": "",
         "marker": {
          "color": "#636efa"
         },
         "name": "",
         "offsetgroup": "",
         "orientation": "v",
         "showlegend": false,
         "type": "histogram",
         "x": [
          47,
          56,
          66,
          66,
          60,
          58,
          57,
          63,
          64,
          63,
          59,
          70,
          61,
          62,
          68,
          59,
          60,
          64,
          53,
          64,
          55,
          60,
          68,
          57,
          59,
          62,
          62,
          64,
          63,
          55,
          55,
          60,
          52,
          60,
          55,
          63,
          52,
          61,
          59,
          66,
          62,
          63,
          53,
          50,
          60,
          60,
          56,
          61,
          60,
          67,
          63,
          68,
          52,
          63,
          62,
          52,
          53,
          62,
          66,
          61,
          69,
          61,
          68,
          59,
          59,
          69,
          53,
          65,
          66,
          68,
          62,
          64,
          55,
          55,
          65,
          65,
          55.36,
          54,
          55,
          68,
          60,
          58,
          59,
          60,
          62,
          51,
          55,
          59,
          61,
          54,
          50,
          50,
          64,
          60,
          68,
          61,
          54,
          61,
          55,
          64,
          64,
          51,
          64,
          58,
          69,
          50,
          66,
          64,
          64,
          64,
          57,
          46,
          68,
          65,
          62,
          55,
          60,
          62,
          65,
          50,
          60,
          54,
          64,
          53,
          58,
          48,
          55,
          60,
          54,
          55,
          64,
          55,
          50,
          61,
          64,
          65,
          66,
          68,
          58,
          61,
          60,
          54,
          72,
          46,
          68,
          63,
          52,
          40,
          57,
          52,
          55,
          66,
          59,
          56,
          64,
          58,
          68,
          58,
          49,
          62,
          48,
          55,
          53,
          58,
          58,
          64,
          60,
          58,
          60,
          61,
          61,
          57,
          65,
          69,
          57,
          57,
          57,
          56,
          64,
          64,
          69,
          68,
          69,
          54,
          62,
          66,
          56,
          56,
          52,
          54,
          53,
          48,
          55,
          58,
          58,
          57,
          64,
          52,
          51,
          68,
          68,
          68
         ],
         "xaxis": "x",
         "yaxis": "y"
        },
        {
         "alignmentgroup": "True",
         "hovertemplate": "Min_Attack_damage=%{x}<extra></extra>",
         "legendgroup": "",
         "marker": {
          "color": "#636efa"
         },
         "name": "",
         "offsetgroup": "",
         "scalegroup": "x",
         "showlegend": false,
         "type": "violin",
         "x": [
          47,
          56,
          66,
          66,
          60,
          58,
          57,
          63,
          64,
          63,
          59,
          70,
          61,
          62,
          68,
          59,
          60,
          64,
          53,
          64,
          55,
          60,
          68,
          57,
          59,
          62,
          62,
          64,
          63,
          55,
          55,
          60,
          52,
          60,
          55,
          63,
          52,
          61,
          59,
          66,
          62,
          63,
          53,
          50,
          60,
          60,
          56,
          61,
          60,
          67,
          63,
          68,
          52,
          63,
          62,
          52,
          53,
          62,
          66,
          61,
          69,
          61,
          68,
          59,
          59,
          69,
          53,
          65,
          66,
          68,
          62,
          64,
          55,
          55,
          65,
          65,
          55.36,
          54,
          55,
          68,
          60,
          58,
          59,
          60,
          62,
          51,
          55,
          59,
          61,
          54,
          50,
          50,
          64,
          60,
          68,
          61,
          54,
          61,
          55,
          64,
          64,
          51,
          64,
          58,
          69,
          50,
          66,
          64,
          64,
          64,
          57,
          46,
          68,
          65,
          62,
          55,
          60,
          62,
          65,
          50,
          60,
          54,
          64,
          53,
          58,
          48,
          55,
          60,
          54,
          55,
          64,
          55,
          50,
          61,
          64,
          65,
          66,
          68,
          58,
          61,
          60,
          54,
          72,
          46,
          68,
          63,
          52,
          40,
          57,
          52,
          55,
          66,
          59,
          56,
          64,
          58,
          68,
          58,
          49,
          62,
          48,
          55,
          53,
          58,
          58,
          64,
          60,
          58,
          60,
          61,
          61,
          57,
          65,
          69,
          57,
          57,
          57,
          56,
          64,
          64,
          69,
          68,
          69,
          54,
          62,
          66,
          56,
          56,
          52,
          54,
          53,
          48,
          55,
          58,
          58,
          57,
          64,
          52,
          51,
          68,
          68,
          68
         ],
         "xaxis": "x2",
         "yaxis": "y2"
        }
       ],
       "layout": {
        "barmode": "relative",
        "legend": {
         "tracegroupgap": 0
        },
        "template": {
         "data": {
          "bar": [
           {
            "error_x": {
             "color": "#2a3f5f"
            },
            "error_y": {
             "color": "#2a3f5f"
            },
            "marker": {
             "line": {
              "color": "#E5ECF6",
              "width": 0.5
             }
            },
            "type": "bar"
           }
          ],
          "barpolar": [
           {
            "marker": {
             "line": {
              "color": "#E5ECF6",
              "width": 0.5
             }
            },
            "type": "barpolar"
           }
          ],
          "carpet": [
           {
            "aaxis": {
             "endlinecolor": "#2a3f5f",
             "gridcolor": "white",
             "linecolor": "white",
             "minorgridcolor": "white",
             "startlinecolor": "#2a3f5f"
            },
            "baxis": {
             "endlinecolor": "#2a3f5f",
             "gridcolor": "white",
             "linecolor": "white",
             "minorgridcolor": "white",
             "startlinecolor": "#2a3f5f"
            },
            "type": "carpet"
           }
          ],
          "choropleth": [
           {
            "colorbar": {
             "outlinewidth": 0,
             "ticks": ""
            },
            "type": "choropleth"
           }
          ],
          "contour": [
           {
            "colorbar": {
             "outlinewidth": 0,
             "ticks": ""
            },
            "colorscale": [
             [
              0,
              "#0d0887"
             ],
             [
              0.1111111111111111,
              "#46039f"
             ],
             [
              0.2222222222222222,
              "#7201a8"
             ],
             [
              0.3333333333333333,
              "#9c179e"
             ],
             [
              0.4444444444444444,
              "#bd3786"
             ],
             [
              0.5555555555555556,
              "#d8576b"
             ],
             [
              0.6666666666666666,
              "#ed7953"
             ],
             [
              0.7777777777777778,
              "#fb9f3a"
             ],
             [
              0.8888888888888888,
              "#fdca26"
             ],
             [
              1,
              "#f0f921"
             ]
            ],
            "type": "contour"
           }
          ],
          "contourcarpet": [
           {
            "colorbar": {
             "outlinewidth": 0,
             "ticks": ""
            },
            "type": "contourcarpet"
           }
          ],
          "heatmap": [
           {
            "colorbar": {
             "outlinewidth": 0,
             "ticks": ""
            },
            "colorscale": [
             [
              0,
              "#0d0887"
             ],
             [
              0.1111111111111111,
              "#46039f"
             ],
             [
              0.2222222222222222,
              "#7201a8"
             ],
             [
              0.3333333333333333,
              "#9c179e"
             ],
             [
              0.4444444444444444,
              "#bd3786"
             ],
             [
              0.5555555555555556,
              "#d8576b"
             ],
             [
              0.6666666666666666,
              "#ed7953"
             ],
             [
              0.7777777777777778,
              "#fb9f3a"
             ],
             [
              0.8888888888888888,
              "#fdca26"
             ],
             [
              1,
              "#f0f921"
             ]
            ],
            "type": "heatmap"
           }
          ],
          "heatmapgl": [
           {
            "colorbar": {
             "outlinewidth": 0,
             "ticks": ""
            },
            "colorscale": [
             [
              0,
              "#0d0887"
             ],
             [
              0.1111111111111111,
              "#46039f"
             ],
             [
              0.2222222222222222,
              "#7201a8"
             ],
             [
              0.3333333333333333,
              "#9c179e"
             ],
             [
              0.4444444444444444,
              "#bd3786"
             ],
             [
              0.5555555555555556,
              "#d8576b"
             ],
             [
              0.6666666666666666,
              "#ed7953"
             ],
             [
              0.7777777777777778,
              "#fb9f3a"
             ],
             [
              0.8888888888888888,
              "#fdca26"
             ],
             [
              1,
              "#f0f921"
             ]
            ],
            "type": "heatmapgl"
           }
          ],
          "histogram": [
           {
            "marker": {
             "colorbar": {
              "outlinewidth": 0,
              "ticks": ""
             }
            },
            "type": "histogram"
           }
          ],
          "histogram2d": [
           {
            "colorbar": {
             "outlinewidth": 0,
             "ticks": ""
            },
            "colorscale": [
             [
              0,
              "#0d0887"
             ],
             [
              0.1111111111111111,
              "#46039f"
             ],
             [
              0.2222222222222222,
              "#7201a8"
             ],
             [
              0.3333333333333333,
              "#9c179e"
             ],
             [
              0.4444444444444444,
              "#bd3786"
             ],
             [
              0.5555555555555556,
              "#d8576b"
             ],
             [
              0.6666666666666666,
              "#ed7953"
             ],
             [
              0.7777777777777778,
              "#fb9f3a"
             ],
             [
              0.8888888888888888,
              "#fdca26"
             ],
             [
              1,
              "#f0f921"
             ]
            ],
            "type": "histogram2d"
           }
          ],
          "histogram2dcontour": [
           {
            "colorbar": {
             "outlinewidth": 0,
             "ticks": ""
            },
            "colorscale": [
             [
              0,
              "#0d0887"
             ],
             [
              0.1111111111111111,
              "#46039f"
             ],
             [
              0.2222222222222222,
              "#7201a8"
             ],
             [
              0.3333333333333333,
              "#9c179e"
             ],
             [
              0.4444444444444444,
              "#bd3786"
             ],
             [
              0.5555555555555556,
              "#d8576b"
             ],
             [
              0.6666666666666666,
              "#ed7953"
             ],
             [
              0.7777777777777778,
              "#fb9f3a"
             ],
             [
              0.8888888888888888,
              "#fdca26"
             ],
             [
              1,
              "#f0f921"
             ]
            ],
            "type": "histogram2dcontour"
           }
          ],
          "mesh3d": [
           {
            "colorbar": {
             "outlinewidth": 0,
             "ticks": ""
            },
            "type": "mesh3d"
           }
          ],
          "parcoords": [
           {
            "line": {
             "colorbar": {
              "outlinewidth": 0,
              "ticks": ""
             }
            },
            "type": "parcoords"
           }
          ],
          "pie": [
           {
            "automargin": true,
            "type": "pie"
           }
          ],
          "scatter": [
           {
            "marker": {
             "colorbar": {
              "outlinewidth": 0,
              "ticks": ""
             }
            },
            "type": "scatter"
           }
          ],
          "scatter3d": [
           {
            "line": {
             "colorbar": {
              "outlinewidth": 0,
              "ticks": ""
             }
            },
            "marker": {
             "colorbar": {
              "outlinewidth": 0,
              "ticks": ""
             }
            },
            "type": "scatter3d"
           }
          ],
          "scattercarpet": [
           {
            "marker": {
             "colorbar": {
              "outlinewidth": 0,
              "ticks": ""
             }
            },
            "type": "scattercarpet"
           }
          ],
          "scattergeo": [
           {
            "marker": {
             "colorbar": {
              "outlinewidth": 0,
              "ticks": ""
             }
            },
            "type": "scattergeo"
           }
          ],
          "scattergl": [
           {
            "marker": {
             "colorbar": {
              "outlinewidth": 0,
              "ticks": ""
             }
            },
            "type": "scattergl"
           }
          ],
          "scattermapbox": [
           {
            "marker": {
             "colorbar": {
              "outlinewidth": 0,
              "ticks": ""
             }
            },
            "type": "scattermapbox"
           }
          ],
          "scatterpolar": [
           {
            "marker": {
             "colorbar": {
              "outlinewidth": 0,
              "ticks": ""
             }
            },
            "type": "scatterpolar"
           }
          ],
          "scatterpolargl": [
           {
            "marker": {
             "colorbar": {
              "outlinewidth": 0,
              "ticks": ""
             }
            },
            "type": "scatterpolargl"
           }
          ],
          "scatterternary": [
           {
            "marker": {
             "colorbar": {
              "outlinewidth": 0,
              "ticks": ""
             }
            },
            "type": "scatterternary"
           }
          ],
          "surface": [
           {
            "colorbar": {
             "outlinewidth": 0,
             "ticks": ""
            },
            "colorscale": [
             [
              0,
              "#0d0887"
             ],
             [
              0.1111111111111111,
              "#46039f"
             ],
             [
              0.2222222222222222,
              "#7201a8"
             ],
             [
              0.3333333333333333,
              "#9c179e"
             ],
             [
              0.4444444444444444,
              "#bd3786"
             ],
             [
              0.5555555555555556,
              "#d8576b"
             ],
             [
              0.6666666666666666,
              "#ed7953"
             ],
             [
              0.7777777777777778,
              "#fb9f3a"
             ],
             [
              0.8888888888888888,
              "#fdca26"
             ],
             [
              1,
              "#f0f921"
             ]
            ],
            "type": "surface"
           }
          ],
          "table": [
           {
            "cells": {
             "fill": {
              "color": "#EBF0F8"
             },
             "line": {
              "color": "white"
             }
            },
            "header": {
             "fill": {
              "color": "#C8D4E3"
             },
             "line": {
              "color": "white"
             }
            },
            "type": "table"
           }
          ]
         },
         "layout": {
          "annotationdefaults": {
           "arrowcolor": "#2a3f5f",
           "arrowhead": 0,
           "arrowwidth": 1
          },
          "autotypenumbers": "strict",
          "coloraxis": {
           "colorbar": {
            "outlinewidth": 0,
            "ticks": ""
           }
          },
          "colorscale": {
           "diverging": [
            [
             0,
             "#8e0152"
            ],
            [
             0.1,
             "#c51b7d"
            ],
            [
             0.2,
             "#de77ae"
            ],
            [
             0.3,
             "#f1b6da"
            ],
            [
             0.4,
             "#fde0ef"
            ],
            [
             0.5,
             "#f7f7f7"
            ],
            [
             0.6,
             "#e6f5d0"
            ],
            [
             0.7,
             "#b8e186"
            ],
            [
             0.8,
             "#7fbc41"
            ],
            [
             0.9,
             "#4d9221"
            ],
            [
             1,
             "#276419"
            ]
           ],
           "sequential": [
            [
             0,
             "#0d0887"
            ],
            [
             0.1111111111111111,
             "#46039f"
            ],
            [
             0.2222222222222222,
             "#7201a8"
            ],
            [
             0.3333333333333333,
             "#9c179e"
            ],
            [
             0.4444444444444444,
             "#bd3786"
            ],
            [
             0.5555555555555556,
             "#d8576b"
            ],
            [
             0.6666666666666666,
             "#ed7953"
            ],
            [
             0.7777777777777778,
             "#fb9f3a"
            ],
            [
             0.8888888888888888,
             "#fdca26"
            ],
            [
             1,
             "#f0f921"
            ]
           ],
           "sequentialminus": [
            [
             0,
             "#0d0887"
            ],
            [
             0.1111111111111111,
             "#46039f"
            ],
            [
             0.2222222222222222,
             "#7201a8"
            ],
            [
             0.3333333333333333,
             "#9c179e"
            ],
            [
             0.4444444444444444,
             "#bd3786"
            ],
            [
             0.5555555555555556,
             "#d8576b"
            ],
            [
             0.6666666666666666,
             "#ed7953"
            ],
            [
             0.7777777777777778,
             "#fb9f3a"
            ],
            [
             0.8888888888888888,
             "#fdca26"
            ],
            [
             1,
             "#f0f921"
            ]
           ]
          },
          "colorway": [
           "#636efa",
           "#EF553B",
           "#00cc96",
           "#ab63fa",
           "#FFA15A",
           "#19d3f3",
           "#FF6692",
           "#B6E880",
           "#FF97FF",
           "#FECB52"
          ],
          "font": {
           "color": "#2a3f5f"
          },
          "geo": {
           "bgcolor": "white",
           "lakecolor": "white",
           "landcolor": "#E5ECF6",
           "showlakes": true,
           "showland": true,
           "subunitcolor": "white"
          },
          "hoverlabel": {
           "align": "left"
          },
          "hovermode": "closest",
          "mapbox": {
           "style": "light"
          },
          "paper_bgcolor": "white",
          "plot_bgcolor": "#E5ECF6",
          "polar": {
           "angularaxis": {
            "gridcolor": "white",
            "linecolor": "white",
            "ticks": ""
           },
           "bgcolor": "#E5ECF6",
           "radialaxis": {
            "gridcolor": "white",
            "linecolor": "white",
            "ticks": ""
           }
          },
          "scene": {
           "xaxis": {
            "backgroundcolor": "#E5ECF6",
            "gridcolor": "white",
            "gridwidth": 2,
            "linecolor": "white",
            "showbackground": true,
            "ticks": "",
            "zerolinecolor": "white"
           },
           "yaxis": {
            "backgroundcolor": "#E5ECF6",
            "gridcolor": "white",
            "gridwidth": 2,
            "linecolor": "white",
            "showbackground": true,
            "ticks": "",
            "zerolinecolor": "white"
           },
           "zaxis": {
            "backgroundcolor": "#E5ECF6",
            "gridcolor": "white",
            "gridwidth": 2,
            "linecolor": "white",
            "showbackground": true,
            "ticks": "",
            "zerolinecolor": "white"
           }
          },
          "shapedefaults": {
           "line": {
            "color": "#2a3f5f"
           }
          },
          "ternary": {
           "aaxis": {
            "gridcolor": "white",
            "linecolor": "white",
            "ticks": ""
           },
           "baxis": {
            "gridcolor": "white",
            "linecolor": "white",
            "ticks": ""
           },
           "bgcolor": "#E5ECF6",
           "caxis": {
            "gridcolor": "white",
            "linecolor": "white",
            "ticks": ""
           }
          },
          "title": {
           "x": 0.05
          },
          "xaxis": {
           "automargin": true,
           "gridcolor": "white",
           "linecolor": "white",
           "ticks": "",
           "title": {
            "standoff": 15
           },
           "zerolinecolor": "white",
           "zerolinewidth": 2
          },
          "yaxis": {
           "automargin": true,
           "gridcolor": "white",
           "linecolor": "white",
           "ticks": "",
           "title": {
            "standoff": 15
           },
           "zerolinecolor": "white",
           "zerolinewidth": 2
          }
         }
        },
        "title": {
         "text": "Min_Attack_damage histogram"
        },
        "xaxis": {
         "anchor": "y",
         "domain": [
          0,
          1
         ],
         "title": {
          "text": "Min_Attack_damage"
         }
        },
        "xaxis2": {
         "anchor": "y2",
         "domain": [
          0,
          1
         ],
         "matches": "x",
         "showgrid": true,
         "showticklabels": false
        },
        "yaxis": {
         "anchor": "x",
         "domain": [
          0,
          0.8316
         ],
         "title": {
          "text": "count"
         }
        },
        "yaxis2": {
         "anchor": "x2",
         "domain": [
          0.8416,
          1
         ],
         "matches": "y2",
         "showgrid": false,
         "showline": false,
         "showticklabels": false,
         "ticks": ""
        }
       }
      }
     },
     "metadata": {}
    },
    {
     "output_type": "display_data",
     "data": {
      "application/vnd.plotly.v1+json": {
       "config": {
        "plotlyServerURL": "https://plot.ly"
       },
       "data": [
        {
         "alignmentgroup": "True",
         "bingroup": "x",
         "hovertemplate": "Max_Attack_damage=%{x}<br>count=%{y}<extra></extra>",
         "legendgroup": "",
         "marker": {
          "color": "#636efa"
         },
         "name": "",
         "offsetgroup": "",
         "orientation": "v",
         "showlegend": false,
         "type": "histogram",
         "x": [
          91.2,
          93.4,
          142.5,
          120.4,
          94,
          112.4,
          114.8,
          114,
          149,
          120.8,
          93,
          132.9,
          112,
          147,
          127.5,
          125.3,
          111,
          115,
          104,
          149,
          106,
          111,
          124.1,
          108,
          115.1,
          130,
          130,
          120.1,
          115.7,
          106,
          107.7,
          94,
          103,
          111,
          109.4,
          131,
          97.9,
          129,
          118.5,
          117,
          118.1,
          114,
          117.6,
          94.71,
          100.12,
          111,
          115.5,
          112,
          102.5,
          126.5,
          114,
          124.1,
          103,
          122.5,
          125.75,
          108.1,
          98.9,
          121.5,
          118.7,
          112,
          132.75,
          113.87,
          140.25,
          111.87,
          109.32,
          140.4,
          104,
          124.5,
          117,
          136,
          126.6,
          120.1,
          106,
          106,
          116,
          141.5,
          100.07,
          110.1,
          97.5,
          120.7,
          111,
          109,
          118.5,
          145,
          118.1,
          103.7,
          106,
          110,
          120.5,
          110.1,
          50,
          50,
          123.5,
          128,
          153,
          117.1,
          105,
          113.7,
          108.41,
          132,
          132,
          105.4,
          103.1,
          109,
          128.5,
          101,
          123.8,
          121.8,
          120.1,
          120.1,
          108,
          71.5,
          119,
          107.5,
          96,
          106,
          119.5,
          114.7,
          116,
          92.5,
          121.37,
          126.25,
          115,
          104,
          117.5,
          90.5,
          114.5,
          100.12,
          110.1,
          106,
          123.5,
          108.41,
          101,
          112,
          103.1,
          133,
          117,
          136,
          114.1,
          118.8,
          111,
          103.3,
          134.9,
          101.25,
          119,
          120.46,
          97.9,
          84.2,
          97.8,
          99.6,
          106,
          134,
          99.8,
          115.5,
          132,
          109,
          127.5,
          114.1,
          100,
          121.5,
          111.75,
          106,
          107.4,
          109,
          109,
          123.5,
          128,
          103.9,
          117.8,
          115.4,
          115.4,
          108,
          133,
          128.5,
          116.5,
          116.5,
          116.5,
          110.4,
          115,
          120.1,
          132.75,
          140.25,
          140.4,
          106.7,
          114.7,
          142.5,
          101.9,
          101.9,
          97.9,
          126.25,
          104,
          90.5,
          114.5,
          103.9,
          103.9,
          111.4,
          132,
          103,
          105.4,
          136,
          119,
          119
         ],
         "xaxis": "x",
         "yaxis": "y"
        },
        {
         "alignmentgroup": "True",
         "hovertemplate": "Max_Attack_damage=%{x}<extra></extra>",
         "legendgroup": "",
         "marker": {
          "color": "#636efa"
         },
         "name": "",
         "offsetgroup": "",
         "scalegroup": "x",
         "showlegend": false,
         "type": "violin",
         "x": [
          91.2,
          93.4,
          142.5,
          120.4,
          94,
          112.4,
          114.8,
          114,
          149,
          120.8,
          93,
          132.9,
          112,
          147,
          127.5,
          125.3,
          111,
          115,
          104,
          149,
          106,
          111,
          124.1,
          108,
          115.1,
          130,
          130,
          120.1,
          115.7,
          106,
          107.7,
          94,
          103,
          111,
          109.4,
          131,
          97.9,
          129,
          118.5,
          117,
          118.1,
          114,
          117.6,
          94.71,
          100.12,
          111,
          115.5,
          112,
          102.5,
          126.5,
          114,
          124.1,
          103,
          122.5,
          125.75,
          108.1,
          98.9,
          121.5,
          118.7,
          112,
          132.75,
          113.87,
          140.25,
          111.87,
          109.32,
          140.4,
          104,
          124.5,
          117,
          136,
          126.6,
          120.1,
          106,
          106,
          116,
          141.5,
          100.07,
          110.1,
          97.5,
          120.7,
          111,
          109,
          118.5,
          145,
          118.1,
          103.7,
          106,
          110,
          120.5,
          110.1,
          50,
          50,
          123.5,
          128,
          153,
          117.1,
          105,
          113.7,
          108.41,
          132,
          132,
          105.4,
          103.1,
          109,
          128.5,
          101,
          123.8,
          121.8,
          120.1,
          120.1,
          108,
          71.5,
          119,
          107.5,
          96,
          106,
          119.5,
          114.7,
          116,
          92.5,
          121.37,
          126.25,
          115,
          104,
          117.5,
          90.5,
          114.5,
          100.12,
          110.1,
          106,
          123.5,
          108.41,
          101,
          112,
          103.1,
          133,
          117,
          136,
          114.1,
          118.8,
          111,
          103.3,
          134.9,
          101.25,
          119,
          120.46,
          97.9,
          84.2,
          97.8,
          99.6,
          106,
          134,
          99.8,
          115.5,
          132,
          109,
          127.5,
          114.1,
          100,
          121.5,
          111.75,
          106,
          107.4,
          109,
          109,
          123.5,
          128,
          103.9,
          117.8,
          115.4,
          115.4,
          108,
          133,
          128.5,
          116.5,
          116.5,
          116.5,
          110.4,
          115,
          120.1,
          132.75,
          140.25,
          140.4,
          106.7,
          114.7,
          142.5,
          101.9,
          101.9,
          97.9,
          126.25,
          104,
          90.5,
          114.5,
          103.9,
          103.9,
          111.4,
          132,
          103,
          105.4,
          136,
          119,
          119
         ],
         "xaxis": "x2",
         "yaxis": "y2"
        }
       ],
       "layout": {
        "barmode": "relative",
        "legend": {
         "tracegroupgap": 0
        },
        "template": {
         "data": {
          "bar": [
           {
            "error_x": {
             "color": "#2a3f5f"
            },
            "error_y": {
             "color": "#2a3f5f"
            },
            "marker": {
             "line": {
              "color": "#E5ECF6",
              "width": 0.5
             }
            },
            "type": "bar"
           }
          ],
          "barpolar": [
           {
            "marker": {
             "line": {
              "color": "#E5ECF6",
              "width": 0.5
             }
            },
            "type": "barpolar"
           }
          ],
          "carpet": [
           {
            "aaxis": {
             "endlinecolor": "#2a3f5f",
             "gridcolor": "white",
             "linecolor": "white",
             "minorgridcolor": "white",
             "startlinecolor": "#2a3f5f"
            },
            "baxis": {
             "endlinecolor": "#2a3f5f",
             "gridcolor": "white",
             "linecolor": "white",
             "minorgridcolor": "white",
             "startlinecolor": "#2a3f5f"
            },
            "type": "carpet"
           }
          ],
          "choropleth": [
           {
            "colorbar": {
             "outlinewidth": 0,
             "ticks": ""
            },
            "type": "choropleth"
           }
          ],
          "contour": [
           {
            "colorbar": {
             "outlinewidth": 0,
             "ticks": ""
            },
            "colorscale": [
             [
              0,
              "#0d0887"
             ],
             [
              0.1111111111111111,
              "#46039f"
             ],
             [
              0.2222222222222222,
              "#7201a8"
             ],
             [
              0.3333333333333333,
              "#9c179e"
             ],
             [
              0.4444444444444444,
              "#bd3786"
             ],
             [
              0.5555555555555556,
              "#d8576b"
             ],
             [
              0.6666666666666666,
              "#ed7953"
             ],
             [
              0.7777777777777778,
              "#fb9f3a"
             ],
             [
              0.8888888888888888,
              "#fdca26"
             ],
             [
              1,
              "#f0f921"
             ]
            ],
            "type": "contour"
           }
          ],
          "contourcarpet": [
           {
            "colorbar": {
             "outlinewidth": 0,
             "ticks": ""
            },
            "type": "contourcarpet"
           }
          ],
          "heatmap": [
           {
            "colorbar": {
             "outlinewidth": 0,
             "ticks": ""
            },
            "colorscale": [
             [
              0,
              "#0d0887"
             ],
             [
              0.1111111111111111,
              "#46039f"
             ],
             [
              0.2222222222222222,
              "#7201a8"
             ],
             [
              0.3333333333333333,
              "#9c179e"
             ],
             [
              0.4444444444444444,
              "#bd3786"
             ],
             [
              0.5555555555555556,
              "#d8576b"
             ],
             [
              0.6666666666666666,
              "#ed7953"
             ],
             [
              0.7777777777777778,
              "#fb9f3a"
             ],
             [
              0.8888888888888888,
              "#fdca26"
             ],
             [
              1,
              "#f0f921"
             ]
            ],
            "type": "heatmap"
           }
          ],
          "heatmapgl": [
           {
            "colorbar": {
             "outlinewidth": 0,
             "ticks": ""
            },
            "colorscale": [
             [
              0,
              "#0d0887"
             ],
             [
              0.1111111111111111,
              "#46039f"
             ],
             [
              0.2222222222222222,
              "#7201a8"
             ],
             [
              0.3333333333333333,
              "#9c179e"
             ],
             [
              0.4444444444444444,
              "#bd3786"
             ],
             [
              0.5555555555555556,
              "#d8576b"
             ],
             [
              0.6666666666666666,
              "#ed7953"
             ],
             [
              0.7777777777777778,
              "#fb9f3a"
             ],
             [
              0.8888888888888888,
              "#fdca26"
             ],
             [
              1,
              "#f0f921"
             ]
            ],
            "type": "heatmapgl"
           }
          ],
          "histogram": [
           {
            "marker": {
             "colorbar": {
              "outlinewidth": 0,
              "ticks": ""
             }
            },
            "type": "histogram"
           }
          ],
          "histogram2d": [
           {
            "colorbar": {
             "outlinewidth": 0,
             "ticks": ""
            },
            "colorscale": [
             [
              0,
              "#0d0887"
             ],
             [
              0.1111111111111111,
              "#46039f"
             ],
             [
              0.2222222222222222,
              "#7201a8"
             ],
             [
              0.3333333333333333,
              "#9c179e"
             ],
             [
              0.4444444444444444,
              "#bd3786"
             ],
             [
              0.5555555555555556,
              "#d8576b"
             ],
             [
              0.6666666666666666,
              "#ed7953"
             ],
             [
              0.7777777777777778,
              "#fb9f3a"
             ],
             [
              0.8888888888888888,
              "#fdca26"
             ],
             [
              1,
              "#f0f921"
             ]
            ],
            "type": "histogram2d"
           }
          ],
          "histogram2dcontour": [
           {
            "colorbar": {
             "outlinewidth": 0,
             "ticks": ""
            },
            "colorscale": [
             [
              0,
              "#0d0887"
             ],
             [
              0.1111111111111111,
              "#46039f"
             ],
             [
              0.2222222222222222,
              "#7201a8"
             ],
             [
              0.3333333333333333,
              "#9c179e"
             ],
             [
              0.4444444444444444,
              "#bd3786"
             ],
             [
              0.5555555555555556,
              "#d8576b"
             ],
             [
              0.6666666666666666,
              "#ed7953"
             ],
             [
              0.7777777777777778,
              "#fb9f3a"
             ],
             [
              0.8888888888888888,
              "#fdca26"
             ],
             [
              1,
              "#f0f921"
             ]
            ],
            "type": "histogram2dcontour"
           }
          ],
          "mesh3d": [
           {
            "colorbar": {
             "outlinewidth": 0,
             "ticks": ""
            },
            "type": "mesh3d"
           }
          ],
          "parcoords": [
           {
            "line": {
             "colorbar": {
              "outlinewidth": 0,
              "ticks": ""
             }
            },
            "type": "parcoords"
           }
          ],
          "pie": [
           {
            "automargin": true,
            "type": "pie"
           }
          ],
          "scatter": [
           {
            "marker": {
             "colorbar": {
              "outlinewidth": 0,
              "ticks": ""
             }
            },
            "type": "scatter"
           }
          ],
          "scatter3d": [
           {
            "line": {
             "colorbar": {
              "outlinewidth": 0,
              "ticks": ""
             }
            },
            "marker": {
             "colorbar": {
              "outlinewidth": 0,
              "ticks": ""
             }
            },
            "type": "scatter3d"
           }
          ],
          "scattercarpet": [
           {
            "marker": {
             "colorbar": {
              "outlinewidth": 0,
              "ticks": ""
             }
            },
            "type": "scattercarpet"
           }
          ],
          "scattergeo": [
           {
            "marker": {
             "colorbar": {
              "outlinewidth": 0,
              "ticks": ""
             }
            },
            "type": "scattergeo"
           }
          ],
          "scattergl": [
           {
            "marker": {
             "colorbar": {
              "outlinewidth": 0,
              "ticks": ""
             }
            },
            "type": "scattergl"
           }
          ],
          "scattermapbox": [
           {
            "marker": {
             "colorbar": {
              "outlinewidth": 0,
              "ticks": ""
             }
            },
            "type": "scattermapbox"
           }
          ],
          "scatterpolar": [
           {
            "marker": {
             "colorbar": {
              "outlinewidth": 0,
              "ticks": ""
             }
            },
            "type": "scatterpolar"
           }
          ],
          "scatterpolargl": [
           {
            "marker": {
             "colorbar": {
              "outlinewidth": 0,
              "ticks": ""
             }
            },
            "type": "scatterpolargl"
           }
          ],
          "scatterternary": [
           {
            "marker": {
             "colorbar": {
              "outlinewidth": 0,
              "ticks": ""
             }
            },
            "type": "scatterternary"
           }
          ],
          "surface": [
           {
            "colorbar": {
             "outlinewidth": 0,
             "ticks": ""
            },
            "colorscale": [
             [
              0,
              "#0d0887"
             ],
             [
              0.1111111111111111,
              "#46039f"
             ],
             [
              0.2222222222222222,
              "#7201a8"
             ],
             [
              0.3333333333333333,
              "#9c179e"
             ],
             [
              0.4444444444444444,
              "#bd3786"
             ],
             [
              0.5555555555555556,
              "#d8576b"
             ],
             [
              0.6666666666666666,
              "#ed7953"
             ],
             [
              0.7777777777777778,
              "#fb9f3a"
             ],
             [
              0.8888888888888888,
              "#fdca26"
             ],
             [
              1,
              "#f0f921"
             ]
            ],
            "type": "surface"
           }
          ],
          "table": [
           {
            "cells": {
             "fill": {
              "color": "#EBF0F8"
             },
             "line": {
              "color": "white"
             }
            },
            "header": {
             "fill": {
              "color": "#C8D4E3"
             },
             "line": {
              "color": "white"
             }
            },
            "type": "table"
           }
          ]
         },
         "layout": {
          "annotationdefaults": {
           "arrowcolor": "#2a3f5f",
           "arrowhead": 0,
           "arrowwidth": 1
          },
          "autotypenumbers": "strict",
          "coloraxis": {
           "colorbar": {
            "outlinewidth": 0,
            "ticks": ""
           }
          },
          "colorscale": {
           "diverging": [
            [
             0,
             "#8e0152"
            ],
            [
             0.1,
             "#c51b7d"
            ],
            [
             0.2,
             "#de77ae"
            ],
            [
             0.3,
             "#f1b6da"
            ],
            [
             0.4,
             "#fde0ef"
            ],
            [
             0.5,
             "#f7f7f7"
            ],
            [
             0.6,
             "#e6f5d0"
            ],
            [
             0.7,
             "#b8e186"
            ],
            [
             0.8,
             "#7fbc41"
            ],
            [
             0.9,
             "#4d9221"
            ],
            [
             1,
             "#276419"
            ]
           ],
           "sequential": [
            [
             0,
             "#0d0887"
            ],
            [
             0.1111111111111111,
             "#46039f"
            ],
            [
             0.2222222222222222,
             "#7201a8"
            ],
            [
             0.3333333333333333,
             "#9c179e"
            ],
            [
             0.4444444444444444,
             "#bd3786"
            ],
            [
             0.5555555555555556,
             "#d8576b"
            ],
            [
             0.6666666666666666,
             "#ed7953"
            ],
            [
             0.7777777777777778,
             "#fb9f3a"
            ],
            [
             0.8888888888888888,
             "#fdca26"
            ],
            [
             1,
             "#f0f921"
            ]
           ],
           "sequentialminus": [
            [
             0,
             "#0d0887"
            ],
            [
             0.1111111111111111,
             "#46039f"
            ],
            [
             0.2222222222222222,
             "#7201a8"
            ],
            [
             0.3333333333333333,
             "#9c179e"
            ],
            [
             0.4444444444444444,
             "#bd3786"
            ],
            [
             0.5555555555555556,
             "#d8576b"
            ],
            [
             0.6666666666666666,
             "#ed7953"
            ],
            [
             0.7777777777777778,
             "#fb9f3a"
            ],
            [
             0.8888888888888888,
             "#fdca26"
            ],
            [
             1,
             "#f0f921"
            ]
           ]
          },
          "colorway": [
           "#636efa",
           "#EF553B",
           "#00cc96",
           "#ab63fa",
           "#FFA15A",
           "#19d3f3",
           "#FF6692",
           "#B6E880",
           "#FF97FF",
           "#FECB52"
          ],
          "font": {
           "color": "#2a3f5f"
          },
          "geo": {
           "bgcolor": "white",
           "lakecolor": "white",
           "landcolor": "#E5ECF6",
           "showlakes": true,
           "showland": true,
           "subunitcolor": "white"
          },
          "hoverlabel": {
           "align": "left"
          },
          "hovermode": "closest",
          "mapbox": {
           "style": "light"
          },
          "paper_bgcolor": "white",
          "plot_bgcolor": "#E5ECF6",
          "polar": {
           "angularaxis": {
            "gridcolor": "white",
            "linecolor": "white",
            "ticks": ""
           },
           "bgcolor": "#E5ECF6",
           "radialaxis": {
            "gridcolor": "white",
            "linecolor": "white",
            "ticks": ""
           }
          },
          "scene": {
           "xaxis": {
            "backgroundcolor": "#E5ECF6",
            "gridcolor": "white",
            "gridwidth": 2,
            "linecolor": "white",
            "showbackground": true,
            "ticks": "",
            "zerolinecolor": "white"
           },
           "yaxis": {
            "backgroundcolor": "#E5ECF6",
            "gridcolor": "white",
            "gridwidth": 2,
            "linecolor": "white",
            "showbackground": true,
            "ticks": "",
            "zerolinecolor": "white"
           },
           "zaxis": {
            "backgroundcolor": "#E5ECF6",
            "gridcolor": "white",
            "gridwidth": 2,
            "linecolor": "white",
            "showbackground": true,
            "ticks": "",
            "zerolinecolor": "white"
           }
          },
          "shapedefaults": {
           "line": {
            "color": "#2a3f5f"
           }
          },
          "ternary": {
           "aaxis": {
            "gridcolor": "white",
            "linecolor": "white",
            "ticks": ""
           },
           "baxis": {
            "gridcolor": "white",
            "linecolor": "white",
            "ticks": ""
           },
           "bgcolor": "#E5ECF6",
           "caxis": {
            "gridcolor": "white",
            "linecolor": "white",
            "ticks": ""
           }
          },
          "title": {
           "x": 0.05
          },
          "xaxis": {
           "automargin": true,
           "gridcolor": "white",
           "linecolor": "white",
           "ticks": "",
           "title": {
            "standoff": 15
           },
           "zerolinecolor": "white",
           "zerolinewidth": 2
          },
          "yaxis": {
           "automargin": true,
           "gridcolor": "white",
           "linecolor": "white",
           "ticks": "",
           "title": {
            "standoff": 15
           },
           "zerolinecolor": "white",
           "zerolinewidth": 2
          }
         }
        },
        "title": {
         "text": "Max_Attack_damage histogram"
        },
        "xaxis": {
         "anchor": "y",
         "domain": [
          0,
          1
         ],
         "title": {
          "text": "Max_Attack_damage"
         }
        },
        "xaxis2": {
         "anchor": "y2",
         "domain": [
          0,
          1
         ],
         "matches": "x",
         "showgrid": true,
         "showticklabels": false
        },
        "yaxis": {
         "anchor": "x",
         "domain": [
          0,
          0.8316
         ],
         "title": {
          "text": "count"
         }
        },
        "yaxis2": {
         "anchor": "x2",
         "domain": [
          0.8416,
          1
         ],
         "matches": "y2",
         "showgrid": false,
         "showline": false,
         "showticklabels": false,
         "ticks": ""
        }
       }
      }
     },
     "metadata": {}
    }
   ],
   "source": [
    "import plotly.express as px\n",
    "col_lst = [\"Win_rate_of_champion\", \"Pick_rate_of_champion\", \"Move_speed\",\"Attack_range\", \"Base_AS\", \"AS_ratio\", \"Min_Health\", \"Max_Health\", \"Min_Health_regen\",\"Max_Health_regen\",\"Min_Armor\",\"Max_Armor\",\"Min_Magic_resist\",\"Max_Magic_resist\",\"Min_Attack_damage\",\"Max_Attack_damage\"]\n",
    "figs = []\n",
    "for col in col_lst:\n",
    "    figs.append(px.histogram(champ_data_df, col, marginal=\"violin\", title=col + ' histogram'))\n",
    "for fig in figs:\n",
    "    fig.show()\n",
    "    "
   ]
  },
  {
   "cell_type": "code",
   "execution_count": 6,
   "metadata": {},
   "outputs": [
    {
     "output_type": "display_data",
     "data": {
      "application/vnd.plotly.v1+json": {
       "config": {
        "plotlyServerURL": "https://plot.ly"
       },
       "data": [
        {
         "coloraxis": "coloraxis",
         "hovertemplate": "x: %{x}<br>y: %{y}<br>color: %{z}<extra></extra>",
         "name": "0",
         "type": "heatmap",
         "x": [
          "Role_of_champion_role_jungle",
          "Role_of_champion_role_mid",
          "Role_of_champion_role_support",
          "Role_of_champion_role_top",
          "Win_rate_of_champion",
          "Pick_rate_of_champion",
          "Move_speed",
          "Attack_range",
          "Base_AS",
          "AS_ratio",
          "Min_Health",
          "Max_Health",
          "Min_Health_regen",
          "Max_Health_regen",
          "Min_Armor",
          "Max_Armor",
          "Min_Magic_resist",
          "Max_Magic_resist",
          "Min_Attack_damage",
          "Max_Attack_damage"
         ],
         "xaxis": "x",
         "y": [
          "Role_of_champion_role_jungle",
          "Role_of_champion_role_mid",
          "Role_of_champion_role_support",
          "Role_of_champion_role_top",
          "Win_rate_of_champion",
          "Pick_rate_of_champion",
          "Move_speed",
          "Attack_range",
          "Base_AS",
          "AS_ratio",
          "Min_Health",
          "Max_Health",
          "Min_Health_regen",
          "Max_Health_regen",
          "Min_Armor",
          "Max_Armor",
          "Min_Magic_resist",
          "Max_Magic_resist",
          "Min_Attack_damage",
          "Max_Attack_damage"
         ],
         "yaxis": "y",
         "z": [
          [
           1,
           -0.2932753790303144,
           -0.2429119412052941,
           -0.2932753790303145,
           0.0012011062129721483,
           0.020298267356800466,
           0.260488748705151,
           -0.26171396906685396,
           0.12685064427678847,
           -0.09143897523017186,
           0.22866226034030532,
           0.0012570534579870233,
           0.20993263180841168,
           0.2195330480176573,
           0.21946738372865526,
           0.1706349646720458,
           0.16569242048805802,
           0.27228132597669585,
           0.23152362988979522,
           0.16676333935518492
          ],
          [
           -0.2932753790303144,
           1,
           -0.27974767688057317,
           -0.337748344370861,
           0.043163337875674855,
           -0.132222768004641,
           -0.02791882010539736,
           0.12291997011025216,
           -0.08175579235426339,
           0.08964760907632398,
           -0.13692983507740644,
           0.07905347789458539,
           0.11865285469392038,
           0.027122374358760398,
           -0.3394572006572266,
           -0.20511207561527203,
           -0.007851542149300969,
           -0.13115225714602943,
           -0.20148518410397873,
           -0.13313215577248488
          ],
          [
           -0.2429119412052941,
           -0.27974767688057317,
           1,
           -0.27974767688057334,
           -0.019073312874107084,
           0.030464788031285966,
           -0.21024450676908998,
           0.1461440333662905,
           -0.12853927577236945,
           -0.009179129465533394,
           -0.2362054697540793,
           -0.17052265372159267,
           -0.07364491139209331,
           -0.1762964107607162,
           0.05473457377512586,
           0.08740625172686528,
           -0.12494252118243407,
           -0.1379373421636184,
           -0.29374278933552544,
           -0.23545456983380111
          ],
          [
           -0.2932753790303145,
           -0.337748344370861,
           -0.27974767688057334,
           1,
           -0.01857048230969277,
           -0.1340975348052603,
           0.24906025193615836,
           -0.2941825663549923,
           0.05576692093363617,
           0.026884334086384496,
           0.15886879682130348,
           0.1136831956596344,
           0.1401043105580329,
           0.19987981538318808,
           0.23350675951088334,
           0.14007588072001922,
           0.15476215504140156,
           0.2690212148869746,
           0.2678124842036054,
           0.30342616514853377
          ],
          [
           0.0012011062129721483,
           0.043163337875674855,
           -0.019073312874107084,
           -0.01857048230969277,
           1,
           -0.004575649789236044,
           -0.06535375685870301,
           -0.028889885237508833,
           -0.046777704690737686,
           0.06030317598588913,
           -0.00344126035298003,
           -0.0011256257722136987,
           0.005007069261754822,
           -0.023970598562460803,
           -0.0022872030052066123,
           0.06970927592810663,
           0.013674234070564813,
           0.023673425232733056,
           -0.012227033022338145,
           -0.02572105921449983
          ],
          [
           0.020298267356800466,
           -0.132222768004641,
           0.030464788031285966,
           -0.1340975348052603,
           -0.004575649789236044,
           1,
           -0.10649920322311401,
           0.06198593484400927,
           -0.05087108769376168,
           0.0058340772883614675,
           0.042958038438440836,
           -0.04205949857335052,
           -0.1441830104367984,
           -0.056989967141421356,
           0.042327948367105496,
           -0.10790519896730076,
           -0.022274264029474047,
           -0.04240507524782321,
           0.04053155304741809,
           -0.0704600727223609
          ],
          [
           0.260488748705151,
           -0.02791882010539736,
           -0.21024450676908998,
           0.24906025193615836,
           -0.06535375685870301,
           -0.10649920322311401,
           1,
           -0.6252605037791055,
           0.09567901130241978,
           0.08835261270488531,
           0.31760328003250826,
           0.2136349311885396,
           0.4600593834250665,
           0.42506624271277665,
           0.4018631804930965,
           0.2163288174945469,
           0.3871027951563491,
           0.5983526471166956,
           0.5124365682433067,
           0.440869803561342
          ],
          [
           -0.26171396906685396,
           0.12291997011025216,
           0.1461440333662905,
           -0.2941825663549923,
           -0.028889885237508833,
           0.06198593484400927,
           -0.6252605037791055,
           1,
           -0.2721453267940913,
           0.043138434567795654,
           -0.5609004541206031,
           -0.3413973276959669,
           -0.58395854354094,
           -0.5440066144642093,
           -0.7234649751825664,
           -0.5044896891468547,
           -0.5086250376469701,
           -0.8913153891414604,
           -0.657450716567776,
           -0.6146455639453525
          ],
          [
           0.12685064427678847,
           -0.08175579235426339,
           -0.12853927577236945,
           0.05576692093363617,
           -0.046777704690737686,
           -0.05087108769376168,
           0.09567901130241978,
           -0.2721453267940913,
           1,
           -0.3676733753901735,
           0.14432503785325362,
           0.041169857194815994,
           -0.05041922581797241,
           0.019372972591767776,
           0.22268384996317395,
           0.16663244813028283,
           -0.011902314847295169,
           0.1773620062326882,
           0.20010170437660055,
           0.15753960212302548
          ],
          [
           -0.09143897523017186,
           0.08964760907632398,
           -0.009179129465533394,
           0.026884334086384496,
           0.06030317598588913,
           0.0058340772883614675,
           0.08835261270488531,
           0.043138434567795654,
           -0.3676733753901735,
           1,
           0.05484255500384966,
           0.13437979939102696,
           0.07299423656800488,
           0.042998174957730444,
           -0.06485655145573849,
           -0.111884912424088,
           0.058650433730647114,
           -0.032036024777035495,
           0.0879077986877847,
           0.16080652182681698
          ],
          [
           0.22866226034030532,
           -0.13692983507740644,
           -0.2362054697540793,
           0.15886879682130348,
           -0.00344126035298003,
           0.042958038438440836,
           0.31760328003250826,
           -0.5609004541206031,
           0.14432503785325362,
           0.05484255500384966,
           1,
           0.5413492922282189,
           0.278722586200364,
           0.25536218905836117,
           0.536691366623311,
           0.30786987029442753,
           0.26267658011641487,
           0.47115623938356926,
           0.49735993542658413,
           0.4491160301263492
          ],
          [
           0.0012570534579870233,
           0.07905347789458539,
           -0.17052265372159267,
           0.1136831956596344,
           -0.0011256257722136987,
           -0.04205949857335052,
           0.2136349311885396,
           -0.3413973276959669,
           0.041169857194815994,
           0.13437979939102696,
           0.5413492922282189,
           1,
           0.273480035514581,
           0.21758153752259246,
           0.15138864060202908,
           0.15598050812613537,
           0.25978936531414615,
           0.374007865678519,
           0.2947285898791656,
           0.33032711252397184
          ],
          [
           0.20993263180841168,
           0.11865285469392038,
           -0.07364491139209331,
           0.1401043105580329,
           0.005007069261754822,
           -0.1441830104367984,
           0.4600593834250665,
           -0.58395854354094,
           -0.05041922581797241,
           0.07299423656800488,
           0.278722586200364,
           0.273480035514581,
           1,
           0.7343446187413959,
           0.3297956728059021,
           0.32554621590235816,
           0.44177755409551683,
           0.6042183021417066,
           0.3288651523536653,
           0.3593990434979477
          ],
          [
           0.2195330480176573,
           0.027122374358760398,
           -0.1762964107607162,
           0.19987981538318808,
           -0.023970598562460803,
           -0.056989967141421356,
           0.42506624271277665,
           -0.5440066144642093,
           0.019372972591767776,
           0.042998174957730444,
           0.25536218905836117,
           0.21758153752259246,
           0.7343446187413959,
           1,
           0.3841308178112949,
           0.3074084327066922,
           0.4122598742887756,
           0.5863138114411919,
           0.3717273575779051,
           0.3788519878068058
          ],
          [
           0.21946738372865526,
           -0.3394572006572266,
           0.05473457377512586,
           0.23350675951088334,
           -0.0022872030052066123,
           0.042327948367105496,
           0.4018631804930965,
           -0.7234649751825664,
           0.22268384996317395,
           -0.06485655145573849,
           0.536691366623311,
           0.15138864060202908,
           0.3297956728059021,
           0.3841308178112949,
           1,
           0.696668558784938,
           0.2931123579264435,
           0.6801716626367836,
           0.5731800316531431,
           0.5030951375852318
          ],
          [
           0.1706349646720458,
           -0.20511207561527203,
           0.08740625172686528,
           0.14007588072001922,
           0.06970927592810663,
           -0.10790519896730076,
           0.2163288174945469,
           -0.5044896891468547,
           0.16663244813028283,
           -0.111884912424088,
           0.30786987029442753,
           0.15598050812613537,
           0.32554621590235816,
           0.3074084327066922,
           0.696668558784938,
           1,
           0.21841115187682078,
           0.5412985217512072,
           0.32995598409472743,
           0.3976360172251418
          ],
          [
           0.16569242048805802,
           -0.007851542149300969,
           -0.12494252118243407,
           0.15476215504140156,
           0.013674234070564813,
           -0.022274264029474047,
           0.3871027951563491,
           -0.5086250376469701,
           -0.011902314847295169,
           0.058650433730647114,
           0.26267658011641487,
           0.25978936531414615,
           0.44177755409551683,
           0.4122598742887756,
           0.2931123579264435,
           0.21841115187682078,
           1,
           0.6842813089737293,
           0.3918152770413742,
           0.3037187595001424
          ],
          [
           0.27228132597669585,
           -0.13115225714602943,
           -0.1379373421636184,
           0.2690212148869746,
           0.023673425232733056,
           -0.04240507524782321,
           0.5983526471166956,
           -0.8913153891414604,
           0.1773620062326882,
           -0.032036024777035495,
           0.47115623938356926,
           0.374007865678519,
           0.6042183021417066,
           0.5863138114411919,
           0.6801716626367836,
           0.5412985217512072,
           0.6842813089737293,
           1,
           0.6457460782077228,
           0.5454032768687291
          ],
          [
           0.23152362988979522,
           -0.20148518410397873,
           -0.29374278933552544,
           0.2678124842036054,
           -0.012227033022338145,
           0.04053155304741809,
           0.5124365682433067,
           -0.657450716567776,
           0.20010170437660055,
           0.0879077986877847,
           0.49735993542658413,
           0.2947285898791656,
           0.3288651523536653,
           0.3717273575779051,
           0.5731800316531431,
           0.32995598409472743,
           0.3918152770413742,
           0.6457460782077228,
           1,
           0.7282569230435285
          ],
          [
           0.16676333935518492,
           -0.13313215577248488,
           -0.23545456983380111,
           0.30342616514853377,
           -0.02572105921449983,
           -0.0704600727223609,
           0.440869803561342,
           -0.6146455639453525,
           0.15753960212302548,
           0.16080652182681698,
           0.4491160301263492,
           0.33032711252397184,
           0.3593990434979477,
           0.3788519878068058,
           0.5030951375852318,
           0.3976360172251418,
           0.3037187595001424,
           0.5454032768687291,
           0.7282569230435285,
           1
          ]
         ]
        }
       ],
       "layout": {
        "coloraxis": {
         "colorscale": [
          [
           0,
           "#0d0887"
          ],
          [
           0.1111111111111111,
           "#46039f"
          ],
          [
           0.2222222222222222,
           "#7201a8"
          ],
          [
           0.3333333333333333,
           "#9c179e"
          ],
          [
           0.4444444444444444,
           "#bd3786"
          ],
          [
           0.5555555555555556,
           "#d8576b"
          ],
          [
           0.6666666666666666,
           "#ed7953"
          ],
          [
           0.7777777777777778,
           "#fb9f3a"
          ],
          [
           0.8888888888888888,
           "#fdca26"
          ],
          [
           1,
           "#f0f921"
          ]
         ]
        },
        "height": 800,
        "template": {
         "data": {
          "bar": [
           {
            "error_x": {
             "color": "#2a3f5f"
            },
            "error_y": {
             "color": "#2a3f5f"
            },
            "marker": {
             "line": {
              "color": "#E5ECF6",
              "width": 0.5
             }
            },
            "type": "bar"
           }
          ],
          "barpolar": [
           {
            "marker": {
             "line": {
              "color": "#E5ECF6",
              "width": 0.5
             }
            },
            "type": "barpolar"
           }
          ],
          "carpet": [
           {
            "aaxis": {
             "endlinecolor": "#2a3f5f",
             "gridcolor": "white",
             "linecolor": "white",
             "minorgridcolor": "white",
             "startlinecolor": "#2a3f5f"
            },
            "baxis": {
             "endlinecolor": "#2a3f5f",
             "gridcolor": "white",
             "linecolor": "white",
             "minorgridcolor": "white",
             "startlinecolor": "#2a3f5f"
            },
            "type": "carpet"
           }
          ],
          "choropleth": [
           {
            "colorbar": {
             "outlinewidth": 0,
             "ticks": ""
            },
            "type": "choropleth"
           }
          ],
          "contour": [
           {
            "colorbar": {
             "outlinewidth": 0,
             "ticks": ""
            },
            "colorscale": [
             [
              0,
              "#0d0887"
             ],
             [
              0.1111111111111111,
              "#46039f"
             ],
             [
              0.2222222222222222,
              "#7201a8"
             ],
             [
              0.3333333333333333,
              "#9c179e"
             ],
             [
              0.4444444444444444,
              "#bd3786"
             ],
             [
              0.5555555555555556,
              "#d8576b"
             ],
             [
              0.6666666666666666,
              "#ed7953"
             ],
             [
              0.7777777777777778,
              "#fb9f3a"
             ],
             [
              0.8888888888888888,
              "#fdca26"
             ],
             [
              1,
              "#f0f921"
             ]
            ],
            "type": "contour"
           }
          ],
          "contourcarpet": [
           {
            "colorbar": {
             "outlinewidth": 0,
             "ticks": ""
            },
            "type": "contourcarpet"
           }
          ],
          "heatmap": [
           {
            "colorbar": {
             "outlinewidth": 0,
             "ticks": ""
            },
            "colorscale": [
             [
              0,
              "#0d0887"
             ],
             [
              0.1111111111111111,
              "#46039f"
             ],
             [
              0.2222222222222222,
              "#7201a8"
             ],
             [
              0.3333333333333333,
              "#9c179e"
             ],
             [
              0.4444444444444444,
              "#bd3786"
             ],
             [
              0.5555555555555556,
              "#d8576b"
             ],
             [
              0.6666666666666666,
              "#ed7953"
             ],
             [
              0.7777777777777778,
              "#fb9f3a"
             ],
             [
              0.8888888888888888,
              "#fdca26"
             ],
             [
              1,
              "#f0f921"
             ]
            ],
            "type": "heatmap"
           }
          ],
          "heatmapgl": [
           {
            "colorbar": {
             "outlinewidth": 0,
             "ticks": ""
            },
            "colorscale": [
             [
              0,
              "#0d0887"
             ],
             [
              0.1111111111111111,
              "#46039f"
             ],
             [
              0.2222222222222222,
              "#7201a8"
             ],
             [
              0.3333333333333333,
              "#9c179e"
             ],
             [
              0.4444444444444444,
              "#bd3786"
             ],
             [
              0.5555555555555556,
              "#d8576b"
             ],
             [
              0.6666666666666666,
              "#ed7953"
             ],
             [
              0.7777777777777778,
              "#fb9f3a"
             ],
             [
              0.8888888888888888,
              "#fdca26"
             ],
             [
              1,
              "#f0f921"
             ]
            ],
            "type": "heatmapgl"
           }
          ],
          "histogram": [
           {
            "marker": {
             "colorbar": {
              "outlinewidth": 0,
              "ticks": ""
             }
            },
            "type": "histogram"
           }
          ],
          "histogram2d": [
           {
            "colorbar": {
             "outlinewidth": 0,
             "ticks": ""
            },
            "colorscale": [
             [
              0,
              "#0d0887"
             ],
             [
              0.1111111111111111,
              "#46039f"
             ],
             [
              0.2222222222222222,
              "#7201a8"
             ],
             [
              0.3333333333333333,
              "#9c179e"
             ],
             [
              0.4444444444444444,
              "#bd3786"
             ],
             [
              0.5555555555555556,
              "#d8576b"
             ],
             [
              0.6666666666666666,
              "#ed7953"
             ],
             [
              0.7777777777777778,
              "#fb9f3a"
             ],
             [
              0.8888888888888888,
              "#fdca26"
             ],
             [
              1,
              "#f0f921"
             ]
            ],
            "type": "histogram2d"
           }
          ],
          "histogram2dcontour": [
           {
            "colorbar": {
             "outlinewidth": 0,
             "ticks": ""
            },
            "colorscale": [
             [
              0,
              "#0d0887"
             ],
             [
              0.1111111111111111,
              "#46039f"
             ],
             [
              0.2222222222222222,
              "#7201a8"
             ],
             [
              0.3333333333333333,
              "#9c179e"
             ],
             [
              0.4444444444444444,
              "#bd3786"
             ],
             [
              0.5555555555555556,
              "#d8576b"
             ],
             [
              0.6666666666666666,
              "#ed7953"
             ],
             [
              0.7777777777777778,
              "#fb9f3a"
             ],
             [
              0.8888888888888888,
              "#fdca26"
             ],
             [
              1,
              "#f0f921"
             ]
            ],
            "type": "histogram2dcontour"
           }
          ],
          "mesh3d": [
           {
            "colorbar": {
             "outlinewidth": 0,
             "ticks": ""
            },
            "type": "mesh3d"
           }
          ],
          "parcoords": [
           {
            "line": {
             "colorbar": {
              "outlinewidth": 0,
              "ticks": ""
             }
            },
            "type": "parcoords"
           }
          ],
          "pie": [
           {
            "automargin": true,
            "type": "pie"
           }
          ],
          "scatter": [
           {
            "marker": {
             "colorbar": {
              "outlinewidth": 0,
              "ticks": ""
             }
            },
            "type": "scatter"
           }
          ],
          "scatter3d": [
           {
            "line": {
             "colorbar": {
              "outlinewidth": 0,
              "ticks": ""
             }
            },
            "marker": {
             "colorbar": {
              "outlinewidth": 0,
              "ticks": ""
             }
            },
            "type": "scatter3d"
           }
          ],
          "scattercarpet": [
           {
            "marker": {
             "colorbar": {
              "outlinewidth": 0,
              "ticks": ""
             }
            },
            "type": "scattercarpet"
           }
          ],
          "scattergeo": [
           {
            "marker": {
             "colorbar": {
              "outlinewidth": 0,
              "ticks": ""
             }
            },
            "type": "scattergeo"
           }
          ],
          "scattergl": [
           {
            "marker": {
             "colorbar": {
              "outlinewidth": 0,
              "ticks": ""
             }
            },
            "type": "scattergl"
           }
          ],
          "scattermapbox": [
           {
            "marker": {
             "colorbar": {
              "outlinewidth": 0,
              "ticks": ""
             }
            },
            "type": "scattermapbox"
           }
          ],
          "scatterpolar": [
           {
            "marker": {
             "colorbar": {
              "outlinewidth": 0,
              "ticks": ""
             }
            },
            "type": "scatterpolar"
           }
          ],
          "scatterpolargl": [
           {
            "marker": {
             "colorbar": {
              "outlinewidth": 0,
              "ticks": ""
             }
            },
            "type": "scatterpolargl"
           }
          ],
          "scatterternary": [
           {
            "marker": {
             "colorbar": {
              "outlinewidth": 0,
              "ticks": ""
             }
            },
            "type": "scatterternary"
           }
          ],
          "surface": [
           {
            "colorbar": {
             "outlinewidth": 0,
             "ticks": ""
            },
            "colorscale": [
             [
              0,
              "#0d0887"
             ],
             [
              0.1111111111111111,
              "#46039f"
             ],
             [
              0.2222222222222222,
              "#7201a8"
             ],
             [
              0.3333333333333333,
              "#9c179e"
             ],
             [
              0.4444444444444444,
              "#bd3786"
             ],
             [
              0.5555555555555556,
              "#d8576b"
             ],
             [
              0.6666666666666666,
              "#ed7953"
             ],
             [
              0.7777777777777778,
              "#fb9f3a"
             ],
             [
              0.8888888888888888,
              "#fdca26"
             ],
             [
              1,
              "#f0f921"
             ]
            ],
            "type": "surface"
           }
          ],
          "table": [
           {
            "cells": {
             "fill": {
              "color": "#EBF0F8"
             },
             "line": {
              "color": "white"
             }
            },
            "header": {
             "fill": {
              "color": "#C8D4E3"
             },
             "line": {
              "color": "white"
             }
            },
            "type": "table"
           }
          ]
         },
         "layout": {
          "annotationdefaults": {
           "arrowcolor": "#2a3f5f",
           "arrowhead": 0,
           "arrowwidth": 1
          },
          "autotypenumbers": "strict",
          "coloraxis": {
           "colorbar": {
            "outlinewidth": 0,
            "ticks": ""
           }
          },
          "colorscale": {
           "diverging": [
            [
             0,
             "#8e0152"
            ],
            [
             0.1,
             "#c51b7d"
            ],
            [
             0.2,
             "#de77ae"
            ],
            [
             0.3,
             "#f1b6da"
            ],
            [
             0.4,
             "#fde0ef"
            ],
            [
             0.5,
             "#f7f7f7"
            ],
            [
             0.6,
             "#e6f5d0"
            ],
            [
             0.7,
             "#b8e186"
            ],
            [
             0.8,
             "#7fbc41"
            ],
            [
             0.9,
             "#4d9221"
            ],
            [
             1,
             "#276419"
            ]
           ],
           "sequential": [
            [
             0,
             "#0d0887"
            ],
            [
             0.1111111111111111,
             "#46039f"
            ],
            [
             0.2222222222222222,
             "#7201a8"
            ],
            [
             0.3333333333333333,
             "#9c179e"
            ],
            [
             0.4444444444444444,
             "#bd3786"
            ],
            [
             0.5555555555555556,
             "#d8576b"
            ],
            [
             0.6666666666666666,
             "#ed7953"
            ],
            [
             0.7777777777777778,
             "#fb9f3a"
            ],
            [
             0.8888888888888888,
             "#fdca26"
            ],
            [
             1,
             "#f0f921"
            ]
           ],
           "sequentialminus": [
            [
             0,
             "#0d0887"
            ],
            [
             0.1111111111111111,
             "#46039f"
            ],
            [
             0.2222222222222222,
             "#7201a8"
            ],
            [
             0.3333333333333333,
             "#9c179e"
            ],
            [
             0.4444444444444444,
             "#bd3786"
            ],
            [
             0.5555555555555556,
             "#d8576b"
            ],
            [
             0.6666666666666666,
             "#ed7953"
            ],
            [
             0.7777777777777778,
             "#fb9f3a"
            ],
            [
             0.8888888888888888,
             "#fdca26"
            ],
            [
             1,
             "#f0f921"
            ]
           ]
          },
          "colorway": [
           "#636efa",
           "#EF553B",
           "#00cc96",
           "#ab63fa",
           "#FFA15A",
           "#19d3f3",
           "#FF6692",
           "#B6E880",
           "#FF97FF",
           "#FECB52"
          ],
          "font": {
           "color": "#2a3f5f"
          },
          "geo": {
           "bgcolor": "white",
           "lakecolor": "white",
           "landcolor": "#E5ECF6",
           "showlakes": true,
           "showland": true,
           "subunitcolor": "white"
          },
          "hoverlabel": {
           "align": "left"
          },
          "hovermode": "closest",
          "mapbox": {
           "style": "light"
          },
          "paper_bgcolor": "white",
          "plot_bgcolor": "#E5ECF6",
          "polar": {
           "angularaxis": {
            "gridcolor": "white",
            "linecolor": "white",
            "ticks": ""
           },
           "bgcolor": "#E5ECF6",
           "radialaxis": {
            "gridcolor": "white",
            "linecolor": "white",
            "ticks": ""
           }
          },
          "scene": {
           "xaxis": {
            "backgroundcolor": "#E5ECF6",
            "gridcolor": "white",
            "gridwidth": 2,
            "linecolor": "white",
            "showbackground": true,
            "ticks": "",
            "zerolinecolor": "white"
           },
           "yaxis": {
            "backgroundcolor": "#E5ECF6",
            "gridcolor": "white",
            "gridwidth": 2,
            "linecolor": "white",
            "showbackground": true,
            "ticks": "",
            "zerolinecolor": "white"
           },
           "zaxis": {
            "backgroundcolor": "#E5ECF6",
            "gridcolor": "white",
            "gridwidth": 2,
            "linecolor": "white",
            "showbackground": true,
            "ticks": "",
            "zerolinecolor": "white"
           }
          },
          "shapedefaults": {
           "line": {
            "color": "#2a3f5f"
           }
          },
          "ternary": {
           "aaxis": {
            "gridcolor": "white",
            "linecolor": "white",
            "ticks": ""
           },
           "baxis": {
            "gridcolor": "white",
            "linecolor": "white",
            "ticks": ""
           },
           "bgcolor": "#E5ECF6",
           "caxis": {
            "gridcolor": "white",
            "linecolor": "white",
            "ticks": ""
           }
          },
          "title": {
           "x": 0.05
          },
          "xaxis": {
           "automargin": true,
           "gridcolor": "white",
           "linecolor": "white",
           "ticks": "",
           "title": {
            "standoff": 15
           },
           "zerolinecolor": "white",
           "zerolinewidth": 2
          },
          "yaxis": {
           "automargin": true,
           "gridcolor": "white",
           "linecolor": "white",
           "ticks": "",
           "title": {
            "standoff": 15
           },
           "zerolinecolor": "white",
           "zerolinewidth": 2
          }
         }
        },
        "title": {
         "text": "Correlation heatmap of numerical values from champion stats"
        },
        "xaxis": {
         "anchor": "y",
         "constrain": "domain",
         "domain": [
          0,
          1
         ],
         "scaleanchor": "y"
        },
        "yaxis": {
         "anchor": "x",
         "autorange": "reversed",
         "constrain": "domain",
         "domain": [
          0,
          1
         ]
        }
       }
      }
     },
     "metadata": {}
    }
   ],
   "source": [
    "fig = px.imshow(champ_data_df.corr(), title=\"Correlation heatmap of numerical values from champion stats\")\n",
    "fig.update_layout(height=800)\n",
    "fig.show()"
   ]
  },
  {
   "cell_type": "code",
   "execution_count": 7,
   "metadata": {},
   "outputs": [],
   "source": [
    "win_drop = champ_data_df.columns.drop([\"Win_rate_of_champion\", \"Role_of_champion_role_jungle\", \"Role_of_champion_role_mid\", \"Role_of_champion_role_support\", \"Role_of_champion_role_top\"])\n",
    " "
   ]
  },
  {
   "cell_type": "code",
   "execution_count": 8,
   "metadata": {},
   "outputs": [
    {
     "output_type": "execute_result",
     "data": {
      "text/plain": [
       "'Win_rate_of_champion ~  Pick_rate_of_champion + Move_speed + Attack_range + Base_AS + AS_ratio + Min_Health + Max_Health + Min_Health_regen + Max_Health_regen + Min_Armor + Max_Armor + Min_Magic_resist + Max_Magic_resist + Min_Attack_damage + Max_Attack_damage'"
      ]
     },
     "metadata": {},
     "execution_count": 8
    }
   ],
   "source": [
    "# y_target ~ xcol1 + xcol2 + xcol3 ...\n",
    "formula = \"Win_rate_of_champion ~  \" + \" + \".join(win_drop)\n",
    "formula"
   ]
  },
  {
   "cell_type": "code",
   "execution_count": 9,
   "metadata": {},
   "outputs": [
    {
     "output_type": "execute_result",
     "data": {
      "text/plain": [
       "<class 'statsmodels.iolib.summary.Summary'>\n",
       "\"\"\"\n",
       "                             OLS Regression Results                             \n",
       "================================================================================\n",
       "Dep. Variable:     Win_rate_of_champion   R-squared:                       0.039\n",
       "Model:                              OLS   Adj. R-squared:                 -0.038\n",
       "Method:                   Least Squares   F-statistic:                    0.5094\n",
       "Date:                  Tue, 06 Apr 2021   Prob (F-statistic):              0.934\n",
       "Time:                          16:19:03   Log-Likelihood:                 348.71\n",
       "No. Observations:                   202   AIC:                            -665.4\n",
       "Df Residuals:                       186   BIC:                            -612.5\n",
       "Df Model:                            15                                         \n",
       "Covariance Type:              nonrobust                                         \n",
       "=========================================================================================\n",
       "                            coef    std err          t      P>|t|      [0.025      0.975]\n",
       "-----------------------------------------------------------------------------------------\n",
       "Intercept                 0.8344      0.241      3.468      0.001       0.360       1.309\n",
       "Pick_rate_of_champion     0.0028      0.078      0.036      0.971      -0.151       0.157\n",
       "Move_speed               -0.0008      0.001     -1.384      0.168      -0.002       0.000\n",
       "Attack_range          -6.274e-05   4.67e-05     -1.343      0.181      -0.000    2.94e-05\n",
       "Base_AS                  -0.0638      0.105     -0.608      0.544      -0.271       0.143\n",
       "AS_ratio                  0.0268      0.024      1.134      0.258      -0.020       0.074\n",
       "Min_Health            -3.124e-06      0.000     -0.024      0.981      -0.000       0.000\n",
       "Max_Health            -8.988e-06   2.87e-05     -0.313      0.755   -6.57e-05    4.77e-05\n",
       "Min_Health_regen         -0.0006      0.003     -0.181      0.857      -0.007       0.006\n",
       "Max_Health_regen         -0.0006      0.001     -0.405      0.686      -0.003       0.002\n",
       "Min_Armor                -0.0011      0.001     -1.199      0.232      -0.003       0.001\n",
       "Max_Armor                 0.0007      0.000      1.472      0.143      -0.000       0.002\n",
       "Min_Magic_resist      -5.426e-05      0.003     -0.018      0.985      -0.006       0.006\n",
       "Max_Magic_resist         -0.0001      0.001     -0.082      0.935      -0.003       0.003\n",
       "Min_Attack_damage         0.0004      0.001      0.402      0.688      -0.001       0.002\n",
       "Max_Attack_damage        -0.0003      0.000     -0.942      0.348      -0.001       0.000\n",
       "==============================================================================\n",
       "Omnibus:                       21.737   Durbin-Watson:                   1.357\n",
       "Prob(Omnibus):                  0.000   Jarque-Bera (JB):               50.993\n",
       "Skew:                           0.460   Prob(JB):                     8.45e-12\n",
       "Kurtosis:                       5.283   Cond. No.                     1.71e+05\n",
       "==============================================================================\n",
       "\n",
       "Notes:\n",
       "[1] Standard Errors assume that the covariance matrix of the errors is correctly specified.\n",
       "[2] The condition number is large, 1.71e+05. This might indicate that there are\n",
       "strong multicollinearity or other numerical problems.\n",
       "\"\"\""
      ],
      "text/html": "<table class=\"simpletable\">\n<caption>OLS Regression Results</caption>\n<tr>\n  <th>Dep. Variable:</th>    <td>Win_rate_of_champion</td> <th>  R-squared:         </th> <td>   0.039</td>\n</tr>\n<tr>\n  <th>Model:</th>                     <td>OLS</td>         <th>  Adj. R-squared:    </th> <td>  -0.038</td>\n</tr>\n<tr>\n  <th>Method:</th>               <td>Least Squares</td>    <th>  F-statistic:       </th> <td>  0.5094</td>\n</tr>\n<tr>\n  <th>Date:</th>               <td>Tue, 06 Apr 2021</td>   <th>  Prob (F-statistic):</th>  <td> 0.934</td> \n</tr>\n<tr>\n  <th>Time:</th>                   <td>16:19:03</td>       <th>  Log-Likelihood:    </th> <td>  348.71</td>\n</tr>\n<tr>\n  <th>No. Observations:</th>        <td>   202</td>        <th>  AIC:               </th> <td>  -665.4</td>\n</tr>\n<tr>\n  <th>Df Residuals:</th>            <td>   186</td>        <th>  BIC:               </th> <td>  -612.5</td>\n</tr>\n<tr>\n  <th>Df Model:</th>                <td>    15</td>        <th>                     </th>     <td> </td>   \n</tr>\n<tr>\n  <th>Covariance Type:</th>        <td>nonrobust</td>      <th>                     </th>     <td> </td>   \n</tr>\n</table>\n<table class=\"simpletable\">\n<tr>\n            <td></td>               <th>coef</th>     <th>std err</th>      <th>t</th>      <th>P>|t|</th>  <th>[0.025</th>    <th>0.975]</th>  \n</tr>\n<tr>\n  <th>Intercept</th>             <td>    0.8344</td> <td>    0.241</td> <td>    3.468</td> <td> 0.001</td> <td>    0.360</td> <td>    1.309</td>\n</tr>\n<tr>\n  <th>Pick_rate_of_champion</th> <td>    0.0028</td> <td>    0.078</td> <td>    0.036</td> <td> 0.971</td> <td>   -0.151</td> <td>    0.157</td>\n</tr>\n<tr>\n  <th>Move_speed</th>            <td>   -0.0008</td> <td>    0.001</td> <td>   -1.384</td> <td> 0.168</td> <td>   -0.002</td> <td>    0.000</td>\n</tr>\n<tr>\n  <th>Attack_range</th>          <td>-6.274e-05</td> <td> 4.67e-05</td> <td>   -1.343</td> <td> 0.181</td> <td>   -0.000</td> <td> 2.94e-05</td>\n</tr>\n<tr>\n  <th>Base_AS</th>               <td>   -0.0638</td> <td>    0.105</td> <td>   -0.608</td> <td> 0.544</td> <td>   -0.271</td> <td>    0.143</td>\n</tr>\n<tr>\n  <th>AS_ratio</th>              <td>    0.0268</td> <td>    0.024</td> <td>    1.134</td> <td> 0.258</td> <td>   -0.020</td> <td>    0.074</td>\n</tr>\n<tr>\n  <th>Min_Health</th>            <td>-3.124e-06</td> <td>    0.000</td> <td>   -0.024</td> <td> 0.981</td> <td>   -0.000</td> <td>    0.000</td>\n</tr>\n<tr>\n  <th>Max_Health</th>            <td>-8.988e-06</td> <td> 2.87e-05</td> <td>   -0.313</td> <td> 0.755</td> <td>-6.57e-05</td> <td> 4.77e-05</td>\n</tr>\n<tr>\n  <th>Min_Health_regen</th>      <td>   -0.0006</td> <td>    0.003</td> <td>   -0.181</td> <td> 0.857</td> <td>   -0.007</td> <td>    0.006</td>\n</tr>\n<tr>\n  <th>Max_Health_regen</th>      <td>   -0.0006</td> <td>    0.001</td> <td>   -0.405</td> <td> 0.686</td> <td>   -0.003</td> <td>    0.002</td>\n</tr>\n<tr>\n  <th>Min_Armor</th>             <td>   -0.0011</td> <td>    0.001</td> <td>   -1.199</td> <td> 0.232</td> <td>   -0.003</td> <td>    0.001</td>\n</tr>\n<tr>\n  <th>Max_Armor</th>             <td>    0.0007</td> <td>    0.000</td> <td>    1.472</td> <td> 0.143</td> <td>   -0.000</td> <td>    0.002</td>\n</tr>\n<tr>\n  <th>Min_Magic_resist</th>      <td>-5.426e-05</td> <td>    0.003</td> <td>   -0.018</td> <td> 0.985</td> <td>   -0.006</td> <td>    0.006</td>\n</tr>\n<tr>\n  <th>Max_Magic_resist</th>      <td>   -0.0001</td> <td>    0.001</td> <td>   -0.082</td> <td> 0.935</td> <td>   -0.003</td> <td>    0.003</td>\n</tr>\n<tr>\n  <th>Min_Attack_damage</th>     <td>    0.0004</td> <td>    0.001</td> <td>    0.402</td> <td> 0.688</td> <td>   -0.001</td> <td>    0.002</td>\n</tr>\n<tr>\n  <th>Max_Attack_damage</th>     <td>   -0.0003</td> <td>    0.000</td> <td>   -0.942</td> <td> 0.348</td> <td>   -0.001</td> <td>    0.000</td>\n</tr>\n</table>\n<table class=\"simpletable\">\n<tr>\n  <th>Omnibus:</th>       <td>21.737</td> <th>  Durbin-Watson:     </th> <td>   1.357</td>\n</tr>\n<tr>\n  <th>Prob(Omnibus):</th> <td> 0.000</td> <th>  Jarque-Bera (JB):  </th> <td>  50.993</td>\n</tr>\n<tr>\n  <th>Skew:</th>          <td> 0.460</td> <th>  Prob(JB):          </th> <td>8.45e-12</td>\n</tr>\n<tr>\n  <th>Kurtosis:</th>      <td> 5.283</td> <th>  Cond. No.          </th> <td>1.71e+05</td>\n</tr>\n</table><br/><br/>Notes:<br/>[1] Standard Errors assume that the covariance matrix of the errors is correctly specified.<br/>[2] The condition number is large, 1.71e+05. This might indicate that there are<br/>strong multicollinearity or other numerical problems."
     },
     "metadata": {},
     "execution_count": 9
    }
   ],
   "source": [
    "import statsmodels.formula.api as smf\n",
    "\n",
    "baseline_model = smf.ols(formula, champ_data_df).fit()\n",
    "baseline_model.summary()\n",
    "#Stastically equal to 0"
   ]
  },
  {
   "cell_type": "code",
   "execution_count": 13,
   "metadata": {},
   "outputs": [
    {
     "output_type": "execute_result",
     "data": {
      "text/plain": [
       "<class 'statsmodels.iolib.summary.Summary'>\n",
       "\"\"\"\n",
       "                             OLS Regression Results                             \n",
       "================================================================================\n",
       "Dep. Variable:     Win_rate_of_champion   R-squared:                       0.039\n",
       "Model:                              OLS   Adj. R-squared:                 -0.032\n",
       "Method:                   Least Squares   F-statistic:                    0.5487\n",
       "Date:                  Tue, 06 Apr 2021   Prob (F-statistic):              0.901\n",
       "Time:                          16:22:05   Log-Likelihood:                 348.71\n",
       "No. Observations:                   202   AIC:                            -667.4\n",
       "Df Residuals:                       187   BIC:                            -617.8\n",
       "Df Model:                            14                                         \n",
       "Covariance Type:              nonrobust                                         \n",
       "=========================================================================================\n",
       "                            coef    std err          t      P>|t|      [0.025      0.975]\n",
       "-----------------------------------------------------------------------------------------\n",
       "Intercept                 0.8332      0.231      3.608      0.000       0.378       1.289\n",
       "Pick_rate_of_champion     0.0028      0.078      0.036      0.971      -0.151       0.156\n",
       "Move_speed               -0.0008      0.001     -1.387      0.167      -0.002       0.000\n",
       "Attack_range          -6.293e-05   4.55e-05     -1.384      0.168      -0.000    2.68e-05\n",
       "Base_AS                  -0.0637      0.104     -0.610      0.543      -0.270       0.142\n",
       "AS_ratio                  0.0268      0.024      1.138      0.257      -0.020       0.073\n",
       "Min_Health            -3.354e-06      0.000     -0.025      0.980      -0.000       0.000\n",
       "Max_Health            -8.944e-06   2.86e-05     -0.313      0.755   -6.53e-05    4.74e-05\n",
       "Min_Health_regen         -0.0006      0.003     -0.182      0.856      -0.007       0.005\n",
       "Max_Health_regen         -0.0006      0.001     -0.406      0.685      -0.003       0.002\n",
       "Min_Armor                -0.0011      0.001     -1.212      0.227      -0.003       0.001\n",
       "Max_Armor                 0.0007      0.000      1.489      0.138      -0.000       0.002\n",
       "Max_Magic_resist         -0.0001      0.001     -0.114      0.909      -0.002       0.002\n",
       "Min_Attack_damage         0.0004      0.001      0.403      0.687      -0.001       0.002\n",
       "Max_Attack_damage        -0.0003      0.000     -0.945      0.346      -0.001       0.000\n",
       "==============================================================================\n",
       "Omnibus:                       21.747   Durbin-Watson:                   1.357\n",
       "Prob(Omnibus):                  0.000   Jarque-Bera (JB):               51.010\n",
       "Skew:                           0.460   Prob(JB):                     8.38e-12\n",
       "Kurtosis:                       5.283   Cond. No.                     1.65e+05\n",
       "==============================================================================\n",
       "\n",
       "Notes:\n",
       "[1] Standard Errors assume that the covariance matrix of the errors is correctly specified.\n",
       "[2] The condition number is large, 1.65e+05. This might indicate that there are\n",
       "strong multicollinearity or other numerical problems.\n",
       "\"\"\""
      ],
      "text/html": "<table class=\"simpletable\">\n<caption>OLS Regression Results</caption>\n<tr>\n  <th>Dep. Variable:</th>    <td>Win_rate_of_champion</td> <th>  R-squared:         </th> <td>   0.039</td>\n</tr>\n<tr>\n  <th>Model:</th>                     <td>OLS</td>         <th>  Adj. R-squared:    </th> <td>  -0.032</td>\n</tr>\n<tr>\n  <th>Method:</th>               <td>Least Squares</td>    <th>  F-statistic:       </th> <td>  0.5487</td>\n</tr>\n<tr>\n  <th>Date:</th>               <td>Tue, 06 Apr 2021</td>   <th>  Prob (F-statistic):</th>  <td> 0.901</td> \n</tr>\n<tr>\n  <th>Time:</th>                   <td>16:22:05</td>       <th>  Log-Likelihood:    </th> <td>  348.71</td>\n</tr>\n<tr>\n  <th>No. Observations:</th>        <td>   202</td>        <th>  AIC:               </th> <td>  -667.4</td>\n</tr>\n<tr>\n  <th>Df Residuals:</th>            <td>   187</td>        <th>  BIC:               </th> <td>  -617.8</td>\n</tr>\n<tr>\n  <th>Df Model:</th>                <td>    14</td>        <th>                     </th>     <td> </td>   \n</tr>\n<tr>\n  <th>Covariance Type:</th>        <td>nonrobust</td>      <th>                     </th>     <td> </td>   \n</tr>\n</table>\n<table class=\"simpletable\">\n<tr>\n            <td></td>               <th>coef</th>     <th>std err</th>      <th>t</th>      <th>P>|t|</th>  <th>[0.025</th>    <th>0.975]</th>  \n</tr>\n<tr>\n  <th>Intercept</th>             <td>    0.8332</td> <td>    0.231</td> <td>    3.608</td> <td> 0.000</td> <td>    0.378</td> <td>    1.289</td>\n</tr>\n<tr>\n  <th>Pick_rate_of_champion</th> <td>    0.0028</td> <td>    0.078</td> <td>    0.036</td> <td> 0.971</td> <td>   -0.151</td> <td>    0.156</td>\n</tr>\n<tr>\n  <th>Move_speed</th>            <td>   -0.0008</td> <td>    0.001</td> <td>   -1.387</td> <td> 0.167</td> <td>   -0.002</td> <td>    0.000</td>\n</tr>\n<tr>\n  <th>Attack_range</th>          <td>-6.293e-05</td> <td> 4.55e-05</td> <td>   -1.384</td> <td> 0.168</td> <td>   -0.000</td> <td> 2.68e-05</td>\n</tr>\n<tr>\n  <th>Base_AS</th>               <td>   -0.0637</td> <td>    0.104</td> <td>   -0.610</td> <td> 0.543</td> <td>   -0.270</td> <td>    0.142</td>\n</tr>\n<tr>\n  <th>AS_ratio</th>              <td>    0.0268</td> <td>    0.024</td> <td>    1.138</td> <td> 0.257</td> <td>   -0.020</td> <td>    0.073</td>\n</tr>\n<tr>\n  <th>Min_Health</th>            <td>-3.354e-06</td> <td>    0.000</td> <td>   -0.025</td> <td> 0.980</td> <td>   -0.000</td> <td>    0.000</td>\n</tr>\n<tr>\n  <th>Max_Health</th>            <td>-8.944e-06</td> <td> 2.86e-05</td> <td>   -0.313</td> <td> 0.755</td> <td>-6.53e-05</td> <td> 4.74e-05</td>\n</tr>\n<tr>\n  <th>Min_Health_regen</th>      <td>   -0.0006</td> <td>    0.003</td> <td>   -0.182</td> <td> 0.856</td> <td>   -0.007</td> <td>    0.005</td>\n</tr>\n<tr>\n  <th>Max_Health_regen</th>      <td>   -0.0006</td> <td>    0.001</td> <td>   -0.406</td> <td> 0.685</td> <td>   -0.003</td> <td>    0.002</td>\n</tr>\n<tr>\n  <th>Min_Armor</th>             <td>   -0.0011</td> <td>    0.001</td> <td>   -1.212</td> <td> 0.227</td> <td>   -0.003</td> <td>    0.001</td>\n</tr>\n<tr>\n  <th>Max_Armor</th>             <td>    0.0007</td> <td>    0.000</td> <td>    1.489</td> <td> 0.138</td> <td>   -0.000</td> <td>    0.002</td>\n</tr>\n<tr>\n  <th>Max_Magic_resist</th>      <td>   -0.0001</td> <td>    0.001</td> <td>   -0.114</td> <td> 0.909</td> <td>   -0.002</td> <td>    0.002</td>\n</tr>\n<tr>\n  <th>Min_Attack_damage</th>     <td>    0.0004</td> <td>    0.001</td> <td>    0.403</td> <td> 0.687</td> <td>   -0.001</td> <td>    0.002</td>\n</tr>\n<tr>\n  <th>Max_Attack_damage</th>     <td>   -0.0003</td> <td>    0.000</td> <td>   -0.945</td> <td> 0.346</td> <td>   -0.001</td> <td>    0.000</td>\n</tr>\n</table>\n<table class=\"simpletable\">\n<tr>\n  <th>Omnibus:</th>       <td>21.747</td> <th>  Durbin-Watson:     </th> <td>   1.357</td>\n</tr>\n<tr>\n  <th>Prob(Omnibus):</th> <td> 0.000</td> <th>  Jarque-Bera (JB):  </th> <td>  51.010</td>\n</tr>\n<tr>\n  <th>Skew:</th>          <td> 0.460</td> <th>  Prob(JB):          </th> <td>8.38e-12</td>\n</tr>\n<tr>\n  <th>Kurtosis:</th>      <td> 5.283</td> <th>  Cond. No.          </th> <td>1.65e+05</td>\n</tr>\n</table><br/><br/>Notes:<br/>[1] Standard Errors assume that the covariance matrix of the errors is correctly specified.<br/>[2] The condition number is large, 1.65e+05. This might indicate that there are<br/>strong multicollinearity or other numerical problems."
     },
     "metadata": {},
     "execution_count": 13
    }
   ],
   "source": [
    "win_drop = champ_data_df.columns.drop([\"Win_rate_of_champion\", \"Role_of_champion_role_jungle\", \"Role_of_champion_role_mid\", \"Role_of_champion_role_support\", \"Role_of_champion_role_top\", \"Min_Magic_resist\"])\n",
    "\n",
    "# y_target ~ xcol1 + xcol2 + xcol3 ...\n",
    "formula = \"Win_rate_of_champion ~  \" + \" + \".join(win_drop)\n",
    "\n",
    "baseline_model = smf.ols(formula, champ_data_df).fit()\n",
    "baseline_model.summary()"
   ]
  },
  {
   "cell_type": "code",
   "execution_count": 14,
   "metadata": {},
   "outputs": [
    {
     "output_type": "execute_result",
     "data": {
      "text/plain": [
       "<class 'statsmodels.iolib.summary.Summary'>\n",
       "\"\"\"\n",
       "                             OLS Regression Results                             \n",
       "================================================================================\n",
       "Dep. Variable:     Win_rate_of_champion   R-squared:                       0.039\n",
       "Model:                              OLS   Adj. R-squared:                 -0.027\n",
       "Method:                   Least Squares   F-statistic:                    0.5940\n",
       "Date:                  Tue, 06 Apr 2021   Prob (F-statistic):              0.857\n",
       "Time:                          16:22:55   Log-Likelihood:                 348.71\n",
       "No. Observations:                   202   AIC:                            -669.4\n",
       "Df Residuals:                       188   BIC:                            -623.1\n",
       "Df Model:                            13                                         \n",
       "Covariance Type:              nonrobust                                         \n",
       "=========================================================================================\n",
       "                            coef    std err          t      P>|t|      [0.025      0.975]\n",
       "-----------------------------------------------------------------------------------------\n",
       "Intercept                 0.8318      0.224      3.714      0.000       0.390       1.274\n",
       "Pick_rate_of_champion     0.0027      0.078      0.035      0.972      -0.150       0.156\n",
       "Move_speed               -0.0008      0.001     -1.391      0.166      -0.002       0.000\n",
       "Attack_range          -6.267e-05   4.42e-05     -1.418      0.158      -0.000    2.45e-05\n",
       "Base_AS                  -0.0636      0.104     -0.611      0.542      -0.269       0.142\n",
       "AS_ratio                  0.0268      0.023      1.141      0.255      -0.020       0.073\n",
       "Max_Health            -9.324e-06   2.43e-05     -0.384      0.701   -5.72e-05    3.85e-05\n",
       "Min_Health_regen         -0.0006      0.003     -0.183      0.855      -0.007       0.005\n",
       "Max_Health_regen         -0.0006      0.001     -0.406      0.685      -0.003       0.002\n",
       "Min_Armor                -0.0012      0.001     -1.293      0.197      -0.003       0.001\n",
       "Max_Armor                 0.0007      0.000      1.502      0.135      -0.000       0.002\n",
       "Max_Magic_resist         -0.0001      0.001     -0.112      0.911      -0.002       0.002\n",
       "Min_Attack_damage         0.0004      0.001      0.404      0.686      -0.001       0.002\n",
       "Max_Attack_damage        -0.0003      0.000     -0.947      0.345      -0.001       0.000\n",
       "==============================================================================\n",
       "Omnibus:                       21.707   Durbin-Watson:                   1.356\n",
       "Prob(Omnibus):                  0.000   Jarque-Bera (JB):               50.938\n",
       "Skew:                           0.459   Prob(JB):                     8.69e-12\n",
       "Kurtosis:                       5.282   Cond. No.                     1.56e+05\n",
       "==============================================================================\n",
       "\n",
       "Notes:\n",
       "[1] Standard Errors assume that the covariance matrix of the errors is correctly specified.\n",
       "[2] The condition number is large, 1.56e+05. This might indicate that there are\n",
       "strong multicollinearity or other numerical problems.\n",
       "\"\"\""
      ],
      "text/html": "<table class=\"simpletable\">\n<caption>OLS Regression Results</caption>\n<tr>\n  <th>Dep. Variable:</th>    <td>Win_rate_of_champion</td> <th>  R-squared:         </th> <td>   0.039</td>\n</tr>\n<tr>\n  <th>Model:</th>                     <td>OLS</td>         <th>  Adj. R-squared:    </th> <td>  -0.027</td>\n</tr>\n<tr>\n  <th>Method:</th>               <td>Least Squares</td>    <th>  F-statistic:       </th> <td>  0.5940</td>\n</tr>\n<tr>\n  <th>Date:</th>               <td>Tue, 06 Apr 2021</td>   <th>  Prob (F-statistic):</th>  <td> 0.857</td> \n</tr>\n<tr>\n  <th>Time:</th>                   <td>16:22:55</td>       <th>  Log-Likelihood:    </th> <td>  348.71</td>\n</tr>\n<tr>\n  <th>No. Observations:</th>        <td>   202</td>        <th>  AIC:               </th> <td>  -669.4</td>\n</tr>\n<tr>\n  <th>Df Residuals:</th>            <td>   188</td>        <th>  BIC:               </th> <td>  -623.1</td>\n</tr>\n<tr>\n  <th>Df Model:</th>                <td>    13</td>        <th>                     </th>     <td> </td>   \n</tr>\n<tr>\n  <th>Covariance Type:</th>        <td>nonrobust</td>      <th>                     </th>     <td> </td>   \n</tr>\n</table>\n<table class=\"simpletable\">\n<tr>\n            <td></td>               <th>coef</th>     <th>std err</th>      <th>t</th>      <th>P>|t|</th>  <th>[0.025</th>    <th>0.975]</th>  \n</tr>\n<tr>\n  <th>Intercept</th>             <td>    0.8318</td> <td>    0.224</td> <td>    3.714</td> <td> 0.000</td> <td>    0.390</td> <td>    1.274</td>\n</tr>\n<tr>\n  <th>Pick_rate_of_champion</th> <td>    0.0027</td> <td>    0.078</td> <td>    0.035</td> <td> 0.972</td> <td>   -0.150</td> <td>    0.156</td>\n</tr>\n<tr>\n  <th>Move_speed</th>            <td>   -0.0008</td> <td>    0.001</td> <td>   -1.391</td> <td> 0.166</td> <td>   -0.002</td> <td>    0.000</td>\n</tr>\n<tr>\n  <th>Attack_range</th>          <td>-6.267e-05</td> <td> 4.42e-05</td> <td>   -1.418</td> <td> 0.158</td> <td>   -0.000</td> <td> 2.45e-05</td>\n</tr>\n<tr>\n  <th>Base_AS</th>               <td>   -0.0636</td> <td>    0.104</td> <td>   -0.611</td> <td> 0.542</td> <td>   -0.269</td> <td>    0.142</td>\n</tr>\n<tr>\n  <th>AS_ratio</th>              <td>    0.0268</td> <td>    0.023</td> <td>    1.141</td> <td> 0.255</td> <td>   -0.020</td> <td>    0.073</td>\n</tr>\n<tr>\n  <th>Max_Health</th>            <td>-9.324e-06</td> <td> 2.43e-05</td> <td>   -0.384</td> <td> 0.701</td> <td>-5.72e-05</td> <td> 3.85e-05</td>\n</tr>\n<tr>\n  <th>Min_Health_regen</th>      <td>   -0.0006</td> <td>    0.003</td> <td>   -0.183</td> <td> 0.855</td> <td>   -0.007</td> <td>    0.005</td>\n</tr>\n<tr>\n  <th>Max_Health_regen</th>      <td>   -0.0006</td> <td>    0.001</td> <td>   -0.406</td> <td> 0.685</td> <td>   -0.003</td> <td>    0.002</td>\n</tr>\n<tr>\n  <th>Min_Armor</th>             <td>   -0.0012</td> <td>    0.001</td> <td>   -1.293</td> <td> 0.197</td> <td>   -0.003</td> <td>    0.001</td>\n</tr>\n<tr>\n  <th>Max_Armor</th>             <td>    0.0007</td> <td>    0.000</td> <td>    1.502</td> <td> 0.135</td> <td>   -0.000</td> <td>    0.002</td>\n</tr>\n<tr>\n  <th>Max_Magic_resist</th>      <td>   -0.0001</td> <td>    0.001</td> <td>   -0.112</td> <td> 0.911</td> <td>   -0.002</td> <td>    0.002</td>\n</tr>\n<tr>\n  <th>Min_Attack_damage</th>     <td>    0.0004</td> <td>    0.001</td> <td>    0.404</td> <td> 0.686</td> <td>   -0.001</td> <td>    0.002</td>\n</tr>\n<tr>\n  <th>Max_Attack_damage</th>     <td>   -0.0003</td> <td>    0.000</td> <td>   -0.947</td> <td> 0.345</td> <td>   -0.001</td> <td>    0.000</td>\n</tr>\n</table>\n<table class=\"simpletable\">\n<tr>\n  <th>Omnibus:</th>       <td>21.707</td> <th>  Durbin-Watson:     </th> <td>   1.356</td>\n</tr>\n<tr>\n  <th>Prob(Omnibus):</th> <td> 0.000</td> <th>  Jarque-Bera (JB):  </th> <td>  50.938</td>\n</tr>\n<tr>\n  <th>Skew:</th>          <td> 0.459</td> <th>  Prob(JB):          </th> <td>8.69e-12</td>\n</tr>\n<tr>\n  <th>Kurtosis:</th>      <td> 5.282</td> <th>  Cond. No.          </th> <td>1.56e+05</td>\n</tr>\n</table><br/><br/>Notes:<br/>[1] Standard Errors assume that the covariance matrix of the errors is correctly specified.<br/>[2] The condition number is large, 1.56e+05. This might indicate that there are<br/>strong multicollinearity or other numerical problems."
     },
     "metadata": {},
     "execution_count": 14
    }
   ],
   "source": [
    "win_drop = champ_data_df.columns.drop([\"Win_rate_of_champion\", \"Role_of_champion_role_jungle\", \"Role_of_champion_role_mid\", \"Role_of_champion_role_support\", \"Role_of_champion_role_top\", \"Min_Magic_resist\", \"Min_Health\"])\n",
    "\n",
    "# y_target ~ xcol1 + xcol2 + xcol3 ...\n",
    "formula = \"Win_rate_of_champion ~  \" + \" + \".join(win_drop)\n",
    "\n",
    "baseline_model = smf.ols(formula, champ_data_df).fit()\n",
    "baseline_model.summary()"
   ]
  },
  {
   "cell_type": "code",
   "execution_count": 15,
   "metadata": {},
   "outputs": [
    {
     "output_type": "execute_result",
     "data": {
      "text/plain": [
       "<class 'statsmodels.iolib.summary.Summary'>\n",
       "\"\"\"\n",
       "                             OLS Regression Results                             \n",
       "================================================================================\n",
       "Dep. Variable:     Win_rate_of_champion   R-squared:                       0.039\n",
       "Model:                              OLS   Adj. R-squared:                 -0.022\n",
       "Method:                   Least Squares   F-statistic:                    0.6468\n",
       "Date:                  Tue, 06 Apr 2021   Prob (F-statistic):              0.800\n",
       "Time:                          16:23:35   Log-Likelihood:                 348.71\n",
       "No. Observations:                   202   AIC:                            -671.4\n",
       "Df Residuals:                       189   BIC:                            -628.4\n",
       "Df Model:                            12                                         \n",
       "Covariance Type:              nonrobust                                         \n",
       "=====================================================================================\n",
       "                        coef    std err          t      P>|t|      [0.025      0.975]\n",
       "-------------------------------------------------------------------------------------\n",
       "Intercept             0.8328      0.222      3.758      0.000       0.396       1.270\n",
       "Move_speed           -0.0008      0.001     -1.407      0.161      -0.002       0.000\n",
       "Attack_range      -6.261e-05   4.41e-05     -1.421      0.157      -0.000    2.43e-05\n",
       "Base_AS              -0.0639      0.104     -0.616      0.538      -0.268       0.141\n",
       "AS_ratio              0.0268      0.023      1.144      0.254      -0.019       0.073\n",
       "Max_Health         -9.32e-06   2.42e-05     -0.385      0.701   -5.71e-05    3.84e-05\n",
       "Min_Health_regen     -0.0006      0.003     -0.188      0.851      -0.007       0.005\n",
       "Max_Health_regen     -0.0005      0.001     -0.406      0.685      -0.003       0.002\n",
       "Min_Armor            -0.0011      0.001     -1.308      0.193      -0.003       0.001\n",
       "Max_Armor             0.0007      0.000      1.521      0.130      -0.000       0.002\n",
       "Max_Magic_resist     -0.0001      0.001     -0.111      0.912      -0.002       0.002\n",
       "Min_Attack_damage     0.0004      0.001      0.411      0.682      -0.001       0.002\n",
       "Max_Attack_damage    -0.0003      0.000     -0.955      0.341      -0.001       0.000\n",
       "==============================================================================\n",
       "Omnibus:                       21.561   Durbin-Watson:                   1.354\n",
       "Prob(Omnibus):                  0.000   Jarque-Bera (JB):               50.601\n",
       "Skew:                           0.455   Prob(JB):                     1.03e-11\n",
       "Kurtosis:                       5.277   Cond. No.                     1.54e+05\n",
       "==============================================================================\n",
       "\n",
       "Notes:\n",
       "[1] Standard Errors assume that the covariance matrix of the errors is correctly specified.\n",
       "[2] The condition number is large, 1.54e+05. This might indicate that there are\n",
       "strong multicollinearity or other numerical problems.\n",
       "\"\"\""
      ],
      "text/html": "<table class=\"simpletable\">\n<caption>OLS Regression Results</caption>\n<tr>\n  <th>Dep. Variable:</th>    <td>Win_rate_of_champion</td> <th>  R-squared:         </th> <td>   0.039</td>\n</tr>\n<tr>\n  <th>Model:</th>                     <td>OLS</td>         <th>  Adj. R-squared:    </th> <td>  -0.022</td>\n</tr>\n<tr>\n  <th>Method:</th>               <td>Least Squares</td>    <th>  F-statistic:       </th> <td>  0.6468</td>\n</tr>\n<tr>\n  <th>Date:</th>               <td>Tue, 06 Apr 2021</td>   <th>  Prob (F-statistic):</th>  <td> 0.800</td> \n</tr>\n<tr>\n  <th>Time:</th>                   <td>16:23:35</td>       <th>  Log-Likelihood:    </th> <td>  348.71</td>\n</tr>\n<tr>\n  <th>No. Observations:</th>        <td>   202</td>        <th>  AIC:               </th> <td>  -671.4</td>\n</tr>\n<tr>\n  <th>Df Residuals:</th>            <td>   189</td>        <th>  BIC:               </th> <td>  -628.4</td>\n</tr>\n<tr>\n  <th>Df Model:</th>                <td>    12</td>        <th>                     </th>     <td> </td>   \n</tr>\n<tr>\n  <th>Covariance Type:</th>        <td>nonrobust</td>      <th>                     </th>     <td> </td>   \n</tr>\n</table>\n<table class=\"simpletable\">\n<tr>\n          <td></td>             <th>coef</th>     <th>std err</th>      <th>t</th>      <th>P>|t|</th>  <th>[0.025</th>    <th>0.975]</th>  \n</tr>\n<tr>\n  <th>Intercept</th>         <td>    0.8328</td> <td>    0.222</td> <td>    3.758</td> <td> 0.000</td> <td>    0.396</td> <td>    1.270</td>\n</tr>\n<tr>\n  <th>Move_speed</th>        <td>   -0.0008</td> <td>    0.001</td> <td>   -1.407</td> <td> 0.161</td> <td>   -0.002</td> <td>    0.000</td>\n</tr>\n<tr>\n  <th>Attack_range</th>      <td>-6.261e-05</td> <td> 4.41e-05</td> <td>   -1.421</td> <td> 0.157</td> <td>   -0.000</td> <td> 2.43e-05</td>\n</tr>\n<tr>\n  <th>Base_AS</th>           <td>   -0.0639</td> <td>    0.104</td> <td>   -0.616</td> <td> 0.538</td> <td>   -0.268</td> <td>    0.141</td>\n</tr>\n<tr>\n  <th>AS_ratio</th>          <td>    0.0268</td> <td>    0.023</td> <td>    1.144</td> <td> 0.254</td> <td>   -0.019</td> <td>    0.073</td>\n</tr>\n<tr>\n  <th>Max_Health</th>        <td> -9.32e-06</td> <td> 2.42e-05</td> <td>   -0.385</td> <td> 0.701</td> <td>-5.71e-05</td> <td> 3.84e-05</td>\n</tr>\n<tr>\n  <th>Min_Health_regen</th>  <td>   -0.0006</td> <td>    0.003</td> <td>   -0.188</td> <td> 0.851</td> <td>   -0.007</td> <td>    0.005</td>\n</tr>\n<tr>\n  <th>Max_Health_regen</th>  <td>   -0.0005</td> <td>    0.001</td> <td>   -0.406</td> <td> 0.685</td> <td>   -0.003</td> <td>    0.002</td>\n</tr>\n<tr>\n  <th>Min_Armor</th>         <td>   -0.0011</td> <td>    0.001</td> <td>   -1.308</td> <td> 0.193</td> <td>   -0.003</td> <td>    0.001</td>\n</tr>\n<tr>\n  <th>Max_Armor</th>         <td>    0.0007</td> <td>    0.000</td> <td>    1.521</td> <td> 0.130</td> <td>   -0.000</td> <td>    0.002</td>\n</tr>\n<tr>\n  <th>Max_Magic_resist</th>  <td>   -0.0001</td> <td>    0.001</td> <td>   -0.111</td> <td> 0.912</td> <td>   -0.002</td> <td>    0.002</td>\n</tr>\n<tr>\n  <th>Min_Attack_damage</th> <td>    0.0004</td> <td>    0.001</td> <td>    0.411</td> <td> 0.682</td> <td>   -0.001</td> <td>    0.002</td>\n</tr>\n<tr>\n  <th>Max_Attack_damage</th> <td>   -0.0003</td> <td>    0.000</td> <td>   -0.955</td> <td> 0.341</td> <td>   -0.001</td> <td>    0.000</td>\n</tr>\n</table>\n<table class=\"simpletable\">\n<tr>\n  <th>Omnibus:</th>       <td>21.561</td> <th>  Durbin-Watson:     </th> <td>   1.354</td>\n</tr>\n<tr>\n  <th>Prob(Omnibus):</th> <td> 0.000</td> <th>  Jarque-Bera (JB):  </th> <td>  50.601</td>\n</tr>\n<tr>\n  <th>Skew:</th>          <td> 0.455</td> <th>  Prob(JB):          </th> <td>1.03e-11</td>\n</tr>\n<tr>\n  <th>Kurtosis:</th>      <td> 5.277</td> <th>  Cond. No.          </th> <td>1.54e+05</td>\n</tr>\n</table><br/><br/>Notes:<br/>[1] Standard Errors assume that the covariance matrix of the errors is correctly specified.<br/>[2] The condition number is large, 1.54e+05. This might indicate that there are<br/>strong multicollinearity or other numerical problems."
     },
     "metadata": {},
     "execution_count": 15
    }
   ],
   "source": [
    "win_drop = champ_data_df.columns.drop([\"Win_rate_of_champion\", \"Role_of_champion_role_jungle\", \"Role_of_champion_role_mid\", \"Role_of_champion_role_support\", \"Role_of_champion_role_top\", \"Min_Magic_resist\", \"Min_Health\", \"Pick_rate_of_champion\"])\n",
    "\n",
    "# y_target ~ xcol1 + xcol2 + xcol3 ...\n",
    "formula = \"Win_rate_of_champion ~  \" + \" + \".join(win_drop)\n",
    "\n",
    "baseline_model = smf.ols(formula, champ_data_df).fit()\n",
    "baseline_model.summary()"
   ]
  },
  {
   "cell_type": "code",
   "execution_count": 16,
   "metadata": {},
   "outputs": [
    {
     "output_type": "execute_result",
     "data": {
      "text/plain": [
       "<class 'statsmodels.iolib.summary.Summary'>\n",
       "\"\"\"\n",
       "                             OLS Regression Results                             \n",
       "================================================================================\n",
       "Dep. Variable:     Win_rate_of_champion   R-squared:                       0.039\n",
       "Model:                              OLS   Adj. R-squared:                 -0.016\n",
       "Method:                   Least Squares   F-statistic:                    0.7082\n",
       "Date:                  Tue, 06 Apr 2021   Prob (F-statistic):              0.730\n",
       "Time:                          16:25:37   Log-Likelihood:                 348.71\n",
       "No. Observations:                   202   AIC:                            -673.4\n",
       "Df Residuals:                       190   BIC:                            -633.7\n",
       "Df Model:                            11                                         \n",
       "Covariance Type:              nonrobust                                         \n",
       "=====================================================================================\n",
       "                        coef    std err          t      P>|t|      [0.025      0.975]\n",
       "-------------------------------------------------------------------------------------\n",
       "Intercept             0.8305      0.220      3.773      0.000       0.396       1.265\n",
       "Move_speed           -0.0008      0.001     -1.428      0.155      -0.002       0.000\n",
       "Attack_range      -5.955e-05   3.42e-05     -1.740      0.084      -0.000    7.98e-06\n",
       "Base_AS              -0.0624      0.103     -0.609      0.543      -0.265       0.140\n",
       "AS_ratio              0.0269      0.023      1.155      0.250      -0.019       0.073\n",
       "Max_Health        -9.789e-06   2.38e-05     -0.412      0.681   -5.67e-05    3.71e-05\n",
       "Min_Health_regen     -0.0006      0.003     -0.195      0.846      -0.007       0.005\n",
       "Max_Health_regen     -0.0006      0.001     -0.432      0.667      -0.003       0.002\n",
       "Min_Armor            -0.0011      0.001     -1.309      0.192      -0.003       0.001\n",
       "Max_Armor             0.0007      0.000      1.545      0.124      -0.000       0.002\n",
       "Min_Attack_damage     0.0004      0.001      0.397      0.692      -0.001       0.002\n",
       "Max_Attack_damage    -0.0003      0.000     -0.956      0.340      -0.001       0.000\n",
       "==============================================================================\n",
       "Omnibus:                       21.526   Durbin-Watson:                   1.354\n",
       "Prob(Omnibus):                  0.000   Jarque-Bera (JB):               50.429\n",
       "Skew:                           0.455   Prob(JB):                     1.12e-11\n",
       "Kurtosis:                       5.272   Cond. No.                     1.54e+05\n",
       "==============================================================================\n",
       "\n",
       "Notes:\n",
       "[1] Standard Errors assume that the covariance matrix of the errors is correctly specified.\n",
       "[2] The condition number is large, 1.54e+05. This might indicate that there are\n",
       "strong multicollinearity or other numerical problems.\n",
       "\"\"\""
      ],
      "text/html": "<table class=\"simpletable\">\n<caption>OLS Regression Results</caption>\n<tr>\n  <th>Dep. Variable:</th>    <td>Win_rate_of_champion</td> <th>  R-squared:         </th> <td>   0.039</td>\n</tr>\n<tr>\n  <th>Model:</th>                     <td>OLS</td>         <th>  Adj. R-squared:    </th> <td>  -0.016</td>\n</tr>\n<tr>\n  <th>Method:</th>               <td>Least Squares</td>    <th>  F-statistic:       </th> <td>  0.7082</td>\n</tr>\n<tr>\n  <th>Date:</th>               <td>Tue, 06 Apr 2021</td>   <th>  Prob (F-statistic):</th>  <td> 0.730</td> \n</tr>\n<tr>\n  <th>Time:</th>                   <td>16:25:37</td>       <th>  Log-Likelihood:    </th> <td>  348.71</td>\n</tr>\n<tr>\n  <th>No. Observations:</th>        <td>   202</td>        <th>  AIC:               </th> <td>  -673.4</td>\n</tr>\n<tr>\n  <th>Df Residuals:</th>            <td>   190</td>        <th>  BIC:               </th> <td>  -633.7</td>\n</tr>\n<tr>\n  <th>Df Model:</th>                <td>    11</td>        <th>                     </th>     <td> </td>   \n</tr>\n<tr>\n  <th>Covariance Type:</th>        <td>nonrobust</td>      <th>                     </th>     <td> </td>   \n</tr>\n</table>\n<table class=\"simpletable\">\n<tr>\n          <td></td>             <th>coef</th>     <th>std err</th>      <th>t</th>      <th>P>|t|</th>  <th>[0.025</th>    <th>0.975]</th>  \n</tr>\n<tr>\n  <th>Intercept</th>         <td>    0.8305</td> <td>    0.220</td> <td>    3.773</td> <td> 0.000</td> <td>    0.396</td> <td>    1.265</td>\n</tr>\n<tr>\n  <th>Move_speed</th>        <td>   -0.0008</td> <td>    0.001</td> <td>   -1.428</td> <td> 0.155</td> <td>   -0.002</td> <td>    0.000</td>\n</tr>\n<tr>\n  <th>Attack_range</th>      <td>-5.955e-05</td> <td> 3.42e-05</td> <td>   -1.740</td> <td> 0.084</td> <td>   -0.000</td> <td> 7.98e-06</td>\n</tr>\n<tr>\n  <th>Base_AS</th>           <td>   -0.0624</td> <td>    0.103</td> <td>   -0.609</td> <td> 0.543</td> <td>   -0.265</td> <td>    0.140</td>\n</tr>\n<tr>\n  <th>AS_ratio</th>          <td>    0.0269</td> <td>    0.023</td> <td>    1.155</td> <td> 0.250</td> <td>   -0.019</td> <td>    0.073</td>\n</tr>\n<tr>\n  <th>Max_Health</th>        <td>-9.789e-06</td> <td> 2.38e-05</td> <td>   -0.412</td> <td> 0.681</td> <td>-5.67e-05</td> <td> 3.71e-05</td>\n</tr>\n<tr>\n  <th>Min_Health_regen</th>  <td>   -0.0006</td> <td>    0.003</td> <td>   -0.195</td> <td> 0.846</td> <td>   -0.007</td> <td>    0.005</td>\n</tr>\n<tr>\n  <th>Max_Health_regen</th>  <td>   -0.0006</td> <td>    0.001</td> <td>   -0.432</td> <td> 0.667</td> <td>   -0.003</td> <td>    0.002</td>\n</tr>\n<tr>\n  <th>Min_Armor</th>         <td>   -0.0011</td> <td>    0.001</td> <td>   -1.309</td> <td> 0.192</td> <td>   -0.003</td> <td>    0.001</td>\n</tr>\n<tr>\n  <th>Max_Armor</th>         <td>    0.0007</td> <td>    0.000</td> <td>    1.545</td> <td> 0.124</td> <td>   -0.000</td> <td>    0.002</td>\n</tr>\n<tr>\n  <th>Min_Attack_damage</th> <td>    0.0004</td> <td>    0.001</td> <td>    0.397</td> <td> 0.692</td> <td>   -0.001</td> <td>    0.002</td>\n</tr>\n<tr>\n  <th>Max_Attack_damage</th> <td>   -0.0003</td> <td>    0.000</td> <td>   -0.956</td> <td> 0.340</td> <td>   -0.001</td> <td>    0.000</td>\n</tr>\n</table>\n<table class=\"simpletable\">\n<tr>\n  <th>Omnibus:</th>       <td>21.526</td> <th>  Durbin-Watson:     </th> <td>   1.354</td>\n</tr>\n<tr>\n  <th>Prob(Omnibus):</th> <td> 0.000</td> <th>  Jarque-Bera (JB):  </th> <td>  50.429</td>\n</tr>\n<tr>\n  <th>Skew:</th>          <td> 0.455</td> <th>  Prob(JB):          </th> <td>1.12e-11</td>\n</tr>\n<tr>\n  <th>Kurtosis:</th>      <td> 5.272</td> <th>  Cond. No.          </th> <td>1.54e+05</td>\n</tr>\n</table><br/><br/>Notes:<br/>[1] Standard Errors assume that the covariance matrix of the errors is correctly specified.<br/>[2] The condition number is large, 1.54e+05. This might indicate that there are<br/>strong multicollinearity or other numerical problems."
     },
     "metadata": {},
     "execution_count": 16
    }
   ],
   "source": [
    "win_drop = champ_data_df.columns.drop([\"Win_rate_of_champion\", \"Role_of_champion_role_jungle\", \"Role_of_champion_role_mid\", \"Role_of_champion_role_support\", \"Role_of_champion_role_top\", \"Min_Magic_resist\", \"Min_Health\", \"Pick_rate_of_champion\", \"Max_Magic_resist\"])\n",
    "\n",
    "# y_target ~ xcol1 + xcol2 + xcol3 ...\n",
    "formula = \"Win_rate_of_champion ~  \" + \" + \".join(win_drop)\n",
    "\n",
    "baseline_model = smf.ols(formula, champ_data_df).fit()\n",
    "baseline_model.summary()"
   ]
  },
  {
   "cell_type": "code",
   "execution_count": 17,
   "metadata": {},
   "outputs": [
    {
     "output_type": "execute_result",
     "data": {
      "text/plain": [
       "<class 'statsmodels.iolib.summary.Summary'>\n",
       "\"\"\"\n",
       "                             OLS Regression Results                             \n",
       "================================================================================\n",
       "Dep. Variable:     Win_rate_of_champion   R-squared:                       0.039\n",
       "Model:                              OLS   Adj. R-squared:                 -0.011\n",
       "Method:                   Least Squares   F-statistic:                    0.7791\n",
       "Date:                  Tue, 06 Apr 2021   Prob (F-statistic):              0.649\n",
       "Time:                          16:27:46   Log-Likelihood:                 348.69\n",
       "No. Observations:                   202   AIC:                            -675.4\n",
       "Df Residuals:                       191   BIC:                            -639.0\n",
       "Df Model:                            10                                         \n",
       "Covariance Type:              nonrobust                                         \n",
       "=====================================================================================\n",
       "                        coef    std err          t      P>|t|      [0.025      0.975]\n",
       "-------------------------------------------------------------------------------------\n",
       "Intercept             0.8298      0.220      3.780      0.000       0.397       1.263\n",
       "Move_speed           -0.0008      0.001     -1.457      0.147      -0.002       0.000\n",
       "Attack_range      -5.733e-05   3.22e-05     -1.781      0.077      -0.000    6.17e-06\n",
       "Base_AS              -0.0587      0.100     -0.584      0.560      -0.257       0.139\n",
       "AS_ratio              0.0268      0.023      1.153      0.250      -0.019       0.073\n",
       "Max_Health        -1.006e-05   2.37e-05     -0.425      0.671   -5.67e-05    3.66e-05\n",
       "Max_Health_regen     -0.0007      0.001     -0.686      0.493      -0.003       0.001\n",
       "Min_Armor            -0.0011      0.001     -1.301      0.195      -0.003       0.001\n",
       "Max_Armor             0.0007      0.000      1.538      0.126      -0.000       0.002\n",
       "Min_Attack_damage     0.0004      0.001      0.414      0.680      -0.001       0.002\n",
       "Max_Attack_damage    -0.0003      0.000     -0.955      0.341      -0.001       0.000\n",
       "==============================================================================\n",
       "Omnibus:                       20.939   Durbin-Watson:                   1.355\n",
       "Prob(Omnibus):                  0.000   Jarque-Bera (JB):               48.890\n",
       "Skew:                           0.441   Prob(JB):                     2.42e-11\n",
       "Kurtosis:                       5.243   Cond. No.                     1.53e+05\n",
       "==============================================================================\n",
       "\n",
       "Notes:\n",
       "[1] Standard Errors assume that the covariance matrix of the errors is correctly specified.\n",
       "[2] The condition number is large, 1.53e+05. This might indicate that there are\n",
       "strong multicollinearity or other numerical problems.\n",
       "\"\"\""
      ],
      "text/html": "<table class=\"simpletable\">\n<caption>OLS Regression Results</caption>\n<tr>\n  <th>Dep. Variable:</th>    <td>Win_rate_of_champion</td> <th>  R-squared:         </th> <td>   0.039</td>\n</tr>\n<tr>\n  <th>Model:</th>                     <td>OLS</td>         <th>  Adj. R-squared:    </th> <td>  -0.011</td>\n</tr>\n<tr>\n  <th>Method:</th>               <td>Least Squares</td>    <th>  F-statistic:       </th> <td>  0.7791</td>\n</tr>\n<tr>\n  <th>Date:</th>               <td>Tue, 06 Apr 2021</td>   <th>  Prob (F-statistic):</th>  <td> 0.649</td> \n</tr>\n<tr>\n  <th>Time:</th>                   <td>16:27:46</td>       <th>  Log-Likelihood:    </th> <td>  348.69</td>\n</tr>\n<tr>\n  <th>No. Observations:</th>        <td>   202</td>        <th>  AIC:               </th> <td>  -675.4</td>\n</tr>\n<tr>\n  <th>Df Residuals:</th>            <td>   191</td>        <th>  BIC:               </th> <td>  -639.0</td>\n</tr>\n<tr>\n  <th>Df Model:</th>                <td>    10</td>        <th>                     </th>     <td> </td>   \n</tr>\n<tr>\n  <th>Covariance Type:</th>        <td>nonrobust</td>      <th>                     </th>     <td> </td>   \n</tr>\n</table>\n<table class=\"simpletable\">\n<tr>\n          <td></td>             <th>coef</th>     <th>std err</th>      <th>t</th>      <th>P>|t|</th>  <th>[0.025</th>    <th>0.975]</th>  \n</tr>\n<tr>\n  <th>Intercept</th>         <td>    0.8298</td> <td>    0.220</td> <td>    3.780</td> <td> 0.000</td> <td>    0.397</td> <td>    1.263</td>\n</tr>\n<tr>\n  <th>Move_speed</th>        <td>   -0.0008</td> <td>    0.001</td> <td>   -1.457</td> <td> 0.147</td> <td>   -0.002</td> <td>    0.000</td>\n</tr>\n<tr>\n  <th>Attack_range</th>      <td>-5.733e-05</td> <td> 3.22e-05</td> <td>   -1.781</td> <td> 0.077</td> <td>   -0.000</td> <td> 6.17e-06</td>\n</tr>\n<tr>\n  <th>Base_AS</th>           <td>   -0.0587</td> <td>    0.100</td> <td>   -0.584</td> <td> 0.560</td> <td>   -0.257</td> <td>    0.139</td>\n</tr>\n<tr>\n  <th>AS_ratio</th>          <td>    0.0268</td> <td>    0.023</td> <td>    1.153</td> <td> 0.250</td> <td>   -0.019</td> <td>    0.073</td>\n</tr>\n<tr>\n  <th>Max_Health</th>        <td>-1.006e-05</td> <td> 2.37e-05</td> <td>   -0.425</td> <td> 0.671</td> <td>-5.67e-05</td> <td> 3.66e-05</td>\n</tr>\n<tr>\n  <th>Max_Health_regen</th>  <td>   -0.0007</td> <td>    0.001</td> <td>   -0.686</td> <td> 0.493</td> <td>   -0.003</td> <td>    0.001</td>\n</tr>\n<tr>\n  <th>Min_Armor</th>         <td>   -0.0011</td> <td>    0.001</td> <td>   -1.301</td> <td> 0.195</td> <td>   -0.003</td> <td>    0.001</td>\n</tr>\n<tr>\n  <th>Max_Armor</th>         <td>    0.0007</td> <td>    0.000</td> <td>    1.538</td> <td> 0.126</td> <td>   -0.000</td> <td>    0.002</td>\n</tr>\n<tr>\n  <th>Min_Attack_damage</th> <td>    0.0004</td> <td>    0.001</td> <td>    0.414</td> <td> 0.680</td> <td>   -0.001</td> <td>    0.002</td>\n</tr>\n<tr>\n  <th>Max_Attack_damage</th> <td>   -0.0003</td> <td>    0.000</td> <td>   -0.955</td> <td> 0.341</td> <td>   -0.001</td> <td>    0.000</td>\n</tr>\n</table>\n<table class=\"simpletable\">\n<tr>\n  <th>Omnibus:</th>       <td>20.939</td> <th>  Durbin-Watson:     </th> <td>   1.355</td>\n</tr>\n<tr>\n  <th>Prob(Omnibus):</th> <td> 0.000</td> <th>  Jarque-Bera (JB):  </th> <td>  48.890</td>\n</tr>\n<tr>\n  <th>Skew:</th>          <td> 0.441</td> <th>  Prob(JB):          </th> <td>2.42e-11</td>\n</tr>\n<tr>\n  <th>Kurtosis:</th>      <td> 5.243</td> <th>  Cond. No.          </th> <td>1.53e+05</td>\n</tr>\n</table><br/><br/>Notes:<br/>[1] Standard Errors assume that the covariance matrix of the errors is correctly specified.<br/>[2] The condition number is large, 1.53e+05. This might indicate that there are<br/>strong multicollinearity or other numerical problems."
     },
     "metadata": {},
     "execution_count": 17
    }
   ],
   "source": [
    "win_drop = champ_data_df.columns.drop([\"Win_rate_of_champion\", \"Role_of_champion_role_jungle\", \"Role_of_champion_role_mid\", \"Role_of_champion_role_support\", \"Role_of_champion_role_top\", \"Min_Magic_resist\", \"Min_Health\", \"Pick_rate_of_champion\", \"Max_Magic_resist\", \"Min_Health_regen\"])\n",
    "\n",
    "# y_target ~ xcol1 + xcol2 + xcol3 ...\n",
    "formula = \"Win_rate_of_champion ~  \" + \" + \".join(win_drop)\n",
    "\n",
    "baseline_model = smf.ols(formula, champ_data_df).fit()\n",
    "baseline_model.summary()"
   ]
  },
  {
   "cell_type": "code",
   "execution_count": 18,
   "metadata": {},
   "outputs": [
    {
     "output_type": "execute_result",
     "data": {
      "text/plain": [
       "<class 'statsmodels.iolib.summary.Summary'>\n",
       "\"\"\"\n",
       "                             OLS Regression Results                             \n",
       "================================================================================\n",
       "Dep. Variable:     Win_rate_of_champion   R-squared:                       0.038\n",
       "Model:                              OLS   Adj. R-squared:                 -0.007\n",
       "Method:                   Least Squares   F-statistic:                    0.8504\n",
       "Date:                  Tue, 06 Apr 2021   Prob (F-statistic):              0.571\n",
       "Time:                          16:28:24   Log-Likelihood:                 348.60\n",
       "No. Observations:                   202   AIC:                            -677.2\n",
       "Df Residuals:                       192   BIC:                            -644.1\n",
       "Df Model:                             9                                         \n",
       "Covariance Type:              nonrobust                                         \n",
       "=====================================================================================\n",
       "                        coef    std err          t      P>|t|      [0.025      0.975]\n",
       "-------------------------------------------------------------------------------------\n",
       "Intercept             0.8298      0.219      3.788      0.000       0.398       1.262\n",
       "Move_speed           -0.0008      0.001     -1.414      0.159      -0.002       0.000\n",
       "Attack_range      -5.888e-05   3.19e-05     -1.846      0.066      -0.000    4.05e-06\n",
       "Base_AS              -0.0562      0.100     -0.562      0.575      -0.253       0.141\n",
       "AS_ratio              0.0270      0.023      1.163      0.246      -0.019       0.073\n",
       "Max_Health        -9.476e-06   2.36e-05     -0.402      0.688    -5.6e-05     3.7e-05\n",
       "Max_Health_regen     -0.0007      0.001     -0.693      0.489      -0.003       0.001\n",
       "Min_Armor            -0.0010      0.001     -1.239      0.217      -0.003       0.001\n",
       "Max_Armor             0.0006      0.000      1.490      0.138      -0.000       0.001\n",
       "Max_Attack_damage    -0.0002      0.000     -0.868      0.386      -0.001       0.000\n",
       "==============================================================================\n",
       "Omnibus:                       21.100   Durbin-Watson:                   1.362\n",
       "Prob(Omnibus):                  0.000   Jarque-Bera (JB):               50.238\n",
       "Skew:                           0.437   Prob(JB):                     1.23e-11\n",
       "Kurtosis:                       5.281   Cond. No.                     1.53e+05\n",
       "==============================================================================\n",
       "\n",
       "Notes:\n",
       "[1] Standard Errors assume that the covariance matrix of the errors is correctly specified.\n",
       "[2] The condition number is large, 1.53e+05. This might indicate that there are\n",
       "strong multicollinearity or other numerical problems.\n",
       "\"\"\""
      ],
      "text/html": "<table class=\"simpletable\">\n<caption>OLS Regression Results</caption>\n<tr>\n  <th>Dep. Variable:</th>    <td>Win_rate_of_champion</td> <th>  R-squared:         </th> <td>   0.038</td>\n</tr>\n<tr>\n  <th>Model:</th>                     <td>OLS</td>         <th>  Adj. R-squared:    </th> <td>  -0.007</td>\n</tr>\n<tr>\n  <th>Method:</th>               <td>Least Squares</td>    <th>  F-statistic:       </th> <td>  0.8504</td>\n</tr>\n<tr>\n  <th>Date:</th>               <td>Tue, 06 Apr 2021</td>   <th>  Prob (F-statistic):</th>  <td> 0.571</td> \n</tr>\n<tr>\n  <th>Time:</th>                   <td>16:28:24</td>       <th>  Log-Likelihood:    </th> <td>  348.60</td>\n</tr>\n<tr>\n  <th>No. Observations:</th>        <td>   202</td>        <th>  AIC:               </th> <td>  -677.2</td>\n</tr>\n<tr>\n  <th>Df Residuals:</th>            <td>   192</td>        <th>  BIC:               </th> <td>  -644.1</td>\n</tr>\n<tr>\n  <th>Df Model:</th>                <td>     9</td>        <th>                     </th>     <td> </td>   \n</tr>\n<tr>\n  <th>Covariance Type:</th>        <td>nonrobust</td>      <th>                     </th>     <td> </td>   \n</tr>\n</table>\n<table class=\"simpletable\">\n<tr>\n          <td></td>             <th>coef</th>     <th>std err</th>      <th>t</th>      <th>P>|t|</th>  <th>[0.025</th>    <th>0.975]</th>  \n</tr>\n<tr>\n  <th>Intercept</th>         <td>    0.8298</td> <td>    0.219</td> <td>    3.788</td> <td> 0.000</td> <td>    0.398</td> <td>    1.262</td>\n</tr>\n<tr>\n  <th>Move_speed</th>        <td>   -0.0008</td> <td>    0.001</td> <td>   -1.414</td> <td> 0.159</td> <td>   -0.002</td> <td>    0.000</td>\n</tr>\n<tr>\n  <th>Attack_range</th>      <td>-5.888e-05</td> <td> 3.19e-05</td> <td>   -1.846</td> <td> 0.066</td> <td>   -0.000</td> <td> 4.05e-06</td>\n</tr>\n<tr>\n  <th>Base_AS</th>           <td>   -0.0562</td> <td>    0.100</td> <td>   -0.562</td> <td> 0.575</td> <td>   -0.253</td> <td>    0.141</td>\n</tr>\n<tr>\n  <th>AS_ratio</th>          <td>    0.0270</td> <td>    0.023</td> <td>    1.163</td> <td> 0.246</td> <td>   -0.019</td> <td>    0.073</td>\n</tr>\n<tr>\n  <th>Max_Health</th>        <td>-9.476e-06</td> <td> 2.36e-05</td> <td>   -0.402</td> <td> 0.688</td> <td> -5.6e-05</td> <td>  3.7e-05</td>\n</tr>\n<tr>\n  <th>Max_Health_regen</th>  <td>   -0.0007</td> <td>    0.001</td> <td>   -0.693</td> <td> 0.489</td> <td>   -0.003</td> <td>    0.001</td>\n</tr>\n<tr>\n  <th>Min_Armor</th>         <td>   -0.0010</td> <td>    0.001</td> <td>   -1.239</td> <td> 0.217</td> <td>   -0.003</td> <td>    0.001</td>\n</tr>\n<tr>\n  <th>Max_Armor</th>         <td>    0.0006</td> <td>    0.000</td> <td>    1.490</td> <td> 0.138</td> <td>   -0.000</td> <td>    0.001</td>\n</tr>\n<tr>\n  <th>Max_Attack_damage</th> <td>   -0.0002</td> <td>    0.000</td> <td>   -0.868</td> <td> 0.386</td> <td>   -0.001</td> <td>    0.000</td>\n</tr>\n</table>\n<table class=\"simpletable\">\n<tr>\n  <th>Omnibus:</th>       <td>21.100</td> <th>  Durbin-Watson:     </th> <td>   1.362</td>\n</tr>\n<tr>\n  <th>Prob(Omnibus):</th> <td> 0.000</td> <th>  Jarque-Bera (JB):  </th> <td>  50.238</td>\n</tr>\n<tr>\n  <th>Skew:</th>          <td> 0.437</td> <th>  Prob(JB):          </th> <td>1.23e-11</td>\n</tr>\n<tr>\n  <th>Kurtosis:</th>      <td> 5.281</td> <th>  Cond. No.          </th> <td>1.53e+05</td>\n</tr>\n</table><br/><br/>Notes:<br/>[1] Standard Errors assume that the covariance matrix of the errors is correctly specified.<br/>[2] The condition number is large, 1.53e+05. This might indicate that there are<br/>strong multicollinearity or other numerical problems."
     },
     "metadata": {},
     "execution_count": 18
    }
   ],
   "source": [
    "win_drop = champ_data_df.columns.drop([\"Win_rate_of_champion\", \"Role_of_champion_role_jungle\", \"Role_of_champion_role_mid\", \"Role_of_champion_role_support\", \"Role_of_champion_role_top\", \"Min_Magic_resist\", \"Min_Health\", \"Pick_rate_of_champion\", \"Max_Magic_resist\", \"Min_Health_regen\", \"Min_Attack_damage\"])\n",
    "\n",
    "# y_target ~ xcol1 + xcol2 + xcol3 ...\n",
    "formula = \"Win_rate_of_champion ~  \" + \" + \".join(win_drop)\n",
    "\n",
    "baseline_model = smf.ols(formula, champ_data_df).fit()\n",
    "baseline_model.summary()"
   ]
  },
  {
   "cell_type": "code",
   "execution_count": 19,
   "metadata": {},
   "outputs": [
    {
     "output_type": "execute_result",
     "data": {
      "text/plain": [
       "<class 'statsmodels.iolib.summary.Summary'>\n",
       "\"\"\"\n",
       "                             OLS Regression Results                             \n",
       "================================================================================\n",
       "Dep. Variable:     Win_rate_of_champion   R-squared:                       0.038\n",
       "Model:                              OLS   Adj. R-squared:                 -0.002\n",
       "Method:                   Least Squares   F-statistic:                    0.9406\n",
       "Date:                  Tue, 06 Apr 2021   Prob (F-statistic):              0.484\n",
       "Time:                          16:29:50   Log-Likelihood:                 348.51\n",
       "No. Observations:                   202   AIC:                            -679.0\n",
       "Df Residuals:                       193   BIC:                            -649.2\n",
       "Df Model:                             8                                         \n",
       "Covariance Type:              nonrobust                                         \n",
       "=====================================================================================\n",
       "                        coef    std err          t      P>|t|      [0.025      0.975]\n",
       "-------------------------------------------------------------------------------------\n",
       "Intercept             0.8082      0.212      3.814      0.000       0.390       1.226\n",
       "Move_speed           -0.0008      0.001     -1.401      0.163      -0.002       0.000\n",
       "Attack_range      -5.589e-05    3.1e-05     -1.805      0.073      -0.000    5.17e-06\n",
       "Base_AS              -0.0560      0.100     -0.561      0.576      -0.253       0.141\n",
       "AS_ratio              0.0259      0.023      1.127      0.261      -0.019       0.071\n",
       "Max_Health_regen     -0.0007      0.001     -0.702      0.483      -0.003       0.001\n",
       "Min_Armor            -0.0010      0.001     -1.189      0.236      -0.003       0.001\n",
       "Max_Armor             0.0006      0.000      1.469      0.144      -0.000       0.001\n",
       "Max_Attack_damage    -0.0003      0.000     -0.938      0.350      -0.001       0.000\n",
       "==============================================================================\n",
       "Omnibus:                       20.857   Durbin-Watson:                   1.362\n",
       "Prob(Omnibus):                  0.000   Jarque-Bera (JB):               49.642\n",
       "Skew:                           0.431   Prob(JB):                     1.66e-11\n",
       "Kurtosis:                       5.271   Cond. No.                     3.49e+04\n",
       "==============================================================================\n",
       "\n",
       "Notes:\n",
       "[1] Standard Errors assume that the covariance matrix of the errors is correctly specified.\n",
       "[2] The condition number is large, 3.49e+04. This might indicate that there are\n",
       "strong multicollinearity or other numerical problems.\n",
       "\"\"\""
      ],
      "text/html": "<table class=\"simpletable\">\n<caption>OLS Regression Results</caption>\n<tr>\n  <th>Dep. Variable:</th>    <td>Win_rate_of_champion</td> <th>  R-squared:         </th> <td>   0.038</td>\n</tr>\n<tr>\n  <th>Model:</th>                     <td>OLS</td>         <th>  Adj. R-squared:    </th> <td>  -0.002</td>\n</tr>\n<tr>\n  <th>Method:</th>               <td>Least Squares</td>    <th>  F-statistic:       </th> <td>  0.9406</td>\n</tr>\n<tr>\n  <th>Date:</th>               <td>Tue, 06 Apr 2021</td>   <th>  Prob (F-statistic):</th>  <td> 0.484</td> \n</tr>\n<tr>\n  <th>Time:</th>                   <td>16:29:50</td>       <th>  Log-Likelihood:    </th> <td>  348.51</td>\n</tr>\n<tr>\n  <th>No. Observations:</th>        <td>   202</td>        <th>  AIC:               </th> <td>  -679.0</td>\n</tr>\n<tr>\n  <th>Df Residuals:</th>            <td>   193</td>        <th>  BIC:               </th> <td>  -649.2</td>\n</tr>\n<tr>\n  <th>Df Model:</th>                <td>     8</td>        <th>                     </th>     <td> </td>   \n</tr>\n<tr>\n  <th>Covariance Type:</th>        <td>nonrobust</td>      <th>                     </th>     <td> </td>   \n</tr>\n</table>\n<table class=\"simpletable\">\n<tr>\n          <td></td>             <th>coef</th>     <th>std err</th>      <th>t</th>      <th>P>|t|</th>  <th>[0.025</th>    <th>0.975]</th>  \n</tr>\n<tr>\n  <th>Intercept</th>         <td>    0.8082</td> <td>    0.212</td> <td>    3.814</td> <td> 0.000</td> <td>    0.390</td> <td>    1.226</td>\n</tr>\n<tr>\n  <th>Move_speed</th>        <td>   -0.0008</td> <td>    0.001</td> <td>   -1.401</td> <td> 0.163</td> <td>   -0.002</td> <td>    0.000</td>\n</tr>\n<tr>\n  <th>Attack_range</th>      <td>-5.589e-05</td> <td>  3.1e-05</td> <td>   -1.805</td> <td> 0.073</td> <td>   -0.000</td> <td> 5.17e-06</td>\n</tr>\n<tr>\n  <th>Base_AS</th>           <td>   -0.0560</td> <td>    0.100</td> <td>   -0.561</td> <td> 0.576</td> <td>   -0.253</td> <td>    0.141</td>\n</tr>\n<tr>\n  <th>AS_ratio</th>          <td>    0.0259</td> <td>    0.023</td> <td>    1.127</td> <td> 0.261</td> <td>   -0.019</td> <td>    0.071</td>\n</tr>\n<tr>\n  <th>Max_Health_regen</th>  <td>   -0.0007</td> <td>    0.001</td> <td>   -0.702</td> <td> 0.483</td> <td>   -0.003</td> <td>    0.001</td>\n</tr>\n<tr>\n  <th>Min_Armor</th>         <td>   -0.0010</td> <td>    0.001</td> <td>   -1.189</td> <td> 0.236</td> <td>   -0.003</td> <td>    0.001</td>\n</tr>\n<tr>\n  <th>Max_Armor</th>         <td>    0.0006</td> <td>    0.000</td> <td>    1.469</td> <td> 0.144</td> <td>   -0.000</td> <td>    0.001</td>\n</tr>\n<tr>\n  <th>Max_Attack_damage</th> <td>   -0.0003</td> <td>    0.000</td> <td>   -0.938</td> <td> 0.350</td> <td>   -0.001</td> <td>    0.000</td>\n</tr>\n</table>\n<table class=\"simpletable\">\n<tr>\n  <th>Omnibus:</th>       <td>20.857</td> <th>  Durbin-Watson:     </th> <td>   1.362</td>\n</tr>\n<tr>\n  <th>Prob(Omnibus):</th> <td> 0.000</td> <th>  Jarque-Bera (JB):  </th> <td>  49.642</td>\n</tr>\n<tr>\n  <th>Skew:</th>          <td> 0.431</td> <th>  Prob(JB):          </th> <td>1.66e-11</td>\n</tr>\n<tr>\n  <th>Kurtosis:</th>      <td> 5.271</td> <th>  Cond. No.          </th> <td>3.49e+04</td>\n</tr>\n</table><br/><br/>Notes:<br/>[1] Standard Errors assume that the covariance matrix of the errors is correctly specified.<br/>[2] The condition number is large, 3.49e+04. This might indicate that there are<br/>strong multicollinearity or other numerical problems."
     },
     "metadata": {},
     "execution_count": 19
    }
   ],
   "source": [
    "win_drop = champ_data_df.columns.drop([\"Win_rate_of_champion\", \"Role_of_champion_role_jungle\", \"Role_of_champion_role_mid\", \"Role_of_champion_role_support\", \"Role_of_champion_role_top\", \"Min_Magic_resist\", \"Min_Health\", \"Pick_rate_of_champion\", \"Max_Magic_resist\", \"Min_Health_regen\", \"Min_Attack_damage\", \"Max_Health\"])\n",
    "\n",
    "# y_target ~ xcol1 + xcol2 + xcol3 ...\n",
    "formula = \"Win_rate_of_champion ~  \" + \" + \".join(win_drop)\n",
    "\n",
    "baseline_model = smf.ols(formula, champ_data_df).fit()\n",
    "baseline_model.summary()"
   ]
  },
  {
   "cell_type": "code",
   "execution_count": 20,
   "metadata": {},
   "outputs": [
    {
     "output_type": "execute_result",
     "data": {
      "text/plain": [
       "<class 'statsmodels.iolib.summary.Summary'>\n",
       "\"\"\"\n",
       "                             OLS Regression Results                             \n",
       "================================================================================\n",
       "Dep. Variable:     Win_rate_of_champion   R-squared:                       0.036\n",
       "Model:                              OLS   Adj. R-squared:                  0.001\n",
       "Method:                   Least Squares   F-statistic:                     1.034\n",
       "Date:                  Tue, 06 Apr 2021   Prob (F-statistic):              0.409\n",
       "Time:                          16:30:49   Log-Likelihood:                 348.35\n",
       "No. Observations:                   202   AIC:                            -680.7\n",
       "Df Residuals:                       194   BIC:                            -654.2\n",
       "Df Model:                             7                                         \n",
       "Covariance Type:              nonrobust                                         \n",
       "=====================================================================================\n",
       "                        coef    std err          t      P>|t|      [0.025      0.975]\n",
       "-------------------------------------------------------------------------------------\n",
       "Intercept             0.7625      0.195      3.905      0.000       0.377       1.148\n",
       "Move_speed           -0.0008      0.001     -1.383      0.168      -0.002       0.000\n",
       "Attack_range       -5.29e-05   3.04e-05     -1.738      0.084      -0.000    7.14e-06\n",
       "AS_ratio              0.0307      0.021      1.435      0.153      -0.011       0.073\n",
       "Max_Health_regen     -0.0007      0.001     -0.632      0.528      -0.003       0.001\n",
       "Min_Armor            -0.0010      0.001     -1.202      0.231      -0.003       0.001\n",
       "Max_Armor             0.0006      0.000      1.485      0.139      -0.000       0.001\n",
       "Max_Attack_damage    -0.0003      0.000     -0.996      0.320      -0.001       0.000\n",
       "==============================================================================\n",
       "Omnibus:                       21.065   Durbin-Watson:                   1.353\n",
       "Prob(Omnibus):                  0.000   Jarque-Bera (JB):               50.111\n",
       "Skew:                           0.436   Prob(JB):                     1.31e-11\n",
       "Kurtosis:                       5.279   Cond. No.                     3.16e+04\n",
       "==============================================================================\n",
       "\n",
       "Notes:\n",
       "[1] Standard Errors assume that the covariance matrix of the errors is correctly specified.\n",
       "[2] The condition number is large, 3.16e+04. This might indicate that there are\n",
       "strong multicollinearity or other numerical problems.\n",
       "\"\"\""
      ],
      "text/html": "<table class=\"simpletable\">\n<caption>OLS Regression Results</caption>\n<tr>\n  <th>Dep. Variable:</th>    <td>Win_rate_of_champion</td> <th>  R-squared:         </th> <td>   0.036</td>\n</tr>\n<tr>\n  <th>Model:</th>                     <td>OLS</td>         <th>  Adj. R-squared:    </th> <td>   0.001</td>\n</tr>\n<tr>\n  <th>Method:</th>               <td>Least Squares</td>    <th>  F-statistic:       </th> <td>   1.034</td>\n</tr>\n<tr>\n  <th>Date:</th>               <td>Tue, 06 Apr 2021</td>   <th>  Prob (F-statistic):</th>  <td> 0.409</td> \n</tr>\n<tr>\n  <th>Time:</th>                   <td>16:30:49</td>       <th>  Log-Likelihood:    </th> <td>  348.35</td>\n</tr>\n<tr>\n  <th>No. Observations:</th>        <td>   202</td>        <th>  AIC:               </th> <td>  -680.7</td>\n</tr>\n<tr>\n  <th>Df Residuals:</th>            <td>   194</td>        <th>  BIC:               </th> <td>  -654.2</td>\n</tr>\n<tr>\n  <th>Df Model:</th>                <td>     7</td>        <th>                     </th>     <td> </td>   \n</tr>\n<tr>\n  <th>Covariance Type:</th>        <td>nonrobust</td>      <th>                     </th>     <td> </td>   \n</tr>\n</table>\n<table class=\"simpletable\">\n<tr>\n          <td></td>             <th>coef</th>     <th>std err</th>      <th>t</th>      <th>P>|t|</th>  <th>[0.025</th>    <th>0.975]</th>  \n</tr>\n<tr>\n  <th>Intercept</th>         <td>    0.7625</td> <td>    0.195</td> <td>    3.905</td> <td> 0.000</td> <td>    0.377</td> <td>    1.148</td>\n</tr>\n<tr>\n  <th>Move_speed</th>        <td>   -0.0008</td> <td>    0.001</td> <td>   -1.383</td> <td> 0.168</td> <td>   -0.002</td> <td>    0.000</td>\n</tr>\n<tr>\n  <th>Attack_range</th>      <td> -5.29e-05</td> <td> 3.04e-05</td> <td>   -1.738</td> <td> 0.084</td> <td>   -0.000</td> <td> 7.14e-06</td>\n</tr>\n<tr>\n  <th>AS_ratio</th>          <td>    0.0307</td> <td>    0.021</td> <td>    1.435</td> <td> 0.153</td> <td>   -0.011</td> <td>    0.073</td>\n</tr>\n<tr>\n  <th>Max_Health_regen</th>  <td>   -0.0007</td> <td>    0.001</td> <td>   -0.632</td> <td> 0.528</td> <td>   -0.003</td> <td>    0.001</td>\n</tr>\n<tr>\n  <th>Min_Armor</th>         <td>   -0.0010</td> <td>    0.001</td> <td>   -1.202</td> <td> 0.231</td> <td>   -0.003</td> <td>    0.001</td>\n</tr>\n<tr>\n  <th>Max_Armor</th>         <td>    0.0006</td> <td>    0.000</td> <td>    1.485</td> <td> 0.139</td> <td>   -0.000</td> <td>    0.001</td>\n</tr>\n<tr>\n  <th>Max_Attack_damage</th> <td>   -0.0003</td> <td>    0.000</td> <td>   -0.996</td> <td> 0.320</td> <td>   -0.001</td> <td>    0.000</td>\n</tr>\n</table>\n<table class=\"simpletable\">\n<tr>\n  <th>Omnibus:</th>       <td>21.065</td> <th>  Durbin-Watson:     </th> <td>   1.353</td>\n</tr>\n<tr>\n  <th>Prob(Omnibus):</th> <td> 0.000</td> <th>  Jarque-Bera (JB):  </th> <td>  50.111</td>\n</tr>\n<tr>\n  <th>Skew:</th>          <td> 0.436</td> <th>  Prob(JB):          </th> <td>1.31e-11</td>\n</tr>\n<tr>\n  <th>Kurtosis:</th>      <td> 5.279</td> <th>  Cond. No.          </th> <td>3.16e+04</td>\n</tr>\n</table><br/><br/>Notes:<br/>[1] Standard Errors assume that the covariance matrix of the errors is correctly specified.<br/>[2] The condition number is large, 3.16e+04. This might indicate that there are<br/>strong multicollinearity or other numerical problems."
     },
     "metadata": {},
     "execution_count": 20
    }
   ],
   "source": [
    "win_drop = champ_data_df.columns.drop([\"Win_rate_of_champion\", \"Role_of_champion_role_jungle\", \"Role_of_champion_role_mid\", \"Role_of_champion_role_support\", \"Role_of_champion_role_top\", \"Min_Magic_resist\", \"Min_Health\", \"Pick_rate_of_champion\", \"Max_Magic_resist\", \"Min_Health_regen\", \"Min_Attack_damage\", \"Max_Health\", \"Base_AS\"])\n",
    "\n",
    "# y_target ~ xcol1 + xcol2 + xcol3 ...\n",
    "formula = \"Win_rate_of_champion ~  \" + \" + \".join(win_drop)\n",
    "\n",
    "baseline_model = smf.ols(formula, champ_data_df).fit()\n",
    "baseline_model.summary()"
   ]
  },
  {
   "cell_type": "code",
   "execution_count": 21,
   "metadata": {},
   "outputs": [
    {
     "output_type": "execute_result",
     "data": {
      "text/plain": [
       "<class 'statsmodels.iolib.summary.Summary'>\n",
       "\"\"\"\n",
       "                             OLS Regression Results                             \n",
       "================================================================================\n",
       "Dep. Variable:     Win_rate_of_champion   R-squared:                       0.034\n",
       "Model:                              OLS   Adj. R-squared:                  0.004\n",
       "Method:                   Least Squares   F-statistic:                     1.143\n",
       "Date:                  Tue, 06 Apr 2021   Prob (F-statistic):              0.339\n",
       "Time:                          16:32:27   Log-Likelihood:                 348.14\n",
       "No. Observations:                   202   AIC:                            -682.3\n",
       "Df Residuals:                       195   BIC:                            -659.1\n",
       "Df Model:                             6                                         \n",
       "Covariance Type:              nonrobust                                         \n",
       "=====================================================================================\n",
       "                        coef    std err          t      P>|t|      [0.025      0.975]\n",
       "-------------------------------------------------------------------------------------\n",
       "Intercept             0.7662      0.195      3.932      0.000       0.382       1.151\n",
       "Move_speed           -0.0008      0.001     -1.476      0.142      -0.002       0.000\n",
       "Attack_range      -4.748e-05   2.92e-05     -1.628      0.105      -0.000       1e-05\n",
       "AS_ratio              0.0299      0.021      1.403      0.162      -0.012       0.072\n",
       "Min_Armor            -0.0009      0.001     -1.173      0.242      -0.003       0.001\n",
       "Max_Armor             0.0006      0.000      1.440      0.152      -0.000       0.001\n",
       "Max_Attack_damage    -0.0003      0.000     -1.020      0.309      -0.001       0.000\n",
       "==============================================================================\n",
       "Omnibus:                       21.112   Durbin-Watson:                   1.357\n",
       "Prob(Omnibus):                  0.000   Jarque-Bera (JB):               49.565\n",
       "Skew:                           0.443   Prob(JB):                     1.73e-11\n",
       "Kurtosis:                       5.259   Cond. No.                     3.15e+04\n",
       "==============================================================================\n",
       "\n",
       "Notes:\n",
       "[1] Standard Errors assume that the covariance matrix of the errors is correctly specified.\n",
       "[2] The condition number is large, 3.15e+04. This might indicate that there are\n",
       "strong multicollinearity or other numerical problems.\n",
       "\"\"\""
      ],
      "text/html": "<table class=\"simpletable\">\n<caption>OLS Regression Results</caption>\n<tr>\n  <th>Dep. Variable:</th>    <td>Win_rate_of_champion</td> <th>  R-squared:         </th> <td>   0.034</td>\n</tr>\n<tr>\n  <th>Model:</th>                     <td>OLS</td>         <th>  Adj. R-squared:    </th> <td>   0.004</td>\n</tr>\n<tr>\n  <th>Method:</th>               <td>Least Squares</td>    <th>  F-statistic:       </th> <td>   1.143</td>\n</tr>\n<tr>\n  <th>Date:</th>               <td>Tue, 06 Apr 2021</td>   <th>  Prob (F-statistic):</th>  <td> 0.339</td> \n</tr>\n<tr>\n  <th>Time:</th>                   <td>16:32:27</td>       <th>  Log-Likelihood:    </th> <td>  348.14</td>\n</tr>\n<tr>\n  <th>No. Observations:</th>        <td>   202</td>        <th>  AIC:               </th> <td>  -682.3</td>\n</tr>\n<tr>\n  <th>Df Residuals:</th>            <td>   195</td>        <th>  BIC:               </th> <td>  -659.1</td>\n</tr>\n<tr>\n  <th>Df Model:</th>                <td>     6</td>        <th>                     </th>     <td> </td>   \n</tr>\n<tr>\n  <th>Covariance Type:</th>        <td>nonrobust</td>      <th>                     </th>     <td> </td>   \n</tr>\n</table>\n<table class=\"simpletable\">\n<tr>\n          <td></td>             <th>coef</th>     <th>std err</th>      <th>t</th>      <th>P>|t|</th>  <th>[0.025</th>    <th>0.975]</th>  \n</tr>\n<tr>\n  <th>Intercept</th>         <td>    0.7662</td> <td>    0.195</td> <td>    3.932</td> <td> 0.000</td> <td>    0.382</td> <td>    1.151</td>\n</tr>\n<tr>\n  <th>Move_speed</th>        <td>   -0.0008</td> <td>    0.001</td> <td>   -1.476</td> <td> 0.142</td> <td>   -0.002</td> <td>    0.000</td>\n</tr>\n<tr>\n  <th>Attack_range</th>      <td>-4.748e-05</td> <td> 2.92e-05</td> <td>   -1.628</td> <td> 0.105</td> <td>   -0.000</td> <td>    1e-05</td>\n</tr>\n<tr>\n  <th>AS_ratio</th>          <td>    0.0299</td> <td>    0.021</td> <td>    1.403</td> <td> 0.162</td> <td>   -0.012</td> <td>    0.072</td>\n</tr>\n<tr>\n  <th>Min_Armor</th>         <td>   -0.0009</td> <td>    0.001</td> <td>   -1.173</td> <td> 0.242</td> <td>   -0.003</td> <td>    0.001</td>\n</tr>\n<tr>\n  <th>Max_Armor</th>         <td>    0.0006</td> <td>    0.000</td> <td>    1.440</td> <td> 0.152</td> <td>   -0.000</td> <td>    0.001</td>\n</tr>\n<tr>\n  <th>Max_Attack_damage</th> <td>   -0.0003</td> <td>    0.000</td> <td>   -1.020</td> <td> 0.309</td> <td>   -0.001</td> <td>    0.000</td>\n</tr>\n</table>\n<table class=\"simpletable\">\n<tr>\n  <th>Omnibus:</th>       <td>21.112</td> <th>  Durbin-Watson:     </th> <td>   1.357</td>\n</tr>\n<tr>\n  <th>Prob(Omnibus):</th> <td> 0.000</td> <th>  Jarque-Bera (JB):  </th> <td>  49.565</td>\n</tr>\n<tr>\n  <th>Skew:</th>          <td> 0.443</td> <th>  Prob(JB):          </th> <td>1.73e-11</td>\n</tr>\n<tr>\n  <th>Kurtosis:</th>      <td> 5.259</td> <th>  Cond. No.          </th> <td>3.15e+04</td>\n</tr>\n</table><br/><br/>Notes:<br/>[1] Standard Errors assume that the covariance matrix of the errors is correctly specified.<br/>[2] The condition number is large, 3.15e+04. This might indicate that there are<br/>strong multicollinearity or other numerical problems."
     },
     "metadata": {},
     "execution_count": 21
    }
   ],
   "source": [
    "win_drop = champ_data_df.columns.drop([\"Win_rate_of_champion\", \"Role_of_champion_role_jungle\", \"Role_of_champion_role_mid\", \"Role_of_champion_role_support\", \"Role_of_champion_role_top\", \"Min_Magic_resist\", \"Min_Health\", \"Pick_rate_of_champion\", \"Max_Magic_resist\", \"Min_Health_regen\", \"Min_Attack_damage\", \"Max_Health\", \"Base_AS\", \"Max_Health_regen\"])\n",
    "\n",
    "# y_target ~ xcol1 + xcol2 + xcol3 ...\n",
    "formula = \"Win_rate_of_champion ~  \" + \" + \".join(win_drop)\n",
    "\n",
    "baseline_model = smf.ols(formula, champ_data_df).fit()\n",
    "baseline_model.summary()"
   ]
  },
  {
   "cell_type": "code",
   "execution_count": 22,
   "metadata": {},
   "outputs": [
    {
     "output_type": "execute_result",
     "data": {
      "text/plain": [
       "<class 'statsmodels.iolib.summary.Summary'>\n",
       "\"\"\"\n",
       "                             OLS Regression Results                             \n",
       "================================================================================\n",
       "Dep. Variable:     Win_rate_of_champion   R-squared:                       0.029\n",
       "Model:                              OLS   Adj. R-squared:                  0.004\n",
       "Method:                   Least Squares   F-statistic:                     1.163\n",
       "Date:                  Tue, 06 Apr 2021   Prob (F-statistic):              0.329\n",
       "Time:                          16:32:56   Log-Likelihood:                 347.60\n",
       "No. Observations:                   202   AIC:                            -683.2\n",
       "Df Residuals:                       196   BIC:                            -663.4\n",
       "Df Model:                             5                                         \n",
       "Covariance Type:              nonrobust                                         \n",
       "================================================================================\n",
       "                   coef    std err          t      P>|t|      [0.025      0.975]\n",
       "--------------------------------------------------------------------------------\n",
       "Intercept        0.7564      0.195      3.886      0.000       0.373       1.140\n",
       "Move_speed      -0.0009      0.001     -1.565      0.119      -0.002       0.000\n",
       "Attack_range -3.737e-05   2.74e-05     -1.362      0.175   -9.15e-05    1.67e-05\n",
       "AS_ratio         0.0246      0.021      1.191      0.235      -0.016       0.065\n",
       "Min_Armor       -0.0010      0.001     -1.218      0.225      -0.003       0.001\n",
       "Max_Armor        0.0006      0.000      1.328      0.186      -0.000       0.001\n",
       "==============================================================================\n",
       "Omnibus:                       21.473   Durbin-Watson:                   1.355\n",
       "Prob(Omnibus):                  0.000   Jarque-Bera (JB):               50.411\n",
       "Skew:                           0.453   Prob(JB):                     1.13e-11\n",
       "Kurtosis:                       5.274   Cond. No.                     3.07e+04\n",
       "==============================================================================\n",
       "\n",
       "Notes:\n",
       "[1] Standard Errors assume that the covariance matrix of the errors is correctly specified.\n",
       "[2] The condition number is large, 3.07e+04. This might indicate that there are\n",
       "strong multicollinearity or other numerical problems.\n",
       "\"\"\""
      ],
      "text/html": "<table class=\"simpletable\">\n<caption>OLS Regression Results</caption>\n<tr>\n  <th>Dep. Variable:</th>    <td>Win_rate_of_champion</td> <th>  R-squared:         </th> <td>   0.029</td>\n</tr>\n<tr>\n  <th>Model:</th>                     <td>OLS</td>         <th>  Adj. R-squared:    </th> <td>   0.004</td>\n</tr>\n<tr>\n  <th>Method:</th>               <td>Least Squares</td>    <th>  F-statistic:       </th> <td>   1.163</td>\n</tr>\n<tr>\n  <th>Date:</th>               <td>Tue, 06 Apr 2021</td>   <th>  Prob (F-statistic):</th>  <td> 0.329</td> \n</tr>\n<tr>\n  <th>Time:</th>                   <td>16:32:56</td>       <th>  Log-Likelihood:    </th> <td>  347.60</td>\n</tr>\n<tr>\n  <th>No. Observations:</th>        <td>   202</td>        <th>  AIC:               </th> <td>  -683.2</td>\n</tr>\n<tr>\n  <th>Df Residuals:</th>            <td>   196</td>        <th>  BIC:               </th> <td>  -663.4</td>\n</tr>\n<tr>\n  <th>Df Model:</th>                <td>     5</td>        <th>                     </th>     <td> </td>   \n</tr>\n<tr>\n  <th>Covariance Type:</th>        <td>nonrobust</td>      <th>                     </th>     <td> </td>   \n</tr>\n</table>\n<table class=\"simpletable\">\n<tr>\n        <td></td>          <th>coef</th>     <th>std err</th>      <th>t</th>      <th>P>|t|</th>  <th>[0.025</th>    <th>0.975]</th>  \n</tr>\n<tr>\n  <th>Intercept</th>    <td>    0.7564</td> <td>    0.195</td> <td>    3.886</td> <td> 0.000</td> <td>    0.373</td> <td>    1.140</td>\n</tr>\n<tr>\n  <th>Move_speed</th>   <td>   -0.0009</td> <td>    0.001</td> <td>   -1.565</td> <td> 0.119</td> <td>   -0.002</td> <td>    0.000</td>\n</tr>\n<tr>\n  <th>Attack_range</th> <td>-3.737e-05</td> <td> 2.74e-05</td> <td>   -1.362</td> <td> 0.175</td> <td>-9.15e-05</td> <td> 1.67e-05</td>\n</tr>\n<tr>\n  <th>AS_ratio</th>     <td>    0.0246</td> <td>    0.021</td> <td>    1.191</td> <td> 0.235</td> <td>   -0.016</td> <td>    0.065</td>\n</tr>\n<tr>\n  <th>Min_Armor</th>    <td>   -0.0010</td> <td>    0.001</td> <td>   -1.218</td> <td> 0.225</td> <td>   -0.003</td> <td>    0.001</td>\n</tr>\n<tr>\n  <th>Max_Armor</th>    <td>    0.0006</td> <td>    0.000</td> <td>    1.328</td> <td> 0.186</td> <td>   -0.000</td> <td>    0.001</td>\n</tr>\n</table>\n<table class=\"simpletable\">\n<tr>\n  <th>Omnibus:</th>       <td>21.473</td> <th>  Durbin-Watson:     </th> <td>   1.355</td>\n</tr>\n<tr>\n  <th>Prob(Omnibus):</th> <td> 0.000</td> <th>  Jarque-Bera (JB):  </th> <td>  50.411</td>\n</tr>\n<tr>\n  <th>Skew:</th>          <td> 0.453</td> <th>  Prob(JB):          </th> <td>1.13e-11</td>\n</tr>\n<tr>\n  <th>Kurtosis:</th>      <td> 5.274</td> <th>  Cond. No.          </th> <td>3.07e+04</td>\n</tr>\n</table><br/><br/>Notes:<br/>[1] Standard Errors assume that the covariance matrix of the errors is correctly specified.<br/>[2] The condition number is large, 3.07e+04. This might indicate that there are<br/>strong multicollinearity or other numerical problems."
     },
     "metadata": {},
     "execution_count": 22
    }
   ],
   "source": [
    "win_drop = champ_data_df.columns.drop([\"Win_rate_of_champion\", \"Role_of_champion_role_jungle\", \"Role_of_champion_role_mid\", \"Role_of_champion_role_support\", \"Role_of_champion_role_top\", \"Min_Magic_resist\", \"Min_Health\", \"Pick_rate_of_champion\", \"Max_Magic_resist\", \"Min_Health_regen\", \"Min_Attack_damage\", \"Max_Health\", \"Base_AS\", \"Max_Health_regen\", \"Max_Attack_damage\"])\n",
    "\n",
    "# y_target ~ xcol1 + xcol2 + xcol3 ...\n",
    "formula = \"Win_rate_of_champion ~  \" + \" + \".join(win_drop)\n",
    "\n",
    "baseline_model = smf.ols(formula, champ_data_df).fit()\n",
    "baseline_model.summary()"
   ]
  },
  {
   "cell_type": "code",
   "execution_count": 23,
   "metadata": {},
   "outputs": [
    {
     "output_type": "execute_result",
     "data": {
      "text/plain": [
       "<class 'statsmodels.iolib.summary.Summary'>\n",
       "\"\"\"\n",
       "                             OLS Regression Results                             \n",
       "================================================================================\n",
       "Dep. Variable:     Win_rate_of_champion   R-squared:                       0.022\n",
       "Model:                              OLS   Adj. R-squared:                  0.002\n",
       "Method:                   Least Squares   F-statistic:                     1.097\n",
       "Date:                  Tue, 06 Apr 2021   Prob (F-statistic):              0.359\n",
       "Time:                          16:33:25   Log-Likelihood:                 346.87\n",
       "No. Observations:                   202   AIC:                            -683.7\n",
       "Df Residuals:                       197   BIC:                            -667.2\n",
       "Df Model:                             4                                         \n",
       "Covariance Type:              nonrobust                                         \n",
       "================================================================================\n",
       "                   coef    std err          t      P>|t|      [0.025      0.975]\n",
       "--------------------------------------------------------------------------------\n",
       "Intercept        0.7521      0.195      3.860      0.000       0.368       1.136\n",
       "Move_speed      -0.0008      0.001     -1.416      0.158      -0.002       0.000\n",
       "Attack_range -3.516e-05   2.74e-05     -1.284      0.201   -8.92e-05    1.89e-05\n",
       "Min_Armor       -0.0010      0.001     -1.201      0.231      -0.003       0.001\n",
       "Max_Armor        0.0005      0.000      1.238      0.217      -0.000       0.001\n",
       "==============================================================================\n",
       "Omnibus:                       23.017   Durbin-Watson:                   1.343\n",
       "Prob(Omnibus):                  0.000   Jarque-Bera (JB):               55.381\n",
       "Skew:                           0.483   Prob(JB):                     9.42e-13\n",
       "Kurtosis:                       5.376   Cond. No.                     3.07e+04\n",
       "==============================================================================\n",
       "\n",
       "Notes:\n",
       "[1] Standard Errors assume that the covariance matrix of the errors is correctly specified.\n",
       "[2] The condition number is large, 3.07e+04. This might indicate that there are\n",
       "strong multicollinearity or other numerical problems.\n",
       "\"\"\""
      ],
      "text/html": "<table class=\"simpletable\">\n<caption>OLS Regression Results</caption>\n<tr>\n  <th>Dep. Variable:</th>    <td>Win_rate_of_champion</td> <th>  R-squared:         </th> <td>   0.022</td>\n</tr>\n<tr>\n  <th>Model:</th>                     <td>OLS</td>         <th>  Adj. R-squared:    </th> <td>   0.002</td>\n</tr>\n<tr>\n  <th>Method:</th>               <td>Least Squares</td>    <th>  F-statistic:       </th> <td>   1.097</td>\n</tr>\n<tr>\n  <th>Date:</th>               <td>Tue, 06 Apr 2021</td>   <th>  Prob (F-statistic):</th>  <td> 0.359</td> \n</tr>\n<tr>\n  <th>Time:</th>                   <td>16:33:25</td>       <th>  Log-Likelihood:    </th> <td>  346.87</td>\n</tr>\n<tr>\n  <th>No. Observations:</th>        <td>   202</td>        <th>  AIC:               </th> <td>  -683.7</td>\n</tr>\n<tr>\n  <th>Df Residuals:</th>            <td>   197</td>        <th>  BIC:               </th> <td>  -667.2</td>\n</tr>\n<tr>\n  <th>Df Model:</th>                <td>     4</td>        <th>                     </th>     <td> </td>   \n</tr>\n<tr>\n  <th>Covariance Type:</th>        <td>nonrobust</td>      <th>                     </th>     <td> </td>   \n</tr>\n</table>\n<table class=\"simpletable\">\n<tr>\n        <td></td>          <th>coef</th>     <th>std err</th>      <th>t</th>      <th>P>|t|</th>  <th>[0.025</th>    <th>0.975]</th>  \n</tr>\n<tr>\n  <th>Intercept</th>    <td>    0.7521</td> <td>    0.195</td> <td>    3.860</td> <td> 0.000</td> <td>    0.368</td> <td>    1.136</td>\n</tr>\n<tr>\n  <th>Move_speed</th>   <td>   -0.0008</td> <td>    0.001</td> <td>   -1.416</td> <td> 0.158</td> <td>   -0.002</td> <td>    0.000</td>\n</tr>\n<tr>\n  <th>Attack_range</th> <td>-3.516e-05</td> <td> 2.74e-05</td> <td>   -1.284</td> <td> 0.201</td> <td>-8.92e-05</td> <td> 1.89e-05</td>\n</tr>\n<tr>\n  <th>Min_Armor</th>    <td>   -0.0010</td> <td>    0.001</td> <td>   -1.201</td> <td> 0.231</td> <td>   -0.003</td> <td>    0.001</td>\n</tr>\n<tr>\n  <th>Max_Armor</th>    <td>    0.0005</td> <td>    0.000</td> <td>    1.238</td> <td> 0.217</td> <td>   -0.000</td> <td>    0.001</td>\n</tr>\n</table>\n<table class=\"simpletable\">\n<tr>\n  <th>Omnibus:</th>       <td>23.017</td> <th>  Durbin-Watson:     </th> <td>   1.343</td>\n</tr>\n<tr>\n  <th>Prob(Omnibus):</th> <td> 0.000</td> <th>  Jarque-Bera (JB):  </th> <td>  55.381</td>\n</tr>\n<tr>\n  <th>Skew:</th>          <td> 0.483</td> <th>  Prob(JB):          </th> <td>9.42e-13</td>\n</tr>\n<tr>\n  <th>Kurtosis:</th>      <td> 5.376</td> <th>  Cond. No.          </th> <td>3.07e+04</td>\n</tr>\n</table><br/><br/>Notes:<br/>[1] Standard Errors assume that the covariance matrix of the errors is correctly specified.<br/>[2] The condition number is large, 3.07e+04. This might indicate that there are<br/>strong multicollinearity or other numerical problems."
     },
     "metadata": {},
     "execution_count": 23
    }
   ],
   "source": [
    "win_drop = champ_data_df.columns.drop([\"Win_rate_of_champion\", \"Role_of_champion_role_jungle\", \"Role_of_champion_role_mid\", \"Role_of_champion_role_support\", \"Role_of_champion_role_top\", \"Min_Magic_resist\", \"Min_Health\", \"Pick_rate_of_champion\", \"Max_Magic_resist\", \"Min_Health_regen\", \"Min_Attack_damage\", \"Max_Health\", \"Base_AS\", \"Max_Health_regen\", \"Max_Attack_damage\", \"AS_ratio\"])\n",
    "\n",
    "# y_target ~ xcol1 + xcol2 + xcol3 ...\n",
    "formula = \"Win_rate_of_champion ~  \" + \" + \".join(win_drop)\n",
    "\n",
    "baseline_model = smf.ols(formula, champ_data_df).fit()\n",
    "baseline_model.summary()"
   ]
  },
  {
   "cell_type": "code",
   "execution_count": 24,
   "metadata": {},
   "outputs": [
    {
     "output_type": "execute_result",
     "data": {
      "text/plain": [
       "<class 'statsmodels.iolib.summary.Summary'>\n",
       "\"\"\"\n",
       "                             OLS Regression Results                             \n",
       "================================================================================\n",
       "Dep. Variable:     Win_rate_of_champion   R-squared:                       0.015\n",
       "Model:                              OLS   Adj. R-squared:                 -0.000\n",
       "Method:                   Least Squares   F-statistic:                    0.9798\n",
       "Date:                  Tue, 06 Apr 2021   Prob (F-statistic):              0.403\n",
       "Time:                          16:34:34   Log-Likelihood:                 346.14\n",
       "No. Observations:                   202   AIC:                            -684.3\n",
       "Df Residuals:                       198   BIC:                            -671.0\n",
       "Df Model:                             3                                         \n",
       "Covariance Type:              nonrobust                                         \n",
       "================================================================================\n",
       "                   coef    std err          t      P>|t|      [0.025      0.975]\n",
       "--------------------------------------------------------------------------------\n",
       "Intercept        0.7395      0.195      3.797      0.000       0.355       1.124\n",
       "Move_speed      -0.0008      0.001     -1.397      0.164      -0.002       0.000\n",
       "Attack_range -1.818e-05   2.35e-05     -0.774      0.440   -6.45e-05    2.81e-05\n",
       "Max_Armor        0.0002      0.000      0.690      0.491      -0.000       0.001\n",
       "==============================================================================\n",
       "Omnibus:                       22.656   Durbin-Watson:                   1.384\n",
       "Prob(Omnibus):                  0.000   Jarque-Bera (JB):               54.117\n",
       "Skew:                           0.476   Prob(JB):                     1.77e-12\n",
       "Kurtosis:                       5.350   Cond. No.                     3.07e+04\n",
       "==============================================================================\n",
       "\n",
       "Notes:\n",
       "[1] Standard Errors assume that the covariance matrix of the errors is correctly specified.\n",
       "[2] The condition number is large, 3.07e+04. This might indicate that there are\n",
       "strong multicollinearity or other numerical problems.\n",
       "\"\"\""
      ],
      "text/html": "<table class=\"simpletable\">\n<caption>OLS Regression Results</caption>\n<tr>\n  <th>Dep. Variable:</th>    <td>Win_rate_of_champion</td> <th>  R-squared:         </th> <td>   0.015</td>\n</tr>\n<tr>\n  <th>Model:</th>                     <td>OLS</td>         <th>  Adj. R-squared:    </th> <td>  -0.000</td>\n</tr>\n<tr>\n  <th>Method:</th>               <td>Least Squares</td>    <th>  F-statistic:       </th> <td>  0.9798</td>\n</tr>\n<tr>\n  <th>Date:</th>               <td>Tue, 06 Apr 2021</td>   <th>  Prob (F-statistic):</th>  <td> 0.403</td> \n</tr>\n<tr>\n  <th>Time:</th>                   <td>16:34:34</td>       <th>  Log-Likelihood:    </th> <td>  346.14</td>\n</tr>\n<tr>\n  <th>No. Observations:</th>        <td>   202</td>        <th>  AIC:               </th> <td>  -684.3</td>\n</tr>\n<tr>\n  <th>Df Residuals:</th>            <td>   198</td>        <th>  BIC:               </th> <td>  -671.0</td>\n</tr>\n<tr>\n  <th>Df Model:</th>                <td>     3</td>        <th>                     </th>     <td> </td>   \n</tr>\n<tr>\n  <th>Covariance Type:</th>        <td>nonrobust</td>      <th>                     </th>     <td> </td>   \n</tr>\n</table>\n<table class=\"simpletable\">\n<tr>\n        <td></td>          <th>coef</th>     <th>std err</th>      <th>t</th>      <th>P>|t|</th>  <th>[0.025</th>    <th>0.975]</th>  \n</tr>\n<tr>\n  <th>Intercept</th>    <td>    0.7395</td> <td>    0.195</td> <td>    3.797</td> <td> 0.000</td> <td>    0.355</td> <td>    1.124</td>\n</tr>\n<tr>\n  <th>Move_speed</th>   <td>   -0.0008</td> <td>    0.001</td> <td>   -1.397</td> <td> 0.164</td> <td>   -0.002</td> <td>    0.000</td>\n</tr>\n<tr>\n  <th>Attack_range</th> <td>-1.818e-05</td> <td> 2.35e-05</td> <td>   -0.774</td> <td> 0.440</td> <td>-6.45e-05</td> <td> 2.81e-05</td>\n</tr>\n<tr>\n  <th>Max_Armor</th>    <td>    0.0002</td> <td>    0.000</td> <td>    0.690</td> <td> 0.491</td> <td>   -0.000</td> <td>    0.001</td>\n</tr>\n</table>\n<table class=\"simpletable\">\n<tr>\n  <th>Omnibus:</th>       <td>22.656</td> <th>  Durbin-Watson:     </th> <td>   1.384</td>\n</tr>\n<tr>\n  <th>Prob(Omnibus):</th> <td> 0.000</td> <th>  Jarque-Bera (JB):  </th> <td>  54.117</td>\n</tr>\n<tr>\n  <th>Skew:</th>          <td> 0.476</td> <th>  Prob(JB):          </th> <td>1.77e-12</td>\n</tr>\n<tr>\n  <th>Kurtosis:</th>      <td> 5.350</td> <th>  Cond. No.          </th> <td>3.07e+04</td>\n</tr>\n</table><br/><br/>Notes:<br/>[1] Standard Errors assume that the covariance matrix of the errors is correctly specified.<br/>[2] The condition number is large, 3.07e+04. This might indicate that there are<br/>strong multicollinearity or other numerical problems."
     },
     "metadata": {},
     "execution_count": 24
    }
   ],
   "source": [
    "win_drop = champ_data_df.columns.drop([\"Win_rate_of_champion\", \"Role_of_champion_role_jungle\", \"Role_of_champion_role_mid\", \"Role_of_champion_role_support\", \"Role_of_champion_role_top\", \"Min_Magic_resist\", \"Min_Health\", \"Pick_rate_of_champion\", \"Max_Magic_resist\", \"Min_Health_regen\", \"Min_Attack_damage\", \"Max_Health\", \"Base_AS\", \"Max_Health_regen\", \"Max_Attack_damage\", \"AS_ratio\", \"Min_Armor\"])\n",
    "\n",
    "# y_target ~ xcol1 + xcol2 + xcol3 ...\n",
    "formula = \"Win_rate_of_champion ~  \" + \" + \".join(win_drop)\n",
    "\n",
    "baseline_model = smf.ols(formula, champ_data_df).fit()\n",
    "baseline_model.summary()"
   ]
  },
  {
   "cell_type": "code",
   "execution_count": 25,
   "metadata": {},
   "outputs": [
    {
     "output_type": "execute_result",
     "data": {
      "text/plain": [
       "<class 'statsmodels.iolib.summary.Summary'>\n",
       "\"\"\"\n",
       "                             OLS Regression Results                             \n",
       "================================================================================\n",
       "Dep. Variable:     Win_rate_of_champion   R-squared:                       0.012\n",
       "Model:                              OLS   Adj. R-squared:                  0.002\n",
       "Method:                   Least Squares   F-statistic:                     1.235\n",
       "Date:                  Tue, 06 Apr 2021   Prob (F-statistic):              0.293\n",
       "Time:                          16:34:55   Log-Likelihood:                 345.89\n",
       "No. Observations:                   202   AIC:                            -685.8\n",
       "Df Residuals:                       199   BIC:                            -675.9\n",
       "Df Model:                             2                                         \n",
       "Covariance Type:              nonrobust                                         \n",
       "================================================================================\n",
       "                   coef    std err          t      P>|t|      [0.025      0.975]\n",
       "--------------------------------------------------------------------------------\n",
       "Intercept        0.7820      0.185      4.239      0.000       0.418       1.146\n",
       "Move_speed      -0.0008      0.001     -1.517      0.131      -0.002       0.000\n",
       "Attack_range -2.603e-05   2.05e-05     -1.269      0.206   -6.65e-05    1.44e-05\n",
       "==============================================================================\n",
       "Omnibus:                       22.260   Durbin-Watson:                   1.371\n",
       "Prob(Omnibus):                  0.000   Jarque-Bera (JB):               52.171\n",
       "Skew:                           0.474   Prob(JB):                     4.69e-12\n",
       "Kurtosis:                       5.302   Cond. No.                     2.86e+04\n",
       "==============================================================================\n",
       "\n",
       "Notes:\n",
       "[1] Standard Errors assume that the covariance matrix of the errors is correctly specified.\n",
       "[2] The condition number is large, 2.86e+04. This might indicate that there are\n",
       "strong multicollinearity or other numerical problems.\n",
       "\"\"\""
      ],
      "text/html": "<table class=\"simpletable\">\n<caption>OLS Regression Results</caption>\n<tr>\n  <th>Dep. Variable:</th>    <td>Win_rate_of_champion</td> <th>  R-squared:         </th> <td>   0.012</td>\n</tr>\n<tr>\n  <th>Model:</th>                     <td>OLS</td>         <th>  Adj. R-squared:    </th> <td>   0.002</td>\n</tr>\n<tr>\n  <th>Method:</th>               <td>Least Squares</td>    <th>  F-statistic:       </th> <td>   1.235</td>\n</tr>\n<tr>\n  <th>Date:</th>               <td>Tue, 06 Apr 2021</td>   <th>  Prob (F-statistic):</th>  <td> 0.293</td> \n</tr>\n<tr>\n  <th>Time:</th>                   <td>16:34:55</td>       <th>  Log-Likelihood:    </th> <td>  345.89</td>\n</tr>\n<tr>\n  <th>No. Observations:</th>        <td>   202</td>        <th>  AIC:               </th> <td>  -685.8</td>\n</tr>\n<tr>\n  <th>Df Residuals:</th>            <td>   199</td>        <th>  BIC:               </th> <td>  -675.9</td>\n</tr>\n<tr>\n  <th>Df Model:</th>                <td>     2</td>        <th>                     </th>     <td> </td>   \n</tr>\n<tr>\n  <th>Covariance Type:</th>        <td>nonrobust</td>      <th>                     </th>     <td> </td>   \n</tr>\n</table>\n<table class=\"simpletable\">\n<tr>\n        <td></td>          <th>coef</th>     <th>std err</th>      <th>t</th>      <th>P>|t|</th>  <th>[0.025</th>    <th>0.975]</th>  \n</tr>\n<tr>\n  <th>Intercept</th>    <td>    0.7820</td> <td>    0.185</td> <td>    4.239</td> <td> 0.000</td> <td>    0.418</td> <td>    1.146</td>\n</tr>\n<tr>\n  <th>Move_speed</th>   <td>   -0.0008</td> <td>    0.001</td> <td>   -1.517</td> <td> 0.131</td> <td>   -0.002</td> <td>    0.000</td>\n</tr>\n<tr>\n  <th>Attack_range</th> <td>-2.603e-05</td> <td> 2.05e-05</td> <td>   -1.269</td> <td> 0.206</td> <td>-6.65e-05</td> <td> 1.44e-05</td>\n</tr>\n</table>\n<table class=\"simpletable\">\n<tr>\n  <th>Omnibus:</th>       <td>22.260</td> <th>  Durbin-Watson:     </th> <td>   1.371</td>\n</tr>\n<tr>\n  <th>Prob(Omnibus):</th> <td> 0.000</td> <th>  Jarque-Bera (JB):  </th> <td>  52.171</td>\n</tr>\n<tr>\n  <th>Skew:</th>          <td> 0.474</td> <th>  Prob(JB):          </th> <td>4.69e-12</td>\n</tr>\n<tr>\n  <th>Kurtosis:</th>      <td> 5.302</td> <th>  Cond. No.          </th> <td>2.86e+04</td>\n</tr>\n</table><br/><br/>Notes:<br/>[1] Standard Errors assume that the covariance matrix of the errors is correctly specified.<br/>[2] The condition number is large, 2.86e+04. This might indicate that there are<br/>strong multicollinearity or other numerical problems."
     },
     "metadata": {},
     "execution_count": 25
    }
   ],
   "source": [
    "win_drop = champ_data_df.columns.drop([\"Win_rate_of_champion\", \"Role_of_champion_role_jungle\", \"Role_of_champion_role_mid\", \"Role_of_champion_role_support\", \"Role_of_champion_role_top\", \"Min_Magic_resist\", \"Min_Health\", \"Pick_rate_of_champion\", \"Max_Magic_resist\", \"Min_Health_regen\", \"Min_Attack_damage\", \"Max_Health\", \"Base_AS\", \"Max_Health_regen\", \"Max_Attack_damage\", \"AS_ratio\", \"Min_Armor\", \"Max_Armor\"])\n",
    "\n",
    "# y_target ~ xcol1 + xcol2 + xcol3 ...\n",
    "formula = \"Win_rate_of_champion ~  \" + \" + \".join(win_drop)\n",
    "\n",
    "baseline_model = smf.ols(formula, champ_data_df).fit()\n",
    "baseline_model.summary()"
   ]
  },
  {
   "cell_type": "code",
   "execution_count": 26,
   "metadata": {},
   "outputs": [
    {
     "output_type": "execute_result",
     "data": {
      "text/plain": [
       "<class 'statsmodels.iolib.summary.Summary'>\n",
       "\"\"\"\n",
       "                             OLS Regression Results                             \n",
       "================================================================================\n",
       "Dep. Variable:     Win_rate_of_champion   R-squared:                       0.004\n",
       "Model:                              OLS   Adj. R-squared:                 -0.001\n",
       "Method:                   Least Squares   F-statistic:                    0.8579\n",
       "Date:                  Tue, 06 Apr 2021   Prob (F-statistic):              0.355\n",
       "Time:                          16:36:06   Log-Likelihood:                 345.08\n",
       "No. Observations:                   202   AIC:                            -686.2\n",
       "Df Residuals:                       200   BIC:                            -679.5\n",
       "Df Model:                             1                                         \n",
       "Covariance Type:              nonrobust                                         \n",
       "==============================================================================\n",
       "                 coef    std err          t      P>|t|      [0.025      0.975]\n",
       "------------------------------------------------------------------------------\n",
       "Intercept      0.6308      0.141      4.473      0.000       0.353       0.909\n",
       "Move_speed    -0.0004      0.000     -0.926      0.355      -0.001       0.000\n",
       "==============================================================================\n",
       "Omnibus:                       23.554   Durbin-Watson:                   1.353\n",
       "Prob(Omnibus):                  0.000   Jarque-Bera (JB):               58.739\n",
       "Skew:                           0.483   Prob(JB):                     1.76e-13\n",
       "Kurtosis:                       5.459   Cond. No.                     1.53e+04\n",
       "==============================================================================\n",
       "\n",
       "Notes:\n",
       "[1] Standard Errors assume that the covariance matrix of the errors is correctly specified.\n",
       "[2] The condition number is large, 1.53e+04. This might indicate that there are\n",
       "strong multicollinearity or other numerical problems.\n",
       "\"\"\""
      ],
      "text/html": "<table class=\"simpletable\">\n<caption>OLS Regression Results</caption>\n<tr>\n  <th>Dep. Variable:</th>    <td>Win_rate_of_champion</td> <th>  R-squared:         </th> <td>   0.004</td>\n</tr>\n<tr>\n  <th>Model:</th>                     <td>OLS</td>         <th>  Adj. R-squared:    </th> <td>  -0.001</td>\n</tr>\n<tr>\n  <th>Method:</th>               <td>Least Squares</td>    <th>  F-statistic:       </th> <td>  0.8579</td>\n</tr>\n<tr>\n  <th>Date:</th>               <td>Tue, 06 Apr 2021</td>   <th>  Prob (F-statistic):</th>  <td> 0.355</td> \n</tr>\n<tr>\n  <th>Time:</th>                   <td>16:36:06</td>       <th>  Log-Likelihood:    </th> <td>  345.08</td>\n</tr>\n<tr>\n  <th>No. Observations:</th>        <td>   202</td>        <th>  AIC:               </th> <td>  -686.2</td>\n</tr>\n<tr>\n  <th>Df Residuals:</th>            <td>   200</td>        <th>  BIC:               </th> <td>  -679.5</td>\n</tr>\n<tr>\n  <th>Df Model:</th>                <td>     1</td>        <th>                     </th>     <td> </td>   \n</tr>\n<tr>\n  <th>Covariance Type:</th>        <td>nonrobust</td>      <th>                     </th>     <td> </td>   \n</tr>\n</table>\n<table class=\"simpletable\">\n<tr>\n       <td></td>         <th>coef</th>     <th>std err</th>      <th>t</th>      <th>P>|t|</th>  <th>[0.025</th>    <th>0.975]</th>  \n</tr>\n<tr>\n  <th>Intercept</th>  <td>    0.6308</td> <td>    0.141</td> <td>    4.473</td> <td> 0.000</td> <td>    0.353</td> <td>    0.909</td>\n</tr>\n<tr>\n  <th>Move_speed</th> <td>   -0.0004</td> <td>    0.000</td> <td>   -0.926</td> <td> 0.355</td> <td>   -0.001</td> <td>    0.000</td>\n</tr>\n</table>\n<table class=\"simpletable\">\n<tr>\n  <th>Omnibus:</th>       <td>23.554</td> <th>  Durbin-Watson:     </th> <td>   1.353</td>\n</tr>\n<tr>\n  <th>Prob(Omnibus):</th> <td> 0.000</td> <th>  Jarque-Bera (JB):  </th> <td>  58.739</td>\n</tr>\n<tr>\n  <th>Skew:</th>          <td> 0.483</td> <th>  Prob(JB):          </th> <td>1.76e-13</td>\n</tr>\n<tr>\n  <th>Kurtosis:</th>      <td> 5.459</td> <th>  Cond. No.          </th> <td>1.53e+04</td>\n</tr>\n</table><br/><br/>Notes:<br/>[1] Standard Errors assume that the covariance matrix of the errors is correctly specified.<br/>[2] The condition number is large, 1.53e+04. This might indicate that there are<br/>strong multicollinearity or other numerical problems."
     },
     "metadata": {},
     "execution_count": 26
    }
   ],
   "source": [
    "win_drop = champ_data_df.columns.drop([\"Win_rate_of_champion\", \"Role_of_champion_role_jungle\", \"Role_of_champion_role_mid\", \"Role_of_champion_role_support\", \"Role_of_champion_role_top\", \"Min_Magic_resist\", \"Min_Health\", \"Pick_rate_of_champion\", \"Max_Magic_resist\", \"Min_Health_regen\", \"Min_Attack_damage\", \"Max_Health\", \"Base_AS\", \"Max_Health_regen\", \"Max_Attack_damage\", \"AS_ratio\", \"Min_Armor\", \"Max_Armor\", \"Attack_range\"])\n",
    "\n",
    "# y_target ~ xcol1 + xcol2 + xcol3 ...\n",
    "formula = \"Win_rate_of_champion ~  \" + \" + \".join(win_drop)\n",
    "\n",
    "baseline_model = smf.ols(formula, champ_data_df).fit()\n",
    "baseline_model.summary()"
   ]
  },
  {
   "cell_type": "code",
   "execution_count": 45,
   "metadata": {},
   "outputs": [],
   "source": [
    "# Look at catagorical roles\n",
    "# Split data into train, test, validate\n",
    "# Go back and add more variables?"
   ]
  },
  {
   "cell_type": "code",
   "execution_count": 27,
   "metadata": {},
   "outputs": [
    {
     "output_type": "execute_result",
     "data": {
      "text/plain": [
       "<class 'statsmodels.iolib.summary.Summary'>\n",
       "\"\"\"\n",
       "                             OLS Regression Results                             \n",
       "================================================================================\n",
       "Dep. Variable:     Win_rate_of_champion   R-squared:                       0.043\n",
       "Model:                              OLS   Adj. R-squared:                 -0.057\n",
       "Method:                   Least Squares   F-statistic:                    0.4334\n",
       "Date:                  Tue, 06 Apr 2021   Prob (F-statistic):              0.982\n",
       "Time:                          16:38:05   Log-Likelihood:                 349.12\n",
       "No. Observations:                   202   AIC:                            -658.2\n",
       "Df Residuals:                       182   BIC:                            -592.1\n",
       "Df Model:                            19                                         \n",
       "Covariance Type:              nonrobust                                         \n",
       "=================================================================================================\n",
       "                                    coef    std err          t      P>|t|      [0.025      0.975]\n",
       "-------------------------------------------------------------------------------------------------\n",
       "Intercept                         0.8727      0.250      3.492      0.001       0.380       1.366\n",
       "Role_of_champion_role_jungle      0.0030      0.016      0.185      0.853      -0.029       0.035\n",
       "Role_of_champion_role_mid         0.0042      0.016      0.263      0.793      -0.027       0.035\n",
       "Role_of_champion_role_support    -0.0048      0.016     -0.298      0.766      -0.037       0.027\n",
       "Role_of_champion_role_top         0.0008      0.016      0.053      0.958      -0.031       0.032\n",
       "Pick_rate_of_champion             0.0068      0.082      0.083      0.934      -0.155       0.168\n",
       "Move_speed                       -0.0009      0.001     -1.434      0.153      -0.002       0.000\n",
       "Attack_range                  -6.215e-05   4.81e-05     -1.292      0.198      -0.000    3.28e-05\n",
       "Base_AS                          -0.0724      0.107     -0.679      0.498      -0.283       0.138\n",
       "AS_ratio                          0.0272      0.024      1.135      0.258      -0.020       0.075\n",
       "Min_Health                    -2.675e-05      0.000     -0.190      0.849      -0.000       0.000\n",
       "Max_Health                    -7.531e-06   2.96e-05     -0.254      0.800    -6.6e-05    5.09e-05\n",
       "Min_Health_regen                 -0.0006      0.003     -0.172      0.864      -0.007       0.006\n",
       "Max_Health_regen                 -0.0007      0.001     -0.521      0.603      -0.004       0.002\n",
       "Min_Armor                        -0.0009      0.001     -0.856      0.393      -0.003       0.001\n",
       "Max_Armor                         0.0007      0.000      1.443      0.151      -0.000       0.002\n",
       "Min_Magic_resist              -5.862e-05      0.003     -0.020      0.984      -0.006       0.006\n",
       "Max_Magic_resist                 -0.0001      0.001     -0.096      0.924      -0.003       0.003\n",
       "Min_Attack_damage                 0.0003      0.001      0.302      0.763      -0.002       0.002\n",
       "Max_Attack_damage                -0.0003      0.000     -0.947      0.345      -0.001       0.000\n",
       "==============================================================================\n",
       "Omnibus:                       20.421   Durbin-Watson:                   1.359\n",
       "Prob(Omnibus):                  0.000   Jarque-Bera (JB):               45.194\n",
       "Skew:                           0.448   Prob(JB):                     1.54e-10\n",
       "Kurtosis:                       5.137   Cond. No.                     1.76e+05\n",
       "==============================================================================\n",
       "\n",
       "Notes:\n",
       "[1] Standard Errors assume that the covariance matrix of the errors is correctly specified.\n",
       "[2] The condition number is large, 1.76e+05. This might indicate that there are\n",
       "strong multicollinearity or other numerical problems.\n",
       "\"\"\""
      ],
      "text/html": "<table class=\"simpletable\">\n<caption>OLS Regression Results</caption>\n<tr>\n  <th>Dep. Variable:</th>    <td>Win_rate_of_champion</td> <th>  R-squared:         </th> <td>   0.043</td>\n</tr>\n<tr>\n  <th>Model:</th>                     <td>OLS</td>         <th>  Adj. R-squared:    </th> <td>  -0.057</td>\n</tr>\n<tr>\n  <th>Method:</th>               <td>Least Squares</td>    <th>  F-statistic:       </th> <td>  0.4334</td>\n</tr>\n<tr>\n  <th>Date:</th>               <td>Tue, 06 Apr 2021</td>   <th>  Prob (F-statistic):</th>  <td> 0.982</td> \n</tr>\n<tr>\n  <th>Time:</th>                   <td>16:38:05</td>       <th>  Log-Likelihood:    </th> <td>  349.12</td>\n</tr>\n<tr>\n  <th>No. Observations:</th>        <td>   202</td>        <th>  AIC:               </th> <td>  -658.2</td>\n</tr>\n<tr>\n  <th>Df Residuals:</th>            <td>   182</td>        <th>  BIC:               </th> <td>  -592.1</td>\n</tr>\n<tr>\n  <th>Df Model:</th>                <td>    19</td>        <th>                     </th>     <td> </td>   \n</tr>\n<tr>\n  <th>Covariance Type:</th>        <td>nonrobust</td>      <th>                     </th>     <td> </td>   \n</tr>\n</table>\n<table class=\"simpletable\">\n<tr>\n                <td></td>                   <th>coef</th>     <th>std err</th>      <th>t</th>      <th>P>|t|</th>  <th>[0.025</th>    <th>0.975]</th>  \n</tr>\n<tr>\n  <th>Intercept</th>                     <td>    0.8727</td> <td>    0.250</td> <td>    3.492</td> <td> 0.001</td> <td>    0.380</td> <td>    1.366</td>\n</tr>\n<tr>\n  <th>Role_of_champion_role_jungle</th>  <td>    0.0030</td> <td>    0.016</td> <td>    0.185</td> <td> 0.853</td> <td>   -0.029</td> <td>    0.035</td>\n</tr>\n<tr>\n  <th>Role_of_champion_role_mid</th>     <td>    0.0042</td> <td>    0.016</td> <td>    0.263</td> <td> 0.793</td> <td>   -0.027</td> <td>    0.035</td>\n</tr>\n<tr>\n  <th>Role_of_champion_role_support</th> <td>   -0.0048</td> <td>    0.016</td> <td>   -0.298</td> <td> 0.766</td> <td>   -0.037</td> <td>    0.027</td>\n</tr>\n<tr>\n  <th>Role_of_champion_role_top</th>     <td>    0.0008</td> <td>    0.016</td> <td>    0.053</td> <td> 0.958</td> <td>   -0.031</td> <td>    0.032</td>\n</tr>\n<tr>\n  <th>Pick_rate_of_champion</th>         <td>    0.0068</td> <td>    0.082</td> <td>    0.083</td> <td> 0.934</td> <td>   -0.155</td> <td>    0.168</td>\n</tr>\n<tr>\n  <th>Move_speed</th>                    <td>   -0.0009</td> <td>    0.001</td> <td>   -1.434</td> <td> 0.153</td> <td>   -0.002</td> <td>    0.000</td>\n</tr>\n<tr>\n  <th>Attack_range</th>                  <td>-6.215e-05</td> <td> 4.81e-05</td> <td>   -1.292</td> <td> 0.198</td> <td>   -0.000</td> <td> 3.28e-05</td>\n</tr>\n<tr>\n  <th>Base_AS</th>                       <td>   -0.0724</td> <td>    0.107</td> <td>   -0.679</td> <td> 0.498</td> <td>   -0.283</td> <td>    0.138</td>\n</tr>\n<tr>\n  <th>AS_ratio</th>                      <td>    0.0272</td> <td>    0.024</td> <td>    1.135</td> <td> 0.258</td> <td>   -0.020</td> <td>    0.075</td>\n</tr>\n<tr>\n  <th>Min_Health</th>                    <td>-2.675e-05</td> <td>    0.000</td> <td>   -0.190</td> <td> 0.849</td> <td>   -0.000</td> <td>    0.000</td>\n</tr>\n<tr>\n  <th>Max_Health</th>                    <td>-7.531e-06</td> <td> 2.96e-05</td> <td>   -0.254</td> <td> 0.800</td> <td> -6.6e-05</td> <td> 5.09e-05</td>\n</tr>\n<tr>\n  <th>Min_Health_regen</th>              <td>   -0.0006</td> <td>    0.003</td> <td>   -0.172</td> <td> 0.864</td> <td>   -0.007</td> <td>    0.006</td>\n</tr>\n<tr>\n  <th>Max_Health_regen</th>              <td>   -0.0007</td> <td>    0.001</td> <td>   -0.521</td> <td> 0.603</td> <td>   -0.004</td> <td>    0.002</td>\n</tr>\n<tr>\n  <th>Min_Armor</th>                     <td>   -0.0009</td> <td>    0.001</td> <td>   -0.856</td> <td> 0.393</td> <td>   -0.003</td> <td>    0.001</td>\n</tr>\n<tr>\n  <th>Max_Armor</th>                     <td>    0.0007</td> <td>    0.000</td> <td>    1.443</td> <td> 0.151</td> <td>   -0.000</td> <td>    0.002</td>\n</tr>\n<tr>\n  <th>Min_Magic_resist</th>              <td>-5.862e-05</td> <td>    0.003</td> <td>   -0.020</td> <td> 0.984</td> <td>   -0.006</td> <td>    0.006</td>\n</tr>\n<tr>\n  <th>Max_Magic_resist</th>              <td>   -0.0001</td> <td>    0.001</td> <td>   -0.096</td> <td> 0.924</td> <td>   -0.003</td> <td>    0.003</td>\n</tr>\n<tr>\n  <th>Min_Attack_damage</th>             <td>    0.0003</td> <td>    0.001</td> <td>    0.302</td> <td> 0.763</td> <td>   -0.002</td> <td>    0.002</td>\n</tr>\n<tr>\n  <th>Max_Attack_damage</th>             <td>   -0.0003</td> <td>    0.000</td> <td>   -0.947</td> <td> 0.345</td> <td>   -0.001</td> <td>    0.000</td>\n</tr>\n</table>\n<table class=\"simpletable\">\n<tr>\n  <th>Omnibus:</th>       <td>20.421</td> <th>  Durbin-Watson:     </th> <td>   1.359</td>\n</tr>\n<tr>\n  <th>Prob(Omnibus):</th> <td> 0.000</td> <th>  Jarque-Bera (JB):  </th> <td>  45.194</td>\n</tr>\n<tr>\n  <th>Skew:</th>          <td> 0.448</td> <th>  Prob(JB):          </th> <td>1.54e-10</td>\n</tr>\n<tr>\n  <th>Kurtosis:</th>      <td> 5.137</td> <th>  Cond. No.          </th> <td>1.76e+05</td>\n</tr>\n</table><br/><br/>Notes:<br/>[1] Standard Errors assume that the covariance matrix of the errors is correctly specified.<br/>[2] The condition number is large, 1.76e+05. This might indicate that there are<br/>strong multicollinearity or other numerical problems."
     },
     "metadata": {},
     "execution_count": 27
    }
   ],
   "source": [
    "formula = \"Win_rate_of_champion ~  \" + \" + \".join(champ_data_df.columns.drop([\"Win_rate_of_champion\"]))\n",
    "\n",
    "baseline_model = smf.ols(formula, champ_data_df).fit()\n",
    "baseline_model.summary()"
   ]
  },
  {
   "cell_type": "code",
   "execution_count": 48,
   "metadata": {},
   "outputs": [
    {
     "output_type": "stream",
     "name": "stdout",
     "text": [
      "Number of samples in:\n    Training: 141\n    Validation: 31\n    Testing: 30\n"
     ]
    }
   ],
   "source": [
    "from sklearn.model_selection import train_test_split\n",
    "\n",
    "X = champ_data_df.drop([\"Win_rate_of_champion\"], axis=1).values\n",
    "y = champ_data_df[\"Win_rate_of_champion\"].values\n",
    "\n",
    "X_train, X_test, y_train, y_test = train_test_split(X, y, test_size=0.3)\n",
    "\n",
    "X_test, X_validation, y_test, y_validation = train_test_split(X_test, y_test, test_size=0.5)\n",
    "\n",
    "print(\"Number of samples in:\")\n",
    "print(f\"    Training: {len(y_train)}\")\n",
    "print(f\"    Validation: {len(y_validation)}\")\n",
    "print(f\"    Testing: {len(y_test)}\")"
   ]
  },
  {
   "cell_type": "code",
   "execution_count": 53,
   "metadata": {},
   "outputs": [
    {
     "output_type": "stream",
     "name": "stdout",
     "text": [
      "LinearRegression(normalize=True)\nLinearRegression: Train Loss: 0.0018890011665305176 | Validation Loss: 0.0018927097398923134 | Test Loss: 0.0021404615366632284\nSVR()\nSVR: Train Loss: 0.0022404353846143155 | Validation Loss: 0.002073972628397357 | Test Loss: 0.0022642934974430773\nDecisionTreeRegressor(splitter='random')\nDecisionTreeRegressor: Train Loss: 0.0 | Validation Loss: 0.0068021290322580665 | Test Loss: 0.00518866666666667\n"
     ]
    }
   ],
   "source": [
    "# ML algorithms you will later know, don't panic\n",
    "import numpy as np\n",
    "\n",
    "from sklearn.linear_model import LinearRegression\n",
    "from sklearn.metrics import mean_squared_error\n",
    "from sklearn.svm import SVR\n",
    "from sklearn.tree import DecisionTreeRegressor\n",
    "\n",
    "np.random.seed(2)\n",
    "\n",
    "models = [LinearRegression(normalize = True),SVR(),DecisionTreeRegressor(splitter='random')]\n",
    "# SVR.fit()\n",
    "for model in models:\n",
    "    print(model)\n",
    "    model.fit(X_train, y_train)\n",
    "    train_pred = model.predict(X_train)\n",
    "    test_pred = model.predict(X_test)\n",
    "    valid_pred = model.predict(X_validation)\n",
    "    train_loss = mean_squared_error(y_train, train_pred)\n",
    "    test_loss = mean_squared_error(y_test, test_pred)\n",
    "    validation_loss = mean_squared_error(y_validation, valid_pred)\n",
    "\n",
    "    print(\n",
    "        f\"{model.__class__.__name__}: \"\n",
    "        f\"Train Loss: {train_loss} | Validation Loss: {validation_loss} | \"\n",
    "        f\"Test Loss: {test_loss}\"\n",
    "    )"
   ]
  },
  {
   "cell_type": "code",
   "execution_count": 62,
   "metadata": {},
   "outputs": [
    {
     "output_type": "stream",
     "name": "stdout",
     "text": [
      "Number of samples in:\n    Training: 141\n    Validation: 31\n    Testing: 30\n"
     ]
    }
   ],
   "source": [
    "from sklearn.model_selection import train_test_split\n",
    "\n",
    "X = champ_data_df.drop([\"Win_rate_of_champion\", \"Role_of_champion_role_jungle\", \"Role_of_champion_role_mid\", \"Role_of_champion_role_support\", \"Role_of_champion_role_top\"], axis=1).values\n",
    "y = champ_data_df[\"Win_rate_of_champion\"].values\n",
    "\n",
    "X_train, X_test, y_train, y_test = train_test_split(X, y, test_size=0.3)\n",
    "\n",
    "X_test, X_validation, y_test, y_validation = train_test_split(X_test, y_test, test_size=0.5)\n",
    "\n",
    "print(\"Number of samples in:\")\n",
    "print(f\"    Training: {len(y_train)}\")\n",
    "print(f\"    Validation: {len(y_validation)}\")\n",
    "print(f\"    Testing: {len(y_test)}\")"
   ]
  },
  {
   "cell_type": "code",
   "execution_count": 63,
   "metadata": {},
   "outputs": [
    {
     "output_type": "stream",
     "name": "stdout",
     "text": [
      "LinearRegression(normalize=True)\nLinearRegression: Train Loss: 0.0017352701452230754 | Validation Loss: 0.0023632288407662927 | Test Loss: 0.002270054804166567\nSVR()\nSVR: Train Loss: 0.002116058325051524 | Validation Loss: 0.002497387426460987 | Test Loss: 0.0021550067560276985\nDecisionTreeRegressor(splitter='random')\nDecisionTreeRegressor: Train Loss: 2.2163120567375924e-06 | Validation Loss: 0.0030970645161290332 | Test Loss: 0.004160266666666667\n"
     ]
    }
   ],
   "source": [
    "# ML algorithms you will later know, don't panic\n",
    "import numpy as np\n",
    "\n",
    "from sklearn.linear_model import LinearRegression\n",
    "from sklearn.metrics import mean_squared_error\n",
    "from sklearn.svm import SVR\n",
    "from sklearn.tree import DecisionTreeRegressor\n",
    "\n",
    "np.random.seed(2)\n",
    "\n",
    "models = [LinearRegression(normalize = True),SVR(),DecisionTreeRegressor(splitter='random')]\n",
    "# SVR.fit()\n",
    "for model in models:\n",
    "    print(model)\n",
    "    model.fit(X_train, y_train)\n",
    "    train_pred = model.predict(X_train)\n",
    "    test_pred = model.predict(X_test)\n",
    "    valid_pred = model.predict(X_validation)\n",
    "    train_loss = mean_squared_error(y_train, train_pred)\n",
    "    test_loss = mean_squared_error(y_test, test_pred)\n",
    "    validation_loss = mean_squared_error(y_validation, valid_pred)\n",
    "\n",
    "    print(\n",
    "        f\"{model.__class__.__name__}: \"\n",
    "        f\"Train Loss: {train_loss} | Validation Loss: {validation_loss} | \"\n",
    "        f\"Test Loss: {test_loss}\"\n",
    "    )"
   ]
  },
  {
   "cell_type": "code",
   "execution_count": null,
   "metadata": {},
   "outputs": [],
   "source": [
    "# Remember to say about it could be the player skill that is the highest factor\n",
    "# Also that you dropped Jhin\n",
    "# Now with new data repeat the process"
   ]
  }
 ]
}